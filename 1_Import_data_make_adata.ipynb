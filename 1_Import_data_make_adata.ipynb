{
 "cells": [
  {
   "cell_type": "code",
   "execution_count": 26,
   "metadata": {},
   "outputs": [],
   "source": [
    "import scanpy as sc\n",
    "import os,sys\n",
    "import datetime\n",
    "import numpy as np\n",
    "import pandas as pd\n",
    "import matplotlib.pyplot as plt\n",
    "import re\n",
    "import scipy"
   ]
  },
  {
   "cell_type": "code",
   "execution_count": 27,
   "metadata": {},
   "outputs": [
    {
     "name": "stdout",
     "output_type": "stream",
     "text": [
      "scanpy==1.8.0 anndata==0.7.6 umap==0.5.1 numpy==1.20.1 scipy==1.6.2 pandas==1.2.4 scikit-learn==0.24.1 statsmodels==0.12.2 python-igraph==0.9.8 louvain==0.7.1 pynndescent==0.5.5\n"
     ]
    }
   ],
   "source": [
    "sc.logging.print_header()"
   ]
  },
  {
   "cell_type": "markdown",
   "metadata": {},
   "source": [
    "## Importing data "
   ]
  },
  {
   "cell_type": "code",
   "execution_count": 29,
   "metadata": {},
   "outputs": [],
   "source": [
    "#path to all data files\n",
    "path = '/Users/justina/Documents/NAS_Storage/19_KIDN_JZ'\n"
   ]
  },
  {
   "cell_type": "code",
   "execution_count": 30,
   "metadata": {},
   "outputs": [],
   "source": [
    "#function of current time to add to filenames\n",
    "def now():\n",
    "    return datetime.datetime.now().strftime('%y%m%d_%Hh%M')"
   ]
  },
  {
   "cell_type": "code",
   "execution_count": 31,
   "metadata": {},
   "outputs": [],
   "source": [
    "#let's create a list of paths where the data is stored in the NAS system\n",
    "path_list = []\n",
    "for root, subdirs, files in os.walk(path):\n",
    "    #print(str(subdirs))\n",
    "    if re.search(r'(Gene)', str(subdirs)):\n",
    "        fullpath = os.path.join(root, str(subdirs[0]))\n",
    "        fullpath = fullpath + '/raw'\n",
    "        path_list.append(fullpath)"
   ]
  },
  {
   "cell_type": "code",
   "execution_count": 33,
   "metadata": {},
   "outputs": [
    {
     "name": "stderr",
     "output_type": "stream",
     "text": [
      "... storing 'library' as categorical\n"
     ]
    },
    {
     "name": "stdout",
     "output_type": "stream",
     "text": [
      "backups_JZ_2022/raw_147456x33538_N14_220120_12h45.h5ad\n",
      "N14 (147456, 33538)\n"
     ]
    },
    {
     "name": "stderr",
     "output_type": "stream",
     "text": [
      "... storing 'library' as categorical\n"
     ]
    },
    {
     "name": "stdout",
     "output_type": "stream",
     "text": [
      "backups_JZ_2022/raw_147456x33538_N21_220120_12h46.h5ad\n",
      "N21 (147456, 33538)\n"
     ]
    },
    {
     "name": "stderr",
     "output_type": "stream",
     "text": [
      "... storing 'library' as categorical\n"
     ]
    },
    {
     "name": "stdout",
     "output_type": "stream",
     "text": [
      "backups_JZ_2022/raw_147456x33538_N28_220120_12h46.h5ad\n",
      "N28 (147456, 33538)\n"
     ]
    },
    {
     "name": "stderr",
     "output_type": "stream",
     "text": [
      "... storing 'library' as categorical\n"
     ]
    },
    {
     "name": "stdout",
     "output_type": "stream",
     "text": [
      "backups_JZ_2022/raw_147456x33538_T04_220120_12h46.h5ad\n",
      "T04 (147456, 33538)\n"
     ]
    },
    {
     "name": "stderr",
     "output_type": "stream",
     "text": [
      "... storing 'library' as categorical\n"
     ]
    },
    {
     "name": "stdout",
     "output_type": "stream",
     "text": [
      "backups_JZ_2022/raw_147456x33538_T14_220120_12h46.h5ad\n",
      "T14 (147456, 33538)\n"
     ]
    },
    {
     "name": "stderr",
     "output_type": "stream",
     "text": [
      "... storing 'library' as categorical\n"
     ]
    },
    {
     "name": "stdout",
     "output_type": "stream",
     "text": [
      "backups_JZ_2022/raw_147456x33538_T21_220120_12h46.h5ad\n",
      "T21 (147456, 33538)\n"
     ]
    },
    {
     "name": "stderr",
     "output_type": "stream",
     "text": [
      "... storing 'library' as categorical\n"
     ]
    },
    {
     "name": "stdout",
     "output_type": "stream",
     "text": [
      "backups_JZ_2022/raw_147456x33538_T28_220120_12h47.h5ad\n",
      "T28 (147456, 33538)\n"
     ]
    },
    {
     "name": "stderr",
     "output_type": "stream",
     "text": [
      "... storing 'library' as categorical\n"
     ]
    },
    {
     "name": "stdout",
     "output_type": "stream",
     "text": [
      "backups_JZ_2022/raw_147456x33538_N093_S4_220120_12h47.h5ad\n",
      "N093_S4 (147456, 33538)\n"
     ]
    },
    {
     "name": "stderr",
     "output_type": "stream",
     "text": [
      "... storing 'library' as categorical\n"
     ]
    },
    {
     "name": "stdout",
     "output_type": "stream",
     "text": [
      "backups_JZ_2022/raw_147456x33538_N818_S2_220120_12h47.h5ad\n",
      "N818_S2 (147456, 33538)\n"
     ]
    },
    {
     "name": "stderr",
     "output_type": "stream",
     "text": [
      "... storing 'library' as categorical\n"
     ]
    },
    {
     "name": "stdout",
     "output_type": "stream",
     "text": [
      "backups_JZ_2022/raw_147456x33538_N914_S6_220120_12h47.h5ad\n",
      "N914_S6 (147456, 33538)\n"
     ]
    },
    {
     "name": "stderr",
     "output_type": "stream",
     "text": [
      "... storing 'library' as categorical\n"
     ]
    },
    {
     "name": "stdout",
     "output_type": "stream",
     "text": [
      "backups_JZ_2022/raw_147456x33538_N923_S8_220120_12h47.h5ad\n",
      "N923_S8 (147456, 33538)\n"
     ]
    },
    {
     "name": "stderr",
     "output_type": "stream",
     "text": [
      "... storing 'library' as categorical\n"
     ]
    },
    {
     "name": "stdout",
     "output_type": "stream",
     "text": [
      "backups_JZ_2022/raw_147456x33538_T818_S1_220120_12h47.h5ad\n",
      "T818_S1 (147456, 33538)\n"
     ]
    },
    {
     "name": "stderr",
     "output_type": "stream",
     "text": [
      "... storing 'library' as categorical\n"
     ]
    },
    {
     "name": "stdout",
     "output_type": "stream",
     "text": [
      "backups_JZ_2022/raw_147456x33538_T903_S3_220120_12h47.h5ad\n",
      "T903_S3 (147456, 33538)\n"
     ]
    },
    {
     "name": "stderr",
     "output_type": "stream",
     "text": [
      "... storing 'library' as categorical\n"
     ]
    },
    {
     "name": "stdout",
     "output_type": "stream",
     "text": [
      "backups_JZ_2022/raw_147456x33538_T914_S5_220120_12h47.h5ad\n",
      "T914_S5 (147456, 33538)\n"
     ]
    },
    {
     "name": "stderr",
     "output_type": "stream",
     "text": [
      "... storing 'library' as categorical\n"
     ]
    },
    {
     "name": "stdout",
     "output_type": "stream",
     "text": [
      "backups_JZ_2022/raw_147456x33538_T923_S7_220120_12h47.h5ad\n",
      "T923_S7 (147456, 33538)\n"
     ]
    },
    {
     "name": "stderr",
     "output_type": "stream",
     "text": [
      "... storing 'library' as categorical\n"
     ]
    },
    {
     "name": "stdout",
     "output_type": "stream",
     "text": [
      "backups_JZ_2022/raw_147456x33538_0818T_S1_220120_12h48.h5ad\n",
      "0818T_S1 (147456, 33538)\n"
     ]
    },
    {
     "name": "stderr",
     "output_type": "stream",
     "text": [
      "... storing 'library' as categorical\n"
     ]
    },
    {
     "name": "stdout",
     "output_type": "stream",
     "text": [
      "backups_JZ_2022/raw_147456x33538_0903T_2_S3_220120_12h48.h5ad\n",
      "0903T_2_S3 (147456, 33538)\n"
     ]
    },
    {
     "name": "stderr",
     "output_type": "stream",
     "text": [
      "... storing 'library' as categorical\n"
     ]
    },
    {
     "name": "stdout",
     "output_type": "stream",
     "text": [
      "backups_JZ_2022/raw_147456x33538_0903T_S2_220120_12h48.h5ad\n",
      "0903T_S2 (147456, 33538)\n"
     ]
    },
    {
     "name": "stderr",
     "output_type": "stream",
     "text": [
      "... storing 'library' as categorical\n"
     ]
    },
    {
     "name": "stdout",
     "output_type": "stream",
     "text": [
      "backups_JZ_2022/raw_147456x33538_0914T_2_S5_220120_12h48.h5ad\n",
      "0914T_2_S5 (147456, 33538)\n"
     ]
    },
    {
     "name": "stderr",
     "output_type": "stream",
     "text": [
      "... storing 'library' as categorical\n"
     ]
    },
    {
     "name": "stdout",
     "output_type": "stream",
     "text": [
      "backups_JZ_2022/raw_147456x33538_0914T_S4_220120_12h48.h5ad\n",
      "0914T_S4 (147456, 33538)\n"
     ]
    },
    {
     "name": "stderr",
     "output_type": "stream",
     "text": [
      "... storing 'library' as categorical\n"
     ]
    },
    {
     "name": "stdout",
     "output_type": "stream",
     "text": [
      "backups_JZ_2022/raw_147456x33538_0923T_2_S7_220120_12h48.h5ad\n",
      "0923T_2_S7 (147456, 33538)\n"
     ]
    },
    {
     "name": "stderr",
     "output_type": "stream",
     "text": [
      "... storing 'library' as categorical\n"
     ]
    },
    {
     "name": "stdout",
     "output_type": "stream",
     "text": [
      "backups_JZ_2022/raw_147456x33538_0923T_S6_220120_12h48.h5ad\n",
      "0923T_S6 (147456, 33538)\n"
     ]
    },
    {
     "name": "stderr",
     "output_type": "stream",
     "text": [
      "... storing 'library' as categorical\n"
     ]
    },
    {
     "name": "stdout",
     "output_type": "stream",
     "text": [
      "backups_JZ_2022/raw_147456x33538_1116N_S11_220120_12h49.h5ad\n",
      "1116N_S11 (147456, 33538)\n"
     ]
    },
    {
     "name": "stderr",
     "output_type": "stream",
     "text": [
      "... storing 'library' as categorical\n"
     ]
    },
    {
     "name": "stdout",
     "output_type": "stream",
     "text": [
      "backups_JZ_2022/raw_147456x33538_1116T1_S8_220120_12h49.h5ad\n",
      "1116T1_S8 (147456, 33538)\n"
     ]
    },
    {
     "name": "stderr",
     "output_type": "stream",
     "text": [
      "... storing 'library' as categorical\n"
     ]
    },
    {
     "name": "stdout",
     "output_type": "stream",
     "text": [
      "backups_JZ_2022/raw_147456x33538_1116T2_S9_220120_12h49.h5ad\n",
      "1116T2_S9 (147456, 33538)\n"
     ]
    },
    {
     "name": "stderr",
     "output_type": "stream",
     "text": [
      "... storing 'library' as categorical\n"
     ]
    },
    {
     "name": "stdout",
     "output_type": "stream",
     "text": [
      "backups_JZ_2022/raw_147456x33538_1116T3_1_S10_220120_12h49.h5ad\n",
      "1116T3_1_S10 (147456, 33538)\n"
     ]
    },
    {
     "name": "stderr",
     "output_type": "stream",
     "text": [
      "... storing 'library' as categorical\n"
     ]
    },
    {
     "name": "stdout",
     "output_type": "stream",
     "text": [
      "backups_JZ_2022/raw_147456x33538_0704Normal_220120_12h49.h5ad\n",
      "0704Normal (147456, 33538)\n"
     ]
    },
    {
     "name": "stderr",
     "output_type": "stream",
     "text": [
      "... storing 'library' as categorical\n"
     ]
    },
    {
     "name": "stdout",
     "output_type": "stream",
     "text": [
      "backups_JZ_2022/raw_147456x33538_Healthy0314_220120_12h49.h5ad\n",
      "Healthy0314 (147456, 33538)\n"
     ]
    },
    {
     "name": "stderr",
     "output_type": "stream",
     "text": [
      "... storing 'library' as categorical\n"
     ]
    },
    {
     "name": "stdout",
     "output_type": "stream",
     "text": [
      "backups_JZ_2022/raw_147456x33538_0621Normal_220120_12h50.h5ad\n",
      "0621Normal (147456, 33538)\n"
     ]
    },
    {
     "name": "stderr",
     "output_type": "stream",
     "text": [
      "... storing 'library' as categorical\n"
     ]
    },
    {
     "name": "stdout",
     "output_type": "stream",
     "text": [
      "backups_JZ_2022/raw_147456x33538_Healthy0228_220120_12h50.h5ad\n",
      "Healthy0228 (147456, 33538)\n"
     ]
    },
    {
     "name": "stderr",
     "output_type": "stream",
     "text": [
      "... storing 'library' as categorical\n"
     ]
    },
    {
     "name": "stdout",
     "output_type": "stream",
     "text": [
      "backups_JZ_2022/raw_147456x33538_Tumor0314_220120_12h50.h5ad\n",
      "Tumor0314 (147456, 33538)\n"
     ]
    },
    {
     "name": "stderr",
     "output_type": "stream",
     "text": [
      "... storing 'library' as categorical\n"
     ]
    },
    {
     "name": "stdout",
     "output_type": "stream",
     "text": [
      "backups_JZ_2022/raw_147456x33538_0621Tumor_220120_12h50.h5ad\n",
      "0621Tumor (147456, 33538)\n"
     ]
    },
    {
     "name": "stderr",
     "output_type": "stream",
     "text": [
      "... storing 'library' as categorical\n"
     ]
    },
    {
     "name": "stdout",
     "output_type": "stream",
     "text": [
      "backups_JZ_2022/raw_147456x33538_Tumor0228_220120_12h50.h5ad\n",
      "Tumor0228 (147456, 33538)\n"
     ]
    }
   ],
   "source": [
    "#backup directory\n",
    "!mkdir -p backups_JZ_2022\n",
    "\n",
    "#making dict of adatas where key is library name and value is adata object\n",
    "#this is not necessary and could be replaced with a list\n",
    "\n",
    "dic_ad = {}\n",
    "\n",
    "#loading data\n",
    "for path in path_list:\n",
    "    \n",
    "    #force slach at the end\n",
    "    if path[-1] != '/':\n",
    "        path = path + '/'\n",
    "    \n",
    "    #extract_library name\n",
    "    parsed = path.split('/')\n",
    "    for string in parsed:\n",
    "        if 'Solo.out' in string:\n",
    "            name =  re.sub('\\_Solo.out$', '', string)\n",
    "            \n",
    "    # load to AnnData\n",
    "    adata = sc.read(path  + 'matrix.mtx', cache=False)\n",
    "    adata = adata.T\n",
    "    adata.var_names = pd.read_csv(path + 'features.tsv', header = None, sep='\\t' )[1]\n",
    "    adata.obs_names = pd.read_csv(path + 'barcodes.tsv',  header = None)[0]\n",
    "    adata.var_names_make_unique()\n",
    "    \n",
    "    # add library to obs\n",
    "    adata.obs['library'] = name\n",
    "    \n",
    "    #save unfiltered adata objects\n",
    "    fname1 = 'backups_JZ_2022/raw_%dx%d_%s_%s.h5ad'%(adata.shape[0],adata.shape[1], name, now())\n",
    "    print(fname1)\n",
    "    adata.write(fname1)\n",
    "    \n",
    "    \n",
    "    # add to dict\n",
    "    print(name, adata.shape)\n",
    "    dic_ad[name] = adata\n",
    "            "
   ]
  },
  {
   "cell_type": "markdown",
   "metadata": {},
   "source": [
    "## Merge all adatas to one and save"
   ]
  },
  {
   "cell_type": "code",
   "execution_count": 35,
   "metadata": {},
   "outputs": [
    {
     "data": {
      "text/plain": [
       "AnnData object with n_obs × n_vars = 147456 × 33538\n",
       "    obs: 'library'"
      ]
     },
     "execution_count": 35,
     "metadata": {},
     "output_type": "execute_result"
    }
   ],
   "source": [
    "#create list of anndatas\n",
    "lad=list(dic_ad.values()) \n",
    "\n",
    "lad[0]"
   ]
  },
  {
   "cell_type": "code",
   "execution_count": 36,
   "metadata": {},
   "outputs": [
    {
     "name": "stdout",
     "output_type": "stream",
     "text": [
      "True\n",
      "True\n"
     ]
    }
   ],
   "source": [
    "# gene names must be the same for all libraries, but double-check\n",
    "v0 = lad[0].var_names\n",
    "print(np.prod([np.prod(v0==i.var_names) for i in lad]).astype(bool))\n",
    "\n",
    "# also check that gene names are unique:\n",
    "print(len(v0)==len(set(v0)))\n"
   ]
  },
  {
   "cell_type": "code",
   "execution_count": 38,
   "metadata": {},
   "outputs": [
    {
     "name": "stdout",
     "output_type": "stream",
     "text": [
      "(4866048, 33538)\n"
     ]
    }
   ],
   "source": [
    "#concatenate manually, since sc.AnnData.concatenate() can only take 14 arguments\n",
    "\n",
    "Xcat = scipy.sparse.vstack([i.X for i in lad])\n",
    "obscat = pd.concat([i.obs for i in lad])\n",
    "varnames = lad[0].var_names\n",
    "\n",
    "\n",
    "adata = sc.AnnData(Xcat) \n",
    "adata.obs = obscat\n",
    "adata.var_names = varnames\n",
    "\n",
    "# index\n",
    "adata.obs_names = np.arange(adata.shape[0]).astype(str)\n",
    "\n",
    "\n",
    "print(adata.shape)"
   ]
  },
  {
   "cell_type": "code",
   "execution_count": 39,
   "metadata": {},
   "outputs": [
    {
     "name": "stdout",
     "output_type": "stream",
     "text": [
      "backups_JZ_2022/concatenated_raw_4866048x33538_220120_12h51.h5ad\n"
     ]
    },
    {
     "name": "stderr",
     "output_type": "stream",
     "text": [
      "... storing 'library' as categorical\n"
     ]
    }
   ],
   "source": [
    "#save the huge file for later pre-processing\n",
    "fname = 'backups_JZ_2022/concatenated_raw_%dx%d_%s.h5ad'%(adata.shape[0],adata.shape[1], now())\n",
    "print(fname)\n",
    "adata.write(fname)                                                                "
   ]
  }
 ],
 "metadata": {
  "kernelspec": {
   "display_name": "Python 3",
   "language": "python",
   "name": "python3"
  },
  "language_info": {
   "codemirror_mode": {
    "name": "ipython",
    "version": 3
   },
   "file_extension": ".py",
   "mimetype": "text/x-python",
   "name": "python",
   "nbconvert_exporter": "python",
   "pygments_lexer": "ipython3",
   "version": "3.8.12"
  }
 },
 "nbformat": 4,
 "nbformat_minor": 5
}
