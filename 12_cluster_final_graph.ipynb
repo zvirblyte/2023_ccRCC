{
 "cells": [
  {
   "cell_type": "code",
   "execution_count": 1,
   "metadata": {},
   "outputs": [],
   "source": [
    "import scanpy as sc\n",
    "import scanpy.external as sce\n",
    "#sc.logging.print_versions()\n",
    "#sc.logging.print_memory_usage()\n",
    "#sc.settings.verbosity = 2\n",
    "import os,sys\n",
    "import datetime\n",
    "import numpy as np\n",
    "import pandas as pd\n",
    "import matplotlib.pyplot as plt\n",
    "import math\n",
    "import matplotlib.ticker as mticker"
   ]
  },
  {
   "cell_type": "code",
   "execution_count": 2,
   "metadata": {},
   "outputs": [
    {
     "name": "stdout",
     "output_type": "stream",
     "text": [
      "python version: 3.8.12\n"
     ]
    }
   ],
   "source": [
    "# add the utility function folder to PATH\n",
    "import sys\n",
    "sys.path.append(os.path.abspath(\"utility_functions_190403_12h24/\"))\n",
    "\n",
    "from rz_import_statements import *\n",
    "import rz_functions as rz\n",
    "import rz_fig_params # this adjust mpl.rcParams, almost nothing to import, import after scanpy to overwrite rc.Params\n",
    "import rz_utility_spring as srz"
   ]
  },
  {
   "cell_type": "markdown",
   "metadata": {},
   "source": [
    "## Load data"
   ]
  },
  {
   "cell_type": "code",
   "execution_count": 3,
   "metadata": {},
   "outputs": [],
   "source": [
    "# overwrite obs with the most recent version\n",
    "filename = 'backups_JZ_2022/umap_cell_mask_obs_info_51196x31_220128_15h38.npz'\n",
    "encoding = 'latin1'\n",
    "\n",
    "with np.load(filename,encoding=encoding, allow_pickle = True) as f:\n",
    "    obs = pd.DataFrame(**f)"
   ]
  },
  {
   "cell_type": "code",
   "execution_count": 4,
   "metadata": {},
   "outputs": [
    {
     "data": {
      "text/plain": [
       "50236"
      ]
     },
     "execution_count": 4,
     "metadata": {},
     "output_type": "execute_result"
    }
   ],
   "source": [
    "obs['no_dblt_no_rbc'].sum()"
   ]
  },
  {
   "cell_type": "code",
   "execution_count": 5,
   "metadata": {},
   "outputs": [
    {
     "data": {
      "text/plain": [
       "dict_keys(['k', 'cell_mask', 'min_counts', 'min_cells', 'base_ix', 'num_pc', 'plot_name', 'embedding', 'gene_names_excluded', 'abundant_gene_mask', 'v_score_dict', 'nr_var_genes', 'genes_used', 'eigenvectors', 'eigenvalues', 'neighbors', 'min_dist'])"
      ]
     },
     "execution_count": 5,
     "metadata": {},
     "output_type": "execute_result"
    }
   ],
   "source": [
    "# load intermediates I saved when preparing the SPRING plot\n",
    "path1 = '/Users/justina/Documents/mokslai/MAGISTRAS/MAGISTRINIS/data_and_spring/SPRING_dev-master/kidney_spring/' \n",
    "project_dir = path1+'kidney_2022/'\n",
    "plot_name =  'clean_kidney_304_15tr_25c'\n",
    "\n",
    "\n",
    "params = rz.load_stuff(project_dir+plot_name+'/params.pickle')\n",
    "params.keys()"
   ]
  },
  {
   "cell_type": "code",
   "execution_count": 6,
   "metadata": {},
   "outputs": [],
   "source": [
    "cell_mask = params['cell_mask']"
   ]
  },
  {
   "cell_type": "code",
   "execution_count": 7,
   "metadata": {},
   "outputs": [
    {
     "data": {
      "text/plain": [
       "50236"
      ]
     },
     "execution_count": 7,
     "metadata": {},
     "output_type": "execute_result"
    }
   ],
   "source": [
    "sum(cell_mask)"
   ]
  },
  {
   "cell_type": "code",
   "execution_count": 15,
   "metadata": {},
   "outputs": [],
   "source": [
    "#the umap and graph data is saved in adata file\n",
    "adatag = sc.read_h5ad('backups_JZ_2022/clean_kidney_304_15tr_25c_batch_corrected_50236x2000_220315_12h14.h5ad')\n"
   ]
  },
  {
   "cell_type": "code",
   "execution_count": 16,
   "metadata": {},
   "outputs": [
    {
     "data": {
      "text/plain": [
       "AnnData object with n_obs × n_vars = 50236 × 2000\n",
       "    obs: 'library', 'total_counts', 'pct_counts_mito', 'library2', 'sample', 'patient', 'pT stage', 'seq_date', 'beads', 'operation', 'sex', 'tumor size, mm', 'age', 'tissue', 'necrosis', 'doublet_score', 'potential_doublet', 'top3pct_dbtl_score', 'top5pct_dbtl_score', 'top10pct_dbtl_score', 'closest_JZ_kidney', 'closest_JZ_kidney_hvg', 'removed_as_RBC', 'removed_as_dblt1', 'removed_as_dblt2', 'n_counts', 'no_dblt_no_rbc'\n",
       "    var: 'mean', 'std'\n",
       "    uns: 'X_lin_cptt', 'X_log_z', 'beads_colors', 'draw_graph', 'neighbors', 'pca', 'sample_colors', 'seq_date_colors', 'tissue_colors', 'umap'\n",
       "    obsm: 'X_draw_graph_fa', 'X_pca', 'X_pca_harmony', 'X_umap'\n",
       "    varm: 'PCs'\n",
       "    layers: 'X_lin_cptt', 'X_log_z'\n",
       "    obsp: 'connectivities', 'distances'"
      ]
     },
     "execution_count": 16,
     "metadata": {},
     "output_type": "execute_result"
    }
   ],
   "source": [
    "adatag"
   ]
  },
  {
   "cell_type": "code",
   "execution_count": 22,
   "metadata": {},
   "outputs": [],
   "source": [
    "adatag.X = adatag.layers['X_lin_cptt']"
   ]
  },
  {
   "cell_type": "code",
   "execution_count": 23,
   "metadata": {},
   "outputs": [],
   "source": [
    "adatag.obs = obs[cell_mask]"
   ]
  },
  {
   "cell_type": "code",
   "execution_count": 24,
   "metadata": {},
   "outputs": [
    {
     "data": {
      "text/plain": [
       "<50236x50236 sparse matrix of type '<class 'numpy.float32'>'\n",
       "\twith 2433328 stored elements in Compressed Sparse Row format>"
      ]
     },
     "execution_count": 24,
     "metadata": {},
     "output_type": "execute_result"
    }
   ],
   "source": [
    "adatag.obsp['connectivities']"
   ]
  },
  {
   "cell_type": "code",
   "execution_count": 25,
   "metadata": {},
   "outputs": [],
   "source": [
    "G  = adatag.obsp['connectivities'] #selecting the graph"
   ]
  },
  {
   "cell_type": "markdown",
   "metadata": {},
   "source": [
    "# Louvain clustering"
   ]
  },
  {
   "cell_type": "code",
   "execution_count": 26,
   "metadata": {},
   "outputs": [
    {
     "name": "stdout",
     "output_type": "stream",
     "text": [
      "16\n",
      "25\n",
      "35\n",
      "47\n",
      "55\n"
     ]
    }
   ],
   "source": [
    "# start a cell grouping dictionary:\n",
    "cg = {}\n",
    "# use scanpy's Louvain clustering to get Louvain clusters at various resolution\n",
    "mock = adatag.copy()\n",
    "for i in [ 1, 2, 3, 4, 5\n",
    "]:\n",
    "    sc.tl.louvain(mock, resolution = i, adjacency = G, copy = False)\n",
    "    l = list(mock.obs['louvain'])\n",
    "    cg['louvain_res_%.1f'%i] = l\n",
    "    print(len(set(l)))"
   ]
  },
  {
   "cell_type": "markdown",
   "metadata": {},
   "source": [
    "# Phenograph clustering"
   ]
  },
  {
   "cell_type": "code",
   "execution_count": 27,
   "metadata": {},
   "outputs": [
    {
     "name": "stdout",
     "output_type": "stream",
     "text": [
      "Finding 30 nearest neighbors using minkowski metric and 'auto' algorithm\n",
      "Neighbors computed in 71.14062809944153 seconds\n",
      "Jaccard graph constructed in 5.018240928649902 seconds\n",
      "Running Leiden optimization\n",
      "Leiden completed in 5.001922845840454 seconds\n",
      "Sorting communities by size, please wait ...\n",
      "PhenoGraph completed in 83.00705409049988 seconds\n",
      "Finding 30 nearest neighbors using minkowski metric and 'auto' algorithm\n"
     ]
    },
    {
     "name": "stderr",
     "output_type": "stream",
     "text": [
      "/Users/justina/opt/anaconda3/envs/sc_analysis/lib/python3.8/site-packages/scanpy/external/tl/_phenograph.py:248: SettingWithCopyWarning: \n",
      "A value is trying to be set on a copy of a slice from a DataFrame.\n",
      "Try using .loc[row_indexer,col_indexer] = value instead\n",
      "\n",
      "See the caveats in the documentation: https://pandas.pydata.org/pandas-docs/stable/user_guide/indexing.html#returning-a-view-versus-a-copy\n",
      "  adata.obs[comm_key] = pd.Categorical(communities)\n"
     ]
    },
    {
     "name": "stdout",
     "output_type": "stream",
     "text": [
      "Neighbors computed in 73.17118883132935 seconds\n",
      "Jaccard graph constructed in 4.72929573059082 seconds\n",
      "Running Leiden optimization\n",
      "Leiden completed in 5.1340508460998535 seconds\n",
      "Sorting communities by size, please wait ...\n",
      "PhenoGraph completed in 84.9206268787384 seconds\n",
      "Finding 30 nearest neighbors using minkowski metric and 'auto' algorithm\n"
     ]
    },
    {
     "name": "stderr",
     "output_type": "stream",
     "text": [
      "/Users/justina/opt/anaconda3/envs/sc_analysis/lib/python3.8/site-packages/scanpy/external/tl/_phenograph.py:248: SettingWithCopyWarning: \n",
      "A value is trying to be set on a copy of a slice from a DataFrame.\n",
      "Try using .loc[row_indexer,col_indexer] = value instead\n",
      "\n",
      "See the caveats in the documentation: https://pandas.pydata.org/pandas-docs/stable/user_guide/indexing.html#returning-a-view-versus-a-copy\n",
      "  adata.obs[comm_key] = pd.Categorical(communities)\n"
     ]
    },
    {
     "name": "stdout",
     "output_type": "stream",
     "text": [
      "Neighbors computed in 73.06194829940796 seconds\n",
      "Jaccard graph constructed in 4.882573127746582 seconds\n",
      "Running Leiden optimization\n",
      "Leiden completed in 7.755945205688477 seconds\n",
      "Sorting communities by size, please wait ...\n",
      "PhenoGraph completed in 87.58202123641968 seconds\n",
      "Finding 30 nearest neighbors using minkowski metric and 'auto' algorithm\n"
     ]
    },
    {
     "name": "stderr",
     "output_type": "stream",
     "text": [
      "/Users/justina/opt/anaconda3/envs/sc_analysis/lib/python3.8/site-packages/scanpy/external/tl/_phenograph.py:248: SettingWithCopyWarning: \n",
      "A value is trying to be set on a copy of a slice from a DataFrame.\n",
      "Try using .loc[row_indexer,col_indexer] = value instead\n",
      "\n",
      "See the caveats in the documentation: https://pandas.pydata.org/pandas-docs/stable/user_guide/indexing.html#returning-a-view-versus-a-copy\n",
      "  adata.obs[comm_key] = pd.Categorical(communities)\n"
     ]
    },
    {
     "name": "stdout",
     "output_type": "stream",
     "text": [
      "Neighbors computed in 72.45927810668945 seconds\n",
      "Jaccard graph constructed in 4.882083892822266 seconds\n",
      "Running Leiden optimization\n",
      "Leiden completed in 4.966241121292114 seconds\n",
      "Sorting communities by size, please wait ...\n",
      "PhenoGraph completed in 84.21661424636841 seconds\n",
      "Finding 30 nearest neighbors using minkowski metric and 'auto' algorithm\n"
     ]
    },
    {
     "name": "stderr",
     "output_type": "stream",
     "text": [
      "/Users/justina/opt/anaconda3/envs/sc_analysis/lib/python3.8/site-packages/scanpy/external/tl/_phenograph.py:248: SettingWithCopyWarning: \n",
      "A value is trying to be set on a copy of a slice from a DataFrame.\n",
      "Try using .loc[row_indexer,col_indexer] = value instead\n",
      "\n",
      "See the caveats in the documentation: https://pandas.pydata.org/pandas-docs/stable/user_guide/indexing.html#returning-a-view-versus-a-copy\n",
      "  adata.obs[comm_key] = pd.Categorical(communities)\n"
     ]
    },
    {
     "name": "stdout",
     "output_type": "stream",
     "text": [
      "Neighbors computed in 71.82721400260925 seconds\n",
      "Jaccard graph constructed in 4.72184681892395 seconds\n",
      "Running Leiden optimization\n",
      "Leiden completed in 5.769881010055542 seconds\n",
      "Sorting communities by size, please wait ...\n",
      "PhenoGraph completed in 84.1916151046753 seconds\n",
      "Finding 30 nearest neighbors using minkowski metric and 'auto' algorithm\n"
     ]
    },
    {
     "name": "stderr",
     "output_type": "stream",
     "text": [
      "/Users/justina/opt/anaconda3/envs/sc_analysis/lib/python3.8/site-packages/scanpy/external/tl/_phenograph.py:248: SettingWithCopyWarning: \n",
      "A value is trying to be set on a copy of a slice from a DataFrame.\n",
      "Try using .loc[row_indexer,col_indexer] = value instead\n",
      "\n",
      "See the caveats in the documentation: https://pandas.pydata.org/pandas-docs/stable/user_guide/indexing.html#returning-a-view-versus-a-copy\n",
      "  adata.obs[comm_key] = pd.Categorical(communities)\n"
     ]
    },
    {
     "name": "stdout",
     "output_type": "stream",
     "text": [
      "Neighbors computed in 73.88314914703369 seconds\n",
      "Jaccard graph constructed in 4.7558770179748535 seconds\n",
      "Running Leiden optimization\n",
      "Leiden completed in 6.899049997329712 seconds\n",
      "Sorting communities by size, please wait ...\n",
      "PhenoGraph completed in 87.37063407897949 seconds\n",
      "Finding 30 nearest neighbors using minkowski metric and 'auto' algorithm\n"
     ]
    },
    {
     "name": "stderr",
     "output_type": "stream",
     "text": [
      "/Users/justina/opt/anaconda3/envs/sc_analysis/lib/python3.8/site-packages/scanpy/external/tl/_phenograph.py:248: SettingWithCopyWarning: \n",
      "A value is trying to be set on a copy of a slice from a DataFrame.\n",
      "Try using .loc[row_indexer,col_indexer] = value instead\n",
      "\n",
      "See the caveats in the documentation: https://pandas.pydata.org/pandas-docs/stable/user_guide/indexing.html#returning-a-view-versus-a-copy\n",
      "  adata.obs[comm_key] = pd.Categorical(communities)\n"
     ]
    },
    {
     "name": "stdout",
     "output_type": "stream",
     "text": [
      "Neighbors computed in 72.07780718803406 seconds\n",
      "Jaccard graph constructed in 4.726381778717041 seconds\n",
      "Running Leiden optimization\n",
      "Leiden completed in 7.963429927825928 seconds\n",
      "Sorting communities by size, please wait ...\n",
      "PhenoGraph completed in 86.55843925476074 seconds\n",
      "Finding 30 nearest neighbors using minkowski metric and 'auto' algorithm\n"
     ]
    },
    {
     "name": "stderr",
     "output_type": "stream",
     "text": [
      "/Users/justina/opt/anaconda3/envs/sc_analysis/lib/python3.8/site-packages/scanpy/external/tl/_phenograph.py:248: SettingWithCopyWarning: \n",
      "A value is trying to be set on a copy of a slice from a DataFrame.\n",
      "Try using .loc[row_indexer,col_indexer] = value instead\n",
      "\n",
      "See the caveats in the documentation: https://pandas.pydata.org/pandas-docs/stable/user_guide/indexing.html#returning-a-view-versus-a-copy\n",
      "  adata.obs[comm_key] = pd.Categorical(communities)\n"
     ]
    },
    {
     "name": "stdout",
     "output_type": "stream",
     "text": [
      "Neighbors computed in 70.97311067581177 seconds\n",
      "Jaccard graph constructed in 4.783808946609497 seconds\n",
      "Running Leiden optimization\n",
      "Leiden completed in 5.747808933258057 seconds\n",
      "Sorting communities by size, please wait ...\n",
      "PhenoGraph completed in 83.4060606956482 seconds\n",
      "Finding 30 nearest neighbors using minkowski metric and 'auto' algorithm\n"
     ]
    },
    {
     "name": "stderr",
     "output_type": "stream",
     "text": [
      "/Users/justina/opt/anaconda3/envs/sc_analysis/lib/python3.8/site-packages/scanpy/external/tl/_phenograph.py:248: SettingWithCopyWarning: \n",
      "A value is trying to be set on a copy of a slice from a DataFrame.\n",
      "Try using .loc[row_indexer,col_indexer] = value instead\n",
      "\n",
      "See the caveats in the documentation: https://pandas.pydata.org/pandas-docs/stable/user_guide/indexing.html#returning-a-view-versus-a-copy\n",
      "  adata.obs[comm_key] = pd.Categorical(communities)\n"
     ]
    },
    {
     "name": "stdout",
     "output_type": "stream",
     "text": [
      "Neighbors computed in 74.08822393417358 seconds\n",
      "Jaccard graph constructed in 4.615707159042358 seconds\n",
      "Running Leiden optimization\n",
      "Leiden completed in 8.42387580871582 seconds\n",
      "Sorting communities by size, please wait ...\n",
      "PhenoGraph completed in 89.01926493644714 seconds\n"
     ]
    },
    {
     "name": "stderr",
     "output_type": "stream",
     "text": [
      "/Users/justina/opt/anaconda3/envs/sc_analysis/lib/python3.8/site-packages/scanpy/external/tl/_phenograph.py:248: SettingWithCopyWarning: \n",
      "A value is trying to be set on a copy of a slice from a DataFrame.\n",
      "Try using .loc[row_indexer,col_indexer] = value instead\n",
      "\n",
      "See the caveats in the documentation: https://pandas.pydata.org/pandas-docs/stable/user_guide/indexing.html#returning-a-view-versus-a-copy\n",
      "  adata.obs[comm_key] = pd.Categorical(communities)\n"
     ]
    }
   ],
   "source": [
    "# Clustering using PhenoGraph\n",
    "\n",
    "for i in [0.5, 0.8, 1, 1.5, 2, 2.5, 3, 3.5, 4]:\n",
    "    sc.external.tl.phenograph(adatag, clustering_algo='leiden', k=30, jaccard=True, primary_metric='euclidean', \n",
    "                          resolution_parameter = i)\n",
    "    l = list(adatag.obs['pheno_leiden'])\n",
    "    cg['pheno_leiden_res_%.1f'%i] = l"
   ]
  },
  {
   "cell_type": "markdown",
   "metadata": {},
   "source": [
    "# Spectral clustering (choose number of clusters)"
   ]
  },
  {
   "cell_type": "code",
   "execution_count": 29,
   "metadata": {},
   "outputs": [
    {
     "name": "stdout",
     "output_type": "stream",
     "text": [
      "sp_cl_38\n",
      "sp_cl_38\n",
      "sp_cl_39\n",
      "sp_cl_39\n",
      "sp_cl_40\n",
      "sp_cl_40\n",
      "sp_cl_42\n",
      "sp_cl_42\n",
      "sp_cl_43\n",
      "sp_cl_43\n",
      "sp_cl_45\n",
      "sp_cl_45\n",
      "sp_cl_47\n",
      "sp_cl_47\n",
      "sp_cl_50\n",
      "sp_cl_50\n"
     ]
    }
   ],
   "source": [
    "# this one is much slower\n",
    "for i in [\n",
    "    38,39, 40, 42,43, 45,47, 50]:\n",
    "    key = 'sp_cl_%d'%(i)\n",
    "    print(key)\n",
    "    cg[key] = list(srz.spec_clust(G,i).astype(str))\n",
    "    print(key)"
   ]
  },
  {
   "cell_type": "markdown",
   "metadata": {},
   "source": [
    "# Append result to the same SPRING plot"
   ]
  },
  {
   "cell_type": "code",
   "execution_count": 30,
   "metadata": {},
   "outputs": [],
   "source": [
    "# load current color dictionary\n",
    "cg0 = srz.read_cell_groupings(project_dir+plot_name+'/categorical_coloring_data.json')\n",
    "\n",
    "\n",
    "# color dictionary of dictionaries\n",
    "cdd = {key:value['label_colors'] for key,value in cg0.items()}\n"
   ]
  },
  {
   "cell_type": "code",
   "execution_count": 31,
   "metadata": {},
   "outputs": [],
   "source": [
    "cg = {key:list(np.array(value).astype(str)) for key,value in cg.items()}"
   ]
  },
  {
   "cell_type": "code",
   "execution_count": 32,
   "metadata": {},
   "outputs": [],
   "source": [
    "# append categorical colortrack\n",
    "srz.append_cell_groupings(project_dir+plot_name,cg,colordd=cdd)"
   ]
  },
  {
   "cell_type": "code",
   "execution_count": 33,
   "metadata": {},
   "outputs": [
    {
     "data": {
      "text/html": [
       "<div>\n",
       "<style scoped>\n",
       "    .dataframe tbody tr th:only-of-type {\n",
       "        vertical-align: middle;\n",
       "    }\n",
       "\n",
       "    .dataframe tbody tr th {\n",
       "        vertical-align: top;\n",
       "    }\n",
       "\n",
       "    .dataframe thead th {\n",
       "        text-align: right;\n",
       "    }\n",
       "</style>\n",
       "<table border=\"1\" class=\"dataframe\">\n",
       "  <thead>\n",
       "    <tr style=\"text-align: right;\">\n",
       "      <th></th>\n",
       "      <th>library</th>\n",
       "      <th>total_counts</th>\n",
       "      <th>pct_counts_mito</th>\n",
       "      <th>library2</th>\n",
       "      <th>sample</th>\n",
       "      <th>patient</th>\n",
       "      <th>pT stage</th>\n",
       "      <th>seq_date</th>\n",
       "      <th>beads</th>\n",
       "      <th>operation</th>\n",
       "      <th>...</th>\n",
       "      <th>removed_as_RBC</th>\n",
       "      <th>louvain_resolution_30.0</th>\n",
       "      <th>louvain_resolution_50.0</th>\n",
       "      <th>louvain_resolution_60.0</th>\n",
       "      <th>louvain_resolution_80.0</th>\n",
       "      <th>removed_as_dblt1</th>\n",
       "      <th>removed_as_dblt2</th>\n",
       "      <th>n_counts</th>\n",
       "      <th>no_dblt_no_rbc</th>\n",
       "      <th>pheno_leiden</th>\n",
       "    </tr>\n",
       "  </thead>\n",
       "  <tbody>\n",
       "    <tr>\n",
       "      <th>2</th>\n",
       "      <td>N14</td>\n",
       "      <td>449</td>\n",
       "      <td>0.668151</td>\n",
       "      <td>T2_1</td>\n",
       "      <td>T2</td>\n",
       "      <td>P2</td>\n",
       "      <td>pT3a</td>\n",
       "      <td>20_11_12</td>\n",
       "      <td>old</td>\n",
       "      <td>Open</td>\n",
       "      <td>...</td>\n",
       "      <td>False</td>\n",
       "      <td>253</td>\n",
       "      <td>238</td>\n",
       "      <td>196</td>\n",
       "      <td>213</td>\n",
       "      <td>False</td>\n",
       "      <td>False</td>\n",
       "      <td>449</td>\n",
       "      <td>True</td>\n",
       "      <td>9</td>\n",
       "    </tr>\n",
       "    <tr>\n",
       "      <th>19</th>\n",
       "      <td>N14</td>\n",
       "      <td>449</td>\n",
       "      <td>4.23163</td>\n",
       "      <td>T2_1</td>\n",
       "      <td>T2</td>\n",
       "      <td>P2</td>\n",
       "      <td>pT3a</td>\n",
       "      <td>20_11_12</td>\n",
       "      <td>old</td>\n",
       "      <td>Open</td>\n",
       "      <td>...</td>\n",
       "      <td>False</td>\n",
       "      <td>117</td>\n",
       "      <td>239</td>\n",
       "      <td>331</td>\n",
       "      <td>1009</td>\n",
       "      <td>False</td>\n",
       "      <td>False</td>\n",
       "      <td>449</td>\n",
       "      <td>True</td>\n",
       "      <td>9</td>\n",
       "    </tr>\n",
       "    <tr>\n",
       "      <th>363</th>\n",
       "      <td>N14</td>\n",
       "      <td>1229</td>\n",
       "      <td>10.6591</td>\n",
       "      <td>T2_1</td>\n",
       "      <td>T2</td>\n",
       "      <td>P2</td>\n",
       "      <td>pT3a</td>\n",
       "      <td>20_11_12</td>\n",
       "      <td>old</td>\n",
       "      <td>Open</td>\n",
       "      <td>...</td>\n",
       "      <td>False</td>\n",
       "      <td>31</td>\n",
       "      <td>68</td>\n",
       "      <td>610</td>\n",
       "      <td>507</td>\n",
       "      <td>False</td>\n",
       "      <td>False</td>\n",
       "      <td>1229</td>\n",
       "      <td>True</td>\n",
       "      <td>11</td>\n",
       "    </tr>\n",
       "    <tr>\n",
       "      <th>433</th>\n",
       "      <td>N14</td>\n",
       "      <td>432</td>\n",
       "      <td>6.94444</td>\n",
       "      <td>T2_1</td>\n",
       "      <td>T2</td>\n",
       "      <td>P2</td>\n",
       "      <td>pT3a</td>\n",
       "      <td>20_11_12</td>\n",
       "      <td>old</td>\n",
       "      <td>Open</td>\n",
       "      <td>...</td>\n",
       "      <td>False</td>\n",
       "      <td>8</td>\n",
       "      <td>120</td>\n",
       "      <td>115</td>\n",
       "      <td>112</td>\n",
       "      <td>False</td>\n",
       "      <td>False</td>\n",
       "      <td>432</td>\n",
       "      <td>True</td>\n",
       "      <td>11</td>\n",
       "    </tr>\n",
       "    <tr>\n",
       "      <th>444</th>\n",
       "      <td>N14</td>\n",
       "      <td>502</td>\n",
       "      <td>4.98008</td>\n",
       "      <td>T2_1</td>\n",
       "      <td>T2</td>\n",
       "      <td>P2</td>\n",
       "      <td>pT3a</td>\n",
       "      <td>20_11_12</td>\n",
       "      <td>old</td>\n",
       "      <td>Open</td>\n",
       "      <td>...</td>\n",
       "      <td>False</td>\n",
       "      <td>12</td>\n",
       "      <td>153</td>\n",
       "      <td>265</td>\n",
       "      <td>257</td>\n",
       "      <td>False</td>\n",
       "      <td>False</td>\n",
       "      <td>502</td>\n",
       "      <td>True</td>\n",
       "      <td>23</td>\n",
       "    </tr>\n",
       "    <tr>\n",
       "      <th>...</th>\n",
       "      <td>...</td>\n",
       "      <td>...</td>\n",
       "      <td>...</td>\n",
       "      <td>...</td>\n",
       "      <td>...</td>\n",
       "      <td>...</td>\n",
       "      <td>...</td>\n",
       "      <td>...</td>\n",
       "      <td>...</td>\n",
       "      <td>...</td>\n",
       "      <td>...</td>\n",
       "      <td>...</td>\n",
       "      <td>...</td>\n",
       "      <td>...</td>\n",
       "      <td>...</td>\n",
       "      <td>...</td>\n",
       "      <td>...</td>\n",
       "      <td>...</td>\n",
       "      <td>...</td>\n",
       "      <td>...</td>\n",
       "      <td>...</td>\n",
       "    </tr>\n",
       "    <tr>\n",
       "      <th>4865536</th>\n",
       "      <td>Tumor0228</td>\n",
       "      <td>683</td>\n",
       "      <td>9.37042</td>\n",
       "      <td>T4_old</td>\n",
       "      <td>T4</td>\n",
       "      <td>P4</td>\n",
       "      <td>pT3a</td>\n",
       "      <td>old</td>\n",
       "      <td>old</td>\n",
       "      <td>Open</td>\n",
       "      <td>...</td>\n",
       "      <td>False</td>\n",
       "      <td>66</td>\n",
       "      <td>284</td>\n",
       "      <td>333</td>\n",
       "      <td>162</td>\n",
       "      <td>False</td>\n",
       "      <td>False</td>\n",
       "      <td>683</td>\n",
       "      <td>True</td>\n",
       "      <td>12</td>\n",
       "    </tr>\n",
       "    <tr>\n",
       "      <th>4865584</th>\n",
       "      <td>Tumor0228</td>\n",
       "      <td>1473</td>\n",
       "      <td>6.51731</td>\n",
       "      <td>T4_old</td>\n",
       "      <td>T4</td>\n",
       "      <td>P4</td>\n",
       "      <td>pT3a</td>\n",
       "      <td>old</td>\n",
       "      <td>old</td>\n",
       "      <td>Open</td>\n",
       "      <td>...</td>\n",
       "      <td>False</td>\n",
       "      <td>172</td>\n",
       "      <td>266</td>\n",
       "      <td>228</td>\n",
       "      <td>388</td>\n",
       "      <td>False</td>\n",
       "      <td>False</td>\n",
       "      <td>1473</td>\n",
       "      <td>True</td>\n",
       "      <td>12</td>\n",
       "    </tr>\n",
       "    <tr>\n",
       "      <th>4865642</th>\n",
       "      <td>Tumor0228</td>\n",
       "      <td>498</td>\n",
       "      <td>9.43775</td>\n",
       "      <td>T4_old</td>\n",
       "      <td>T4</td>\n",
       "      <td>P4</td>\n",
       "      <td>pT3a</td>\n",
       "      <td>old</td>\n",
       "      <td>old</td>\n",
       "      <td>Open</td>\n",
       "      <td>...</td>\n",
       "      <td>False</td>\n",
       "      <td>20</td>\n",
       "      <td>221</td>\n",
       "      <td>299</td>\n",
       "      <td>203</td>\n",
       "      <td>False</td>\n",
       "      <td>False</td>\n",
       "      <td>498</td>\n",
       "      <td>True</td>\n",
       "      <td>12</td>\n",
       "    </tr>\n",
       "    <tr>\n",
       "      <th>4865726</th>\n",
       "      <td>Tumor0228</td>\n",
       "      <td>421</td>\n",
       "      <td>19.2399</td>\n",
       "      <td>T4_old</td>\n",
       "      <td>T4</td>\n",
       "      <td>P4</td>\n",
       "      <td>pT3a</td>\n",
       "      <td>old</td>\n",
       "      <td>old</td>\n",
       "      <td>Open</td>\n",
       "      <td>...</td>\n",
       "      <td>False</td>\n",
       "      <td>7</td>\n",
       "      <td>92</td>\n",
       "      <td>64</td>\n",
       "      <td>78</td>\n",
       "      <td>False</td>\n",
       "      <td>False</td>\n",
       "      <td>421</td>\n",
       "      <td>True</td>\n",
       "      <td>56</td>\n",
       "    </tr>\n",
       "    <tr>\n",
       "      <th>4866011</th>\n",
       "      <td>Tumor0228</td>\n",
       "      <td>763</td>\n",
       "      <td>3.80079</td>\n",
       "      <td>T4_old</td>\n",
       "      <td>T4</td>\n",
       "      <td>P4</td>\n",
       "      <td>pT3a</td>\n",
       "      <td>old</td>\n",
       "      <td>old</td>\n",
       "      <td>Open</td>\n",
       "      <td>...</td>\n",
       "      <td>False</td>\n",
       "      <td>70</td>\n",
       "      <td>95</td>\n",
       "      <td>268</td>\n",
       "      <td>114</td>\n",
       "      <td>False</td>\n",
       "      <td>False</td>\n",
       "      <td>763</td>\n",
       "      <td>True</td>\n",
       "      <td>2</td>\n",
       "    </tr>\n",
       "  </tbody>\n",
       "</table>\n",
       "<p>50236 rows × 32 columns</p>\n",
       "</div>"
      ],
      "text/plain": [
       "           library total_counts pct_counts_mito library2 sample patient  \\\n",
       "2              N14          449        0.668151     T2_1     T2      P2   \n",
       "19             N14          449         4.23163     T2_1     T2      P2   \n",
       "363            N14         1229         10.6591     T2_1     T2      P2   \n",
       "433            N14          432         6.94444     T2_1     T2      P2   \n",
       "444            N14          502         4.98008     T2_1     T2      P2   \n",
       "...            ...          ...             ...      ...    ...     ...   \n",
       "4865536  Tumor0228          683         9.37042   T4_old     T4      P4   \n",
       "4865584  Tumor0228         1473         6.51731   T4_old     T4      P4   \n",
       "4865642  Tumor0228          498         9.43775   T4_old     T4      P4   \n",
       "4865726  Tumor0228          421         19.2399   T4_old     T4      P4   \n",
       "4866011  Tumor0228          763         3.80079   T4_old     T4      P4   \n",
       "\n",
       "        pT stage  seq_date beads operation  ... removed_as_RBC  \\\n",
       "2           pT3a  20_11_12   old      Open  ...          False   \n",
       "19          pT3a  20_11_12   old      Open  ...          False   \n",
       "363         pT3a  20_11_12   old      Open  ...          False   \n",
       "433         pT3a  20_11_12   old      Open  ...          False   \n",
       "444         pT3a  20_11_12   old      Open  ...          False   \n",
       "...          ...       ...   ...       ...  ...            ...   \n",
       "4865536     pT3a       old   old      Open  ...          False   \n",
       "4865584     pT3a       old   old      Open  ...          False   \n",
       "4865642     pT3a       old   old      Open  ...          False   \n",
       "4865726     pT3a       old   old      Open  ...          False   \n",
       "4866011     pT3a       old   old      Open  ...          False   \n",
       "\n",
       "        louvain_resolution_30.0 louvain_resolution_50.0  \\\n",
       "2                           253                     238   \n",
       "19                          117                     239   \n",
       "363                          31                      68   \n",
       "433                           8                     120   \n",
       "444                          12                     153   \n",
       "...                         ...                     ...   \n",
       "4865536                      66                     284   \n",
       "4865584                     172                     266   \n",
       "4865642                      20                     221   \n",
       "4865726                       7                      92   \n",
       "4866011                      70                      95   \n",
       "\n",
       "        louvain_resolution_60.0 louvain_resolution_80.0 removed_as_dblt1  \\\n",
       "2                           196                     213            False   \n",
       "19                          331                    1009            False   \n",
       "363                         610                     507            False   \n",
       "433                         115                     112            False   \n",
       "444                         265                     257            False   \n",
       "...                         ...                     ...              ...   \n",
       "4865536                     333                     162            False   \n",
       "4865584                     228                     388            False   \n",
       "4865642                     299                     203            False   \n",
       "4865726                      64                      78            False   \n",
       "4866011                     268                     114            False   \n",
       "\n",
       "        removed_as_dblt2 n_counts no_dblt_no_rbc pheno_leiden  \n",
       "2                  False      449           True            9  \n",
       "19                 False      449           True            9  \n",
       "363                False     1229           True           11  \n",
       "433                False      432           True           11  \n",
       "444                False      502           True           23  \n",
       "...                  ...      ...            ...          ...  \n",
       "4865536            False      683           True           12  \n",
       "4865584            False     1473           True           12  \n",
       "4865642            False      498           True           12  \n",
       "4865726            False      421           True           56  \n",
       "4866011            False      763           True            2  \n",
       "\n",
       "[50236 rows x 32 columns]"
      ]
     },
     "execution_count": 33,
     "metadata": {},
     "output_type": "execute_result"
    }
   ],
   "source": [
    "adatag.obs"
   ]
  },
  {
   "cell_type": "code",
   "execution_count": 34,
   "metadata": {},
   "outputs": [
    {
     "name": "stderr",
     "output_type": "stream",
     "text": [
      "<ipython-input-34-5327129e2cc7>:2: SettingWithCopyWarning: \n",
      "A value is trying to be set on a copy of a slice from a DataFrame.\n",
      "Try using .loc[row_indexer,col_indexer] = value instead\n",
      "\n",
      "See the caveats in the documentation: https://pandas.pydata.org/pandas-docs/stable/user_guide/indexing.html#returning-a-view-versus-a-copy\n",
      "  adatag.obs[key] = cg[key]\n"
     ]
    }
   ],
   "source": [
    "for key, value in cg.items():\n",
    "    adatag.obs[key] = cg[key]"
   ]
  },
  {
   "cell_type": "code",
   "execution_count": 35,
   "metadata": {},
   "outputs": [],
   "source": [
    "obs1 = adatag.obs"
   ]
  },
  {
   "cell_type": "code",
   "execution_count": 44,
   "metadata": {},
   "outputs": [
    {
     "name": "stdout",
     "output_type": "stream",
     "text": [
      "backups_JZ_2022/clustering_304_15tr_25c_obs_info_50236x54_220315_18h11\n"
     ]
    }
   ],
   "source": [
    "#save obs with clusters\n",
    "\n",
    "fname = 'backups_JZ_2022/clustering_304_15tr_25c_obs_info_%dx%d_%s'%(obs1.shape[0],obs1.shape[1],rz.now())\n",
    "print(fname)\n",
    "rz.save_df(obs1,fname)"
   ]
  },
  {
   "cell_type": "code",
   "execution_count": null,
   "metadata": {},
   "outputs": [],
   "source": []
  }
 ],
 "metadata": {
  "kernelspec": {
   "display_name": "Python 3",
   "language": "python",
   "name": "python3"
  },
  "language_info": {
   "codemirror_mode": {
    "name": "ipython",
    "version": 3
   },
   "file_extension": ".py",
   "mimetype": "text/x-python",
   "name": "python",
   "nbconvert_exporter": "python",
   "pygments_lexer": "ipython3",
   "version": "3.8.12"
  }
 },
 "nbformat": 4,
 "nbformat_minor": 4
}
