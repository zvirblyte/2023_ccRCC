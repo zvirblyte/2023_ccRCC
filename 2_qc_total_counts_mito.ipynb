{
 "cells": [
  {
   "cell_type": "code",
   "execution_count": 58,
   "metadata": {},
   "outputs": [],
   "source": [
    "import scanpy as sc\n",
    "import os,sys\n",
    "import datetime\n",
    "import numpy as np\n",
    "import pandas as pd\n",
    "import matplotlib.pyplot as plt\n",
    "import math\n",
    "import matplotlib.ticker as mticker"
   ]
  },
  {
   "cell_type": "code",
   "execution_count": 59,
   "metadata": {},
   "outputs": [
    {
     "name": "stdout",
     "output_type": "stream",
     "text": [
      "scanpy==1.8.0 anndata==0.7.6 umap==0.5.1 numpy==1.20.1 scipy==1.6.2 pandas==1.2.4 scikit-learn==0.24.1 statsmodels==0.12.2 python-igraph==0.9.8 louvain==0.7.1 pynndescent==0.5.5\n"
     ]
    }
   ],
   "source": [
    "sc.logging.print_header()"
   ]
  },
  {
   "cell_type": "code",
   "execution_count": 60,
   "metadata": {},
   "outputs": [],
   "source": [
    "# add the utility functions folder to PATH (from Rapolas Zilionis, taken from\n",
    "# https://github.com/rapolaszilionis/utility_functions)\n",
    "\n",
    "sys.path.append(os.path.abspath(\"utility_functions_190403_12h24/\"))\n",
    "\n",
    "from rz_import_statements import *\n",
    "import rz_functions as rz\n",
    "import rz_fig_params # this adjust mpl.rcParams, almost nothing to import, import after scanpy to overwrite rc.Params\n",
    "import rz_utility_spring as srz"
   ]
  },
  {
   "cell_type": "code",
   "execution_count": 61,
   "metadata": {},
   "outputs": [],
   "source": [
    "#load raw adata\n",
    "adata = sc.read_h5ad('backups_JZ_2022/concatenated_raw_4866048x33538_220120_12h51.h5ad')"
   ]
  },
  {
   "cell_type": "code",
   "execution_count": 62,
   "metadata": {},
   "outputs": [
    {
     "data": {
      "text/plain": [
       "AnnData object with n_obs × n_vars = 4866048 × 33538\n",
       "    obs: 'library'"
      ]
     },
     "execution_count": 62,
     "metadata": {},
     "output_type": "execute_result"
    }
   ],
   "source": [
    "adata"
   ]
  },
  {
   "cell_type": "markdown",
   "metadata": {},
   "source": [
    "## Filtering on total counts and mito fraction"
   ]
  },
  {
   "cell_type": "code",
   "execution_count": 65,
   "metadata": {},
   "outputs": [],
   "source": [
    "#get total counts\n",
    "adata.obs['total_counts']= adata.X.sum(axis=1)"
   ]
  },
  {
   "cell_type": "code",
   "execution_count": 76,
   "metadata": {},
   "outputs": [
    {
     "name": "stdout",
     "output_type": "stream",
     "text": [
      "(4866048, 33538)\n",
      "(1718924, 33538)\n"
     ]
    }
   ],
   "source": [
    "# remove barcodes with veeery few counts, e.g. 10 to ease up calculations further\n",
    "\n",
    "cmask = adata.obs['total_counts'].values>10 \n",
    "print(adata.shape)\n",
    "adata = adata[cmask]\n",
    "print(adata.shape)"
   ]
  },
  {
   "cell_type": "code",
   "execution_count": 77,
   "metadata": {},
   "outputs": [
    {
     "data": {
      "text/plain": [
       "33"
      ]
     },
     "execution_count": 77,
     "metadata": {},
     "output_type": "execute_result"
    }
   ],
   "source": [
    "len(adata.obs['library'].unique())"
   ]
  },
  {
   "cell_type": "code",
   "execution_count": 79,
   "metadata": {},
   "outputs": [
    {
     "name": "stdout",
     "output_type": "stream",
     "text": [
      "13\n"
     ]
    },
    {
     "data": {
      "text/plain": [
       "['MT-ND1',\n",
       " 'MT-ND2',\n",
       " 'MT-CO1',\n",
       " 'MT-CO2',\n",
       " 'MT-ATP8',\n",
       " 'MT-ATP6',\n",
       " 'MT-CO3',\n",
       " 'MT-ND3',\n",
       " 'MT-ND4L',\n",
       " 'MT-ND4',\n",
       " 'MT-ND5',\n",
       " 'MT-ND6',\n",
       " 'MT-CYB']"
      ]
     },
     "execution_count": 79,
     "metadata": {},
     "output_type": "execute_result"
    }
   ],
   "source": [
    "# define mitochondrial genes \n",
    "\n",
    "mitogenes = [i for i in adata.var_names if i.startswith('MT-')]\n",
    "print (len(mitogenes))\n",
    "mitogenes\n",
    "                                                        "
   ]
  },
  {
   "cell_type": "code",
   "execution_count": 80,
   "metadata": {},
   "outputs": [
    {
     "name": "stderr",
     "output_type": "stream",
     "text": [
      "Trying to set attribute `.obs` of view, copying.\n"
     ]
    },
    {
     "data": {
      "text/plain": [
       "0           9.523809\n",
       "1          11.764706\n",
       "2           0.668151\n",
       "3           1.818182\n",
       "6           3.571429\n",
       "             ...    \n",
       "4866043    21.428572\n",
       "4866044     7.692308\n",
       "4866045    46.153847\n",
       "4866046    22.500000\n",
       "4866047     6.220096\n",
       "Name: pct_counts_mito, Length: 1718924, dtype: float32"
      ]
     },
     "execution_count": 80,
     "metadata": {},
     "output_type": "execute_result"
    }
   ],
   "source": [
    "#calculate mitochondrial percentage and add to obs\n",
    "\n",
    "mitomask = np.in1d(adata.var_names,mitogenes)\n",
    "\n",
    "adata.obs['pct_counts_mito'] = np.array(adata.X[:,mitomask].sum(axis=1)).T[0]/adata.obs['total_counts'].values*100.\n",
    "adata.obs['pct_counts_mito']\n"
   ]
  },
  {
   "cell_type": "code",
   "execution_count": 82,
   "metadata": {},
   "outputs": [
    {
     "name": "stdout",
     "output_type": "stream",
     "text": [
      "\"0621Normal\":\"\",\n",
      "\"0621Tumor\":\"\",\n",
      "\"0704Normal\":\"\",\n",
      "\"0818T_S1\":\"\",\n",
      "\"0903T_2_S3\":\"\",\n",
      "\"0903T_S2\":\"\",\n",
      "\"0914T_2_S5\":\"\",\n",
      "\"0914T_S4\":\"\",\n",
      "\"0923T_2_S7\":\"\",\n",
      "\"0923T_S6\":\"\",\n",
      "\"1116N_S11\":\"\",\n",
      "\"1116T1_S8\":\"\",\n",
      "\"1116T2_S9\":\"\",\n",
      "\"1116T3_1_S10\":\"\",\n",
      "\"Healthy0228\":\"\",\n",
      "\"Healthy0314\":\"\",\n",
      "\"N093_S4\":\"\",\n",
      "\"N14\":\"\",\n",
      "\"N21\":\"\",\n",
      "\"N28\":\"\",\n",
      "\"N818_S2\":\"\",\n",
      "\"N914_S6\":\"\",\n",
      "\"N923_S8\":\"\",\n",
      "\"T04\":\"\",\n",
      "\"T14\":\"\",\n",
      "\"T21\":\"\",\n",
      "\"T28\":\"\",\n",
      "\"T818_S1\":\"\",\n",
      "\"T903_S3\":\"\",\n",
      "\"T914_S5\":\"\",\n",
      "\"T923_S7\":\"\",\n",
      "\"Tumor0228\":\"\",\n",
      "\"Tumor0314\":\"\",\n"
     ]
    }
   ],
   "source": [
    "#tidying up the library names\n",
    "for i in sorted(adata.obs['library'].unique()):\n",
    "    print('\"%s\":\"\",'%i)"
   ]
  },
  {
   "cell_type": "code",
   "execution_count": 83,
   "metadata": {},
   "outputs": [],
   "source": [
    "renamer = {\"0621Normal\":\"N3_old\",\n",
    "\"0621Tumor\":\"T3_old\",\n",
    "\"0704Normal\":\"N1_old\",\n",
    "           \n",
    "\"0818T_S1\":\"T5_1\",\n",
    "\"0903T_2_S3\":\"T6_1\",\n",
    "\"0903T_S2\":\"T6_2\",\n",
    "\"0914T_2_S5\":\"T7_2\",\n",
    "\"0914T_S4\":\"T7_1\",\n",
    "\"0923T_2_S7\":\"T8_2\",\n",
    "\"0923T_S6\":\"T8_1\",\n",
    "\"1116N_S11\":\"N9_1\",\n",
    "\"1116T1_S8\":\"T9_1\",\n",
    "\"1116T2_S9\":\"T9_2\",\n",
    "\"1116T3_1_S10\":\"T9_3\",\n",
    "           \n",
    "\"Healthy0228\":\"N4_old\",\n",
    "\"Healthy0314\":\"N2_old\",\n",
    "           \n",
    "\"N093_S4\":\"N6_1\",\n",
    "\"N14\":\"T2_1\", #names were accidentally swapped between tumor and normal while running StarSolo\n",
    "\"N21\":\"N3_1\",\n",
    "\"N28\":\"N4_1\",\n",
    "           \n",
    "\"N818_S2\":\"N5_1\",\n",
    "\"N914_S6\":\"N7_1\",\n",
    "\"N923_S8\":\"N8_1\",\n",
    "           \n",
    "\"T04\":\"T1_1\",\n",
    "\"T14\":\"N2_1\",#names were accidentally swapped between tumor and normal while running StarSolo\n",
    "\"T21\":\"T3_1\",\n",
    "\"T28\":\"T4_1\",\n",
    "           \n",
    "\"T818_S1\":\"T5_2\",\n",
    "\"T903_S3\":\"T6_3\",\n",
    "\"T914_S5\":\"T7_3\",\n",
    "\"T923_S7\":\"T8_3\",\n",
    "           \n",
    "\"Tumor0228\":\"T4_old\",\n",
    "\"Tumor0314\":\"T2_old\"\n",
    "}"
   ]
  },
  {
   "cell_type": "code",
   "execution_count": 84,
   "metadata": {},
   "outputs": [
    {
     "data": {
      "text/html": [
       "<div>\n",
       "<style scoped>\n",
       "    .dataframe tbody tr th:only-of-type {\n",
       "        vertical-align: middle;\n",
       "    }\n",
       "\n",
       "    .dataframe tbody tr th {\n",
       "        vertical-align: top;\n",
       "    }\n",
       "\n",
       "    .dataframe thead th {\n",
       "        text-align: right;\n",
       "    }\n",
       "</style>\n",
       "<table border=\"1\" class=\"dataframe\">\n",
       "  <thead>\n",
       "    <tr style=\"text-align: right;\">\n",
       "      <th></th>\n",
       "      <th>library</th>\n",
       "      <th>total_counts</th>\n",
       "      <th>pct_counts_mito</th>\n",
       "      <th>library2</th>\n",
       "    </tr>\n",
       "  </thead>\n",
       "  <tbody>\n",
       "    <tr>\n",
       "      <th>0</th>\n",
       "      <td>N14</td>\n",
       "      <td>21.0</td>\n",
       "      <td>9.523809</td>\n",
       "      <td>T2_1</td>\n",
       "    </tr>\n",
       "    <tr>\n",
       "      <th>1</th>\n",
       "      <td>N14</td>\n",
       "      <td>17.0</td>\n",
       "      <td>11.764706</td>\n",
       "      <td>T2_1</td>\n",
       "    </tr>\n",
       "    <tr>\n",
       "      <th>2</th>\n",
       "      <td>N14</td>\n",
       "      <td>449.0</td>\n",
       "      <td>0.668151</td>\n",
       "      <td>T2_1</td>\n",
       "    </tr>\n",
       "    <tr>\n",
       "      <th>3</th>\n",
       "      <td>N14</td>\n",
       "      <td>55.0</td>\n",
       "      <td>1.818182</td>\n",
       "      <td>T2_1</td>\n",
       "    </tr>\n",
       "    <tr>\n",
       "      <th>6</th>\n",
       "      <td>N14</td>\n",
       "      <td>28.0</td>\n",
       "      <td>3.571429</td>\n",
       "      <td>T2_1</td>\n",
       "    </tr>\n",
       "  </tbody>\n",
       "</table>\n",
       "</div>"
      ],
      "text/plain": [
       "  library  total_counts  pct_counts_mito library2\n",
       "0     N14          21.0         9.523809     T2_1\n",
       "1     N14          17.0        11.764706     T2_1\n",
       "2     N14         449.0         0.668151     T2_1\n",
       "3     N14          55.0         1.818182     T2_1\n",
       "6     N14          28.0         3.571429     T2_1"
      ]
     },
     "execution_count": 84,
     "metadata": {},
     "output_type": "execute_result"
    }
   ],
   "source": [
    "adata.obs['library2'] = [renamer[i] for i in adata.obs['library']]\n",
    "adata.obs.head()"
   ]
  },
  {
   "cell_type": "code",
   "execution_count": 85,
   "metadata": {},
   "outputs": [
    {
     "name": "stdout",
     "output_type": "stream",
     "text": [
      "ts_dict = {\n",
      "\"T2_1\":(400,20), #(min_nr_counts,max_pct_mito)\n",
      "\"N3_1\":(400,20), #(min_nr_counts,max_pct_mito)\n",
      "\"N4_1\":(400,20), #(min_nr_counts,max_pct_mito)\n",
      "\"T1_1\":(400,20), #(min_nr_counts,max_pct_mito)\n",
      "\"N2_1\":(400,20), #(min_nr_counts,max_pct_mito)\n",
      "\"T3_1\":(400,20), #(min_nr_counts,max_pct_mito)\n",
      "\"T4_1\":(400,20), #(min_nr_counts,max_pct_mito)\n",
      "\"N6_1\":(400,20), #(min_nr_counts,max_pct_mito)\n",
      "\"N5_1\":(400,20), #(min_nr_counts,max_pct_mito)\n",
      "\"N7_1\":(400,20), #(min_nr_counts,max_pct_mito)\n",
      "\"N8_1\":(400,20), #(min_nr_counts,max_pct_mito)\n",
      "\"T5_2\":(400,20), #(min_nr_counts,max_pct_mito)\n",
      "\"T6_3\":(400,20), #(min_nr_counts,max_pct_mito)\n",
      "\"T7_3\":(400,20), #(min_nr_counts,max_pct_mito)\n",
      "\"T8_3\":(400,20), #(min_nr_counts,max_pct_mito)\n",
      "\"T5_1\":(400,20), #(min_nr_counts,max_pct_mito)\n",
      "\"T6_1\":(400,20), #(min_nr_counts,max_pct_mito)\n",
      "\"T6_2\":(400,20), #(min_nr_counts,max_pct_mito)\n",
      "\"T7_2\":(400,20), #(min_nr_counts,max_pct_mito)\n",
      "\"T7_1\":(400,20), #(min_nr_counts,max_pct_mito)\n",
      "\"T8_2\":(400,20), #(min_nr_counts,max_pct_mito)\n",
      "\"T8_1\":(400,20), #(min_nr_counts,max_pct_mito)\n",
      "\"N9_1\":(400,20), #(min_nr_counts,max_pct_mito)\n",
      "\"T9_1\":(400,20), #(min_nr_counts,max_pct_mito)\n",
      "\"T9_2\":(400,20), #(min_nr_counts,max_pct_mito)\n",
      "\"T9_3\":(400,20), #(min_nr_counts,max_pct_mito)\n",
      "\"N1_old\":(400,20), #(min_nr_counts,max_pct_mito)\n",
      "\"N2_old\":(400,20), #(min_nr_counts,max_pct_mito)\n",
      "\"N3_old\":(400,20), #(min_nr_counts,max_pct_mito)\n",
      "\"N4_old\":(400,20), #(min_nr_counts,max_pct_mito)\n",
      "\"T2_old\":(400,20), #(min_nr_counts,max_pct_mito)\n",
      "\"T3_old\":(400,20), #(min_nr_counts,max_pct_mito)\n",
      "\"T4_old\":(400,20), #(min_nr_counts,max_pct_mito)\n",
      "}\n"
     ]
    }
   ],
   "source": [
    "libcol = 'library2' # column of obs to use\n",
    "\n",
    "# just a hack to faster fill-in thresholds used, they are set by eye\n",
    "libs = adata.obs[libcol].unique()\n",
    "\n",
    "#for entering threshold, copy/paste the output of this cell below\n",
    "print(\"ts_dict = {\") #for \"threshold dictionary\"\n",
    "for lib in libs:\n",
    "    print('\"%s\":(400,20), #(min_nr_counts,max_pct_mito)'%lib)\n",
    "print('}')"
   ]
  },
  {
   "cell_type": "code",
   "execution_count": 86,
   "metadata": {},
   "outputs": [],
   "source": [
    "# copy and edit output of previous cell\n",
    "# first run without any thresholds, then adjust based on the distribution of barcodes\n",
    "\n",
    "# library T4_1 will have 1000 UMI treshold due to extreme contamination of counts\n",
    "# Note:  later on this library T4_1 was removed along with T1_1\n",
    "\n",
    "ts_dict = {\n",
    "\"N2_1\":(400,20), #(min_nr_genes,max_pct_mito)\n",
    "\"N3_1\":(400,20), #(min_nr_genes,max_pct_mito)\n",
    "\"N4_1\":(400,20), #(min_nr_genes,max_pct_mito)\n",
    "\"T1_1\":(400,20), #(min_nr_genes,max_pct_mito)\n",
    "\"T2_1\":(400,20), #(min_nr_genes,max_pct_mito)\n",
    "\"T3_1\":(300,20), #(min_nr_genes,max_pct_mito)\n",
    "\"T4_1\":(1000,20), #(min_nr_genes,max_pct_mito)\n",
    "\"N6_1\":(400,20), #(min_nr_genes,max_pct_mito)\n",
    "\"N5_1\":(400,20), #(min_nr_genes,max_pct_mito)\n",
    "\"N7_1\":(400,20), #(min_nr_genes,max_pct_mito)\n",
    "\"N8_1\":(400,20), #(min_nr_genes,max_pct_mito)\n",
    "\"T5_2\":(400,20), #(min_nr_genes,max_pct_mito)\n",
    "\"T6_3\":(400,20), #(min_nr_genes,max_pct_mito)\n",
    "\"T7_3\":(400,20), #(min_nr_genes,max_pct_mito)\n",
    "\"T8_3\":(400,20), #(min_nr_genes,max_pct_mito)\n",
    "\"N1_old\":(400,20), #(min_nr_genes,max_pct_mito)\n",
    "\"N2_old\":(400,20), #(min_nr_genes,max_pct_mito)\n",
    "\"N3_old\":(300,20), #(min_nr_genes,max_pct_mito)\n",
    "\"N4_old\":(300,20), #(min_nr_genes,max_pct_mito)\n",
    "\"T2_old\":(300,20), #(min_nr_genes,max_pct_mito)\n",
    "\"T3_old\":(400,20), #(min_nr_genes,max_pct_mito)\n",
    "\"T4_old\":(400,20), #(min_nr_genes,max_pct_mito)\n",
    "\"T5_1\":(400,20), #(min_nr_genes,max_pct_mito)\n",
    "\"T6_1\":(400,20), #(min_nr_genes,max_pct_mito)\n",
    "\"T6_2\":(400,20), #(min_nr_genes,max_pct_mito)\n",
    "\"T7_2\":(400,20), #(min_nr_genes,max_pct_mito)\n",
    "\"T7_1\":(400,20), #(min_nr_genes,max_pct_mito)\n",
    "\"T8_2\":(400,20), #(min_nr_genes,max_pct_mito)\n",
    "\"T8_1\":(400,20), #(min_nr_genes,max_pct_mito)\n",
    "\"N9_1\":(400,20), #(min_nr_genes,max_pct_mito)\n",
    "\"T9_1\":(300,20), #(min_nr_genes,max_pct_mito)\n",
    "\"T9_2\":(400,20), #(min_nr_genes,max_pct_mito)\n",
    "\"T9_3\":(400,20), #(min_nr_genes,max_pct_mito)\n",
    "}"
   ]
  },
  {
   "cell_type": "code",
   "execution_count": null,
   "metadata": {},
   "outputs": [],
   "source": [
    "!mkdir -p outputs_JZ_2022\n",
    "\n",
    "plot_title='kidney'\n",
    "pass_filters = []\n",
    "\n",
    "#plot mito histograms\n",
    "nr_rows = math.ceil(len(libs)/5.)\n",
    "\n",
    "fig,gs = rz.startfig(w=25,h=nr_rows*10,rows=nr_rows*2,columns=5,return_first_ax=False)\n",
    "#startfig - a custom function by Rapo\n",
    "\n",
    "# get all the coordinates of the my subplots\n",
    "coords = np.argwhere(np.zeros([nr_rows,5]) == 0)\n",
    "\n",
    "# control total count range to expect\n",
    "xmin = 10\n",
    "xmax = 10**4.2\n",
    "\n",
    "\n",
    "for c,lib in zip(coords,libs):\n",
    "    \n",
    "    a = fig.add_subplot(gs[c[0]*2,c[1]])\n",
    "    a1 = fig.add_subplot(gs[c[0]*2+1,c[1]]) #c in coords\n",
    "\n",
    "    mask = adata.obs[libcol] == lib\n",
    "    x = adata.obs.loc[mask,'total_counts'] \n",
    "    y = adata.obs.loc[mask,'pct_counts_mito']\n",
    "    \n",
    "    #scatter\n",
    "    a.scatter(x,y,lw=0,s=5,alpha=0.1,rasterized=True)\n",
    "    a.set_xscale('log')\n",
    "    a.set_xlim(xmin,xmax)\n",
    "    a.set_ylim(0,100)\n",
    "    a.set_ylabel('Mitochondrial counts, %')\n",
    "    a.set_title(lib)\n",
    "    \n",
    "    #plot threshold in scatter\n",
    "    ts = ts_dict[lib]\n",
    "    a.plot((ts[0],ts[0]),(a.get_ylim()[0],ts[1]),lw=1,color='r')\n",
    "    a.plot((ts[0],a.get_xlim()[1]),(ts[1],ts[1]),lw=1,color='r')\n",
    "    pass_ts = (adata.obs.loc[mask,'total_counts']>=ts[0])&(adata.obs.loc[mask,'pct_counts_mito']<ts[1]) \n",
    "    cells_pass = pass_ts.sum()\n",
    "    cells_all = len(pass_ts)\n",
    "    a.text(a.get_xlim()[1]*0.8,a.get_ylim()[1]*0.8,\n",
    "           \"%d out of %d\\nbarcodes pass filter\"%(cells_pass,cells_all),\n",
    "           ha='right')\n",
    "    \n",
    "    pass_filters+=(list(pass_ts.values))\n",
    "    \n",
    "    # histogram\n",
    "    bins=np.logspace(np.log10(xmin),np.log10(xmax),51)\n",
    "    hs, bins,patches = plt.hist(x,bins=bins)\n",
    "    \n",
    "    #plot barchart\n",
    "    lefts = bins[:-1]\n",
    "    rights = bins[1:]\n",
    "    a1.bar(x = lefts,width = rights-lefts,height = hs*rights,\n",
    "          align='edge',\n",
    "          lw=0.,color = 'c')\n",
    "    a1.set_xscale('log');\n",
    "    a1.set_xlim(xmin,xmax)\n",
    "    #a1.ticklabel_format(axis = 'y', style = 'sci', scilimits = (1,2))\n",
    "    #a1.yaxis.set_major_formatter(mtick.FormatStrFormatter('%.2e'))\n",
    "    f = mticker.ScalarFormatter(useOffset=False, useMathText=True)\n",
    "    g = lambda x,pos : \"${}$\".format(f._formatSciNotation('%1.10e' % x))\n",
    "    plt.gca().yaxis.set_major_formatter(mticker.FuncFormatter(g))\n",
    "\n",
    "    # threshold:\n",
    "    a1.plot((ts[0],ts[0]),(a1.get_ylim()[0],a1.set_ylim()[1]),lw=1,color='r')\n",
    "    a1.set_xlabel('Total counts')\n",
    "    \n",
    "    a1.set_ylabel('# reads from bin')\n",
    "           \n",
    "\n",
    "print(sum(pass_filters))\n",
    "gs.tight_layout(fig, pad = 0.3)\n",
    "\n",
    "plt.savefig('outputs_JZ_2022/mito_pct_vs_total_counts_%s.pdf'%(plot_title), dpi=600)\n",
    "plt.savefig('outputs_JZ_2022/mito_pct_vs_total_counts_%s.png'%(plot_title), dpi=600)"
   ]
  },
  {
   "cell_type": "markdown",
   "metadata": {},
   "source": [
    "## Removing some low quality libraries"
   ]
  },
  {
   "cell_type": "code",
   "execution_count": 89,
   "metadata": {},
   "outputs": [],
   "source": [
    "#removing sample T1_1 as it only has 10 barcodes above treshold\n",
    "#sample T4_1 is known to contain a huge cluster of low quality cells\n",
    "\n",
    "no_T1_1 = ~adata.obs['library2'].isin(['T1_1']).values\n",
    "no_T4_1 = ~adata.obs['library2'].isin(['T4_1']).values\n",
    "cmask = no_T1_1&no_T4_1\n"
   ]
  },
  {
   "cell_type": "code",
   "execution_count": 92,
   "metadata": {},
   "outputs": [
    {
     "data": {
      "text/plain": [
       "AnnData object with n_obs × n_vars = 1718924 × 33538\n",
       "    obs: 'library', 'total_counts', 'pct_counts_mito', 'library2'"
      ]
     },
     "execution_count": 92,
     "metadata": {},
     "output_type": "execute_result"
    }
   ],
   "source": [
    "adata"
   ]
  },
  {
   "cell_type": "code",
   "execution_count": 100,
   "metadata": {},
   "outputs": [],
   "source": [
    "adata = adata[cmask] #applying the mask"
   ]
  },
  {
   "cell_type": "code",
   "execution_count": 101,
   "metadata": {},
   "outputs": [
    {
     "data": {
      "text/plain": [
       "array(['T2_1', 'N3_1', 'N4_1', 'N2_1', 'T3_1', 'N6_1', 'N5_1', 'N7_1',\n",
       "       'N8_1', 'T5_2', 'T6_3', 'T7_3', 'T8_3', 'T5_1', 'T6_1', 'T6_2',\n",
       "       'T7_2', 'T7_1', 'T8_2', 'T8_1', 'N9_1', 'T9_1', 'T9_2', 'T9_3',\n",
       "       'N1_old', 'N2_old', 'N3_old', 'N4_old', 'T2_old', 'T3_old',\n",
       "       'T4_old'], dtype=object)"
      ]
     },
     "execution_count": 101,
     "metadata": {},
     "output_type": "execute_result"
    }
   ],
   "source": [
    "adata.obs['library2'].unique()"
   ]
  },
  {
   "cell_type": "code",
   "execution_count": 102,
   "metadata": {},
   "outputs": [
    {
     "name": "stdout",
     "output_type": "stream",
     "text": [
      "\"N1_old\":\"\",\n",
      "\"N2_1\":\"\",\n",
      "\"N2_old\":\"\",\n",
      "\"N3_1\":\"\",\n",
      "\"N3_old\":\"\",\n",
      "\"N4_1\":\"\",\n",
      "\"N4_old\":\"\",\n",
      "\"N5_1\":\"\",\n",
      "\"N6_1\":\"\",\n",
      "\"N7_1\":\"\",\n",
      "\"N8_1\":\"\",\n",
      "\"N9_1\":\"\",\n",
      "\"T2_1\":\"\",\n",
      "\"T2_old\":\"\",\n",
      "\"T3_1\":\"\",\n",
      "\"T3_old\":\"\",\n",
      "\"T4_old\":\"\",\n",
      "\"T5_1\":\"\",\n",
      "\"T5_2\":\"\",\n",
      "\"T6_1\":\"\",\n",
      "\"T6_2\":\"\",\n",
      "\"T6_3\":\"\",\n",
      "\"T7_1\":\"\",\n",
      "\"T7_2\":\"\",\n",
      "\"T7_3\":\"\",\n",
      "\"T8_1\":\"\",\n",
      "\"T8_2\":\"\",\n",
      "\"T8_3\":\"\",\n",
      "\"T9_1\":\"\",\n",
      "\"T9_2\":\"\",\n",
      "\"T9_3\":\"\",\n"
     ]
    }
   ],
   "source": [
    "# adding sample information, i.e. T2_1 and T2_old are emulsion aliqouts coming from the same sample, just\n",
    "# sequenced in different batches\n",
    "\n",
    "for i in sorted(adata.obs['library2'].unique()):\n",
    "    print('\"%s\":\"\",'%i)"
   ]
  },
  {
   "cell_type": "code",
   "execution_count": 103,
   "metadata": {},
   "outputs": [
    {
     "name": "stderr",
     "output_type": "stream",
     "text": [
      "Trying to set attribute `.obs` of view, copying.\n"
     ]
    },
    {
     "data": {
      "text/html": [
       "<div>\n",
       "<style scoped>\n",
       "    .dataframe tbody tr th:only-of-type {\n",
       "        vertical-align: middle;\n",
       "    }\n",
       "\n",
       "    .dataframe tbody tr th {\n",
       "        vertical-align: top;\n",
       "    }\n",
       "\n",
       "    .dataframe thead th {\n",
       "        text-align: right;\n",
       "    }\n",
       "</style>\n",
       "<table border=\"1\" class=\"dataframe\">\n",
       "  <thead>\n",
       "    <tr style=\"text-align: right;\">\n",
       "      <th></th>\n",
       "      <th>library</th>\n",
       "      <th>total_counts</th>\n",
       "      <th>pct_counts_mito</th>\n",
       "      <th>library2</th>\n",
       "      <th>sample</th>\n",
       "    </tr>\n",
       "  </thead>\n",
       "  <tbody>\n",
       "    <tr>\n",
       "      <th>0</th>\n",
       "      <td>N14</td>\n",
       "      <td>21.0</td>\n",
       "      <td>9.523809</td>\n",
       "      <td>T2_1</td>\n",
       "      <td>T2</td>\n",
       "    </tr>\n",
       "    <tr>\n",
       "      <th>1</th>\n",
       "      <td>N14</td>\n",
       "      <td>17.0</td>\n",
       "      <td>11.764706</td>\n",
       "      <td>T2_1</td>\n",
       "      <td>T2</td>\n",
       "    </tr>\n",
       "    <tr>\n",
       "      <th>2</th>\n",
       "      <td>N14</td>\n",
       "      <td>449.0</td>\n",
       "      <td>0.668151</td>\n",
       "      <td>T2_1</td>\n",
       "      <td>T2</td>\n",
       "    </tr>\n",
       "    <tr>\n",
       "      <th>3</th>\n",
       "      <td>N14</td>\n",
       "      <td>55.0</td>\n",
       "      <td>1.818182</td>\n",
       "      <td>T2_1</td>\n",
       "      <td>T2</td>\n",
       "    </tr>\n",
       "    <tr>\n",
       "      <th>6</th>\n",
       "      <td>N14</td>\n",
       "      <td>28.0</td>\n",
       "      <td>3.571429</td>\n",
       "      <td>T2_1</td>\n",
       "      <td>T2</td>\n",
       "    </tr>\n",
       "  </tbody>\n",
       "</table>\n",
       "</div>"
      ],
      "text/plain": [
       "  library  total_counts  pct_counts_mito library2 sample\n",
       "0     N14          21.0         9.523809     T2_1     T2\n",
       "1     N14          17.0        11.764706     T2_1     T2\n",
       "2     N14         449.0         0.668151     T2_1     T2\n",
       "3     N14          55.0         1.818182     T2_1     T2\n",
       "6     N14          28.0         3.571429     T2_1     T2"
      ]
     },
     "execution_count": 103,
     "metadata": {},
     "output_type": "execute_result"
    }
   ],
   "source": [
    "renamer = {\n",
    "\"N1_old\":\"N1\",\n",
    "\"N2_1\":\"N2\",\n",
    "\"N2_old\":\"N2\",\n",
    "\"N3_1\":\"N3\",\n",
    "\"N3_old\":\"N3\",\n",
    "\"N4_1\":\"N4\",\n",
    "\"N4_old\":\"N4\",\n",
    "\"N5_1\":\"N5\",\n",
    "\"N6_1\":\"N6\",\n",
    "\"N7_1\":\"N7\",\n",
    "\"N8_1\":\"N8\",\n",
    "\"N9_1\":\"N9\",\n",
    "\"T2_1\":\"T2\",\n",
    "\"T2_old\":\"T2\",\n",
    "\"T3_1\":\"T3\",\n",
    "\"T3_old\":\"T3\",\n",
    "\"T4_old\":\"T4\",\n",
    "\"T5_1\":\"T5\",\n",
    "\"T5_2\":\"T5\",\n",
    "\"T6_1\":\"T6\",\n",
    "\"T6_2\":\"T6\",\n",
    "\"T6_3\":\"T6\",\n",
    "\"T7_1\":\"T7\",\n",
    "\"T7_2\":\"T7\",\n",
    "\"T7_3\":\"T7\",\n",
    "\"T8_1\":\"T8\",\n",
    "\"T8_2\":\"T8\",\n",
    "\"T8_3\":\"T8\",\n",
    "\"T9_1\":\"T9\",\n",
    "\"T9_2\":\"T9\",\n",
    "\"T9_3\":\"T9\"\n",
    "}\n",
    "adata.obs['sample'] = [renamer[i] for i in adata.obs['library2']]\n",
    "adata.obs.head()"
   ]
  },
  {
   "cell_type": "code",
   "execution_count": 104,
   "metadata": {},
   "outputs": [
    {
     "name": "stdout",
     "output_type": "stream",
     "text": [
      "1587329\n",
      "51196 (1587329,)\n"
     ]
    }
   ],
   "source": [
    "#apply the tresholds to data\n",
    "\n",
    "cmask = np.repeat(True,adata.shape[0])\n",
    "print (cmask.sum())\n",
    "for key,value in ts_dict.items():\n",
    "    m1 = (adata.obs[libcol] == key).values\n",
    "    tmp = adata.obs[m1]\n",
    "    m2 = (tmp['total_counts']>=value[0]).values\n",
    "    m3 = (tmp['pct_counts_mito']<value[1]).values\n",
    "    cmask[m1] = m2&m3\n",
    "    \n",
    "print(cmask.sum(),cmask.shape)"
   ]
  },
  {
   "cell_type": "code",
   "execution_count": 105,
   "metadata": {},
   "outputs": [
    {
     "name": "stdout",
     "output_type": "stream",
     "text": [
      "(1587329, 33538)\n",
      "(51196, 33538)\n"
     ]
    }
   ],
   "source": [
    "print( adata.shape)\n",
    "adata = adata[cmask]\n",
    "print (adata.shape)"
   ]
  },
  {
   "cell_type": "code",
   "execution_count": 106,
   "metadata": {},
   "outputs": [
    {
     "name": "stdout",
     "output_type": "stream",
     "text": [
      "T2 6004\n",
      "N3 1063\n",
      "N4 2031\n",
      "N2 2321\n",
      "T3 3195\n",
      "N6 802\n",
      "N5 573\n",
      "N7 640\n",
      "N8 1243\n",
      "T5 4751\n",
      "T6 4550\n",
      "T7 7285\n",
      "T8 5322\n",
      "N9 589\n",
      "T9 6047\n",
      "N1 2970\n",
      "T4 1810\n"
     ]
    }
   ],
   "source": [
    "#checking cell count for each sample\n",
    "for i in adata.obs['sample'].unique():\n",
    "    print (i, sum(adata.obs['sample'] == i))"
   ]
  },
  {
   "cell_type": "code",
   "execution_count": 107,
   "metadata": {},
   "outputs": [
    {
     "name": "stderr",
     "output_type": "stream",
     "text": [
      "/Users/justina/opt/anaconda3/envs/singlecell3/lib/python3.8/site-packages/anndata/_core/anndata.py:1228: ImplicitModificationWarning: Initializing view as actual.\n",
      "  warnings.warn(\n",
      "Trying to set attribute `.obs` of view, copying.\n"
     ]
    },
    {
     "name": "stdout",
     "output_type": "stream",
     "text": [
      "backups_JZ_2022/no_T4_lib_mito20_umi400_filt_raw_147456x33538_220120_14h39_kidney.h5ad\n"
     ]
    },
    {
     "name": "stderr",
     "output_type": "stream",
     "text": [
      "... storing 'library2' as categorical\n",
      "Trying to set attribute `.obs` of view, copying.\n",
      "... storing 'sample' as categorical\n"
     ]
    }
   ],
   "source": [
    "\n",
    "# write the entire adata object\n",
    "fname1 = 'backups_JZ_2022/no_T4_lib_mito20_umi400_filt_raw_%dx%d_%s_%s.h5ad'%(cdata.shape[0],cdata.shape[1],rz.now(),plot_title)\n",
    "print(fname1)\n",
    "adata.write(fname1)\n",
    "\n"
   ]
  },
  {
   "cell_type": "code",
   "execution_count": 112,
   "metadata": {
    "tags": []
   },
   "outputs": [
    {
     "name": "stdout",
     "output_type": "stream",
     "text": [
      "backups_JZ_2022/no_T4_1_obs_info_51196x5_220120_14h47_kidney\n"
     ]
    }
   ],
   "source": [
    "# save the pandas dataframe under adata.obs \n",
    "meta = adata.obs\n",
    "fname_obs1 = 'backups_JZ_2022/no_T4_1_obs_info_%dx%d_%s_%s'%(meta.shape[0],meta.shape[1],rz.now(),plot_title)\n",
    "\n",
    "print(fname_obs1)\n",
    "rz.save_df(meta,fname_obs1)\n"
   ]
  }
 ],
 "metadata": {
  "kernelspec": {
   "display_name": "Python 3",
   "language": "python",
   "name": "python3"
  },
  "language_info": {
   "codemirror_mode": {
    "name": "ipython",
    "version": 3
   },
   "file_extension": ".py",
   "mimetype": "text/x-python",
   "name": "python",
   "nbconvert_exporter": "python",
   "pygments_lexer": "ipython3",
   "version": "3.8.12"
  }
 },
 "nbformat": 4,
 "nbformat_minor": 4
}
