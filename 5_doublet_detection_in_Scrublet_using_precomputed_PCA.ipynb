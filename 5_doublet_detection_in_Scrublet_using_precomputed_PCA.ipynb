{
 "cells": [
  {
   "cell_type": "markdown",
   "metadata": {},
   "source": [
    "# Calculate doublet scores for each cell using Scrublet"
   ]
  },
  {
   "cell_type": "markdown",
   "metadata": {},
   "source": [
    "## Import statements"
   ]
  },
  {
   "cell_type": "code",
   "execution_count": 1,
   "metadata": {},
   "outputs": [],
   "source": [
    "import scanpy as sc\n",
    "import scanpy.external as sce\n",
    "#sc.logging.print_versions()\n",
    "#sc.logging.print_memory_usage()\n",
    "#sc.settings.verbosity = 2\n",
    "import os,sys\n",
    "import datetime\n",
    "import numpy as np\n",
    "import pandas as pd\n",
    "import matplotlib.pyplot as plt\n",
    "import math\n",
    "import matplotlib.ticker as mticker"
   ]
  },
  {
   "cell_type": "code",
   "execution_count": 2,
   "metadata": {},
   "outputs": [],
   "source": [
    "#import scrublet\n",
    "import scrublet as scr"
   ]
  },
  {
   "cell_type": "code",
   "execution_count": 3,
   "metadata": {},
   "outputs": [
    {
     "name": "stdout",
     "output_type": "stream",
     "text": [
      "python version: 3.8.8\n"
     ]
    }
   ],
   "source": [
    "# add the utility function folder to PATH\n",
    "sys.path.append(os.path.abspath(\"utility_functions_190403_12h24/\"))\n",
    "\n",
    "from rz_import_statements import *\n",
    "import rz_functions as rz\n",
    "import rz_fig_params # this adjust mpl.rcParams, almost nothing to import, import after scanpy to overwrite rc.Params\n",
    "import rz_utility_spring as srz"
   ]
  },
  {
   "cell_type": "markdown",
   "metadata": {},
   "source": [
    "# Load data"
   ]
  },
  {
   "cell_type": "code",
   "execution_count": 4,
   "metadata": {},
   "outputs": [],
   "source": [
    "adata = sc.read_h5ad('backups_JZ_2022/kidney_v0_156_v2000_batch_corrected_51196x2000_220121_15h23.h5ad') \n",
    "# overwrite obs with the most recent version\n",
    "filename = 'backups_JZ_2022/clinical_obs_info_51196x15_220120_14h54.npz'\n",
    "encoding = 'latin1'\n",
    "\n",
    "with np.load(filename,encoding=encoding, allow_pickle = True) as f:\n",
    "    obs = pd.DataFrame(**f)\n",
    "adata.obs = obs"
   ]
  },
  {
   "cell_type": "markdown",
   "metadata": {},
   "source": [
    "\n",
    "## Load details on the latest SPRING plot  \n",
    "In general, this is not necessary to run Scrublet.  "
   ]
  },
  {
   "cell_type": "code",
   "execution_count": 6,
   "metadata": {},
   "outputs": [
    {
     "data": {
      "text/plain": [
       "dict_keys(['k', 'cell_mask', 'min_counts', 'min_cells', 'base_ix', 'num_pc', 'plot_name', 'embedding', 'gene_names_excluded', 'abundant_gene_mask', 'v_score_dict', 'nr_var_genes', 'genes_used', 'eigenvectors', 'eigenvalues', 'neighbors', 'min_dist'])"
      ]
     },
     "execution_count": 6,
     "metadata": {},
     "output_type": "execute_result"
    }
   ],
   "source": [
    "# load intermediates I saved when preparing the SPRING plot\n",
    "path1 = '/Users/justina/Documents/mokslai/MAGISTRAS/MAGISTRINIS/data_and_spring/SPRING_dev-master/kidney_spring/' \n",
    "project_dir = path1+'kidney_2022/'\n",
    "plot_name =  'kidney_v0_156_v2000_spring'\n",
    "\n",
    "\n",
    "params = rz.load_stuff(project_dir+plot_name+'/params.pickle')\n",
    "params.keys()"
   ]
  },
  {
   "cell_type": "code",
   "execution_count": 7,
   "metadata": {},
   "outputs": [
    {
     "data": {
      "text/plain": [
       "matrix([[ 449.],\n",
       "        [ 449.],\n",
       "        [1229.],\n",
       "        [ 732.],\n",
       "        [ 432.]], dtype=float32)"
      ]
     },
     "execution_count": 7,
     "metadata": {},
     "output_type": "execute_result"
    }
   ],
   "source": [
    "# make sure the data is unnormalized, should sum to different total counts (and round numbers)\n",
    "adata.raw.X[:5,:].sum(axis=1)"
   ]
  },
  {
   "cell_type": "code",
   "execution_count": 8,
   "metadata": {},
   "outputs": [
    {
     "data": {
      "text/plain": [
       "(86, 2000)"
      ]
     },
     "execution_count": 8,
     "metadata": {},
     "output_type": "execute_result"
    }
   ],
   "source": [
    "P = params['eigenvectors'][:params['num_pc'],:] #the P is the same for fa2 and umap representations\n",
    "P.shape"
   ]
  },
  {
   "cell_type": "code",
   "execution_count": 9,
   "metadata": {},
   "outputs": [],
   "source": [
    "bdata = adata.raw.to_adata() #it is not necessary here to create a new variable"
   ]
  },
  {
   "cell_type": "code",
   "execution_count": 10,
   "metadata": {},
   "outputs": [
    {
     "data": {
      "text/plain": [
       "AnnData object with n_obs × n_vars = 51196 × 33538\n",
       "    obs: 'library', 'total_counts', 'pct_counts_mito', 'library2', 'sample', 'patient', 'pT stage', 'seq_date', 'beads', 'operation', 'sex', 'tumor size, mm', 'age', 'tissue', 'necrosis'\n",
       "    uns: 'X_lin_cptt', 'X_log_z', 'beads_colors', 'draw_graph', 'neighbors', 'pca', 'sample_colors', 'seq_date_colors', 'tissue_colors', 'umap'\n",
       "    obsm: 'X_draw_graph_fa', 'X_pca', 'X_pca_harmony', 'X_umap'"
      ]
     },
     "execution_count": 10,
     "metadata": {},
     "output_type": "execute_result"
    }
   ],
   "source": [
    "bdata"
   ]
  },
  {
   "cell_type": "code",
   "execution_count": 11,
   "metadata": {},
   "outputs": [
    {
     "name": "stdout",
     "output_type": "stream",
     "text": [
      "2000 33538\n",
      "51196 51196\n"
     ]
    },
    {
     "data": {
      "text/plain": [
       "matrix([[10000.001],\n",
       "        [10000.   ],\n",
       "        [10000.001],\n",
       "        ...,\n",
       "        [ 9999.999],\n",
       "        [ 9999.999],\n",
       "        [ 9999.999]], dtype=float32)"
      ]
     },
     "execution_count": 11,
     "metadata": {},
     "output_type": "execute_result"
    }
   ],
   "source": [
    "\n",
    "# prepare  variables to plug into scrublet\n",
    "gene_mask = np.in1d(bdata.var_names,params['genes_used'])\n",
    "cell_mask = params['cell_mask'].astype(bool)\n",
    "n_counts = np.array(adata[cell_mask,:].raw.X.sum(axis=1).T)[0]\n",
    "\n",
    "P = params['eigenvectors'][:params['num_pc'],:] #eigenvector\n",
    "print(gene_mask.sum(),len(gene_mask))\n",
    "print(cell_mask.sum(),len(cell_mask))\n",
    "postnorm_total = 1e4\n",
    "\n",
    "X = bdata[cell_mask].X\n",
    "X_norm = sc.pp.normalize_per_cell(bdata[cell_mask],counts_per_cell_after=postnorm_total,copy=True).X\n",
    "subobs = adata.obs[cell_mask]\n",
    "X_norm.sum(axis=1)"
   ]
  },
  {
   "cell_type": "code",
   "execution_count": 12,
   "metadata": {},
   "outputs": [],
   "source": [
    "gene_means = X_norm[:,gene_mask].mean(0).A.squeeze()\n",
    "gene_stdevs = np.sqrt(scr.sparse_var(X_norm[:, gene_mask]))"
   ]
  },
  {
   "cell_type": "code",
   "execution_count": 13,
   "metadata": {},
   "outputs": [
    {
     "name": "stdout",
     "output_type": "stream",
     "text": [
      "(86, 2000) 2000\n"
     ]
    }
   ],
   "source": [
    "# double-check the shapes\n",
    "print(P.shape,len(gene_means))"
   ]
  },
  {
   "cell_type": "markdown",
   "metadata": {},
   "source": [
    "## Calculate doublet scores"
   ]
  },
  {
   "cell_type": "markdown",
   "metadata": {},
   "source": [
    "### Decide on which cells to treat collectively"
   ]
  },
  {
   "cell_type": "code",
   "execution_count": 14,
   "metadata": {},
   "outputs": [
    {
     "data": {
      "text/plain": [
       "array(['T2_1', 'N3_1', 'N4_1', 'N2_1', 'T3_1', 'N6_1', 'N5_1', 'N7_1',\n",
       "       'N8_1', 'T5_2', 'T6_3', 'T7_3', 'T8_3', 'T5_1', 'T6_1', 'T6_2',\n",
       "       'T7_2', 'T7_1', 'T8_2', 'T8_1', 'N9_1', 'T9_1', 'T9_2', 'T9_3',\n",
       "       'N1_old', 'N2_old', 'N3_old', 'N4_old', 'T2_old', 'T3_old',\n",
       "       'T4_old'], dtype=object)"
      ]
     },
     "execution_count": 14,
     "metadata": {},
     "output_type": "execute_result"
    }
   ],
   "source": [
    "# doublet can only be made of real cells present in the same cell suspension being injected into\n",
    "# a scRNAseq device.\n",
    "# therefore, it makes sense to run the doublet detector on each separate cell suspension (in other words,\n",
    "# for each emulsion)\n",
    "# also, the doublet rate can be different between samples.\n",
    "\n",
    "splitby = 'library2'\n",
    "subobs[splitby].unique()"
   ]
  },
  {
   "cell_type": "code",
   "execution_count": 15,
   "metadata": {
    "scrolled": true
   },
   "outputs": [
    {
     "data": {
      "text/html": [
       "<div>\n",
       "<style scoped>\n",
       "    .dataframe tbody tr th:only-of-type {\n",
       "        vertical-align: middle;\n",
       "    }\n",
       "\n",
       "    .dataframe tbody tr th {\n",
       "        vertical-align: top;\n",
       "    }\n",
       "\n",
       "    .dataframe thead th {\n",
       "        text-align: right;\n",
       "    }\n",
       "</style>\n",
       "<table border=\"1\" class=\"dataframe\">\n",
       "  <thead>\n",
       "    <tr style=\"text-align: right;\">\n",
       "      <th></th>\n",
       "      <th>library</th>\n",
       "    </tr>\n",
       "    <tr>\n",
       "      <th>library2</th>\n",
       "      <th></th>\n",
       "    </tr>\n",
       "  </thead>\n",
       "  <tbody>\n",
       "    <tr>\n",
       "      <th>N1_old</th>\n",
       "      <td>2970</td>\n",
       "    </tr>\n",
       "    <tr>\n",
       "      <th>N2_1</th>\n",
       "      <td>758</td>\n",
       "    </tr>\n",
       "    <tr>\n",
       "      <th>N2_old</th>\n",
       "      <td>1563</td>\n",
       "    </tr>\n",
       "    <tr>\n",
       "      <th>N3_1</th>\n",
       "      <td>245</td>\n",
       "    </tr>\n",
       "    <tr>\n",
       "      <th>N3_old</th>\n",
       "      <td>818</td>\n",
       "    </tr>\n",
       "    <tr>\n",
       "      <th>N4_1</th>\n",
       "      <td>1460</td>\n",
       "    </tr>\n",
       "    <tr>\n",
       "      <th>N4_old</th>\n",
       "      <td>571</td>\n",
       "    </tr>\n",
       "    <tr>\n",
       "      <th>N5_1</th>\n",
       "      <td>573</td>\n",
       "    </tr>\n",
       "    <tr>\n",
       "      <th>N6_1</th>\n",
       "      <td>802</td>\n",
       "    </tr>\n",
       "    <tr>\n",
       "      <th>N7_1</th>\n",
       "      <td>640</td>\n",
       "    </tr>\n",
       "    <tr>\n",
       "      <th>N8_1</th>\n",
       "      <td>1243</td>\n",
       "    </tr>\n",
       "    <tr>\n",
       "      <th>N9_1</th>\n",
       "      <td>589</td>\n",
       "    </tr>\n",
       "    <tr>\n",
       "      <th>T2_1</th>\n",
       "      <td>5186</td>\n",
       "    </tr>\n",
       "    <tr>\n",
       "      <th>T2_old</th>\n",
       "      <td>818</td>\n",
       "    </tr>\n",
       "    <tr>\n",
       "      <th>T3_1</th>\n",
       "      <td>1529</td>\n",
       "    </tr>\n",
       "    <tr>\n",
       "      <th>T3_old</th>\n",
       "      <td>1666</td>\n",
       "    </tr>\n",
       "    <tr>\n",
       "      <th>T4_old</th>\n",
       "      <td>1810</td>\n",
       "    </tr>\n",
       "    <tr>\n",
       "      <th>T5_1</th>\n",
       "      <td>3790</td>\n",
       "    </tr>\n",
       "    <tr>\n",
       "      <th>T5_2</th>\n",
       "      <td>961</td>\n",
       "    </tr>\n",
       "    <tr>\n",
       "      <th>T6_1</th>\n",
       "      <td>1251</td>\n",
       "    </tr>\n",
       "    <tr>\n",
       "      <th>T6_2</th>\n",
       "      <td>2632</td>\n",
       "    </tr>\n",
       "    <tr>\n",
       "      <th>T6_3</th>\n",
       "      <td>667</td>\n",
       "    </tr>\n",
       "    <tr>\n",
       "      <th>T7_1</th>\n",
       "      <td>2377</td>\n",
       "    </tr>\n",
       "    <tr>\n",
       "      <th>T7_2</th>\n",
       "      <td>2410</td>\n",
       "    </tr>\n",
       "    <tr>\n",
       "      <th>T7_3</th>\n",
       "      <td>2498</td>\n",
       "    </tr>\n",
       "    <tr>\n",
       "      <th>T8_1</th>\n",
       "      <td>2654</td>\n",
       "    </tr>\n",
       "    <tr>\n",
       "      <th>T8_2</th>\n",
       "      <td>1241</td>\n",
       "    </tr>\n",
       "    <tr>\n",
       "      <th>T8_3</th>\n",
       "      <td>1427</td>\n",
       "    </tr>\n",
       "    <tr>\n",
       "      <th>T9_1</th>\n",
       "      <td>1999</td>\n",
       "    </tr>\n",
       "    <tr>\n",
       "      <th>T9_2</th>\n",
       "      <td>2002</td>\n",
       "    </tr>\n",
       "    <tr>\n",
       "      <th>T9_3</th>\n",
       "      <td>2046</td>\n",
       "    </tr>\n",
       "  </tbody>\n",
       "</table>\n",
       "</div>"
      ],
      "text/plain": [
       "          library\n",
       "library2         \n",
       "N1_old       2970\n",
       "N2_1          758\n",
       "N2_old       1563\n",
       "N3_1          245\n",
       "N3_old        818\n",
       "N4_1         1460\n",
       "N4_old        571\n",
       "N5_1          573\n",
       "N6_1          802\n",
       "N7_1          640\n",
       "N8_1         1243\n",
       "N9_1          589\n",
       "T2_1         5186\n",
       "T2_old        818\n",
       "T3_1         1529\n",
       "T3_old       1666\n",
       "T4_old       1810\n",
       "T5_1         3790\n",
       "T5_2          961\n",
       "T6_1         1251\n",
       "T6_2         2632\n",
       "T6_3          667\n",
       "T7_1         2377\n",
       "T7_2         2410\n",
       "T7_3         2498\n",
       "T8_1         2654\n",
       "T8_2         1241\n",
       "T8_3         1427\n",
       "T9_1         1999\n",
       "T9_2         2002\n",
       "T9_3         2046"
      ]
     },
     "execution_count": 15,
     "metadata": {},
     "output_type": "execute_result"
    }
   ],
   "source": [
    "subobs.groupby([splitby]).count().dropna().iloc[:,:1]"
   ]
  },
  {
   "cell_type": "markdown",
   "metadata": {},
   "source": [
    "### Run Scrubet on each emulsion separately  \n",
    "By design, doublets cannot form between emulsions  "
   ]
  },
  {
   "cell_type": "code",
   "execution_count": 17,
   "metadata": {},
   "outputs": [
    {
     "name": "stdout",
     "output_type": "stream",
     "text": [
      "T2_1\n",
      "Automatically set threshold at doublet score = 0.51\n",
      "Detected doublet rate = 0.0%\n",
      "Estimated detectable doublet fraction = 0.3%\n",
      "Overall doublet rate:\n",
      "\tExpected   = 6.0%\n",
      "\tEstimated  = 14.3%\n",
      "N3_1\n",
      "Automatically set threshold at doublet score = 0.24\n",
      "Detected doublet rate = 4.9%\n",
      "Estimated detectable doublet fraction = 26.1%\n",
      "Overall doublet rate:\n",
      "\tExpected   = 6.0%\n",
      "\tEstimated  = 18.7%\n",
      "N4_1\n",
      "Automatically set threshold at doublet score = 0.42\n",
      "Detected doublet rate = 0.8%\n",
      "Estimated detectable doublet fraction = 12.0%\n",
      "Overall doublet rate:\n",
      "\tExpected   = 6.0%\n",
      "\tEstimated  = 6.9%\n",
      "N2_1\n",
      "Automatically set threshold at doublet score = 0.36\n",
      "Detected doublet rate = 0.7%\n",
      "Estimated detectable doublet fraction = 3.0%\n",
      "Overall doublet rate:\n",
      "\tExpected   = 6.0%\n",
      "\tEstimated  = 22.2%\n",
      "T3_1\n",
      "Automatically set threshold at doublet score = 0.45\n",
      "Detected doublet rate = 0.0%\n",
      "Estimated detectable doublet fraction = 0.2%\n",
      "Overall doublet rate:\n",
      "\tExpected   = 6.0%\n",
      "\tEstimated  = 0.0%\n",
      "N6_1\n",
      "Automatically set threshold at doublet score = 0.36\n",
      "Detected doublet rate = 0.7%\n",
      "Estimated detectable doublet fraction = 8.7%\n",
      "Overall doublet rate:\n",
      "\tExpected   = 6.0%\n",
      "\tEstimated  = 8.6%\n",
      "N5_1\n",
      "Automatically set threshold at doublet score = 0.32\n",
      "Detected doublet rate = 0.5%\n",
      "Estimated detectable doublet fraction = 4.5%\n",
      "Overall doublet rate:\n",
      "\tExpected   = 6.0%\n",
      "\tEstimated  = 11.5%\n",
      "N7_1\n",
      "Automatically set threshold at doublet score = 0.34\n",
      "Detected doublet rate = 0.3%\n",
      "Estimated detectable doublet fraction = 8.8%\n",
      "Overall doublet rate:\n",
      "\tExpected   = 6.0%\n",
      "\tEstimated  = 3.6%\n",
      "N8_1\n",
      "Automatically set threshold at doublet score = 0.41\n",
      "Detected doublet rate = 0.3%\n",
      "Estimated detectable doublet fraction = 5.0%\n",
      "Overall doublet rate:\n",
      "\tExpected   = 6.0%\n",
      "\tEstimated  = 6.5%\n",
      "T5_2\n",
      "Automatically set threshold at doublet score = 0.39\n",
      "Detected doublet rate = 0.1%\n",
      "Estimated detectable doublet fraction = 2.3%\n",
      "Overall doublet rate:\n",
      "\tExpected   = 6.0%\n",
      "\tEstimated  = 4.5%\n",
      "T6_3\n",
      "Automatically set threshold at doublet score = 0.33\n",
      "Detected doublet rate = 0.1%\n",
      "Estimated detectable doublet fraction = 8.2%\n",
      "Overall doublet rate:\n",
      "\tExpected   = 6.0%\n",
      "\tEstimated  = 1.8%\n",
      "T7_3\n",
      "Automatically set threshold at doublet score = 0.50\n",
      "Detected doublet rate = 0.0%\n",
      "Estimated detectable doublet fraction = 1.4%\n",
      "Overall doublet rate:\n",
      "\tExpected   = 6.0%\n",
      "\tEstimated  = 0.0%\n",
      "T8_3\n",
      "Automatically set threshold at doublet score = 0.43\n",
      "Detected doublet rate = 0.1%\n",
      "Estimated detectable doublet fraction = 3.2%\n",
      "Overall doublet rate:\n",
      "\tExpected   = 6.0%\n",
      "\tEstimated  = 4.4%\n",
      "T5_1\n",
      "Automatically set threshold at doublet score = 0.55\n",
      "Detected doublet rate = 0.1%\n",
      "Estimated detectable doublet fraction = 2.8%\n",
      "Overall doublet rate:\n",
      "\tExpected   = 6.0%\n",
      "\tEstimated  = 3.7%\n",
      "T6_1\n",
      "Automatically set threshold at doublet score = 0.42\n",
      "Detected doublet rate = 0.2%\n",
      "Estimated detectable doublet fraction = 7.8%\n",
      "Overall doublet rate:\n",
      "\tExpected   = 6.0%\n",
      "\tEstimated  = 2.0%\n",
      "T6_2\n",
      "Automatically set threshold at doublet score = 0.50\n",
      "Detected doublet rate = 0.2%\n",
      "Estimated detectable doublet fraction = 9.7%\n",
      "Overall doublet rate:\n",
      "\tExpected   = 6.0%\n",
      "\tEstimated  = 2.0%\n",
      "T7_2\n",
      "Automatically set threshold at doublet score = 0.50\n",
      "Detected doublet rate = 0.0%\n",
      "Estimated detectable doublet fraction = 0.7%\n",
      "Overall doublet rate:\n",
      "\tExpected   = 6.0%\n",
      "\tEstimated  = 5.6%\n",
      "T7_1\n",
      "Automatically set threshold at doublet score = 0.48\n",
      "Detected doublet rate = 0.1%\n",
      "Estimated detectable doublet fraction = 3.1%\n",
      "Overall doublet rate:\n",
      "\tExpected   = 6.0%\n",
      "\tEstimated  = 2.8%\n",
      "T8_2\n",
      "Automatically set threshold at doublet score = 0.42\n",
      "Detected doublet rate = 0.1%\n",
      "Estimated detectable doublet fraction = 3.7%\n",
      "Overall doublet rate:\n",
      "\tExpected   = 6.0%\n",
      "\tEstimated  = 2.2%\n",
      "T8_1\n",
      "Automatically set threshold at doublet score = 0.51\n",
      "Detected doublet rate = 0.3%\n",
      "Estimated detectable doublet fraction = 1.9%\n",
      "Overall doublet rate:\n",
      "\tExpected   = 6.0%\n",
      "\tEstimated  = 14.0%\n",
      "N9_1\n",
      "Automatically set threshold at doublet score = 0.31\n",
      "Detected doublet rate = 1.0%\n",
      "Estimated detectable doublet fraction = 20.5%\n",
      "Overall doublet rate:\n",
      "\tExpected   = 6.0%\n",
      "\tEstimated  = 5.0%\n",
      "T9_1\n",
      "Automatically set threshold at doublet score = 0.46\n",
      "Detected doublet rate = 0.2%\n",
      "Estimated detectable doublet fraction = 3.0%\n",
      "Overall doublet rate:\n",
      "\tExpected   = 6.0%\n",
      "\tEstimated  = 5.1%\n",
      "T9_2\n",
      "Automatically set threshold at doublet score = 0.46\n",
      "Detected doublet rate = 0.2%\n",
      "Estimated detectable doublet fraction = 3.7%\n",
      "Overall doublet rate:\n",
      "\tExpected   = 6.0%\n",
      "\tEstimated  = 6.7%\n",
      "T9_3\n",
      "Automatically set threshold at doublet score = 0.48\n",
      "Detected doublet rate = 0.1%\n",
      "Estimated detectable doublet fraction = 3.1%\n",
      "Overall doublet rate:\n",
      "\tExpected   = 6.0%\n",
      "\tEstimated  = 3.2%\n",
      "N1_old\n",
      "Automatically set threshold at doublet score = 0.52\n",
      "Detected doublet rate = 0.1%\n",
      "Estimated detectable doublet fraction = 2.9%\n",
      "Overall doublet rate:\n",
      "\tExpected   = 6.0%\n",
      "\tEstimated  = 4.7%\n",
      "N2_old\n",
      "Automatically set threshold at doublet score = 0.44\n",
      "Detected doublet rate = 0.3%\n",
      "Estimated detectable doublet fraction = 2.4%\n",
      "Overall doublet rate:\n",
      "\tExpected   = 6.0%\n",
      "\tEstimated  = 13.2%\n",
      "N3_old\n",
      "Automatically set threshold at doublet score = 0.36\n",
      "Detected doublet rate = 0.2%\n",
      "Estimated detectable doublet fraction = 3.7%\n",
      "Overall doublet rate:\n",
      "\tExpected   = 6.0%\n",
      "\tEstimated  = 6.7%\n",
      "N4_old\n",
      "Automatically set threshold at doublet score = 0.32\n",
      "Detected doublet rate = 0.5%\n",
      "Estimated detectable doublet fraction = 10.0%\n",
      "Overall doublet rate:\n",
      "\tExpected   = 6.0%\n",
      "\tEstimated  = 5.3%\n",
      "T2_old\n",
      "Automatically set threshold at doublet score = 0.36\n",
      "Detected doublet rate = 0.1%\n",
      "Estimated detectable doublet fraction = 1.5%\n",
      "Overall doublet rate:\n",
      "\tExpected   = 6.0%\n",
      "\tEstimated  = 8.0%\n",
      "T3_old\n",
      "Automatically set threshold at doublet score = 0.36\n",
      "Detected doublet rate = 0.1%\n",
      "Estimated detectable doublet fraction = 0.4%\n",
      "Overall doublet rate:\n",
      "\tExpected   = 6.0%\n",
      "\tEstimated  = 33.3%\n",
      "T4_old\n",
      "Automatically set threshold at doublet score = 0.46\n",
      "Detected doublet rate = 0.1%\n",
      "Estimated detectable doublet fraction = 0.4%\n",
      "Overall doublet rate:\n",
      "\tExpected   = 6.0%\n",
      "\tEstimated  = 30.8%\n"
     ]
    }
   ],
   "source": [
    "# I want to apply the same principal component transformation to all emulsions but allow\n",
    "# simulated doublets only within the same emulsion\n",
    "\n",
    "# This is \n",
    "\n",
    "scrub_dict = {}\n",
    "doub_score_dict = {}\n",
    "predict_doub_dict = {}\n",
    "\n",
    "for emulsion in adata.obs[cell_mask][splitby].unique():\n",
    "    cmask = (adata.obs[cell_mask][splitby] == emulsion).values\n",
    "    \n",
    "    print(emulsion)\n",
    "    \n",
    "    # select the expression data:\n",
    "    E = X[cmask,:][:,gene_mask]\n",
    "    \n",
    "    # initiate the scrub object\n",
    "    scrub = scr.Scrublet(E, total_counts=n_counts[cmask], expected_doublet_rate=0.06)\n",
    "     \n",
    "    # Simulate doublets\n",
    "    scrub.simulate_doublets()\n",
    "    \n",
    "    # Total counts normalize\n",
    "    scrub._E_obs_norm = scr.tot_counts_norm(scrub._E_obs, total_counts=n_counts[cmask], target_total=postnorm_total)\n",
    "    scrub._E_sim_norm = scr.tot_counts_norm(scrub._E_sim, total_counts=scrub._total_counts_sim, target_total=postnorm_total)\n",
    "    \n",
    "    # Z-score using previously calculated gene means and standard deviations. Same way as for original spring plot.\n",
    "    scrub._E_obs_norm = np.array(scr.sparse_zscore(scrub._E_obs_norm, gene_means, gene_stdevs))\n",
    "    scrub._E_sim_norm = np.array(scr.sparse_zscore(scrub._E_sim_norm, gene_means, gene_stdevs))\n",
    "    \n",
    "    # Transform simulated doublets into same PCA space as the observed cells\n",
    "    pca_obs = P.dot(scrub._E_obs_norm.T).T\n",
    "    pca_sim = P.dot(scrub._E_sim_norm.T).T\n",
    "    \n",
    "    # Set the \"manifold\", i.e. the space in which the knn graph will be constructed\n",
    "    scrub.set_manifold(pca_obs, pca_sim)\n",
    "    \n",
    "    # Calculate doublet scores and call doublets as usual\n",
    "    doublet_scores = scrub.calculate_doublet_scores()\n",
    "    predicted_doublets = scrub.call_doublets()\n",
    "    \n",
    "    # store results\n",
    "    scrub_dict[emulsion] = scrub\n",
    "    doub_score_dict[emulsion] = doublet_scores\n",
    "    predict_doub_dict[emulsion] = predicted_doublets"
   ]
  },
  {
   "cell_type": "markdown",
   "metadata": {},
   "source": [
    "## Check doublet histograms"
   ]
  },
  {
   "cell_type": "code",
   "execution_count": 18,
   "metadata": {},
   "outputs": [
    {
     "name": "stdout",
     "output_type": "stream",
     "text": [
      "T2_1 0.5074762440517129\n",
      "N3_1 0.2377100591715978\n",
      "N4_1 0.4204785862730435\n",
      "N2_1 0.3612945832402352\n",
      "T3_1 0.44554143659499634\n",
      "N6_1 0.36097947629453375\n",
      "N5_1 0.3238098681804424\n",
      "N7_1 0.3366645781555726\n",
      "N8_1 0.41312677809388315\n",
      "T5_2 0.38899427182285307\n",
      "T6_3 0.33498924913310124\n",
      "T7_3 0.4961452410413042\n",
      "T8_3 0.43169983479428675\n",
      "T5_1 0.5470817276617818\n",
      "T6_1 0.4167034770848328\n",
      "T6_2 0.5001213756352467\n",
      "T7_2 0.4994429059779057\n",
      "T7_1 0.4826624034130415\n",
      "T8_2 0.41523134565587383\n",
      "T8_1 0.5138723762057498\n",
      "N9_1 0.3099023349250928\n",
      "T9_1 0.4641069347911506\n",
      "T9_2 0.4621029682163116\n",
      "T9_3 0.47698520519330395\n",
      "N1_old 0.5199170055025315\n",
      "N2_old 0.4443074356707133\n",
      "N3_old 0.3555576615911435\n",
      "N4_old 0.31578577430196486\n",
      "T2_old 0.3562201168345494\n",
      "T3_old 0.3562028380855369\n",
      "T4_old 0.4605355801151103\n"
     ]
    }
   ],
   "source": [
    "# print the automatically determined threshold:\n",
    "for key,value in scrub_dict.items():\n",
    "    print(key,value.threshold_)"
   ]
  },
  {
   "cell_type": "code",
   "execution_count": 19,
   "metadata": {},
   "outputs": [
    {
     "name": "stderr",
     "output_type": "stream",
     "text": [
      "findfont: Font family ['Myriad Pro'] not found. Falling back to DejaVu Sans.\n"
     ]
    },
    {
     "name": "stdout",
     "output_type": "stream",
     "text": [
      "T2_1 5186\n",
      "predicted doublet percentage 0.03856536829926726\n"
     ]
    },
    {
     "name": "stderr",
     "output_type": "stream",
     "text": [
      "findfont: Font family ['Myriad Pro'] not found. Falling back to DejaVu Sans.\n",
      "<ipython-input-19-d17f4515760b>:6: UserWarning: Matplotlib is currently using agg, which is a non-GUI backend, so cannot show the figure.\n",
      "  plt.show()\n"
     ]
    },
    {
     "name": "stdout",
     "output_type": "stream",
     "text": [
      "\n",
      "N3_1 245\n",
      "predicted doublet percentage 4.8979591836734695\n"
     ]
    },
    {
     "name": "stderr",
     "output_type": "stream",
     "text": [
      "<ipython-input-19-d17f4515760b>:6: UserWarning: Matplotlib is currently using agg, which is a non-GUI backend, so cannot show the figure.\n",
      "  plt.show()\n"
     ]
    },
    {
     "name": "stdout",
     "output_type": "stream",
     "text": [
      "\n",
      "N4_1 1460\n",
      "predicted doublet percentage 0.821917808219178\n"
     ]
    },
    {
     "name": "stderr",
     "output_type": "stream",
     "text": [
      "<ipython-input-19-d17f4515760b>:6: UserWarning: Matplotlib is currently using agg, which is a non-GUI backend, so cannot show the figure.\n",
      "  plt.show()\n"
     ]
    },
    {
     "name": "stdout",
     "output_type": "stream",
     "text": [
      "\n",
      "N2_1 758\n",
      "predicted doublet percentage 0.6596306068601583\n"
     ]
    },
    {
     "name": "stderr",
     "output_type": "stream",
     "text": [
      "<ipython-input-19-d17f4515760b>:6: UserWarning: Matplotlib is currently using agg, which is a non-GUI backend, so cannot show the figure.\n",
      "  plt.show()\n"
     ]
    },
    {
     "name": "stdout",
     "output_type": "stream",
     "text": [
      "\n",
      "T3_1 1529\n",
      "predicted doublet percentage 0.0\n"
     ]
    },
    {
     "name": "stderr",
     "output_type": "stream",
     "text": [
      "<ipython-input-19-d17f4515760b>:6: UserWarning: Matplotlib is currently using agg, which is a non-GUI backend, so cannot show the figure.\n",
      "  plt.show()\n"
     ]
    },
    {
     "name": "stdout",
     "output_type": "stream",
     "text": [
      "\n",
      "N6_1 802\n",
      "predicted doublet percentage 0.7481296758104738\n"
     ]
    },
    {
     "name": "stderr",
     "output_type": "stream",
     "text": [
      "<ipython-input-19-d17f4515760b>:6: UserWarning: Matplotlib is currently using agg, which is a non-GUI backend, so cannot show the figure.\n",
      "  plt.show()\n"
     ]
    },
    {
     "name": "stdout",
     "output_type": "stream",
     "text": [
      "\n",
      "N5_1 573\n",
      "predicted doublet percentage 0.5235602094240838\n"
     ]
    },
    {
     "name": "stderr",
     "output_type": "stream",
     "text": [
      "<ipython-input-19-d17f4515760b>:6: UserWarning: Matplotlib is currently using agg, which is a non-GUI backend, so cannot show the figure.\n",
      "  plt.show()\n"
     ]
    },
    {
     "name": "stdout",
     "output_type": "stream",
     "text": [
      "\n",
      "N7_1 640\n",
      "predicted doublet percentage 0.3125\n"
     ]
    },
    {
     "name": "stderr",
     "output_type": "stream",
     "text": [
      "<ipython-input-19-d17f4515760b>:6: UserWarning: Matplotlib is currently using agg, which is a non-GUI backend, so cannot show the figure.\n",
      "  plt.show()\n"
     ]
    },
    {
     "name": "stdout",
     "output_type": "stream",
     "text": [
      "\n",
      "N8_1 1243\n",
      "predicted doublet percentage 0.32180209171359614\n"
     ]
    },
    {
     "name": "stderr",
     "output_type": "stream",
     "text": [
      "<ipython-input-19-d17f4515760b>:6: UserWarning: Matplotlib is currently using agg, which is a non-GUI backend, so cannot show the figure.\n",
      "  plt.show()\n"
     ]
    },
    {
     "name": "stdout",
     "output_type": "stream",
     "text": [
      "\n",
      "T5_2 961\n",
      "predicted doublet percentage 0.10405827263267431\n"
     ]
    },
    {
     "name": "stderr",
     "output_type": "stream",
     "text": [
      "<ipython-input-19-d17f4515760b>:6: UserWarning: Matplotlib is currently using agg, which is a non-GUI backend, so cannot show the figure.\n",
      "  plt.show()\n"
     ]
    },
    {
     "name": "stdout",
     "output_type": "stream",
     "text": [
      "\n",
      "T6_3 667\n",
      "predicted doublet percentage 0.14992503748125938\n"
     ]
    },
    {
     "name": "stderr",
     "output_type": "stream",
     "text": [
      "<ipython-input-19-d17f4515760b>:6: UserWarning: Matplotlib is currently using agg, which is a non-GUI backend, so cannot show the figure.\n",
      "  plt.show()\n"
     ]
    },
    {
     "name": "stdout",
     "output_type": "stream",
     "text": [
      "\n",
      "T7_3 2498\n",
      "predicted doublet percentage 0.0\n"
     ]
    },
    {
     "name": "stderr",
     "output_type": "stream",
     "text": [
      "<ipython-input-19-d17f4515760b>:6: UserWarning: Matplotlib is currently using agg, which is a non-GUI backend, so cannot show the figure.\n",
      "  plt.show()\n"
     ]
    },
    {
     "name": "stdout",
     "output_type": "stream",
     "text": [
      "\n",
      "T8_3 1427\n",
      "predicted doublet percentage 0.1401541695865452\n"
     ]
    },
    {
     "name": "stderr",
     "output_type": "stream",
     "text": [
      "<ipython-input-19-d17f4515760b>:6: UserWarning: Matplotlib is currently using agg, which is a non-GUI backend, so cannot show the figure.\n",
      "  plt.show()\n"
     ]
    },
    {
     "name": "stdout",
     "output_type": "stream",
     "text": [
      "\n",
      "T5_1 3790\n",
      "predicted doublet percentage 0.10554089709762532\n"
     ]
    },
    {
     "name": "stderr",
     "output_type": "stream",
     "text": [
      "<ipython-input-19-d17f4515760b>:6: UserWarning: Matplotlib is currently using agg, which is a non-GUI backend, so cannot show the figure.\n",
      "  plt.show()\n"
     ]
    },
    {
     "name": "stdout",
     "output_type": "stream",
     "text": [
      "\n",
      "T6_1 1251\n",
      "predicted doublet percentage 0.15987210231814547\n"
     ]
    },
    {
     "name": "stderr",
     "output_type": "stream",
     "text": [
      "<ipython-input-19-d17f4515760b>:6: UserWarning: Matplotlib is currently using agg, which is a non-GUI backend, so cannot show the figure.\n",
      "  plt.show()\n"
     ]
    },
    {
     "name": "stdout",
     "output_type": "stream",
     "text": [
      "\n",
      "T6_2 2632\n",
      "predicted doublet percentage 0.1899696048632219\n"
     ]
    },
    {
     "name": "stderr",
     "output_type": "stream",
     "text": [
      "<ipython-input-19-d17f4515760b>:6: UserWarning: Matplotlib is currently using agg, which is a non-GUI backend, so cannot show the figure.\n",
      "  plt.show()\n"
     ]
    },
    {
     "name": "stdout",
     "output_type": "stream",
     "text": [
      "\n",
      "T7_2 2410\n",
      "predicted doublet percentage 0.04149377593360996\n"
     ]
    },
    {
     "name": "stderr",
     "output_type": "stream",
     "text": [
      "<ipython-input-19-d17f4515760b>:6: UserWarning: Matplotlib is currently using agg, which is a non-GUI backend, so cannot show the figure.\n",
      "  plt.show()\n"
     ]
    },
    {
     "name": "stdout",
     "output_type": "stream",
     "text": [
      "\n",
      "T7_1 2377\n",
      "predicted doublet percentage 0.08413967185527976\n"
     ]
    },
    {
     "name": "stderr",
     "output_type": "stream",
     "text": [
      "<ipython-input-19-d17f4515760b>:6: UserWarning: Matplotlib is currently using agg, which is a non-GUI backend, so cannot show the figure.\n",
      "  plt.show()\n"
     ]
    },
    {
     "name": "stdout",
     "output_type": "stream",
     "text": [
      "\n",
      "T8_2 1241\n",
      "predicted doublet percentage 0.08058017727639001\n"
     ]
    },
    {
     "name": "stderr",
     "output_type": "stream",
     "text": [
      "<ipython-input-19-d17f4515760b>:6: UserWarning: Matplotlib is currently using agg, which is a non-GUI backend, so cannot show the figure.\n",
      "  plt.show()\n"
     ]
    },
    {
     "name": "stdout",
     "output_type": "stream",
     "text": [
      "\n",
      "T8_1 2654\n",
      "predicted doublet percentage 0.26375282592313487\n"
     ]
    },
    {
     "name": "stderr",
     "output_type": "stream",
     "text": [
      "<ipython-input-19-d17f4515760b>:6: UserWarning: Matplotlib is currently using agg, which is a non-GUI backend, so cannot show the figure.\n",
      "  plt.show()\n",
      "/Users/justina/opt/anaconda3/envs/singlec4/lib/python3.8/site-packages/scrublet/scrublet.py:487: RuntimeWarning: More than 20 figures have been opened. Figures created through the pyplot interface (`matplotlib.pyplot.figure`) are retained until explicitly closed and may consume too much memory. (To control this warning, see the rcParam `figure.max_open_warning`).\n",
      "  fig, axs = plt.subplots(1, 2, figsize = fig_size)\n"
     ]
    },
    {
     "name": "stdout",
     "output_type": "stream",
     "text": [
      "\n",
      "N9_1 589\n",
      "predicted doublet percentage 1.0186757215619695\n"
     ]
    },
    {
     "name": "stderr",
     "output_type": "stream",
     "text": [
      "<ipython-input-19-d17f4515760b>:6: UserWarning: Matplotlib is currently using agg, which is a non-GUI backend, so cannot show the figure.\n",
      "  plt.show()\n"
     ]
    },
    {
     "name": "stdout",
     "output_type": "stream",
     "text": [
      "\n",
      "T9_1 1999\n",
      "predicted doublet percentage 0.1500750375187594\n"
     ]
    },
    {
     "name": "stderr",
     "output_type": "stream",
     "text": [
      "<ipython-input-19-d17f4515760b>:6: UserWarning: Matplotlib is currently using agg, which is a non-GUI backend, so cannot show the figure.\n",
      "  plt.show()\n"
     ]
    },
    {
     "name": "stdout",
     "output_type": "stream",
     "text": [
      "\n",
      "T9_2 2002\n",
      "predicted doublet percentage 0.24975024975024976\n"
     ]
    },
    {
     "name": "stderr",
     "output_type": "stream",
     "text": [
      "<ipython-input-19-d17f4515760b>:6: UserWarning: Matplotlib is currently using agg, which is a non-GUI backend, so cannot show the figure.\n",
      "  plt.show()\n"
     ]
    },
    {
     "name": "stdout",
     "output_type": "stream",
     "text": [
      "\n",
      "T9_3 2046\n",
      "predicted doublet percentage 0.09775171065493646\n"
     ]
    },
    {
     "name": "stderr",
     "output_type": "stream",
     "text": [
      "<ipython-input-19-d17f4515760b>:6: UserWarning: Matplotlib is currently using agg, which is a non-GUI backend, so cannot show the figure.\n",
      "  plt.show()\n"
     ]
    },
    {
     "name": "stdout",
     "output_type": "stream",
     "text": [
      "\n",
      "N1_old 2970\n",
      "predicted doublet percentage 0.13468013468013468\n"
     ]
    },
    {
     "name": "stderr",
     "output_type": "stream",
     "text": [
      "<ipython-input-19-d17f4515760b>:6: UserWarning: Matplotlib is currently using agg, which is a non-GUI backend, so cannot show the figure.\n",
      "  plt.show()\n"
     ]
    },
    {
     "name": "stdout",
     "output_type": "stream",
     "text": [
      "\n",
      "N2_old 1563\n",
      "predicted doublet percentage 0.3198976327575176\n"
     ]
    },
    {
     "name": "stderr",
     "output_type": "stream",
     "text": [
      "<ipython-input-19-d17f4515760b>:6: UserWarning: Matplotlib is currently using agg, which is a non-GUI backend, so cannot show the figure.\n",
      "  plt.show()\n"
     ]
    },
    {
     "name": "stdout",
     "output_type": "stream",
     "text": [
      "\n",
      "N3_old 818\n",
      "predicted doublet percentage 0.24449877750611246\n"
     ]
    },
    {
     "name": "stderr",
     "output_type": "stream",
     "text": [
      "<ipython-input-19-d17f4515760b>:6: UserWarning: Matplotlib is currently using agg, which is a non-GUI backend, so cannot show the figure.\n",
      "  plt.show()\n"
     ]
    },
    {
     "name": "stdout",
     "output_type": "stream",
     "text": [
      "\n",
      "N4_old 571\n",
      "predicted doublet percentage 0.5253940455341506\n"
     ]
    },
    {
     "name": "stderr",
     "output_type": "stream",
     "text": [
      "<ipython-input-19-d17f4515760b>:6: UserWarning: Matplotlib is currently using agg, which is a non-GUI backend, so cannot show the figure.\n",
      "  plt.show()\n"
     ]
    },
    {
     "name": "stdout",
     "output_type": "stream",
     "text": [
      "\n",
      "T2_old 818\n",
      "predicted doublet percentage 0.12224938875305623\n"
     ]
    },
    {
     "name": "stderr",
     "output_type": "stream",
     "text": [
      "<ipython-input-19-d17f4515760b>:6: UserWarning: Matplotlib is currently using agg, which is a non-GUI backend, so cannot show the figure.\n",
      "  plt.show()\n"
     ]
    },
    {
     "name": "stdout",
     "output_type": "stream",
     "text": [
      "\n",
      "T3_old 1666\n",
      "predicted doublet percentage 0.12004801920768307\n"
     ]
    },
    {
     "name": "stderr",
     "output_type": "stream",
     "text": [
      "<ipython-input-19-d17f4515760b>:6: UserWarning: Matplotlib is currently using agg, which is a non-GUI backend, so cannot show the figure.\n",
      "  plt.show()\n"
     ]
    },
    {
     "name": "stdout",
     "output_type": "stream",
     "text": [
      "\n",
      "T4_old 1810\n",
      "predicted doublet percentage 0.11049723756906078\n",
      "\n"
     ]
    },
    {
     "name": "stderr",
     "output_type": "stream",
     "text": [
      "<ipython-input-19-d17f4515760b>:6: UserWarning: Matplotlib is currently using agg, which is a non-GUI backend, so cannot show the figure.\n",
      "  plt.show()\n"
     ]
    }
   ],
   "source": [
    "for emulsion, scrub in scrub_dict.items():\n",
    "    print(emulsion,(adata.obs[splitby] == emulsion).sum())\n",
    "    dmask = predict_doub_dict[emulsion]\n",
    "    print('predicted doublet percentage',dmask.sum()/len(dmask)*100.)\n",
    "    scrub.plot_histogram();\n",
    "    plt.show()\n",
    "    plt.savefig('%s_v0_doublet_scores_prec_pca.pdf'%emulsion)\n",
    "    print()"
   ]
  },
  {
   "cell_type": "markdown",
   "metadata": {},
   "source": [
    "## Add results to adata.obs"
   ]
  },
  {
   "cell_type": "code",
   "execution_count": 20,
   "metadata": {},
   "outputs": [],
   "source": [
    "obs = adata.obs.copy()\n",
    "\n",
    "# add the results to obs\n",
    "obs['doublet_score'] = np.nan\n",
    "obs['potential_doublet'] = np.nan\n",
    "\n",
    "for key,value in doub_score_dict.items():\n",
    "    cmask = (obs[splitby] == key).values\n",
    "    \n",
    "    obs.loc[cmask&cell_mask,'doublet_score'] = value\n",
    "    obs.loc[cmask&cell_mask,'potential_doublet'] = predict_doub_dict[key]\n",
    "    \n",
    "    # also add another colortrack: within the x% with highest doublet score\n",
    "    for i in [3,5,10]:   \n",
    "        obs.loc[cmask&cell_mask,'top%dpct_dbtl_score'%i] = \\\n",
    "        obs.loc[cmask&cell_mask,'doublet_score']>=obs.loc[cmask,'doublet_score'].quantile(1.-float(i)/100.)"
   ]
  },
  {
   "cell_type": "code",
   "execution_count": 21,
   "metadata": {},
   "outputs": [
    {
     "data": {
      "text/html": [
       "<div>\n",
       "<style scoped>\n",
       "    .dataframe tbody tr th:only-of-type {\n",
       "        vertical-align: middle;\n",
       "    }\n",
       "\n",
       "    .dataframe tbody tr th {\n",
       "        vertical-align: top;\n",
       "    }\n",
       "\n",
       "    .dataframe thead th {\n",
       "        text-align: right;\n",
       "    }\n",
       "</style>\n",
       "<table border=\"1\" class=\"dataframe\">\n",
       "  <thead>\n",
       "    <tr style=\"text-align: right;\">\n",
       "      <th></th>\n",
       "      <th>library</th>\n",
       "      <th>total_counts</th>\n",
       "      <th>pct_counts_mito</th>\n",
       "      <th>library2</th>\n",
       "      <th>sample</th>\n",
       "      <th>patient</th>\n",
       "      <th>pT stage</th>\n",
       "      <th>seq_date</th>\n",
       "      <th>beads</th>\n",
       "      <th>operation</th>\n",
       "      <th>sex</th>\n",
       "      <th>tumor size, mm</th>\n",
       "      <th>age</th>\n",
       "      <th>tissue</th>\n",
       "      <th>necrosis</th>\n",
       "      <th>doublet_score</th>\n",
       "      <th>potential_doublet</th>\n",
       "      <th>top3pct_dbtl_score</th>\n",
       "      <th>top5pct_dbtl_score</th>\n",
       "      <th>top10pct_dbtl_score</th>\n",
       "    </tr>\n",
       "  </thead>\n",
       "  <tbody>\n",
       "    <tr>\n",
       "      <th>2</th>\n",
       "      <td>N14</td>\n",
       "      <td>449.0</td>\n",
       "      <td>0.668151</td>\n",
       "      <td>T2_1</td>\n",
       "      <td>T2</td>\n",
       "      <td>P2</td>\n",
       "      <td>pT3a</td>\n",
       "      <td>20_11_12</td>\n",
       "      <td>old</td>\n",
       "      <td>Open</td>\n",
       "      <td>Male</td>\n",
       "      <td>75</td>\n",
       "      <td>60</td>\n",
       "      <td>Tumor</td>\n",
       "      <td>Negative</td>\n",
       "      <td>0.026847</td>\n",
       "      <td>False</td>\n",
       "      <td>False</td>\n",
       "      <td>False</td>\n",
       "      <td>False</td>\n",
       "    </tr>\n",
       "    <tr>\n",
       "      <th>19</th>\n",
       "      <td>N14</td>\n",
       "      <td>449.0</td>\n",
       "      <td>4.231626</td>\n",
       "      <td>T2_1</td>\n",
       "      <td>T2</td>\n",
       "      <td>P2</td>\n",
       "      <td>pT3a</td>\n",
       "      <td>20_11_12</td>\n",
       "      <td>old</td>\n",
       "      <td>Open</td>\n",
       "      <td>Male</td>\n",
       "      <td>75</td>\n",
       "      <td>60</td>\n",
       "      <td>Tumor</td>\n",
       "      <td>Negative</td>\n",
       "      <td>0.045685</td>\n",
       "      <td>False</td>\n",
       "      <td>False</td>\n",
       "      <td>False</td>\n",
       "      <td>False</td>\n",
       "    </tr>\n",
       "    <tr>\n",
       "      <th>363</th>\n",
       "      <td>N14</td>\n",
       "      <td>1229.0</td>\n",
       "      <td>10.659073</td>\n",
       "      <td>T2_1</td>\n",
       "      <td>T2</td>\n",
       "      <td>P2</td>\n",
       "      <td>pT3a</td>\n",
       "      <td>20_11_12</td>\n",
       "      <td>old</td>\n",
       "      <td>Open</td>\n",
       "      <td>Male</td>\n",
       "      <td>75</td>\n",
       "      <td>60</td>\n",
       "      <td>Tumor</td>\n",
       "      <td>Negative</td>\n",
       "      <td>0.102625</td>\n",
       "      <td>False</td>\n",
       "      <td>False</td>\n",
       "      <td>False</td>\n",
       "      <td>False</td>\n",
       "    </tr>\n",
       "    <tr>\n",
       "      <th>413</th>\n",
       "      <td>N14</td>\n",
       "      <td>732.0</td>\n",
       "      <td>4.781421</td>\n",
       "      <td>T2_1</td>\n",
       "      <td>T2</td>\n",
       "      <td>P2</td>\n",
       "      <td>pT3a</td>\n",
       "      <td>20_11_12</td>\n",
       "      <td>old</td>\n",
       "      <td>Open</td>\n",
       "      <td>Male</td>\n",
       "      <td>75</td>\n",
       "      <td>60</td>\n",
       "      <td>Tumor</td>\n",
       "      <td>Negative</td>\n",
       "      <td>0.241935</td>\n",
       "      <td>False</td>\n",
       "      <td>False</td>\n",
       "      <td>True</td>\n",
       "      <td>True</td>\n",
       "    </tr>\n",
       "    <tr>\n",
       "      <th>433</th>\n",
       "      <td>N14</td>\n",
       "      <td>432.0</td>\n",
       "      <td>6.944445</td>\n",
       "      <td>T2_1</td>\n",
       "      <td>T2</td>\n",
       "      <td>P2</td>\n",
       "      <td>pT3a</td>\n",
       "      <td>20_11_12</td>\n",
       "      <td>old</td>\n",
       "      <td>Open</td>\n",
       "      <td>Male</td>\n",
       "      <td>75</td>\n",
       "      <td>60</td>\n",
       "      <td>Tumor</td>\n",
       "      <td>Negative</td>\n",
       "      <td>0.061564</td>\n",
       "      <td>False</td>\n",
       "      <td>False</td>\n",
       "      <td>False</td>\n",
       "      <td>False</td>\n",
       "    </tr>\n",
       "  </tbody>\n",
       "</table>\n",
       "</div>"
      ],
      "text/plain": [
       "    library total_counts pct_counts_mito library2 sample patient pT stage  \\\n",
       "2       N14        449.0        0.668151     T2_1     T2      P2     pT3a   \n",
       "19      N14        449.0        4.231626     T2_1     T2      P2     pT3a   \n",
       "363     N14       1229.0       10.659073     T2_1     T2      P2     pT3a   \n",
       "413     N14        732.0        4.781421     T2_1     T2      P2     pT3a   \n",
       "433     N14        432.0        6.944445     T2_1     T2      P2     pT3a   \n",
       "\n",
       "     seq_date beads operation   sex tumor size, mm age tissue  necrosis  \\\n",
       "2    20_11_12   old      Open  Male             75  60  Tumor  Negative   \n",
       "19   20_11_12   old      Open  Male             75  60  Tumor  Negative   \n",
       "363  20_11_12   old      Open  Male             75  60  Tumor  Negative   \n",
       "413  20_11_12   old      Open  Male             75  60  Tumor  Negative   \n",
       "433  20_11_12   old      Open  Male             75  60  Tumor  Negative   \n",
       "\n",
       "     doublet_score potential_doublet top3pct_dbtl_score top5pct_dbtl_score  \\\n",
       "2         0.026847             False              False              False   \n",
       "19        0.045685             False              False              False   \n",
       "363       0.102625             False              False              False   \n",
       "413       0.241935             False              False               True   \n",
       "433       0.061564             False              False              False   \n",
       "\n",
       "    top10pct_dbtl_score  \n",
       "2                 False  \n",
       "19                False  \n",
       "363               False  \n",
       "413                True  \n",
       "433               False  "
      ]
     },
     "execution_count": 21,
     "metadata": {},
     "output_type": "execute_result"
    }
   ],
   "source": [
    "obs.head()"
   ]
  },
  {
   "cell_type": "code",
   "execution_count": 22,
   "metadata": {},
   "outputs": [
    {
     "data": {
      "text/plain": [
       "dict_keys(['T2_1', 'N3_1', 'N4_1', 'N2_1', 'T3_1', 'N6_1', 'N5_1', 'N7_1', 'N8_1', 'T5_2', 'T6_3', 'T7_3', 'T8_3', 'T5_1', 'T6_1', 'T6_2', 'T7_2', 'T7_1', 'T8_2', 'T8_1', 'N9_1', 'T9_1', 'T9_2', 'T9_3', 'N1_old', 'N2_old', 'N3_old', 'N4_old', 'T2_old', 'T3_old', 'T4_old'])"
      ]
     },
     "execution_count": 22,
     "metadata": {},
     "output_type": "execute_result"
    }
   ],
   "source": [
    "doub_score_dict.keys()"
   ]
  },
  {
   "cell_type": "code",
   "execution_count": 23,
   "metadata": {},
   "outputs": [
    {
     "data": {
      "text/plain": [
       "31"
      ]
     },
     "execution_count": 23,
     "metadata": {},
     "output_type": "execute_result"
    }
   ],
   "source": [
    "len(doub_score_dict.keys())"
   ]
  },
  {
   "cell_type": "code",
   "execution_count": 25,
   "metadata": {},
   "outputs": [
    {
     "data": {
      "text/plain": [
       "31"
      ]
     },
     "execution_count": 25,
     "metadata": {},
     "output_type": "execute_result"
    }
   ],
   "source": [
    "len(adata.obs['library2'].unique())"
   ]
  },
  {
   "cell_type": "markdown",
   "metadata": {},
   "source": [
    "## Save obs only"
   ]
  },
  {
   "cell_type": "code",
   "execution_count": 26,
   "metadata": {},
   "outputs": [
    {
     "name": "stdout",
     "output_type": "stream",
     "text": [
      "backups_JZ_2022/scrub_obs_info_51196x20_220125_16h34\n"
     ]
    },
    {
     "name": "stderr",
     "output_type": "stream",
     "text": [
      "/Users/justina/opt/anaconda3/envs/singlec4/lib/python3.8/site-packages/numpy/lib/format.py:362: UserWarning: metadata on a dtype may be saved or ignored, but will raise if saved when read. Use another form of storage.\n",
      "  d['descr'] = dtype_to_descr(array.dtype)\n"
     ]
    }
   ],
   "source": [
    "# save the update obs dataframe\n",
    "# no need to save the entire adata object, counts didn't change\n",
    "\n",
    "fname = 'backups_JZ_2022/scrub_obs_info_%dx%d_%s'%(obs.shape[0],obs.shape[1],rz.now())\n",
    "print(fname)\n",
    "rz.save_df(obs,fname)"
   ]
  },
  {
   "cell_type": "markdown",
   "metadata": {},
   "source": [
    "## Optional: add colotrack to SPRING"
   ]
  },
  {
   "cell_type": "code",
   "execution_count": 27,
   "metadata": {},
   "outputs": [],
   "source": [
    "# path was specified earlier\n",
    "\n",
    "# select to append:\n",
    "toappend = ['potential_doublet',\n",
    "            'top3pct_dbtl_score','top5pct_dbtl_score','top10pct_dbtl_score']\n",
    "\n",
    "toappend_cont = ['doublet_score']\n",
    "\n",
    "# color dictionary\n",
    "cdd = srz.read_cell_groupings(project_dir+plot_name+'/categorical_coloring_data.json')\n",
    "cdd = {key:value['label_colors'] for key,value in cdd.items()}\n",
    "\n",
    "# get cell filter:\n",
    "cell_ix = np.loadtxt(project_dir+plot_name+'/cell_filter.txt',dtype=int)\n",
    "\n",
    "# prepare cell groupings dictionary (discrete)\n",
    "cg = obs.iloc[cell_ix][toappend].astype(str).to_dict(orient='list')\n",
    "\n",
    "# prepare numerical\n",
    "ctracks = obs[cell_mask][toappend_cont].fillna(0).astype(float).to_dict(orient='list')\n",
    "\n",
    "# append categorical\n",
    "srz.append_cell_groupings(project_dir+plot_name,cg,colordd=cdd)\n",
    "# append numerical\n",
    "srz.append_color_tracks(ctracks,project_dir+plot_name,backup=True)"
   ]
  },
  {
   "cell_type": "code",
   "execution_count": 28,
   "metadata": {},
   "outputs": [],
   "source": [
    "plot_name = 'kidney_v0_156_v2000' #adding to umap as well"
   ]
  },
  {
   "cell_type": "code",
   "execution_count": 29,
   "metadata": {},
   "outputs": [],
   "source": [
    "# color dictionary\n",
    "cdd = srz.read_cell_groupings(project_dir+plot_name+'/categorical_coloring_data.json')\n",
    "cdd = {key:value['label_colors'] for key,value in cdd.items()}\n",
    "\n",
    "# get cell filter:\n",
    "cell_ix = np.loadtxt(project_dir+plot_name+'/cell_filter.txt',dtype=int)\n",
    "\n",
    "# prepare cell groupings dictionary (discrete)\n",
    "cg = obs.iloc[cell_ix][toappend].astype(str).to_dict(orient='list')\n",
    "\n",
    "# prepare numerical\n",
    "ctracks = obs[cell_mask][toappend_cont].fillna(0).astype(float).to_dict(orient='list')\n",
    "\n",
    "# append categorical\n",
    "srz.append_cell_groupings(project_dir+plot_name,cg,colordd=cdd)\n",
    "# append numerical\n",
    "srz.append_color_tracks(ctracks,project_dir+plot_name,backup=True)"
   ]
  },
  {
   "cell_type": "code",
   "execution_count": null,
   "metadata": {},
   "outputs": [],
   "source": []
  }
 ],
 "metadata": {
  "kernelspec": {
   "display_name": "Python 3",
   "language": "python",
   "name": "python3"
  },
  "language_info": {
   "codemirror_mode": {
    "name": "ipython",
    "version": 3
   },
   "file_extension": ".py",
   "mimetype": "text/x-python",
   "name": "python",
   "nbconvert_exporter": "python",
   "pygments_lexer": "ipython3",
   "version": "3.8.12"
  },
  "toc": {
   "base_numbering": 1,
   "nav_menu": {},
   "number_sections": true,
   "sideBar": true,
   "skip_h1_title": true,
   "title_cell": "Table of Contents",
   "title_sidebar": "Contents",
   "toc_cell": false,
   "toc_position": {},
   "toc_section_display": true,
   "toc_window_display": false
  }
 },
 "nbformat": 4,
 "nbformat_minor": 4
}
