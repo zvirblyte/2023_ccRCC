{
 "cells": [
  {
   "cell_type": "markdown",
   "metadata": {},
   "source": [
    "### Import scanpy"
   ]
  },
  {
   "cell_type": "code",
   "execution_count": 1,
   "metadata": {},
   "outputs": [],
   "source": [
    "import scanpy as sc\n",
    "import scanpy.external as sce\n",
    "#sc.logging.print_versions()\n",
    "#sc.logging.print_memory_usage()\n",
    "#sc.settings.verbosity = 2\n",
    "import os,sys\n",
    "import datetime\n",
    "import numpy as np\n",
    "import pandas as pd\n",
    "import math\n",
    "import matplotlib.ticker as mticker\n"
   ]
  },
  {
   "cell_type": "code",
   "execution_count": 2,
   "metadata": {},
   "outputs": [],
   "source": [
    "import seaborn as sns\n",
    "import matplotlib.pyplot as plt\n",
    "import matplotlib as mpl\n",
    "import matplotlib.patches as patches\n",
    "from matplotlib import cm\n",
    "from matplotlib.lines import Line2D\n",
    "from matplotlib.offsetbox import AnchoredOffsetbox, TextArea, HPacker, VPacker"
   ]
  },
  {
   "cell_type": "code",
   "execution_count": 3,
   "metadata": {
    "scrolled": true
   },
   "outputs": [
    {
     "name": "stdout",
     "output_type": "stream",
     "text": [
      "python version: 3.8.12\n"
     ]
    }
   ],
   "source": [
    "# add the utility function folder to PATH\n",
    "sys.path.append(os.path.abspath(\"utility_functions_190403_12h24/\"))\n",
    "\n",
    "from rz_import_statements import *\n",
    "import rz_functions as rz\n",
    "import rz_fig_params # this adjust mpl.rcParams, almost nothing to import, import after scanpy to overwrite rc.Params\n",
    "import rz_utility_spring as srz"
   ]
  },
  {
   "cell_type": "markdown",
   "metadata": {},
   "source": [
    "# Load data"
   ]
  },
  {
   "cell_type": "code",
   "execution_count": 4,
   "metadata": {},
   "outputs": [],
   "source": [
    "adata = sc.read_h5ad('backups_JZ_2022/clean_kidney_304_15tr_25c_batch_corrected_50236x2000_220315_12h14.h5ad') "
   ]
  },
  {
   "cell_type": "code",
   "execution_count": 5,
   "metadata": {},
   "outputs": [],
   "source": [
    "# overwrite obs with the most recent version\n",
    "filename = 'backups_JZ_2022/corrected_obs_info_50236x32_221012_12h04.npz'\n",
    "encoding = 'latin1'\n",
    "\n",
    "with np.load(filename,encoding=encoding, allow_pickle = True) as f:\n",
    "    obs = pd.DataFrame(**f)\n",
    "adata.obs = obs"
   ]
  },
  {
   "cell_type": "code",
   "execution_count": 6,
   "metadata": {},
   "outputs": [
    {
     "data": {
      "text/html": [
       "<div>\n",
       "<style scoped>\n",
       "    .dataframe tbody tr th:only-of-type {\n",
       "        vertical-align: middle;\n",
       "    }\n",
       "\n",
       "    .dataframe tbody tr th {\n",
       "        vertical-align: top;\n",
       "    }\n",
       "\n",
       "    .dataframe thead th {\n",
       "        text-align: right;\n",
       "    }\n",
       "</style>\n",
       "<table border=\"1\" class=\"dataframe\">\n",
       "  <thead>\n",
       "    <tr style=\"text-align: right;\">\n",
       "      <th></th>\n",
       "      <th>library</th>\n",
       "      <th>total_counts</th>\n",
       "      <th>pct_counts_mito</th>\n",
       "      <th>library2</th>\n",
       "      <th>sample</th>\n",
       "      <th>patient</th>\n",
       "      <th>pT stage</th>\n",
       "      <th>seq_date</th>\n",
       "      <th>beads</th>\n",
       "      <th>operation</th>\n",
       "      <th>...</th>\n",
       "      <th>n_counts</th>\n",
       "      <th>no_dblt_no_rbc</th>\n",
       "      <th>sp_cl_43</th>\n",
       "      <th>cell_type</th>\n",
       "      <th>broad_cell_type</th>\n",
       "      <th>color</th>\n",
       "      <th>cell_group</th>\n",
       "      <th>stage_color</th>\n",
       "      <th>patient_color</th>\n",
       "      <th>group_color</th>\n",
       "    </tr>\n",
       "  </thead>\n",
       "  <tbody>\n",
       "    <tr>\n",
       "      <th>2</th>\n",
       "      <td>N14</td>\n",
       "      <td>449</td>\n",
       "      <td>0.668151</td>\n",
       "      <td>T2_1</td>\n",
       "      <td>T2</td>\n",
       "      <td>P2</td>\n",
       "      <td>pT3a</td>\n",
       "      <td>20_11_12</td>\n",
       "      <td>old</td>\n",
       "      <td>Open</td>\n",
       "      <td>...</td>\n",
       "      <td>449</td>\n",
       "      <td>True</td>\n",
       "      <td>40</td>\n",
       "      <td>TAM 4</td>\n",
       "      <td>Immune</td>\n",
       "      <td>#9a5ce0</td>\n",
       "      <td>Myeloid cells</td>\n",
       "      <td>#8c1a1a</td>\n",
       "      <td>#e87f7f</td>\n",
       "      <td>#85619c</td>\n",
       "    </tr>\n",
       "    <tr>\n",
       "      <th>19</th>\n",
       "      <td>N14</td>\n",
       "      <td>449</td>\n",
       "      <td>4.23163</td>\n",
       "      <td>T2_1</td>\n",
       "      <td>T2</td>\n",
       "      <td>P2</td>\n",
       "      <td>pT3a</td>\n",
       "      <td>20_11_12</td>\n",
       "      <td>old</td>\n",
       "      <td>Open</td>\n",
       "      <td>...</td>\n",
       "      <td>449</td>\n",
       "      <td>True</td>\n",
       "      <td>37</td>\n",
       "      <td>TAM 3</td>\n",
       "      <td>Immune</td>\n",
       "      <td>#943886</td>\n",
       "      <td>Myeloid cells</td>\n",
       "      <td>#8c1a1a</td>\n",
       "      <td>#e87f7f</td>\n",
       "      <td>#85619c</td>\n",
       "    </tr>\n",
       "    <tr>\n",
       "      <th>363</th>\n",
       "      <td>N14</td>\n",
       "      <td>1229</td>\n",
       "      <td>10.6591</td>\n",
       "      <td>T2_1</td>\n",
       "      <td>T2</td>\n",
       "      <td>P2</td>\n",
       "      <td>pT3a</td>\n",
       "      <td>20_11_12</td>\n",
       "      <td>old</td>\n",
       "      <td>Open</td>\n",
       "      <td>...</td>\n",
       "      <td>1229</td>\n",
       "      <td>True</td>\n",
       "      <td>22</td>\n",
       "      <td>Tumor cells 2</td>\n",
       "      <td>Tumor</td>\n",
       "      <td>#b06c6c</td>\n",
       "      <td>Tumor cells</td>\n",
       "      <td>#8c1a1a</td>\n",
       "      <td>#e87f7f</td>\n",
       "      <td>#db2f2c</td>\n",
       "    </tr>\n",
       "    <tr>\n",
       "      <th>433</th>\n",
       "      <td>N14</td>\n",
       "      <td>432</td>\n",
       "      <td>6.94444</td>\n",
       "      <td>T2_1</td>\n",
       "      <td>T2</td>\n",
       "      <td>P2</td>\n",
       "      <td>pT3a</td>\n",
       "      <td>20_11_12</td>\n",
       "      <td>old</td>\n",
       "      <td>Open</td>\n",
       "      <td>...</td>\n",
       "      <td>432</td>\n",
       "      <td>True</td>\n",
       "      <td>27</td>\n",
       "      <td>Tumor cells 3</td>\n",
       "      <td>Tumor</td>\n",
       "      <td>#db2f2c</td>\n",
       "      <td>Tumor cells</td>\n",
       "      <td>#8c1a1a</td>\n",
       "      <td>#e87f7f</td>\n",
       "      <td>#db2f2c</td>\n",
       "    </tr>\n",
       "    <tr>\n",
       "      <th>444</th>\n",
       "      <td>N14</td>\n",
       "      <td>502</td>\n",
       "      <td>4.98008</td>\n",
       "      <td>T2_1</td>\n",
       "      <td>T2</td>\n",
       "      <td>P2</td>\n",
       "      <td>pT3a</td>\n",
       "      <td>20_11_12</td>\n",
       "      <td>old</td>\n",
       "      <td>Open</td>\n",
       "      <td>...</td>\n",
       "      <td>502</td>\n",
       "      <td>True</td>\n",
       "      <td>28</td>\n",
       "      <td>Tumor vasculature 4</td>\n",
       "      <td>Endothelial</td>\n",
       "      <td>#a35927</td>\n",
       "      <td>Endothelium</td>\n",
       "      <td>#8c1a1a</td>\n",
       "      <td>#e87f7f</td>\n",
       "      <td>#e07c57</td>\n",
       "    </tr>\n",
       "    <tr>\n",
       "      <th>...</th>\n",
       "      <td>...</td>\n",
       "      <td>...</td>\n",
       "      <td>...</td>\n",
       "      <td>...</td>\n",
       "      <td>...</td>\n",
       "      <td>...</td>\n",
       "      <td>...</td>\n",
       "      <td>...</td>\n",
       "      <td>...</td>\n",
       "      <td>...</td>\n",
       "      <td>...</td>\n",
       "      <td>...</td>\n",
       "      <td>...</td>\n",
       "      <td>...</td>\n",
       "      <td>...</td>\n",
       "      <td>...</td>\n",
       "      <td>...</td>\n",
       "      <td>...</td>\n",
       "      <td>...</td>\n",
       "      <td>...</td>\n",
       "      <td>...</td>\n",
       "    </tr>\n",
       "    <tr>\n",
       "      <th>4865536</th>\n",
       "      <td>Tumor0228</td>\n",
       "      <td>683</td>\n",
       "      <td>9.37042</td>\n",
       "      <td>T4_old</td>\n",
       "      <td>T4</td>\n",
       "      <td>P4</td>\n",
       "      <td>pT3a</td>\n",
       "      <td>old</td>\n",
       "      <td>old</td>\n",
       "      <td>Open</td>\n",
       "      <td>...</td>\n",
       "      <td>683</td>\n",
       "      <td>True</td>\n",
       "      <td>30</td>\n",
       "      <td>TAM 2</td>\n",
       "      <td>Immune</td>\n",
       "      <td>#532b6b</td>\n",
       "      <td>Myeloid cells</td>\n",
       "      <td>#8c1a1a</td>\n",
       "      <td>#70c3d4</td>\n",
       "      <td>#85619c</td>\n",
       "    </tr>\n",
       "    <tr>\n",
       "      <th>4865584</th>\n",
       "      <td>Tumor0228</td>\n",
       "      <td>1473</td>\n",
       "      <td>6.51731</td>\n",
       "      <td>T4_old</td>\n",
       "      <td>T4</td>\n",
       "      <td>P4</td>\n",
       "      <td>pT3a</td>\n",
       "      <td>old</td>\n",
       "      <td>old</td>\n",
       "      <td>Open</td>\n",
       "      <td>...</td>\n",
       "      <td>1473</td>\n",
       "      <td>True</td>\n",
       "      <td>30</td>\n",
       "      <td>TAM 2</td>\n",
       "      <td>Immune</td>\n",
       "      <td>#532b6b</td>\n",
       "      <td>Myeloid cells</td>\n",
       "      <td>#8c1a1a</td>\n",
       "      <td>#70c3d4</td>\n",
       "      <td>#85619c</td>\n",
       "    </tr>\n",
       "    <tr>\n",
       "      <th>4865642</th>\n",
       "      <td>Tumor0228</td>\n",
       "      <td>498</td>\n",
       "      <td>9.43775</td>\n",
       "      <td>T4_old</td>\n",
       "      <td>T4</td>\n",
       "      <td>P4</td>\n",
       "      <td>pT3a</td>\n",
       "      <td>old</td>\n",
       "      <td>old</td>\n",
       "      <td>Open</td>\n",
       "      <td>...</td>\n",
       "      <td>498</td>\n",
       "      <td>True</td>\n",
       "      <td>37</td>\n",
       "      <td>TAM 3</td>\n",
       "      <td>Immune</td>\n",
       "      <td>#943886</td>\n",
       "      <td>Myeloid cells</td>\n",
       "      <td>#8c1a1a</td>\n",
       "      <td>#70c3d4</td>\n",
       "      <td>#85619c</td>\n",
       "    </tr>\n",
       "    <tr>\n",
       "      <th>4865726</th>\n",
       "      <td>Tumor0228</td>\n",
       "      <td>421</td>\n",
       "      <td>19.2399</td>\n",
       "      <td>T4_old</td>\n",
       "      <td>T4</td>\n",
       "      <td>P4</td>\n",
       "      <td>pT3a</td>\n",
       "      <td>old</td>\n",
       "      <td>old</td>\n",
       "      <td>Open</td>\n",
       "      <td>...</td>\n",
       "      <td>421</td>\n",
       "      <td>True</td>\n",
       "      <td>27</td>\n",
       "      <td>Tumor cells 3</td>\n",
       "      <td>Tumor</td>\n",
       "      <td>#db2f2c</td>\n",
       "      <td>Tumor cells</td>\n",
       "      <td>#8c1a1a</td>\n",
       "      <td>#70c3d4</td>\n",
       "      <td>#db2f2c</td>\n",
       "    </tr>\n",
       "    <tr>\n",
       "      <th>4866011</th>\n",
       "      <td>Tumor0228</td>\n",
       "      <td>763</td>\n",
       "      <td>3.80079</td>\n",
       "      <td>T4_old</td>\n",
       "      <td>T4</td>\n",
       "      <td>P4</td>\n",
       "      <td>pT3a</td>\n",
       "      <td>old</td>\n",
       "      <td>old</td>\n",
       "      <td>Open</td>\n",
       "      <td>...</td>\n",
       "      <td>763</td>\n",
       "      <td>True</td>\n",
       "      <td>42</td>\n",
       "      <td>Resting/memory T cells</td>\n",
       "      <td>Immune</td>\n",
       "      <td>#4f9e58</td>\n",
       "      <td>Lymphoid cells</td>\n",
       "      <td>#8c1a1a</td>\n",
       "      <td>#70c3d4</td>\n",
       "      <td>#4f9e58</td>\n",
       "    </tr>\n",
       "  </tbody>\n",
       "</table>\n",
       "<p>50236 rows × 32 columns</p>\n",
       "</div>"
      ],
      "text/plain": [
       "           library total_counts pct_counts_mito library2 sample patient  \\\n",
       "2              N14          449        0.668151     T2_1     T2      P2   \n",
       "19             N14          449         4.23163     T2_1     T2      P2   \n",
       "363            N14         1229         10.6591     T2_1     T2      P2   \n",
       "433            N14          432         6.94444     T2_1     T2      P2   \n",
       "444            N14          502         4.98008     T2_1     T2      P2   \n",
       "...            ...          ...             ...      ...    ...     ...   \n",
       "4865536  Tumor0228          683         9.37042   T4_old     T4      P4   \n",
       "4865584  Tumor0228         1473         6.51731   T4_old     T4      P4   \n",
       "4865642  Tumor0228          498         9.43775   T4_old     T4      P4   \n",
       "4865726  Tumor0228          421         19.2399   T4_old     T4      P4   \n",
       "4866011  Tumor0228          763         3.80079   T4_old     T4      P4   \n",
       "\n",
       "        pT stage  seq_date beads operation  ... n_counts no_dblt_no_rbc  \\\n",
       "2           pT3a  20_11_12   old      Open  ...      449           True   \n",
       "19          pT3a  20_11_12   old      Open  ...      449           True   \n",
       "363         pT3a  20_11_12   old      Open  ...     1229           True   \n",
       "433         pT3a  20_11_12   old      Open  ...      432           True   \n",
       "444         pT3a  20_11_12   old      Open  ...      502           True   \n",
       "...          ...       ...   ...       ...  ...      ...            ...   \n",
       "4865536     pT3a       old   old      Open  ...      683           True   \n",
       "4865584     pT3a       old   old      Open  ...     1473           True   \n",
       "4865642     pT3a       old   old      Open  ...      498           True   \n",
       "4865726     pT3a       old   old      Open  ...      421           True   \n",
       "4866011     pT3a       old   old      Open  ...      763           True   \n",
       "\n",
       "        sp_cl_43               cell_type broad_cell_type    color  \\\n",
       "2             40                   TAM 4          Immune  #9a5ce0   \n",
       "19            37                   TAM 3          Immune  #943886   \n",
       "363           22           Tumor cells 2           Tumor  #b06c6c   \n",
       "433           27           Tumor cells 3           Tumor  #db2f2c   \n",
       "444           28     Tumor vasculature 4     Endothelial  #a35927   \n",
       "...          ...                     ...             ...      ...   \n",
       "4865536       30                   TAM 2          Immune  #532b6b   \n",
       "4865584       30                   TAM 2          Immune  #532b6b   \n",
       "4865642       37                   TAM 3          Immune  #943886   \n",
       "4865726       27           Tumor cells 3           Tumor  #db2f2c   \n",
       "4866011       42  Resting/memory T cells          Immune  #4f9e58   \n",
       "\n",
       "             cell_group stage_color patient_color group_color  \n",
       "2         Myeloid cells     #8c1a1a       #e87f7f     #85619c  \n",
       "19        Myeloid cells     #8c1a1a       #e87f7f     #85619c  \n",
       "363         Tumor cells     #8c1a1a       #e87f7f     #db2f2c  \n",
       "433         Tumor cells     #8c1a1a       #e87f7f     #db2f2c  \n",
       "444         Endothelium     #8c1a1a       #e87f7f     #e07c57  \n",
       "...                 ...         ...           ...         ...  \n",
       "4865536   Myeloid cells     #8c1a1a       #70c3d4     #85619c  \n",
       "4865584   Myeloid cells     #8c1a1a       #70c3d4     #85619c  \n",
       "4865642   Myeloid cells     #8c1a1a       #70c3d4     #85619c  \n",
       "4865726     Tumor cells     #8c1a1a       #70c3d4     #db2f2c  \n",
       "4866011  Lymphoid cells     #8c1a1a       #70c3d4     #4f9e58  \n",
       "\n",
       "[50236 rows x 32 columns]"
      ]
     },
     "execution_count": 6,
     "metadata": {},
     "output_type": "execute_result"
    }
   ],
   "source": [
    "adata.obs"
   ]
  },
  {
   "cell_type": "markdown",
   "metadata": {},
   "source": [
    "### Scale (normalize) data"
   ]
  },
  {
   "cell_type": "code",
   "execution_count": 7,
   "metadata": {},
   "outputs": [],
   "source": [
    "adata = adata.raw.to_adata()"
   ]
  },
  {
   "cell_type": "code",
   "execution_count": 9,
   "metadata": {
    "scrolled": true
   },
   "outputs": [
    {
     "name": "stdout",
     "output_type": "stream",
     "text": [
      "[[ 449.]\n",
      " [ 449.]\n",
      " [1229.]\n",
      " [ 432.]\n",
      " [ 502.]]\n",
      "\n",
      "[[10000.001]\n",
      " [10000.   ]\n",
      " [10000.001]\n",
      " [10000.   ]\n",
      " [10000.   ]]\n"
     ]
    }
   ],
   "source": [
    "# turn into counts per 10k\n",
    "print(adata.X[:5,:].sum(axis=1))\n",
    "print()\n",
    "sc.pp.normalize_per_cell(adata, counts_per_cell_after=1e4)\n",
    "print(adata.X[:5,:].sum(axis=1))"
   ]
  },
  {
   "cell_type": "code",
   "execution_count": 10,
   "metadata": {},
   "outputs": [],
   "source": [
    "#some parameters for plots\n",
    "import matplotlib as mpl\n",
    "mpl.rc('font',family='Arial')\n",
    "mpl.rcParams['pdf.fonttype'] = 42\n",
    "mpl.rcParams['ps.fonttype'] = 42"
   ]
  },
  {
   "cell_type": "markdown",
   "metadata": {},
   "source": [
    "# Get genes enriched within vasculature sub-populations"
   ]
  },
  {
   "cell_type": "code",
   "execution_count": 11,
   "metadata": {},
   "outputs": [
    {
     "data": {
      "text/plain": [
       "array(['TAM 4', 'TAM 3', 'Tumor cells 2', 'Tumor cells 3',\n",
       "       'Tumor vasculature 4', 'TAM 1', 'CD8 T cells', 'TAM 2',\n",
       "       'Resting/memory T cells', 'Cytotoxic T cells',\n",
       "       'Tumor vasculature 2', 'Tumor vasculature 1',\n",
       "       'Non-classical monocytes', 'Mesangial/vSMCs',\n",
       "       'IGHG-high plasma cells', 'Mast cells', 'Tumor vasculature 3',\n",
       "       'Plasma cells', 'Tumor AVR-like vasculature', 'Cycling', 'vSMCs',\n",
       "       'NK cells', 'Classical monocytes', 'B cells', 'Myofibroblasts',\n",
       "       'Regulatory T cells', 'Tumor cells 1', 'Proximal tubule', 'AVR',\n",
       "       'Epithelial progenitor-like cells', 'tAL of LOH',\n",
       "       'Glomerular endothelium', 'Principal cells', 'TAL of LOH', 'DVR',\n",
       "       'Type A-ICs', 'OM Type A-ICs', 'Type B-IC', 'Podocytes', 'DCT/CNT'],\n",
       "      dtype=object)"
      ]
     },
     "execution_count": 11,
     "metadata": {},
     "output_type": "execute_result"
    }
   ],
   "source": [
    "adata.obs['cell_type'].unique()"
   ]
  },
  {
   "cell_type": "code",
   "execution_count": 12,
   "metadata": {},
   "outputs": [
    {
     "name": "stdout",
     "output_type": "stream",
     "text": [
      "6394\n"
     ]
    }
   ],
   "source": [
    "#subset cells using cmask\n",
    "cmask = adata.obs['cell_type'].isin(['Tumor vasculature 1', 'Tumor vasculature 2', \n",
    "                                     'Tumor vasculature 3', 'Tumor vasculature 4',\n",
    "                                     'Tumor AVR-like vasculature', 'AVR', 'DVR', 'Glomerular endothelium']).values\n",
    "#cmask = np.repeat(True,adata.shape[0])\n",
    "print(cmask.sum())"
   ]
  },
  {
   "cell_type": "code",
   "execution_count": 19,
   "metadata": {},
   "outputs": [],
   "source": [
    "# get centroids\n",
    "thelabel = 'cell_type'\n",
    "centroids = rz.centroids(thelabel,adata[cmask])"
   ]
  },
  {
   "cell_type": "code",
   "execution_count": 20,
   "metadata": {},
   "outputs": [],
   "source": [
    "# For each cluster, find genes that are statistically significantly higher or lower in cluster x compared to\n",
    "# all other cells collectively\n",
    "\n",
    "#label-free filter to remove very low abundance genes:\n",
    "min_counts = 15\n",
    "min_cells = 15"
   ]
  },
  {
   "cell_type": "code",
   "execution_count": 21,
   "metadata": {},
   "outputs": [
    {
     "name": "stdout",
     "output_type": "stream",
     "text": [
      "6758 genes passing abundance filter\n"
     ]
    }
   ],
   "source": [
    "gmask = srz.filter_abund_genes(adata.X[cmask], min_counts, min_cells)"
   ]
  },
  {
   "cell_type": "code",
   "execution_count": 113,
   "metadata": {},
   "outputs": [
    {
     "name": "stdout",
     "output_type": "stream",
     "text": [
      "1000\n",
      "2000\n",
      "3000\n",
      "4000\n",
      "5000\n",
      "6000\n",
      "1/8\n",
      "Tumor vasculature 4 done 6394\n",
      "1000\n",
      "2000\n",
      "3000\n",
      "4000\n",
      "5000\n",
      "6000\n",
      "2/8\n",
      "Tumor vasculature 2 done 6394\n",
      "1000\n",
      "2000\n",
      "3000\n",
      "4000\n",
      "5000\n",
      "6000\n",
      "3/8\n",
      "Tumor vasculature 1 done 6394\n",
      "1000\n",
      "2000\n",
      "3000\n",
      "4000\n",
      "5000\n",
      "6000\n",
      "4/8\n",
      "Tumor vasculature 3 done 6394\n",
      "1000\n",
      "2000\n",
      "3000\n",
      "4000\n",
      "5000\n",
      "6000\n",
      "5/8\n",
      "Tumor AVR-like vasculature done 6394\n",
      "1000\n",
      "2000\n",
      "3000\n",
      "4000\n",
      "5000\n",
      "6000\n",
      "6/8\n",
      "AVR done 6394\n",
      "1000\n",
      "2000\n",
      "3000\n",
      "4000\n",
      "5000\n",
      "6000\n",
      "7/8\n",
      "Glomerular endothelium done 6394\n",
      "1000\n",
      "2000\n",
      "3000\n",
      "4000\n",
      "5000\n",
      "6000\n",
      "8/8\n",
      "DVR done 6394\n",
      "119.2220470905304\n",
      "backups_JZ_2022/1515vasculature_clusters_vs_rest_MWU_result_dict_221109_15h58cell_type\n"
     ]
    }
   ],
   "source": [
    "mwu_dict = {}\n",
    "start=time.time()\n",
    "counter=0\n",
    "\n",
    "meta = adata[cmask].obs\n",
    "E = adata[cmask].X\n",
    "gene_list = adata.var_names\n",
    "\n",
    "\n",
    "for cluster in meta[thelabel].unique():\n",
    "    counter+=1\n",
    "    mask1 = (meta[thelabel]==cluster).values\n",
    "    mask2 = mask1==False\n",
    "    \n",
    "    cg1 = np.array(E[:,gmask][mask1,:].todense())\n",
    "    cg2 = np.array(E[:,gmask][mask2,:].todense())\n",
    "    mwu_dict[cluster] = rz.mwu(cg1,cg2,genes=gene_list[gmask],print_progression=True)\n",
    "    print(\"%d/%d\"%(counter,len(meta[thelabel].unique())))\n",
    "    print(cluster, 'done',cg1.shape[0]+cg2.shape[0])\n",
    "print(time.time()-start)\n",
    "\n",
    "fname = 'backups_JZ_2022/1515vasculature_clusters_vs_rest_MWU_result_dict_%s%s'%(rz.now(), thelabel)\n",
    "print(fname)\n",
    "rz.save_stuff(mwu_dict,fname)"
   ]
  },
  {
   "cell_type": "code",
   "execution_count": 13,
   "metadata": {},
   "outputs": [],
   "source": [
    "#continuing from backup\n",
    "mwu_dict = rz.load_stuff('backups_JZ_2022/1515vasculature_clusters_vs_rest_MWU_result_dict_221109_15h58cell_type.pickle')"
   ]
  },
  {
   "cell_type": "code",
   "execution_count": 23,
   "metadata": {},
   "outputs": [],
   "source": [
    "# select pseudovalue to add\n",
    "pseudo = 1 # 1 counts per 10k"
   ]
  },
  {
   "cell_type": "code",
   "execution_count": 17,
   "metadata": {},
   "outputs": [
    {
     "name": "stdout",
     "output_type": "stream",
     "text": [
      "cell_type\n"
     ]
    }
   ],
   "source": [
    "print(thelabel)\n",
    "fcdict = rz.get_fc_to_all_other(\n",
    "        lab = thelabel,\n",
    "        meta = adata[cmask].obs,\n",
    "        E = adata[cmask].X,\n",
    "        pseudo = pseudo,\n",
    "        gene_list = adata.var_names,\n",
    "        )"
   ]
  },
  {
   "cell_type": "code",
   "execution_count": 18,
   "metadata": {},
   "outputs": [
    {
     "name": "stdout",
     "output_type": "stream",
     "text": [
      "6758\n",
      "Tumor vasculature 4 6287 6287\n",
      "Tumor vasculature 2 2565 2565\n",
      "Tumor vasculature 1 5061 5061\n",
      "Tumor vasculature 3 587 587\n",
      "Tumor AVR-like vasculature 2075 2075\n",
      "AVR 2730 2730\n",
      "Glomerular endothelium 1410 1410\n",
      "DVR 1216 1216\n"
     ]
    }
   ],
   "source": [
    "# leave only genes with a significant difference.\n",
    "fcdictsig = {}\n",
    "\n",
    "# before the mwu test, I prefiltered genes on abundance, apply this mask here as well\n",
    "print(gmask.sum())\n",
    "for key,value in fcdict.items():\n",
    "    sigmask = (mwu_dict[key]['fdr']<0.05).values\n",
    "    fcdictsig[key] = value[gmask][sigmask]\n",
    "    print(key,sigmask.sum(),len(fcdictsig[key]))"
   ]
  },
  {
   "cell_type": "code",
   "execution_count": 19,
   "metadata": {},
   "outputs": [
    {
     "data": {
      "text/plain": [
       "Tumor vasculature 4_FC           1.300676\n",
       "Tumor vasculature 2_FC           2.401833\n",
       "Tumor vasculature 1_FC           1.785793\n",
       "Tumor vasculature 3_FC           3.155826\n",
       "Tumor AVR-like vasculature_FC    2.350830\n",
       "AVR_FC                           2.512118\n",
       "Glomerular endothelium_FC        2.968899\n",
       "DVR_FC                           3.375497\n",
       "dtype: float32"
      ]
     },
     "execution_count": 19,
     "metadata": {},
     "output_type": "execute_result"
    }
   ],
   "source": [
    "# nr genes to consider:\n",
    "upto = 15 #genes to generate heatmap and table S10\n",
    "\n",
    "frame = {}\n",
    "for key,value in fcdictsig.items():\n",
    "    s = value.sort_values(ascending=False)[:upto]\n",
    "    key2 = str(key)+'_FC'\n",
    "    frame[str(key)] = s.index\n",
    "    frame[key2] = s.values\n",
    "frame = pd.DataFrame(frame)\n",
    "frame[[i for i in frame.columns if \"FC\" in i]].min() #ok, all above 1."
   ]
  },
  {
   "cell_type": "code",
   "execution_count": 27,
   "metadata": {},
   "outputs": [],
   "source": [
    "outdir = 'outputs_JZ_2022/'"
   ]
  },
  {
   "cell_type": "code",
   "execution_count": 120,
   "metadata": {},
   "outputs": [
    {
     "name": "stdout",
     "output_type": "stream",
     "text": [
      "outputs_JZ_2022/vasculature_lists1515_enriched_genes_top_15_cell_type_221109_15h58.xlsx\n"
     ]
    }
   ],
   "source": [
    "#save the results\n",
    "fname = outdir+'vasculature_lists1515_enriched_genes_top_%d_%s_%s.xlsx'%(upto,thelabel,rz.now())\n",
    "print(fname)\n",
    "frame.to_excel(fname)"
   ]
  },
  {
   "cell_type": "code",
   "execution_count": 121,
   "metadata": {},
   "outputs": [
    {
     "data": {
      "text/html": [
       "<div>\n",
       "<style scoped>\n",
       "    .dataframe tbody tr th:only-of-type {\n",
       "        vertical-align: middle;\n",
       "    }\n",
       "\n",
       "    .dataframe tbody tr th {\n",
       "        vertical-align: top;\n",
       "    }\n",
       "\n",
       "    .dataframe thead th {\n",
       "        text-align: right;\n",
       "    }\n",
       "</style>\n",
       "<table border=\"1\" class=\"dataframe\">\n",
       "  <thead>\n",
       "    <tr style=\"text-align: right;\">\n",
       "      <th></th>\n",
       "      <th>Tumor vasculature 4</th>\n",
       "      <th>Tumor vasculature 4_FC</th>\n",
       "      <th>Tumor vasculature 2</th>\n",
       "      <th>Tumor vasculature 2_FC</th>\n",
       "      <th>Tumor vasculature 1</th>\n",
       "      <th>Tumor vasculature 1_FC</th>\n",
       "      <th>Tumor vasculature 3</th>\n",
       "      <th>Tumor vasculature 3_FC</th>\n",
       "      <th>Tumor AVR-like vasculature</th>\n",
       "      <th>Tumor AVR-like vasculature_FC</th>\n",
       "      <th>AVR</th>\n",
       "      <th>AVR_FC</th>\n",
       "      <th>Glomerular endothelium</th>\n",
       "      <th>Glomerular endothelium_FC</th>\n",
       "      <th>DVR</th>\n",
       "      <th>DVR_FC</th>\n",
       "    </tr>\n",
       "  </thead>\n",
       "  <tbody>\n",
       "    <tr>\n",
       "      <th>0</th>\n",
       "      <td>MTRNR2L8</td>\n",
       "      <td>1.581719</td>\n",
       "      <td>ENPP2</td>\n",
       "      <td>9.767940</td>\n",
       "      <td>VWA1</td>\n",
       "      <td>2.616652</td>\n",
       "      <td>LY6H</td>\n",
       "      <td>21.325401</td>\n",
       "      <td>ACKR1</td>\n",
       "      <td>17.103901</td>\n",
       "      <td>DNASE1L3</td>\n",
       "      <td>8.987769</td>\n",
       "      <td>CRHBP</td>\n",
       "      <td>14.588342</td>\n",
       "      <td>SERPINE2</td>\n",
       "      <td>6.103241</td>\n",
       "    </tr>\n",
       "    <tr>\n",
       "      <th>1</th>\n",
       "      <td>NEAT1</td>\n",
       "      <td>1.552168</td>\n",
       "      <td>IGFBP3</td>\n",
       "      <td>9.256742</td>\n",
       "      <td>COL4A1</td>\n",
       "      <td>2.549790</td>\n",
       "      <td>PGF</td>\n",
       "      <td>9.738758</td>\n",
       "      <td>CLU</td>\n",
       "      <td>7.615246</td>\n",
       "      <td>ALDOB</td>\n",
       "      <td>4.359324</td>\n",
       "      <td>SOST</td>\n",
       "      <td>13.490231</td>\n",
       "      <td>S100A4</td>\n",
       "      <td>5.847677</td>\n",
       "    </tr>\n",
       "    <tr>\n",
       "      <th>2</th>\n",
       "      <td>C1QA</td>\n",
       "      <td>1.478222</td>\n",
       "      <td>STC1</td>\n",
       "      <td>4.198276</td>\n",
       "      <td>THY1</td>\n",
       "      <td>2.504225</td>\n",
       "      <td>APOD</td>\n",
       "      <td>7.798020</td>\n",
       "      <td>ADIRF</td>\n",
       "      <td>4.756512</td>\n",
       "      <td>CCL2</td>\n",
       "      <td>3.913952</td>\n",
       "      <td>EHD3</td>\n",
       "      <td>9.006966</td>\n",
       "      <td>SLC14A1</td>\n",
       "      <td>5.221536</td>\n",
       "    </tr>\n",
       "    <tr>\n",
       "      <th>3</th>\n",
       "      <td>RPLP0</td>\n",
       "      <td>1.445482</td>\n",
       "      <td>ESM1</td>\n",
       "      <td>3.315153</td>\n",
       "      <td>COL4A2</td>\n",
       "      <td>2.327312</td>\n",
       "      <td>CHST1</td>\n",
       "      <td>6.027846</td>\n",
       "      <td>NNMT</td>\n",
       "      <td>4.643841</td>\n",
       "      <td>MT1G</td>\n",
       "      <td>3.732059</td>\n",
       "      <td>PLAT</td>\n",
       "      <td>7.973589</td>\n",
       "      <td>GLUL</td>\n",
       "      <td>5.183988</td>\n",
       "    </tr>\n",
       "    <tr>\n",
       "      <th>4</th>\n",
       "      <td>APOC1</td>\n",
       "      <td>1.437539</td>\n",
       "      <td>ANGPT2</td>\n",
       "      <td>3.214932</td>\n",
       "      <td>RGCC</td>\n",
       "      <td>2.125020</td>\n",
       "      <td>CLDN5</td>\n",
       "      <td>5.740094</td>\n",
       "      <td>PTGDS</td>\n",
       "      <td>4.559468</td>\n",
       "      <td>MT1X</td>\n",
       "      <td>3.230410</td>\n",
       "      <td>IGFBP5</td>\n",
       "      <td>7.597638</td>\n",
       "      <td>KCTD12</td>\n",
       "      <td>4.928084</td>\n",
       "    </tr>\n",
       "    <tr>\n",
       "      <th>5</th>\n",
       "      <td>EEF1A1</td>\n",
       "      <td>1.411129</td>\n",
       "      <td>PRSS23</td>\n",
       "      <td>3.098238</td>\n",
       "      <td>PLVAP</td>\n",
       "      <td>2.105346</td>\n",
       "      <td>PRSS2</td>\n",
       "      <td>5.154946</td>\n",
       "      <td>TFF3</td>\n",
       "      <td>3.768075</td>\n",
       "      <td>GPX3</td>\n",
       "      <td>3.160701</td>\n",
       "      <td>EMCN</td>\n",
       "      <td>7.042589</td>\n",
       "      <td>EMP3</td>\n",
       "      <td>4.730494</td>\n",
       "    </tr>\n",
       "    <tr>\n",
       "      <th>6</th>\n",
       "      <td>NPM1</td>\n",
       "      <td>1.399328</td>\n",
       "      <td>RBP7</td>\n",
       "      <td>2.898030</td>\n",
       "      <td>COL15A1</td>\n",
       "      <td>2.056567</td>\n",
       "      <td>PXDN</td>\n",
       "      <td>4.063362</td>\n",
       "      <td>IL33</td>\n",
       "      <td>3.592219</td>\n",
       "      <td>MT1M</td>\n",
       "      <td>2.949306</td>\n",
       "      <td>MEG3</td>\n",
       "      <td>4.346837</td>\n",
       "      <td>PPP1R14A</td>\n",
       "      <td>4.469952</td>\n",
       "    </tr>\n",
       "    <tr>\n",
       "      <th>7</th>\n",
       "      <td>ACTB</td>\n",
       "      <td>1.380304</td>\n",
       "      <td>INHBB</td>\n",
       "      <td>2.804395</td>\n",
       "      <td>HSPG2</td>\n",
       "      <td>1.986083</td>\n",
       "      <td>LGALS1</td>\n",
       "      <td>3.859044</td>\n",
       "      <td>DUSP23</td>\n",
       "      <td>3.522760</td>\n",
       "      <td>IGFBP5</td>\n",
       "      <td>2.762062</td>\n",
       "      <td>IL13RA2</td>\n",
       "      <td>3.636900</td>\n",
       "      <td>ABI3BP</td>\n",
       "      <td>4.366666</td>\n",
       "    </tr>\n",
       "    <tr>\n",
       "      <th>8</th>\n",
       "      <td>REN</td>\n",
       "      <td>1.352795</td>\n",
       "      <td>GJA1</td>\n",
       "      <td>2.752868</td>\n",
       "      <td>SPRY1</td>\n",
       "      <td>1.955724</td>\n",
       "      <td>IL32</td>\n",
       "      <td>3.757302</td>\n",
       "      <td>COL3A1</td>\n",
       "      <td>3.080045</td>\n",
       "      <td>HLA-DQA1</td>\n",
       "      <td>2.701019</td>\n",
       "      <td>SYNE1</td>\n",
       "      <td>3.535199</td>\n",
       "      <td>SSUH2</td>\n",
       "      <td>4.359886</td>\n",
       "    </tr>\n",
       "    <tr>\n",
       "      <th>9</th>\n",
       "      <td>RPL7A</td>\n",
       "      <td>1.331946</td>\n",
       "      <td>EFNB2</td>\n",
       "      <td>2.743428</td>\n",
       "      <td>CA2</td>\n",
       "      <td>1.906023</td>\n",
       "      <td>LOX</td>\n",
       "      <td>3.586167</td>\n",
       "      <td>S100A6</td>\n",
       "      <td>2.945975</td>\n",
       "      <td>MT2A</td>\n",
       "      <td>2.608034</td>\n",
       "      <td>LINC00551</td>\n",
       "      <td>3.501744</td>\n",
       "      <td>AQP1</td>\n",
       "      <td>4.336555</td>\n",
       "    </tr>\n",
       "    <tr>\n",
       "      <th>10</th>\n",
       "      <td>RPL12</td>\n",
       "      <td>1.329189</td>\n",
       "      <td>SPARCL1</td>\n",
       "      <td>2.642840</td>\n",
       "      <td>EDNRB</td>\n",
       "      <td>1.882562</td>\n",
       "      <td>HOMER3</td>\n",
       "      <td>3.434050</td>\n",
       "      <td>FBLN2</td>\n",
       "      <td>2.857457</td>\n",
       "      <td>CA4</td>\n",
       "      <td>2.596061</td>\n",
       "      <td>SLC14A1</td>\n",
       "      <td>3.461636</td>\n",
       "      <td>PI16</td>\n",
       "      <td>3.776726</td>\n",
       "    </tr>\n",
       "    <tr>\n",
       "      <th>11</th>\n",
       "      <td>RPL17</td>\n",
       "      <td>1.322659</td>\n",
       "      <td>A2M</td>\n",
       "      <td>2.566147</td>\n",
       "      <td>HTRA1</td>\n",
       "      <td>1.877580</td>\n",
       "      <td>CTHRC1</td>\n",
       "      <td>3.254387</td>\n",
       "      <td>CPE</td>\n",
       "      <td>2.735720</td>\n",
       "      <td>PDZK1IP1</td>\n",
       "      <td>2.577372</td>\n",
       "      <td>MT1E</td>\n",
       "      <td>3.395470</td>\n",
       "      <td>DEPP1</td>\n",
       "      <td>3.742256</td>\n",
       "    </tr>\n",
       "    <tr>\n",
       "      <th>12</th>\n",
       "      <td>VIM</td>\n",
       "      <td>1.316600</td>\n",
       "      <td>KCNE3</td>\n",
       "      <td>2.553246</td>\n",
       "      <td>SPARC</td>\n",
       "      <td>1.828144</td>\n",
       "      <td>EFCAB14</td>\n",
       "      <td>3.225660</td>\n",
       "      <td>FN1</td>\n",
       "      <td>2.523002</td>\n",
       "      <td>HLA-DRB5</td>\n",
       "      <td>2.551557</td>\n",
       "      <td>ALDOB</td>\n",
       "      <td>3.344535</td>\n",
       "      <td>ADAMTS6</td>\n",
       "      <td>3.682527</td>\n",
       "    </tr>\n",
       "    <tr>\n",
       "      <th>13</th>\n",
       "      <td>RPS3</td>\n",
       "      <td>1.308161</td>\n",
       "      <td>F8</td>\n",
       "      <td>2.531667</td>\n",
       "      <td>TP53I11</td>\n",
       "      <td>1.821239</td>\n",
       "      <td>MMP2</td>\n",
       "      <td>3.205912</td>\n",
       "      <td>CCL21</td>\n",
       "      <td>2.517635</td>\n",
       "      <td>CEACAM1</td>\n",
       "      <td>2.523029</td>\n",
       "      <td>IL1RL1</td>\n",
       "      <td>3.263349</td>\n",
       "      <td>CLDN5</td>\n",
       "      <td>3.505477</td>\n",
       "    </tr>\n",
       "    <tr>\n",
       "      <th>14</th>\n",
       "      <td>HNRNPA1</td>\n",
       "      <td>1.300676</td>\n",
       "      <td>FLT1</td>\n",
       "      <td>2.401833</td>\n",
       "      <td>TMEM233</td>\n",
       "      <td>1.785793</td>\n",
       "      <td>NID2</td>\n",
       "      <td>3.155826</td>\n",
       "      <td>COL8A1</td>\n",
       "      <td>2.350830</td>\n",
       "      <td>MT1E</td>\n",
       "      <td>2.512118</td>\n",
       "      <td>SGK1</td>\n",
       "      <td>2.968899</td>\n",
       "      <td>CXCL2</td>\n",
       "      <td>3.375497</td>\n",
       "    </tr>\n",
       "  </tbody>\n",
       "</table>\n",
       "</div>"
      ],
      "text/plain": [
       "   Tumor vasculature 4  Tumor vasculature 4_FC Tumor vasculature 2  \\\n",
       "0             MTRNR2L8                1.581719               ENPP2   \n",
       "1                NEAT1                1.552168              IGFBP3   \n",
       "2                 C1QA                1.478222                STC1   \n",
       "3                RPLP0                1.445482                ESM1   \n",
       "4                APOC1                1.437539              ANGPT2   \n",
       "5               EEF1A1                1.411129              PRSS23   \n",
       "6                 NPM1                1.399328                RBP7   \n",
       "7                 ACTB                1.380304               INHBB   \n",
       "8                  REN                1.352795                GJA1   \n",
       "9                RPL7A                1.331946               EFNB2   \n",
       "10               RPL12                1.329189             SPARCL1   \n",
       "11               RPL17                1.322659                 A2M   \n",
       "12                 VIM                1.316600               KCNE3   \n",
       "13                RPS3                1.308161                  F8   \n",
       "14             HNRNPA1                1.300676                FLT1   \n",
       "\n",
       "    Tumor vasculature 2_FC Tumor vasculature 1  Tumor vasculature 1_FC  \\\n",
       "0                 9.767940                VWA1                2.616652   \n",
       "1                 9.256742              COL4A1                2.549790   \n",
       "2                 4.198276                THY1                2.504225   \n",
       "3                 3.315153              COL4A2                2.327312   \n",
       "4                 3.214932                RGCC                2.125020   \n",
       "5                 3.098238               PLVAP                2.105346   \n",
       "6                 2.898030             COL15A1                2.056567   \n",
       "7                 2.804395               HSPG2                1.986083   \n",
       "8                 2.752868               SPRY1                1.955724   \n",
       "9                 2.743428                 CA2                1.906023   \n",
       "10                2.642840               EDNRB                1.882562   \n",
       "11                2.566147               HTRA1                1.877580   \n",
       "12                2.553246               SPARC                1.828144   \n",
       "13                2.531667             TP53I11                1.821239   \n",
       "14                2.401833             TMEM233                1.785793   \n",
       "\n",
       "   Tumor vasculature 3  Tumor vasculature 3_FC Tumor AVR-like vasculature  \\\n",
       "0                 LY6H               21.325401                      ACKR1   \n",
       "1                  PGF                9.738758                        CLU   \n",
       "2                 APOD                7.798020                      ADIRF   \n",
       "3                CHST1                6.027846                       NNMT   \n",
       "4                CLDN5                5.740094                      PTGDS   \n",
       "5                PRSS2                5.154946                       TFF3   \n",
       "6                 PXDN                4.063362                       IL33   \n",
       "7               LGALS1                3.859044                     DUSP23   \n",
       "8                 IL32                3.757302                     COL3A1   \n",
       "9                  LOX                3.586167                     S100A6   \n",
       "10              HOMER3                3.434050                      FBLN2   \n",
       "11              CTHRC1                3.254387                        CPE   \n",
       "12             EFCAB14                3.225660                        FN1   \n",
       "13                MMP2                3.205912                      CCL21   \n",
       "14                NID2                3.155826                     COL8A1   \n",
       "\n",
       "    Tumor AVR-like vasculature_FC       AVR    AVR_FC Glomerular endothelium  \\\n",
       "0                       17.103901  DNASE1L3  8.987769                  CRHBP   \n",
       "1                        7.615246     ALDOB  4.359324                   SOST   \n",
       "2                        4.756512      CCL2  3.913952                   EHD3   \n",
       "3                        4.643841      MT1G  3.732059                   PLAT   \n",
       "4                        4.559468      MT1X  3.230410                 IGFBP5   \n",
       "5                        3.768075      GPX3  3.160701                   EMCN   \n",
       "6                        3.592219      MT1M  2.949306                   MEG3   \n",
       "7                        3.522760    IGFBP5  2.762062                IL13RA2   \n",
       "8                        3.080045  HLA-DQA1  2.701019                  SYNE1   \n",
       "9                        2.945975      MT2A  2.608034              LINC00551   \n",
       "10                       2.857457       CA4  2.596061                SLC14A1   \n",
       "11                       2.735720  PDZK1IP1  2.577372                   MT1E   \n",
       "12                       2.523002  HLA-DRB5  2.551557                  ALDOB   \n",
       "13                       2.517635   CEACAM1  2.523029                 IL1RL1   \n",
       "14                       2.350830      MT1E  2.512118                   SGK1   \n",
       "\n",
       "    Glomerular endothelium_FC       DVR    DVR_FC  \n",
       "0                   14.588342  SERPINE2  6.103241  \n",
       "1                   13.490231    S100A4  5.847677  \n",
       "2                    9.006966   SLC14A1  5.221536  \n",
       "3                    7.973589      GLUL  5.183988  \n",
       "4                    7.597638    KCTD12  4.928084  \n",
       "5                    7.042589      EMP3  4.730494  \n",
       "6                    4.346837  PPP1R14A  4.469952  \n",
       "7                    3.636900    ABI3BP  4.366666  \n",
       "8                    3.535199     SSUH2  4.359886  \n",
       "9                    3.501744      AQP1  4.336555  \n",
       "10                   3.461636      PI16  3.776726  \n",
       "11                   3.395470     DEPP1  3.742256  \n",
       "12                   3.344535   ADAMTS6  3.682527  \n",
       "13                   3.263349     CLDN5  3.505477  \n",
       "14                   2.968899     CXCL2  3.375497  "
      ]
     },
     "execution_count": 121,
     "metadata": {},
     "output_type": "execute_result"
    }
   ],
   "source": [
    "frame"
   ]
  },
  {
   "cell_type": "markdown",
   "metadata": {},
   "source": [
    "### Perform hierarchical clustering and plot heatmap"
   ]
  },
  {
   "cell_type": "code",
   "execution_count": 17,
   "metadata": {},
   "outputs": [],
   "source": [
    "clnames = sorted(mwu_dict.keys())\n"
   ]
  },
  {
   "cell_type": "code",
   "execution_count": 24,
   "metadata": {},
   "outputs": [
    {
     "name": "stdout",
     "output_type": "stream",
     "text": [
      "120\n",
      "115\n",
      "dict_keys(['data', 'row_link', 'col_link'])\n"
     ]
    }
   ],
   "source": [
    "# select only columns with gene names:\n",
    "genes = frame[clnames].values.flatten()\n",
    "print(len(genes))\n",
    "\n",
    "# I anticipate some genes to be repeated\n",
    "genes = rz.oset(genes)\n",
    "print(len(genes))\n",
    "\n",
    "# select centroids expression data\n",
    "heat = centroids[genes].copy()\n",
    "\n",
    "# transform:\n",
    "heat = heat + pseudo\n",
    "heat = heat/heat.median()\n",
    "heat = np.log2(heat)\n",
    "\n",
    "#transpose\n",
    "heat = heat.T\n",
    "\n",
    "#hierarchically cluster\n",
    "import scipy.cluster\n",
    "hierdict = rz.hier_cluster(heat, hier_clust_cols=True, method='ward',metric='sqrt_correlation')\n",
    "\n",
    "print(hierdict.keys())\n",
    "\n",
    "heat = hierdict['data']"
   ]
  },
  {
   "cell_type": "code",
   "execution_count": 25,
   "metadata": {},
   "outputs": [
    {
     "data": {
      "text/html": [
       "<div>\n",
       "<style scoped>\n",
       "    .dataframe tbody tr th:only-of-type {\n",
       "        vertical-align: middle;\n",
       "    }\n",
       "\n",
       "    .dataframe tbody tr th {\n",
       "        vertical-align: top;\n",
       "    }\n",
       "\n",
       "    .dataframe thead th {\n",
       "        text-align: right;\n",
       "    }\n",
       "</style>\n",
       "<table border=\"1\" class=\"dataframe\">\n",
       "  <thead>\n",
       "    <tr style=\"text-align: right;\">\n",
       "      <th></th>\n",
       "      <th>Tumor vasculature 3</th>\n",
       "      <th>Tumor vasculature 2</th>\n",
       "      <th>Tumor vasculature 4</th>\n",
       "      <th>Tumor vasculature 1</th>\n",
       "      <th>Tumor AVR-like vasculature</th>\n",
       "      <th>DVR</th>\n",
       "      <th>AVR</th>\n",
       "      <th>Glomerular endothelium</th>\n",
       "    </tr>\n",
       "  </thead>\n",
       "  <tbody>\n",
       "    <tr>\n",
       "      <th>CLDN5</th>\n",
       "      <td>2.518806</td>\n",
       "      <td>0.303747</td>\n",
       "      <td>0.131733</td>\n",
       "      <td>-0.144981</td>\n",
       "      <td>-1.113284</td>\n",
       "      <td>1.799572</td>\n",
       "      <td>-1.205567</td>\n",
       "      <td>-0.768250</td>\n",
       "    </tr>\n",
       "    <tr>\n",
       "      <th>IL32</th>\n",
       "      <td>1.910358</td>\n",
       "      <td>-0.450529</td>\n",
       "      <td>0.205615</td>\n",
       "      <td>0.072673</td>\n",
       "      <td>-0.475065</td>\n",
       "      <td>0.861806</td>\n",
       "      <td>-0.076528</td>\n",
       "      <td>-0.185460</td>\n",
       "    </tr>\n",
       "    <tr>\n",
       "      <th>LGALS1</th>\n",
       "      <td>1.812436</td>\n",
       "      <td>-0.603721</td>\n",
       "      <td>0.221582</td>\n",
       "      <td>0.120769</td>\n",
       "      <td>-0.654374</td>\n",
       "      <td>0.081381</td>\n",
       "      <td>-0.701649</td>\n",
       "      <td>-0.086248</td>\n",
       "    </tr>\n",
       "    <tr>\n",
       "      <th>MMP2</th>\n",
       "      <td>1.687489</td>\n",
       "      <td>-0.166601</td>\n",
       "      <td>0.149339</td>\n",
       "      <td>0.288310</td>\n",
       "      <td>-0.176796</td>\n",
       "      <td>0.272339</td>\n",
       "      <td>-0.454500</td>\n",
       "      <td>-0.329458</td>\n",
       "    </tr>\n",
       "    <tr>\n",
       "      <th>HOMER3</th>\n",
       "      <td>1.761225</td>\n",
       "      <td>-0.121868</td>\n",
       "      <td>0.044642</td>\n",
       "      <td>0.053512</td>\n",
       "      <td>-0.084635</td>\n",
       "      <td>0.218342</td>\n",
       "      <td>-0.160928</td>\n",
       "      <td>-0.046068</td>\n",
       "    </tr>\n",
       "    <tr>\n",
       "      <th>...</th>\n",
       "      <td>...</td>\n",
       "      <td>...</td>\n",
       "      <td>...</td>\n",
       "      <td>...</td>\n",
       "      <td>...</td>\n",
       "      <td>...</td>\n",
       "      <td>...</td>\n",
       "      <td>...</td>\n",
       "    </tr>\n",
       "    <tr>\n",
       "      <th>EMCN</th>\n",
       "      <td>-1.170682</td>\n",
       "      <td>0.065327</td>\n",
       "      <td>-0.398071</td>\n",
       "      <td>0.164067</td>\n",
       "      <td>-0.505722</td>\n",
       "      <td>-0.068426</td>\n",
       "      <td>1.346094</td>\n",
       "      <td>3.078124</td>\n",
       "    </tr>\n",
       "    <tr>\n",
       "      <th>SGK1</th>\n",
       "      <td>-0.651391</td>\n",
       "      <td>-0.364732</td>\n",
       "      <td>0.006891</td>\n",
       "      <td>-0.006924</td>\n",
       "      <td>-0.332599</td>\n",
       "      <td>0.331074</td>\n",
       "      <td>1.057997</td>\n",
       "      <td>1.737061</td>\n",
       "    </tr>\n",
       "    <tr>\n",
       "      <th>HLA-DQA1</th>\n",
       "      <td>-0.294248</td>\n",
       "      <td>-0.211961</td>\n",
       "      <td>0.101366</td>\n",
       "      <td>-0.410434</td>\n",
       "      <td>0.775045</td>\n",
       "      <td>-0.109030</td>\n",
       "      <td>1.557185</td>\n",
       "      <td>1.234166</td>\n",
       "    </tr>\n",
       "    <tr>\n",
       "      <th>PLAT</th>\n",
       "      <td>-0.826738</td>\n",
       "      <td>-0.695958</td>\n",
       "      <td>-0.221194</td>\n",
       "      <td>-0.225231</td>\n",
       "      <td>1.314590</td>\n",
       "      <td>0.191746</td>\n",
       "      <td>1.577399</td>\n",
       "      <td>3.362816</td>\n",
       "    </tr>\n",
       "    <tr>\n",
       "      <th>HLA-DRB5</th>\n",
       "      <td>-0.881049</td>\n",
       "      <td>-0.793082</td>\n",
       "      <td>-0.468970</td>\n",
       "      <td>-0.513179</td>\n",
       "      <td>0.353345</td>\n",
       "      <td>0.451022</td>\n",
       "      <td>1.289258</td>\n",
       "      <td>1.521741</td>\n",
       "    </tr>\n",
       "  </tbody>\n",
       "</table>\n",
       "<p>115 rows × 8 columns</p>\n",
       "</div>"
      ],
      "text/plain": [
       "          Tumor vasculature 3  Tumor vasculature 2  Tumor vasculature 4  \\\n",
       "CLDN5                2.518806             0.303747             0.131733   \n",
       "IL32                 1.910358            -0.450529             0.205615   \n",
       "LGALS1               1.812436            -0.603721             0.221582   \n",
       "MMP2                 1.687489            -0.166601             0.149339   \n",
       "HOMER3               1.761225            -0.121868             0.044642   \n",
       "...                       ...                  ...                  ...   \n",
       "EMCN                -1.170682             0.065327            -0.398071   \n",
       "SGK1                -0.651391            -0.364732             0.006891   \n",
       "HLA-DQA1            -0.294248            -0.211961             0.101366   \n",
       "PLAT                -0.826738            -0.695958            -0.221194   \n",
       "HLA-DRB5            -0.881049            -0.793082            -0.468970   \n",
       "\n",
       "          Tumor vasculature 1  Tumor AVR-like vasculature       DVR       AVR  \\\n",
       "CLDN5               -0.144981                   -1.113284  1.799572 -1.205567   \n",
       "IL32                 0.072673                   -0.475065  0.861806 -0.076528   \n",
       "LGALS1               0.120769                   -0.654374  0.081381 -0.701649   \n",
       "MMP2                 0.288310                   -0.176796  0.272339 -0.454500   \n",
       "HOMER3               0.053512                   -0.084635  0.218342 -0.160928   \n",
       "...                       ...                         ...       ...       ...   \n",
       "EMCN                 0.164067                   -0.505722 -0.068426  1.346094   \n",
       "SGK1                -0.006924                   -0.332599  0.331074  1.057997   \n",
       "HLA-DQA1            -0.410434                    0.775045 -0.109030  1.557185   \n",
       "PLAT                -0.225231                    1.314590  0.191746  1.577399   \n",
       "HLA-DRB5            -0.513179                    0.353345  0.451022  1.289258   \n",
       "\n",
       "          Glomerular endothelium  \n",
       "CLDN5                  -0.768250  \n",
       "IL32                   -0.185460  \n",
       "LGALS1                 -0.086248  \n",
       "MMP2                   -0.329458  \n",
       "HOMER3                 -0.046068  \n",
       "...                          ...  \n",
       "EMCN                    3.078124  \n",
       "SGK1                    1.737061  \n",
       "HLA-DQA1                1.234166  \n",
       "PLAT                    3.362816  \n",
       "HLA-DRB5                1.521741  \n",
       "\n",
       "[115 rows x 8 columns]"
      ]
     },
     "execution_count": 25,
     "metadata": {},
     "output_type": "execute_result"
    }
   ],
   "source": [
    "hierdict['data']"
   ]
  },
  {
   "cell_type": "code",
   "execution_count": 28,
   "metadata": {},
   "outputs": [
    {
     "name": "stdout",
     "output_type": "stream",
     "text": [
      "outputs_JZ_2022//dendrogram_NOlabels_vasc_new__labels_cell_type_230523_11h46.png\n"
     ]
    },
    {
     "data": {
      "image/png": "[encoded data removed]",
      "text/plain": [
       "<Figure size 1181.1x177.165 with 1 Axes>"
      ]
     },
     "metadata": {
      "needs_background": "light"
     },
     "output_type": "display_data"
    }
   ],
   "source": [
    "##NOTE\n",
    "# this code is ran multiple times: 1st time image is saved with labels\n",
    "# second time - without, to incorporate into the plot\n",
    "\n",
    "a,fig,gs = rz.startfig(20,3)\n",
    "col_link = hierdict['col_link']\n",
    "dendro = scipy.cluster.hierarchy.dendrogram(\n",
    "                                 col_link, orientation='top', ax=a,\n",
    "                                 above_threshold_color='0.5',\n",
    "                                 color_threshold = 0,\n",
    "                                    )\n",
    "\n",
    "#a.set_xticklabels(heat.columns,rotation=270,fontsize=5)\n",
    "a.set_xticks([])\n",
    "a.axis('off')\n",
    "rz.showspines(a)\n",
    "\n",
    "gs.tight_layout(fig)\n",
    "fname = outdir+'/dendrogram_NOlabels_vasc_new__labels_%s_%s.png'%(thelabel,rz.now())\n",
    "print(fname)\n",
    "#plt.savefig(fname, transparent=True, dpi=50)"
   ]
  },
  {
   "cell_type": "markdown",
   "metadata": {},
   "source": [
    "## Heatmap variant 1 - diverging colormap log2FC"
   ]
  },
  {
   "cell_type": "code",
   "execution_count": 29,
   "metadata": {},
   "outputs": [],
   "source": [
    "heat2 = heat"
   ]
  },
  {
   "cell_type": "code",
   "execution_count": 31,
   "metadata": {},
   "outputs": [],
   "source": [
    "#choosing the colormap\n",
    "from matplotlib.colors import LinearSegmentedColormap\n",
    "cmap = LinearSegmentedColormap.from_list(\n",
    "    name='cmap', \n",
    "    colors=['#4d4dff', #blue\n",
    "            '#D3D3D3', #grey\n",
    "            '#cc0000' #dark-red\n",
    "           ])"
   ]
  },
  {
   "cell_type": "code",
   "execution_count": 32,
   "metadata": {},
   "outputs": [],
   "source": [
    "\n",
    "def yticks_fancy(a,totick,labels_all, color_dict,emptychar = '',fontsize=5):\n",
    "    \n",
    "    \"\"\"\n",
    "    utility function originally made for ticking only a subset of selected genes in a genes x observations heatmap.\n",
    "    example of use: yticks_fancy(a,['Csf1r','Ccr2','','','Arg1','S100a9'],genes_by_cells.index)\n",
    "    input:\n",
    "        a - axis with heatmap\n",
    "        totick - list of yticklabels to display. Use the string defined by\n",
    "        emptychar to add spacing between groups of genes.\n",
    "        labels_all - all yticklabels.\n",
    "        emptychar - string that will be treated as white space\n",
    "        \n",
    "    returns: nothing\n",
    "    \n",
    "    \"\"\"\n",
    "\n",
    "\n",
    "    a.set_yticks([])\n",
    "    leftshift = 0\n",
    "    totick = np.array(totick)\n",
    "    nr_slots = len(totick)\n",
    "    tickmask = np.array([i!=emptychar for i in totick])\n",
    "    totick = totick[tickmask]\n",
    "    y_right = np.array([pd.Index(labels_all).get_loc(i) for i in totick])\n",
    "    \n",
    "    #if genes were not typed in in the correct order, account for that to avoid lines crossing\n",
    "    tickorder = np.argsort(y_right)\n",
    "    y_right = y_right[tickorder]\n",
    "    totick = totick[tickorder]\n",
    "    y_left = np.linspace(0,len(labels_all),nr_slots)[tickmask]\n",
    "    for l,r,gene in zip(y_left,y_right,totick):\n",
    "        a.plot((-0.8-leftshift,-0.5-leftshift),(r,r),lw=0.5,color='0.2')\n",
    "        a.plot((-1.2-leftshift,-0.8-leftshift),(l,r),lw=0.5,color='0.2')\n",
    "        a.plot((-1.5-leftshift,-1.2-leftshift),(l,l),lw=0.5,color='0.2')\n",
    "        a.text(-1.6-(leftshift*1.6),l,gene,ha='right',va='center',fontsize=fontsize, color = color_dict[gene])"
   ]
  },
  {
   "cell_type": "code",
   "execution_count": 33,
   "metadata": {},
   "outputs": [],
   "source": [
    "totick = heat.index"
   ]
  },
  {
   "cell_type": "code",
   "execution_count": 35,
   "metadata": {
    "tags": []
   },
   "outputs": [
    {
     "name": "stdout",
     "output_type": "stream",
     "text": [
      "-3.5481658 4.49552\n",
      "2020heatmap_cell_type_upto_10_230523_11h47\n"
     ]
    },
    {
     "name": "stderr",
     "output_type": "stream",
     "text": [
      "<ipython-input-35-ca7feb920e9b>:45: UserWarning: This figure includes Axes that are not compatible with tight_layout, so results might be incorrect.\n",
      "  gs.tight_layout(fig)\n"
     ]
    },
    {
     "data": {
      "image/png": "[encoded data removed]",
      "text/plain": [
       "<Figure size 472.441x1889.76 with 2 Axes>"
      ]
     },
     "metadata": {
      "needs_background": "light"
     },
     "output_type": "display_data"
    }
   ],
   "source": [
    "#a,fig,gs = rz.startfig(1+heat.shape[1]/3.,4+heat.shape[0]/40.,frameon=False)\n",
    "a,fig,gs = rz.startfig(8,32,frameon=False)\n",
    "\n",
    "upto=10\n",
    "cmap = 'RdBu_r'\n",
    "cbarlabel = r'$log2[\\frac{(cp10k+1)}{(cp10k+1) median}]$'\n",
    "\n",
    "vmin=-3\n",
    "vmax=3\n",
    "print(heat.min().min(),heat.max().max())\n",
    "\n",
    "# heatmap\n",
    "hmap = a.imshow(heat,aspect='auto',vmin=vmin,vmax=vmax,cmap=cmap, interpolation='none')\n",
    "\n",
    "# x ticks\n",
    "a.set_xticks(np.arange(heat.shape[1]))\n",
    "a.set_xticklabels(heat.columns,rotation=270, fontsize=13)\n",
    "a.xaxis.tick_top()\n",
    "\n",
    "# y ticks\n",
    "#yticks_fancy(a,totick,labels_all = heat.index, color_dict=color_dict, fontsize=11)\n",
    "\n",
    "a.set_yticks(np.arange(heat.shape[0]))\n",
    "a.set_yticklabels(totick,fontsize=6)\n",
    "\n",
    "# colorbar\n",
    "#cbar = fig.colorbar(hmap,orientation='vertical')\n",
    "#cbar.outline.set_visible(False)\n",
    "\n",
    "c = [vmin,0,vmax]\n",
    "clabs = [\"<\"+str(c[0])]+[str(i) for i in c[1:-1]]+[\">\"+str(c[-1])]\n",
    "\n",
    "\n",
    "#norm = mpl.colors.Normalize(vmin, vmax)\n",
    "caxb = fig.add_axes([1.2, 0.1, 0.05, 0.1])\n",
    "cbar = fig.colorbar(hmap, cax=caxb, orientation='vertical')\n",
    "cbar.outline.set_visible(False)\n",
    "#c = [vmin, 0,  vmax]\n",
    "cbar.set_ticks(c)\n",
    "cbar.ax.set_yticklabels(clabs, fontsize = 8)\n",
    "cbar.set_ticklabels(clabs)\n",
    "cbar.ax.set_title(cbarlabel,\n",
    "                  fontsize=8, pad = 15, y=-0.3)\n",
    "\n",
    "gs.tight_layout(fig)\n",
    "fname = '2020heatmap_%s_upto_%d_%s'%(thelabel,upto,rz.now())\n",
    "print(fname)\n",
    "#plt.savefig(outdir+'%s.pdf'%fname,dpi=100)\n",
    "#plt.savefig(outdir+'%s.png'%fname,dpi=100,  bbox_inches='tight')"
   ]
  },
  {
   "cell_type": "markdown",
   "metadata": {},
   "source": [
    "## Heatmap version 2 - percentage max expression"
   ]
  },
  {
   "cell_type": "code",
   "execution_count": 36,
   "metadata": {},
   "outputs": [
    {
     "name": "stdout",
     "output_type": "stream",
     "text": [
      "dict_keys(['data', 'row_link', 'col_link'])\n"
     ]
    }
   ],
   "source": [
    "#variant 2 - percentage max expression\n",
    "\n",
    "heat = centroids[genes].copy()\n",
    "heat = heat.loc[:,heat.max() > 0]\n",
    "heat = heat/heat.max()*100.\n",
    "heat = heat.T\n",
    "\n",
    "#choosing the colormap\n",
    "from matplotlib.colors import LinearSegmentedColormap\n",
    "cmap = LinearSegmentedColormap.from_list(\n",
    "    name='cmap', \n",
    "    colors=['#D3D3D3', #grey\n",
    "            #'#ff8080', \n",
    "            '#cc0000' #dark-red\n",
    "           ])\n",
    "#hierarchically cluster\n",
    "import scipy.cluster\n",
    "hierdict = rz.hier_cluster(heat, hier_clust_cols=True, method='ward',metric='sqrt_correlation')\n",
    "\n",
    "print(hierdict.keys())\n",
    "\n",
    "heat = hierdict['data']"
   ]
  },
  {
   "cell_type": "code",
   "execution_count": 37,
   "metadata": {},
   "outputs": [
    {
     "data": {
      "text/html": [
       "<div>\n",
       "<style scoped>\n",
       "    .dataframe tbody tr th:only-of-type {\n",
       "        vertical-align: middle;\n",
       "    }\n",
       "\n",
       "    .dataframe tbody tr th {\n",
       "        vertical-align: top;\n",
       "    }\n",
       "\n",
       "    .dataframe thead th {\n",
       "        text-align: right;\n",
       "    }\n",
       "</style>\n",
       "<table border=\"1\" class=\"dataframe\">\n",
       "  <thead>\n",
       "    <tr style=\"text-align: right;\">\n",
       "      <th></th>\n",
       "      <th>Tumor vasculature 3</th>\n",
       "      <th>Tumor vasculature 2</th>\n",
       "      <th>Tumor vasculature 4</th>\n",
       "      <th>Tumor vasculature 1</th>\n",
       "      <th>Tumor AVR-like vasculature</th>\n",
       "      <th>DVR</th>\n",
       "      <th>AVR</th>\n",
       "      <th>Glomerular endothelium</th>\n",
       "    </tr>\n",
       "  </thead>\n",
       "  <tbody>\n",
       "    <tr>\n",
       "      <th>RGCC</th>\n",
       "      <td>24.331469</td>\n",
       "      <td>75.721161</td>\n",
       "      <td>61.593742</td>\n",
       "      <td>100.000000</td>\n",
       "      <td>6.417101</td>\n",
       "      <td>4.272000</td>\n",
       "      <td>45.436771</td>\n",
       "      <td>2.361909</td>\n",
       "    </tr>\n",
       "    <tr>\n",
       "      <th>PLVAP</th>\n",
       "      <td>29.144972</td>\n",
       "      <td>83.375809</td>\n",
       "      <td>55.324726</td>\n",
       "      <td>100.000000</td>\n",
       "      <td>21.469992</td>\n",
       "      <td>4.672332</td>\n",
       "      <td>38.753719</td>\n",
       "      <td>1.459099</td>\n",
       "    </tr>\n",
       "    <tr>\n",
       "      <th>CA2</th>\n",
       "      <td>20.512051</td>\n",
       "      <td>66.879913</td>\n",
       "      <td>62.141781</td>\n",
       "      <td>100.000000</td>\n",
       "      <td>6.388222</td>\n",
       "      <td>3.047618</td>\n",
       "      <td>16.432844</td>\n",
       "      <td>29.086971</td>\n",
       "    </tr>\n",
       "    <tr>\n",
       "      <th>EDNRB</th>\n",
       "      <td>17.126419</td>\n",
       "      <td>100.000000</td>\n",
       "      <td>50.309639</td>\n",
       "      <td>98.444878</td>\n",
       "      <td>3.313100</td>\n",
       "      <td>4.125486</td>\n",
       "      <td>18.989229</td>\n",
       "      <td>17.464287</td>\n",
       "    </tr>\n",
       "    <tr>\n",
       "      <th>INHBB</th>\n",
       "      <td>88.519875</td>\n",
       "      <td>100.000000</td>\n",
       "      <td>34.301636</td>\n",
       "      <td>33.996567</td>\n",
       "      <td>1.256483</td>\n",
       "      <td>0.138709</td>\n",
       "      <td>2.284092</td>\n",
       "      <td>0.157536</td>\n",
       "    </tr>\n",
       "    <tr>\n",
       "      <th>...</th>\n",
       "      <td>...</td>\n",
       "      <td>...</td>\n",
       "      <td>...</td>\n",
       "      <td>...</td>\n",
       "      <td>...</td>\n",
       "      <td>...</td>\n",
       "      <td>...</td>\n",
       "      <td>...</td>\n",
       "    </tr>\n",
       "    <tr>\n",
       "      <th>MT1G</th>\n",
       "      <td>0.316987</td>\n",
       "      <td>0.164977</td>\n",
       "      <td>7.878137</td>\n",
       "      <td>0.565895</td>\n",
       "      <td>9.170736</td>\n",
       "      <td>90.726181</td>\n",
       "      <td>100.000000</td>\n",
       "      <td>93.104500</td>\n",
       "    </tr>\n",
       "    <tr>\n",
       "      <th>PDZK1IP1</th>\n",
       "      <td>13.274063</td>\n",
       "      <td>9.329638</td>\n",
       "      <td>14.796268</td>\n",
       "      <td>5.056592</td>\n",
       "      <td>13.937428</td>\n",
       "      <td>96.362221</td>\n",
       "      <td>100.000000</td>\n",
       "      <td>90.750923</td>\n",
       "    </tr>\n",
       "    <tr>\n",
       "      <th>GPX3</th>\n",
       "      <td>5.574213</td>\n",
       "      <td>32.577633</td>\n",
       "      <td>17.921478</td>\n",
       "      <td>8.806493</td>\n",
       "      <td>11.354492</td>\n",
       "      <td>69.238907</td>\n",
       "      <td>100.000000</td>\n",
       "      <td>88.575844</td>\n",
       "    </tr>\n",
       "    <tr>\n",
       "      <th>ALDOB</th>\n",
       "      <td>0.000000</td>\n",
       "      <td>0.323680</td>\n",
       "      <td>7.158402</td>\n",
       "      <td>0.319091</td>\n",
       "      <td>8.932049</td>\n",
       "      <td>67.369148</td>\n",
       "      <td>100.000000</td>\n",
       "      <td>97.668480</td>\n",
       "    </tr>\n",
       "    <tr>\n",
       "      <th>MT1M</th>\n",
       "      <td>0.000000</td>\n",
       "      <td>3.076285</td>\n",
       "      <td>10.131279</td>\n",
       "      <td>2.069554</td>\n",
       "      <td>24.381943</td>\n",
       "      <td>66.227272</td>\n",
       "      <td>92.537727</td>\n",
       "      <td>100.000000</td>\n",
       "    </tr>\n",
       "  </tbody>\n",
       "</table>\n",
       "<p>115 rows × 8 columns</p>\n",
       "</div>"
      ],
      "text/plain": [
       "          Tumor vasculature 3  Tumor vasculature 2  Tumor vasculature 4  \\\n",
       "RGCC                24.331469            75.721161            61.593742   \n",
       "PLVAP               29.144972            83.375809            55.324726   \n",
       "CA2                 20.512051            66.879913            62.141781   \n",
       "EDNRB               17.126419           100.000000            50.309639   \n",
       "INHBB               88.519875           100.000000            34.301636   \n",
       "...                       ...                  ...                  ...   \n",
       "MT1G                 0.316987             0.164977             7.878137   \n",
       "PDZK1IP1            13.274063             9.329638            14.796268   \n",
       "GPX3                 5.574213            32.577633            17.921478   \n",
       "ALDOB                0.000000             0.323680             7.158402   \n",
       "MT1M                 0.000000             3.076285            10.131279   \n",
       "\n",
       "          Tumor vasculature 1  Tumor AVR-like vasculature        DVR  \\\n",
       "RGCC               100.000000                    6.417101   4.272000   \n",
       "PLVAP              100.000000                   21.469992   4.672332   \n",
       "CA2                100.000000                    6.388222   3.047618   \n",
       "EDNRB               98.444878                    3.313100   4.125486   \n",
       "INHBB               33.996567                    1.256483   0.138709   \n",
       "...                       ...                         ...        ...   \n",
       "MT1G                 0.565895                    9.170736  90.726181   \n",
       "PDZK1IP1             5.056592                   13.937428  96.362221   \n",
       "GPX3                 8.806493                   11.354492  69.238907   \n",
       "ALDOB                0.319091                    8.932049  67.369148   \n",
       "MT1M                 2.069554                   24.381943  66.227272   \n",
       "\n",
       "                 AVR  Glomerular endothelium  \n",
       "RGCC       45.436771                2.361909  \n",
       "PLVAP      38.753719                1.459099  \n",
       "CA2        16.432844               29.086971  \n",
       "EDNRB      18.989229               17.464287  \n",
       "INHBB       2.284092                0.157536  \n",
       "...              ...                     ...  \n",
       "MT1G      100.000000               93.104500  \n",
       "PDZK1IP1  100.000000               90.750923  \n",
       "GPX3      100.000000               88.575844  \n",
       "ALDOB     100.000000               97.668480  \n",
       "MT1M       92.537727              100.000000  \n",
       "\n",
       "[115 rows x 8 columns]"
      ]
     },
     "execution_count": 37,
     "metadata": {},
     "output_type": "execute_result"
    }
   ],
   "source": [
    "heat"
   ]
  },
  {
   "cell_type": "code",
   "execution_count": 38,
   "metadata": {},
   "outputs": [],
   "source": [
    "label = 'vasculature_genes'"
   ]
  },
  {
   "cell_type": "code",
   "execution_count": 47,
   "metadata": {},
   "outputs": [
    {
     "name": "stdout",
     "output_type": "stream",
     "text": [
      "0.0 100.0\n",
      "heatmap_pctmax995_vasculature_vasculature_genes_hq\n"
     ]
    },
    {
     "data": {
      "image/png": "[encoded data removed]",
      "text/plain": [
       "<Figure size 472.441x2362.21 with 2 Axes>"
      ]
     },
     "metadata": {
      "needs_background": "light"
     },
     "output_type": "display_data"
    }
   ],
   "source": [
    "\n",
    "a,fig,gs = rz.startfig(8,40,frameon=False)\n",
    "\n",
    "cmap = cmap\n",
    "cbarlabel = '% max expression'\n",
    "\n",
    "vmin=0\n",
    "vmax=99.5\n",
    "\n",
    "print(heat.min().min(),heat.max().max())\n",
    "\n",
    "# heatmap\n",
    "hmap = a.imshow(heat,aspect='auto',vmin=vmin,vmax=vmax,cmap=cmap)\n",
    "\n",
    "# x ticks\n",
    "a.set_xticks(np.arange(heat.shape[1]))\n",
    "a.set_xticklabels(heat.columns,rotation=270, fontsize=13)\n",
    "a.xaxis.tick_top()\n",
    "\n",
    "# y ticks:\n",
    "a.set_yticks(np.arange(heat.shape[0]))\n",
    "a.set_yticklabels(heat.index, fontsize =7)\n",
    "\n",
    "\n",
    "# colorbar\n",
    "cbar = fig.colorbar(hmap,orientation='horizontal')\n",
    "cbar.outline.set_visible(False)\n",
    "\n",
    "c = [vmin,vmax]\n",
    "cbar.set_ticks(c)\n",
    "cbar.set_ticklabels(c)\n",
    "cbar.set_label(cbarlabel, fontsize=12)\n",
    "\n",
    "\n",
    "gs.tight_layout(fig)\n",
    "fname = 'heatmap_pctmax995_vasculature_%s_hq'%(label)\n",
    "print(fname)\n",
    "\n",
    "plt.savefig(outdir+'%s_v2.png'%fname,dpi=600)\n",
    "plt.savefig(outdir+'%s_v2.pdf'%fname,dpi=600)"
   ]
  },
  {
   "cell_type": "markdown",
   "metadata": {},
   "source": [
    "# Get genes enriched within stromal sub-populations"
   ]
  },
  {
   "cell_type": "code",
   "execution_count": 48,
   "metadata": {},
   "outputs": [
    {
     "data": {
      "text/plain": [
       "array(['TAM 4', 'TAM 3', 'Tumor cells 2', 'Tumor cells 3',\n",
       "       'Tumor vasculature 4', 'TAM 1', 'CD8 T cells', 'TAM 2',\n",
       "       'Resting/memory T cells', 'Cytotoxic T cells',\n",
       "       'Tumor vasculature 2', 'Tumor vasculature 1',\n",
       "       'Non-classical monocytes', 'Mesangial/vSMCs',\n",
       "       'IGHG-high plasma cells', 'Mast cells', 'Tumor vasculature 3',\n",
       "       'Plasma cells', 'Tumor AVR-like vasculature', 'Cycling', 'vSMCs',\n",
       "       'NK cells', 'Classical monocytes', 'B cells', 'Myofibroblasts',\n",
       "       'Regulatory T cells', 'Tumor cells 1', 'Proximal tubule', 'AVR',\n",
       "       'Epithelial progenitor-like cells', 'tAL of LOH',\n",
       "       'Glomerular endothelium', 'Principal cells', 'TAL of LOH', 'DVR',\n",
       "       'Type A-ICs', 'OM Type A-ICs', 'Type B-IC', 'Podocytes', 'DCT/CNT'],\n",
       "      dtype=object)"
      ]
     },
     "execution_count": 48,
     "metadata": {},
     "output_type": "execute_result"
    }
   ],
   "source": [
    "adata.obs['cell_type'].unique()"
   ]
  },
  {
   "cell_type": "code",
   "execution_count": 49,
   "metadata": {},
   "outputs": [
    {
     "name": "stdout",
     "output_type": "stream",
     "text": [
      "2846\n"
     ]
    }
   ],
   "source": [
    "#subset cells using cmask\n",
    "cmask = adata.obs['cell_type'].isin(['Mesangial/vSMCs', 'vSMCs', 'Myofibroblasts']).values\n",
    "print(cmask.sum())"
   ]
  },
  {
   "cell_type": "code",
   "execution_count": 50,
   "metadata": {},
   "outputs": [],
   "source": [
    "# get centroids\n",
    "thelabel = 'cell_type'\n",
    "centroids = rz.centroids(thelabel,adata[cmask])"
   ]
  },
  {
   "cell_type": "code",
   "execution_count": 51,
   "metadata": {},
   "outputs": [],
   "source": [
    "# For each cluster, find genes that are statistically significantly higher or lower in cluster x compared to\n",
    "# all other cells collectively\n",
    "\n",
    "#label-free filter to remove very low abundance genes:\n",
    "min_counts = 15\n",
    "min_cells = 15"
   ]
  },
  {
   "cell_type": "code",
   "execution_count": 52,
   "metadata": {},
   "outputs": [
    {
     "name": "stdout",
     "output_type": "stream",
     "text": [
      "2717 genes passing abundance filter\n"
     ]
    }
   ],
   "source": [
    "gmask = srz.filter_abund_genes(adata.X[cmask], min_counts, min_cells)"
   ]
  },
  {
   "cell_type": "code",
   "execution_count": 194,
   "metadata": {},
   "outputs": [
    {
     "name": "stdout",
     "output_type": "stream",
     "text": [
      "1000\n",
      "2000\n",
      "1/3\n",
      "Mesangial/vSMCs done 2846\n",
      "1000\n",
      "2000\n",
      "2/3\n",
      "vSMCs done 2846\n",
      "1000\n",
      "2000\n",
      "3/3\n",
      "Myofibroblasts done 2846\n",
      "10.70914101600647\n",
      "backups_JZ_2022/1515stromal_clusters_vs_rest_MWU_result_dict_221110_14h49cell_type\n"
     ]
    }
   ],
   "source": [
    "mwu_dict = {}\n",
    "start=time.time()\n",
    "counter=0\n",
    "\n",
    "meta = adata[cmask].obs\n",
    "E = adata[cmask].X\n",
    "gene_list = adata.var_names\n",
    "\n",
    "\n",
    "for cluster in meta[thelabel].unique():\n",
    "    counter+=1\n",
    "    mask1 = (meta[thelabel]==cluster).values\n",
    "    mask2 = mask1==False\n",
    "    \n",
    "    cg1 = np.array(E[:,gmask][mask1,:].todense())\n",
    "    cg2 = np.array(E[:,gmask][mask2,:].todense())\n",
    "    mwu_dict[cluster] = rz.mwu(cg1,cg2,genes=gene_list[gmask],print_progression=True)\n",
    "    print(\"%d/%d\"%(counter,len(meta[thelabel].unique())))\n",
    "    print(cluster, 'done',cg1.shape[0]+cg2.shape[0])\n",
    "print(time.time()-start)\n",
    "\n",
    "fname = 'backups_JZ_2022/1515stromal_clusters_vs_rest_MWU_result_dict_%s%s'%(rz.now(), thelabel)\n",
    "print(fname)\n",
    "rz.save_stuff(mwu_dict,fname)"
   ]
  },
  {
   "cell_type": "code",
   "execution_count": 53,
   "metadata": {},
   "outputs": [],
   "source": [
    "# if continuing from backup\n",
    "mwu_dict = rz.load_stuff('backups_JZ_2022/1515stromal_clusters_vs_rest_MWU_result_dict_221110_14h49cell_type.pickle')"
   ]
  },
  {
   "cell_type": "code",
   "execution_count": 96,
   "metadata": {},
   "outputs": [],
   "source": [
    "# select pseudovalue to add\n",
    "pseudo = 1 # 1 counts per 10k"
   ]
  },
  {
   "cell_type": "code",
   "execution_count": 97,
   "metadata": {},
   "outputs": [
    {
     "name": "stdout",
     "output_type": "stream",
     "text": [
      "cell_type\n"
     ]
    }
   ],
   "source": [
    "print(thelabel)\n",
    "fcdict = rz.get_fc_to_all_other(\n",
    "        lab = thelabel,\n",
    "        meta = adata[cmask].obs,\n",
    "        E = adata[cmask].X,\n",
    "        pseudo = pseudo,\n",
    "        gene_list = adata.var_names,\n",
    "        )"
   ]
  },
  {
   "cell_type": "code",
   "execution_count": 98,
   "metadata": {},
   "outputs": [
    {
     "name": "stdout",
     "output_type": "stream",
     "text": [
      "2717\n",
      "Mesangial/vSMCs 868 868\n",
      "vSMCs 777 777\n",
      "Myofibroblasts 626 626\n"
     ]
    }
   ],
   "source": [
    "# leave only genes with a significant difference.\n",
    "fcdictsig = {}\n",
    "\n",
    "# before the mwu test, I prefiltered genes on abundance, apply this mask here as well\n",
    "print(gmask.sum())\n",
    "for key,value in fcdict.items():\n",
    "    sigmask = (mwu_dict[key]['fdr']<0.05).values\n",
    "    fcdictsig[key] = value[gmask][sigmask]\n",
    "    print(key,sigmask.sum(),len(fcdictsig[key]))"
   ]
  },
  {
   "cell_type": "code",
   "execution_count": 99,
   "metadata": {},
   "outputs": [
    {
     "data": {
      "text/plain": [
       "Mesangial/vSMCs_FC    1.601197\n",
       "vSMCs_FC              2.251434\n",
       "Myofibroblasts_FC     2.766023\n",
       "dtype: float32"
      ]
     },
     "execution_count": 99,
     "metadata": {},
     "output_type": "execute_result"
    }
   ],
   "source": [
    "# nr genes to consider:\n",
    "upto = 20 #genes to generate heatmap and table S13\n",
    "\n",
    "frame = {}\n",
    "for key,value in fcdictsig.items():\n",
    "    s = value.sort_values(ascending=False)[:upto]\n",
    "    key2 = str(key)+'_FC'\n",
    "    frame[str(key)] = s.index\n",
    "    frame[key2] = s.values\n",
    "frame = pd.DataFrame(frame)\n",
    "frame[[i for i in frame.columns if \"FC\" in i]].min() #ok, all above 1."
   ]
  },
  {
   "cell_type": "code",
   "execution_count": 54,
   "metadata": {},
   "outputs": [],
   "source": [
    "outdir = 'outputs_JZ_2022/'"
   ]
  },
  {
   "cell_type": "code",
   "execution_count": 101,
   "metadata": {},
   "outputs": [
    {
     "name": "stdout",
     "output_type": "stream",
     "text": [
      "outputs_JZ_2022/stromal_1515_enriched_genes_top_20_cell_type_230512_12h44.xlsx\n"
     ]
    }
   ],
   "source": [
    "fname = outdir+'stromal_1515_enriched_genes_top_%d_%s_%s.xlsx'%(upto,thelabel,rz.now())\n",
    "print(fname)\n",
    "#frame.to_excel(fname)"
   ]
  },
  {
   "cell_type": "markdown",
   "metadata": {},
   "source": [
    "## Heatmap variant 1 - diverging colormap log2FC"
   ]
  },
  {
   "cell_type": "code",
   "execution_count": 61,
   "metadata": {},
   "outputs": [],
   "source": [
    "clnames = sorted(mwu_dict.keys())\n"
   ]
  },
  {
   "cell_type": "code",
   "execution_count": 62,
   "metadata": {},
   "outputs": [
    {
     "name": "stdout",
     "output_type": "stream",
     "text": [
      "60\n",
      "60\n",
      "dict_keys(['data', 'row_link', 'col_link'])\n"
     ]
    }
   ],
   "source": [
    "# select only columns with gene names:\n",
    "genes = frame[clnames].values.flatten()\n",
    "print(len(genes))\n",
    "\n",
    "# I anticipate some genes to be repeated\n",
    "genes = rz.oset(genes)\n",
    "print(len(genes))\n",
    "\n",
    "# select centroids expression data\n",
    "heat = centroids[genes].copy()\n",
    "\n",
    "# transform:\n",
    "heat = heat + pseudo\n",
    "heat = heat/heat.median()\n",
    "heat = np.log2(heat)\n",
    "\n",
    "#transpose\n",
    "heat = heat.T\n",
    "\n",
    "#hierarchically cluster\n",
    "import scipy.cluster\n",
    "hierdict = rz.hier_cluster(heat, hier_clust_cols=True, method='ward',metric='sqrt_correlation')\n",
    "\n",
    "print(hierdict.keys())\n",
    "\n",
    "heat = hierdict['data']"
   ]
  },
  {
   "cell_type": "code",
   "execution_count": 63,
   "metadata": {},
   "outputs": [],
   "source": [
    "heat2 = heat"
   ]
  },
  {
   "cell_type": "code",
   "execution_count": 64,
   "metadata": {},
   "outputs": [],
   "source": [
    "import matplotlib as mpl\n",
    "mpl.rc('font',family='Arial')"
   ]
  },
  {
   "cell_type": "code",
   "execution_count": 65,
   "metadata": {},
   "outputs": [],
   "source": [
    "#choosing the colormap\n",
    "from matplotlib.colors import LinearSegmentedColormap\n",
    "cmap = LinearSegmentedColormap.from_list(\n",
    "    name='cmap', \n",
    "    colors=['#4d4dff', #blue\n",
    "            '#D3D3D3', #grey\n",
    "            '#cc0000' #dark-red\n",
    "           ])"
   ]
  },
  {
   "cell_type": "code",
   "execution_count": 66,
   "metadata": {},
   "outputs": [],
   "source": [
    "\n",
    "def yticks_fancy(a,totick,labels_all, color_dict,emptychar = '',fontsize=5):\n",
    "    \n",
    "    \"\"\"\n",
    "    utility function originally made for ticking only a subset of selected genes in a genes x observations heatmap.\n",
    "    example of use: yticks_fancy(a,['Csf1r','Ccr2','','','Arg1','S100a9'],genes_by_cells.index)\n",
    "    input:\n",
    "        a - axis with heatmap\n",
    "        totick - list of yticklabels to display. Use the string defined by\n",
    "        emptychar to add spacing between groups of genes.\n",
    "        labels_all - all yticklabels.\n",
    "        emptychar - string that will be treated as white space\n",
    "        \n",
    "    returns: nothing\n",
    "    \n",
    "    \"\"\"\n",
    "\n",
    "\n",
    "    a.set_yticks([])\n",
    "    leftshift = 0\n",
    "    totick = np.array(totick)\n",
    "    nr_slots = len(totick)\n",
    "    tickmask = np.array([i!=emptychar for i in totick])\n",
    "    totick = totick[tickmask]\n",
    "    y_right = np.array([pd.Index(labels_all).get_loc(i) for i in totick])\n",
    "    \n",
    "    #if genes were not typed in in the correct order, account for that to avoid lines crossing\n",
    "    tickorder = np.argsort(y_right)\n",
    "    y_right = y_right[tickorder]\n",
    "    totick = totick[tickorder]\n",
    "    y_left = np.linspace(0,len(labels_all),nr_slots)[tickmask]\n",
    "    for l,r,gene in zip(y_left,y_right,totick):\n",
    "        a.plot((-0.8-leftshift,-0.5-leftshift),(r,r),lw=0.5,color='0.2')\n",
    "        a.plot((-1.2-leftshift,-0.8-leftshift),(l,r),lw=0.5,color='0.2')\n",
    "        a.plot((-1.5-leftshift,-1.2-leftshift),(l,l),lw=0.5,color='0.2')\n",
    "        a.text(-1.6-(leftshift*1.6),l,gene,ha='right',va='center',fontsize=fontsize, color = color_dict[gene])"
   ]
  },
  {
   "cell_type": "code",
   "execution_count": 67,
   "metadata": {},
   "outputs": [],
   "source": [
    "totick = heat.index"
   ]
  },
  {
   "cell_type": "code",
   "execution_count": 68,
   "metadata": {},
   "outputs": [],
   "source": [
    "corder = ['vSMCs', 'Myofibroblasts', 'Mesangial/vSMCs']"
   ]
  },
  {
   "cell_type": "code",
   "execution_count": 69,
   "metadata": {},
   "outputs": [],
   "source": [
    "heat = heat[corder[::-1]]"
   ]
  },
  {
   "cell_type": "code",
   "execution_count": 70,
   "metadata": {
    "tags": []
   },
   "outputs": [
    {
     "name": "stdout",
     "output_type": "stream",
     "text": [
      "-1.8733428 3.6416216\n",
      "stromal_heatmap_cell_type_upto_15_230523_14h06\n"
     ]
    },
    {
     "name": "stderr",
     "output_type": "stream",
     "text": [
      "<ipython-input-70-8b4a6424096e>:45: UserWarning: This figure includes Axes that are not compatible with tight_layout, so results might be incorrect.\n",
      "  gs.tight_layout(fig)\n"
     ]
    },
    {
     "data": {
      "image/png": "[encoded data removed]",
      "text/plain": [
       "<Figure size 354.331x1062.99 with 2 Axes>"
      ]
     },
     "metadata": {
      "needs_background": "light"
     },
     "output_type": "display_data"
    }
   ],
   "source": [
    "#a,fig,gs = rz.startfig(1+heat.shape[1]/3.,4+heat.shape[0]/40.,frameon=False)\n",
    "a,fig,gs = rz.startfig(6,18,frameon=False)\n",
    "\n",
    "upto=15\n",
    "cmap = 'RdBu_r'\n",
    "cbarlabel = r'$log2[\\frac{(cp10k+1)}{(cp10k+1) median}]$'\n",
    "\n",
    "vmin=-2\n",
    "vmax=2\n",
    "print(heat.min().min(),heat.max().max())\n",
    "\n",
    "# heatmap\n",
    "hmap = a.imshow(heat,aspect='auto',vmin=vmin,vmax=vmax,cmap=cmap, interpolation='none')\n",
    "\n",
    "# x ticks\n",
    "a.set_xticks(np.arange(heat.shape[1]))\n",
    "a.set_xticklabels(heat.columns,rotation=270, fontsize=13)\n",
    "a.xaxis.tick_top()\n",
    "\n",
    "# y ticks\n",
    "#yticks_fancy(a,totick,labels_all = heat.index, color_dict=color_dict, fontsize=11)\n",
    "\n",
    "a.set_yticks(np.arange(heat.shape[0]))\n",
    "a.set_yticklabels(totick,fontsize=6)\n",
    "\n",
    "# colorbar\n",
    "#cbar = fig.colorbar(hmap,orientation='vertical')\n",
    "#cbar.outline.set_visible(False)\n",
    "\n",
    "c = [vmin,0,vmax]\n",
    "clabs = [\"<\"+str(c[0])]+[str(i) for i in c[1:-1]]+[\">\"+str(c[-1])]\n",
    "\n",
    "\n",
    "#norm = mpl.colors.Normalize(vmin, vmax)\n",
    "caxb = fig.add_axes([1.2, 0.1, 0.05, 0.1])\n",
    "cbar = fig.colorbar(hmap, cax=caxb, orientation='vertical')\n",
    "cbar.outline.set_visible(False)\n",
    "#c = [vmin, 0,  vmax]\n",
    "cbar.set_ticks(c)\n",
    "cbar.ax.set_yticklabels(clabs, fontsize = 8)\n",
    "cbar.set_ticklabels(clabs)\n",
    "cbar.ax.set_title(cbarlabel,\n",
    "                  fontsize=8, pad = 15, y=-0.6)\n",
    "\n",
    "gs.tight_layout(fig)\n",
    "fname = 'stromal_heatmap_%s_upto_%d_%s'%(thelabel,upto,rz.now())\n",
    "print(fname)\n",
    "#plt.savefig(outdir+'%s.pdf'%fname,dpi=100)\n",
    "#plt.savefig(outdir+'%s.png'%fname,dpi=100,  bbox_inches='tight')"
   ]
  },
  {
   "cell_type": "markdown",
   "metadata": {},
   "source": [
    "## Heatmap version 2 - percentage max expression"
   ]
  },
  {
   "cell_type": "code",
   "execution_count": 71,
   "metadata": {},
   "outputs": [
    {
     "name": "stdout",
     "output_type": "stream",
     "text": [
      "dict_keys(['data', 'row_link', 'col_link'])\n"
     ]
    }
   ],
   "source": [
    "\n",
    "\n",
    "heat = centroids[genes].copy()\n",
    "heat = heat.loc[:,heat.max() > 0]\n",
    "heat = heat/heat.max()*100.\n",
    "heat = heat.T\n",
    "\n",
    "#choosing the colormap\n",
    "from matplotlib.colors import LinearSegmentedColormap\n",
    "cmap = LinearSegmentedColormap.from_list(\n",
    "    name='cmap', \n",
    "    colors=['#D3D3D3', #grey\n",
    "            #'#ff8080', \n",
    "            '#cc0000' #dark-red\n",
    "           ])\n",
    "#hierarchically cluster\n",
    "import scipy.cluster\n",
    "hierdict = rz.hier_cluster(heat, hier_clust_cols=True, method='ward',metric='sqrt_correlation')\n",
    "\n",
    "print(hierdict.keys())\n",
    "\n",
    "heat = hierdict['data']"
   ]
  },
  {
   "cell_type": "code",
   "execution_count": 73,
   "metadata": {},
   "outputs": [],
   "source": [
    "label = 'stromal_genes'"
   ]
  },
  {
   "cell_type": "code",
   "execution_count": 74,
   "metadata": {},
   "outputs": [],
   "source": [
    "heat = heat[corder[::-1]]"
   ]
  },
  {
   "cell_type": "code",
   "execution_count": 79,
   "metadata": {},
   "outputs": [
    {
     "name": "stdout",
     "output_type": "stream",
     "text": [
      "0.4596331 100.0\n",
      "heatmap_pctmax995_stromal_stromal_genes_230523_14h08\n"
     ]
    },
    {
     "data": {
      "image/png": "[encoded data removed]",
      "text/plain": [
       "<Figure size 354.331x1358.27 with 2 Axes>"
      ]
     },
     "metadata": {
      "needs_background": "light"
     },
     "output_type": "display_data"
    }
   ],
   "source": [
    "\n",
    "a,fig,gs = rz.startfig(6,23,frameon=False)\n",
    "\n",
    "cmap = cmap\n",
    "cbarlabel = '% max expression'\n",
    "\n",
    "vmin=0\n",
    "vmax=99.5\n",
    "\n",
    "print(heat.min().min(),heat.max().max())\n",
    "\n",
    "# heatmap\n",
    "hmap = a.imshow(heat,aspect='auto',vmin=vmin,vmax=vmax,cmap=cmap)\n",
    "\n",
    "# x ticks\n",
    "a.set_xticks(np.arange(heat.shape[1]))\n",
    "a.set_xticklabels(heat.columns,rotation=270, fontsize=12)\n",
    "a.xaxis.tick_top()\n",
    "\n",
    "# y ticks:\n",
    "a.set_yticks(np.arange(heat.shape[0]))\n",
    "a.set_yticklabels(heat.index, fontsize =7)\n",
    "\n",
    "# colorbar\n",
    "cbar = fig.colorbar(hmap,orientation='horizontal')\n",
    "cbar.outline.set_visible(False)\n",
    "\n",
    "c = [vmin,vmax]\n",
    "cbar.set_ticks(c)\n",
    "cbar.set_ticklabels(c)\n",
    "cbar.set_label(cbarlabel, fontsize=12)\n",
    "\n",
    "\n",
    "gs.tight_layout(fig)\n",
    "fname = 'heatmap_pctmax995_stromal_%s_%s'%(label,rz.now())\n",
    "print(fname)\n",
    "plt.savefig(outdir+'%s_v2.png'%fname,dpi=600)\n",
    "plt.savefig(outdir+'%s_v2.pdf'%fname,dpi=600)"
   ]
  }
 ],
 "metadata": {
  "kernelspec": {
   "display_name": "Python 3",
   "language": "python",
   "name": "python3"
  },
  "language_info": {
   "codemirror_mode": {
    "name": "ipython",
    "version": 3
   },
   "file_extension": ".py",
   "mimetype": "text/x-python",
   "name": "python",
   "nbconvert_exporter": "python",
   "pygments_lexer": "ipython3",
   "version": "3.8.12"
  }
 },
 "nbformat": 4,
 "nbformat_minor": 4
}
