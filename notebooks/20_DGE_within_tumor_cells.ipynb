{
 "cells": [
  {
   "cell_type": "markdown",
   "metadata": {},
   "source": [
    "### Import scanpy"
   ]
  },
  {
   "cell_type": "code",
   "execution_count": 1,
   "metadata": {},
   "outputs": [],
   "source": [
    "import scanpy as sc\n",
    "import scanpy.external as sce\n",
    "#sc.logging.print_versions()\n",
    "#sc.logging.print_memory_usage()\n",
    "#sc.settings.verbosity = 2\n",
    "import os,sys\n",
    "import datetime\n",
    "import numpy as np\n",
    "import pandas as pd\n",
    "import math\n",
    "import matplotlib.ticker as mticker\n"
   ]
  },
  {
   "cell_type": "code",
   "execution_count": 2,
   "metadata": {},
   "outputs": [],
   "source": [
    "import seaborn as sns\n",
    "import matplotlib.pyplot as plt\n",
    "import matplotlib as mpl\n",
    "import matplotlib.patches as patches\n",
    "from matplotlib import cm\n",
    "from matplotlib.lines import Line2D\n",
    "from matplotlib.offsetbox import AnchoredOffsetbox, TextArea, HPacker, VPacker"
   ]
  },
  {
   "cell_type": "code",
   "execution_count": 3,
   "metadata": {
    "scrolled": true
   },
   "outputs": [
    {
     "name": "stdout",
     "output_type": "stream",
     "text": [
      "python version: 3.8.12\n"
     ]
    }
   ],
   "source": [
    "# add the utility function folder to PATH\n",
    "sys.path.append(os.path.abspath(\"utility_functions_190403_12h24/\"))\n",
    "\n",
    "from rz_import_statements import *\n",
    "import rz_functions as rz\n",
    "import rz_fig_params # this adjust mpl.rcParams, almost nothing to import, import after scanpy to overwrite rc.Params\n",
    "import rz_utility_spring as srz"
   ]
  },
  {
   "cell_type": "markdown",
   "metadata": {},
   "source": [
    "# Load data"
   ]
  },
  {
   "cell_type": "code",
   "execution_count": 4,
   "metadata": {},
   "outputs": [],
   "source": [
    "adata = sc.read_h5ad('backups_JZ_2022/clean_kidney_304_15tr_25c_batch_corrected_50236x2000_220315_12h14.h5ad') "
   ]
  },
  {
   "cell_type": "code",
   "execution_count": 5,
   "metadata": {},
   "outputs": [],
   "source": [
    "# overwrite obs with the most recent version\n",
    "filename = 'backups_JZ_2022/corrected_obs_info_50236x32_221012_12h04.npz'\n",
    "encoding = 'latin1'\n",
    "\n",
    "with np.load(filename,encoding=encoding, allow_pickle = True) as f:\n",
    "    obs = pd.DataFrame(**f)\n",
    "adata.obs = obs"
   ]
  },
  {
   "cell_type": "code",
   "execution_count": 6,
   "metadata": {},
   "outputs": [
    {
     "data": {
      "text/html": [
       "<div>\n",
       "<style scoped>\n",
       "    .dataframe tbody tr th:only-of-type {\n",
       "        vertical-align: middle;\n",
       "    }\n",
       "\n",
       "    .dataframe tbody tr th {\n",
       "        vertical-align: top;\n",
       "    }\n",
       "\n",
       "    .dataframe thead th {\n",
       "        text-align: right;\n",
       "    }\n",
       "</style>\n",
       "<table border=\"1\" class=\"dataframe\">\n",
       "  <thead>\n",
       "    <tr style=\"text-align: right;\">\n",
       "      <th></th>\n",
       "      <th>library</th>\n",
       "      <th>total_counts</th>\n",
       "      <th>pct_counts_mito</th>\n",
       "      <th>library2</th>\n",
       "      <th>sample</th>\n",
       "      <th>patient</th>\n",
       "      <th>pT stage</th>\n",
       "      <th>seq_date</th>\n",
       "      <th>beads</th>\n",
       "      <th>operation</th>\n",
       "      <th>...</th>\n",
       "      <th>n_counts</th>\n",
       "      <th>no_dblt_no_rbc</th>\n",
       "      <th>sp_cl_43</th>\n",
       "      <th>cell_type</th>\n",
       "      <th>broad_cell_type</th>\n",
       "      <th>color</th>\n",
       "      <th>cell_group</th>\n",
       "      <th>stage_color</th>\n",
       "      <th>patient_color</th>\n",
       "      <th>group_color</th>\n",
       "    </tr>\n",
       "  </thead>\n",
       "  <tbody>\n",
       "    <tr>\n",
       "      <th>2</th>\n",
       "      <td>N14</td>\n",
       "      <td>449</td>\n",
       "      <td>0.668151</td>\n",
       "      <td>T2_1</td>\n",
       "      <td>T2</td>\n",
       "      <td>P2</td>\n",
       "      <td>pT3a</td>\n",
       "      <td>20_11_12</td>\n",
       "      <td>old</td>\n",
       "      <td>Open</td>\n",
       "      <td>...</td>\n",
       "      <td>449</td>\n",
       "      <td>True</td>\n",
       "      <td>40</td>\n",
       "      <td>TAM 4</td>\n",
       "      <td>Immune</td>\n",
       "      <td>#9a5ce0</td>\n",
       "      <td>Myeloid cells</td>\n",
       "      <td>#8c1a1a</td>\n",
       "      <td>#e87f7f</td>\n",
       "      <td>#85619c</td>\n",
       "    </tr>\n",
       "    <tr>\n",
       "      <th>19</th>\n",
       "      <td>N14</td>\n",
       "      <td>449</td>\n",
       "      <td>4.23163</td>\n",
       "      <td>T2_1</td>\n",
       "      <td>T2</td>\n",
       "      <td>P2</td>\n",
       "      <td>pT3a</td>\n",
       "      <td>20_11_12</td>\n",
       "      <td>old</td>\n",
       "      <td>Open</td>\n",
       "      <td>...</td>\n",
       "      <td>449</td>\n",
       "      <td>True</td>\n",
       "      <td>37</td>\n",
       "      <td>TAM 3</td>\n",
       "      <td>Immune</td>\n",
       "      <td>#943886</td>\n",
       "      <td>Myeloid cells</td>\n",
       "      <td>#8c1a1a</td>\n",
       "      <td>#e87f7f</td>\n",
       "      <td>#85619c</td>\n",
       "    </tr>\n",
       "    <tr>\n",
       "      <th>363</th>\n",
       "      <td>N14</td>\n",
       "      <td>1229</td>\n",
       "      <td>10.6591</td>\n",
       "      <td>T2_1</td>\n",
       "      <td>T2</td>\n",
       "      <td>P2</td>\n",
       "      <td>pT3a</td>\n",
       "      <td>20_11_12</td>\n",
       "      <td>old</td>\n",
       "      <td>Open</td>\n",
       "      <td>...</td>\n",
       "      <td>1229</td>\n",
       "      <td>True</td>\n",
       "      <td>22</td>\n",
       "      <td>Tumor cells 2</td>\n",
       "      <td>Tumor</td>\n",
       "      <td>#b06c6c</td>\n",
       "      <td>Tumor cells</td>\n",
       "      <td>#8c1a1a</td>\n",
       "      <td>#e87f7f</td>\n",
       "      <td>#db2f2c</td>\n",
       "    </tr>\n",
       "    <tr>\n",
       "      <th>433</th>\n",
       "      <td>N14</td>\n",
       "      <td>432</td>\n",
       "      <td>6.94444</td>\n",
       "      <td>T2_1</td>\n",
       "      <td>T2</td>\n",
       "      <td>P2</td>\n",
       "      <td>pT3a</td>\n",
       "      <td>20_11_12</td>\n",
       "      <td>old</td>\n",
       "      <td>Open</td>\n",
       "      <td>...</td>\n",
       "      <td>432</td>\n",
       "      <td>True</td>\n",
       "      <td>27</td>\n",
       "      <td>Tumor cells 3</td>\n",
       "      <td>Tumor</td>\n",
       "      <td>#db2f2c</td>\n",
       "      <td>Tumor cells</td>\n",
       "      <td>#8c1a1a</td>\n",
       "      <td>#e87f7f</td>\n",
       "      <td>#db2f2c</td>\n",
       "    </tr>\n",
       "    <tr>\n",
       "      <th>444</th>\n",
       "      <td>N14</td>\n",
       "      <td>502</td>\n",
       "      <td>4.98008</td>\n",
       "      <td>T2_1</td>\n",
       "      <td>T2</td>\n",
       "      <td>P2</td>\n",
       "      <td>pT3a</td>\n",
       "      <td>20_11_12</td>\n",
       "      <td>old</td>\n",
       "      <td>Open</td>\n",
       "      <td>...</td>\n",
       "      <td>502</td>\n",
       "      <td>True</td>\n",
       "      <td>28</td>\n",
       "      <td>Tumor vasculature 4</td>\n",
       "      <td>Endothelial</td>\n",
       "      <td>#a35927</td>\n",
       "      <td>Endothelium</td>\n",
       "      <td>#8c1a1a</td>\n",
       "      <td>#e87f7f</td>\n",
       "      <td>#e07c57</td>\n",
       "    </tr>\n",
       "    <tr>\n",
       "      <th>...</th>\n",
       "      <td>...</td>\n",
       "      <td>...</td>\n",
       "      <td>...</td>\n",
       "      <td>...</td>\n",
       "      <td>...</td>\n",
       "      <td>...</td>\n",
       "      <td>...</td>\n",
       "      <td>...</td>\n",
       "      <td>...</td>\n",
       "      <td>...</td>\n",
       "      <td>...</td>\n",
       "      <td>...</td>\n",
       "      <td>...</td>\n",
       "      <td>...</td>\n",
       "      <td>...</td>\n",
       "      <td>...</td>\n",
       "      <td>...</td>\n",
       "      <td>...</td>\n",
       "      <td>...</td>\n",
       "      <td>...</td>\n",
       "      <td>...</td>\n",
       "    </tr>\n",
       "    <tr>\n",
       "      <th>4865536</th>\n",
       "      <td>Tumor0228</td>\n",
       "      <td>683</td>\n",
       "      <td>9.37042</td>\n",
       "      <td>T4_old</td>\n",
       "      <td>T4</td>\n",
       "      <td>P4</td>\n",
       "      <td>pT3a</td>\n",
       "      <td>old</td>\n",
       "      <td>old</td>\n",
       "      <td>Open</td>\n",
       "      <td>...</td>\n",
       "      <td>683</td>\n",
       "      <td>True</td>\n",
       "      <td>30</td>\n",
       "      <td>TAM 2</td>\n",
       "      <td>Immune</td>\n",
       "      <td>#532b6b</td>\n",
       "      <td>Myeloid cells</td>\n",
       "      <td>#8c1a1a</td>\n",
       "      <td>#70c3d4</td>\n",
       "      <td>#85619c</td>\n",
       "    </tr>\n",
       "    <tr>\n",
       "      <th>4865584</th>\n",
       "      <td>Tumor0228</td>\n",
       "      <td>1473</td>\n",
       "      <td>6.51731</td>\n",
       "      <td>T4_old</td>\n",
       "      <td>T4</td>\n",
       "      <td>P4</td>\n",
       "      <td>pT3a</td>\n",
       "      <td>old</td>\n",
       "      <td>old</td>\n",
       "      <td>Open</td>\n",
       "      <td>...</td>\n",
       "      <td>1473</td>\n",
       "      <td>True</td>\n",
       "      <td>30</td>\n",
       "      <td>TAM 2</td>\n",
       "      <td>Immune</td>\n",
       "      <td>#532b6b</td>\n",
       "      <td>Myeloid cells</td>\n",
       "      <td>#8c1a1a</td>\n",
       "      <td>#70c3d4</td>\n",
       "      <td>#85619c</td>\n",
       "    </tr>\n",
       "    <tr>\n",
       "      <th>4865642</th>\n",
       "      <td>Tumor0228</td>\n",
       "      <td>498</td>\n",
       "      <td>9.43775</td>\n",
       "      <td>T4_old</td>\n",
       "      <td>T4</td>\n",
       "      <td>P4</td>\n",
       "      <td>pT3a</td>\n",
       "      <td>old</td>\n",
       "      <td>old</td>\n",
       "      <td>Open</td>\n",
       "      <td>...</td>\n",
       "      <td>498</td>\n",
       "      <td>True</td>\n",
       "      <td>37</td>\n",
       "      <td>TAM 3</td>\n",
       "      <td>Immune</td>\n",
       "      <td>#943886</td>\n",
       "      <td>Myeloid cells</td>\n",
       "      <td>#8c1a1a</td>\n",
       "      <td>#70c3d4</td>\n",
       "      <td>#85619c</td>\n",
       "    </tr>\n",
       "    <tr>\n",
       "      <th>4865726</th>\n",
       "      <td>Tumor0228</td>\n",
       "      <td>421</td>\n",
       "      <td>19.2399</td>\n",
       "      <td>T4_old</td>\n",
       "      <td>T4</td>\n",
       "      <td>P4</td>\n",
       "      <td>pT3a</td>\n",
       "      <td>old</td>\n",
       "      <td>old</td>\n",
       "      <td>Open</td>\n",
       "      <td>...</td>\n",
       "      <td>421</td>\n",
       "      <td>True</td>\n",
       "      <td>27</td>\n",
       "      <td>Tumor cells 3</td>\n",
       "      <td>Tumor</td>\n",
       "      <td>#db2f2c</td>\n",
       "      <td>Tumor cells</td>\n",
       "      <td>#8c1a1a</td>\n",
       "      <td>#70c3d4</td>\n",
       "      <td>#db2f2c</td>\n",
       "    </tr>\n",
       "    <tr>\n",
       "      <th>4866011</th>\n",
       "      <td>Tumor0228</td>\n",
       "      <td>763</td>\n",
       "      <td>3.80079</td>\n",
       "      <td>T4_old</td>\n",
       "      <td>T4</td>\n",
       "      <td>P4</td>\n",
       "      <td>pT3a</td>\n",
       "      <td>old</td>\n",
       "      <td>old</td>\n",
       "      <td>Open</td>\n",
       "      <td>...</td>\n",
       "      <td>763</td>\n",
       "      <td>True</td>\n",
       "      <td>42</td>\n",
       "      <td>Resting/memory T cells</td>\n",
       "      <td>Immune</td>\n",
       "      <td>#4f9e58</td>\n",
       "      <td>Lymphoid cells</td>\n",
       "      <td>#8c1a1a</td>\n",
       "      <td>#70c3d4</td>\n",
       "      <td>#4f9e58</td>\n",
       "    </tr>\n",
       "  </tbody>\n",
       "</table>\n",
       "<p>50236 rows × 32 columns</p>\n",
       "</div>"
      ],
      "text/plain": [
       "           library total_counts pct_counts_mito library2 sample patient  \\\n",
       "2              N14          449        0.668151     T2_1     T2      P2   \n",
       "19             N14          449         4.23163     T2_1     T2      P2   \n",
       "363            N14         1229         10.6591     T2_1     T2      P2   \n",
       "433            N14          432         6.94444     T2_1     T2      P2   \n",
       "444            N14          502         4.98008     T2_1     T2      P2   \n",
       "...            ...          ...             ...      ...    ...     ...   \n",
       "4865536  Tumor0228          683         9.37042   T4_old     T4      P4   \n",
       "4865584  Tumor0228         1473         6.51731   T4_old     T4      P4   \n",
       "4865642  Tumor0228          498         9.43775   T4_old     T4      P4   \n",
       "4865726  Tumor0228          421         19.2399   T4_old     T4      P4   \n",
       "4866011  Tumor0228          763         3.80079   T4_old     T4      P4   \n",
       "\n",
       "        pT stage  seq_date beads operation  ... n_counts no_dblt_no_rbc  \\\n",
       "2           pT3a  20_11_12   old      Open  ...      449           True   \n",
       "19          pT3a  20_11_12   old      Open  ...      449           True   \n",
       "363         pT3a  20_11_12   old      Open  ...     1229           True   \n",
       "433         pT3a  20_11_12   old      Open  ...      432           True   \n",
       "444         pT3a  20_11_12   old      Open  ...      502           True   \n",
       "...          ...       ...   ...       ...  ...      ...            ...   \n",
       "4865536     pT3a       old   old      Open  ...      683           True   \n",
       "4865584     pT3a       old   old      Open  ...     1473           True   \n",
       "4865642     pT3a       old   old      Open  ...      498           True   \n",
       "4865726     pT3a       old   old      Open  ...      421           True   \n",
       "4866011     pT3a       old   old      Open  ...      763           True   \n",
       "\n",
       "        sp_cl_43               cell_type broad_cell_type    color  \\\n",
       "2             40                   TAM 4          Immune  #9a5ce0   \n",
       "19            37                   TAM 3          Immune  #943886   \n",
       "363           22           Tumor cells 2           Tumor  #b06c6c   \n",
       "433           27           Tumor cells 3           Tumor  #db2f2c   \n",
       "444           28     Tumor vasculature 4     Endothelial  #a35927   \n",
       "...          ...                     ...             ...      ...   \n",
       "4865536       30                   TAM 2          Immune  #532b6b   \n",
       "4865584       30                   TAM 2          Immune  #532b6b   \n",
       "4865642       37                   TAM 3          Immune  #943886   \n",
       "4865726       27           Tumor cells 3           Tumor  #db2f2c   \n",
       "4866011       42  Resting/memory T cells          Immune  #4f9e58   \n",
       "\n",
       "             cell_group stage_color patient_color group_color  \n",
       "2         Myeloid cells     #8c1a1a       #e87f7f     #85619c  \n",
       "19        Myeloid cells     #8c1a1a       #e87f7f     #85619c  \n",
       "363         Tumor cells     #8c1a1a       #e87f7f     #db2f2c  \n",
       "433         Tumor cells     #8c1a1a       #e87f7f     #db2f2c  \n",
       "444         Endothelium     #8c1a1a       #e87f7f     #e07c57  \n",
       "...                 ...         ...           ...         ...  \n",
       "4865536   Myeloid cells     #8c1a1a       #70c3d4     #85619c  \n",
       "4865584   Myeloid cells     #8c1a1a       #70c3d4     #85619c  \n",
       "4865642   Myeloid cells     #8c1a1a       #70c3d4     #85619c  \n",
       "4865726     Tumor cells     #8c1a1a       #70c3d4     #db2f2c  \n",
       "4866011  Lymphoid cells     #8c1a1a       #70c3d4     #4f9e58  \n",
       "\n",
       "[50236 rows x 32 columns]"
      ]
     },
     "execution_count": 6,
     "metadata": {},
     "output_type": "execute_result"
    }
   ],
   "source": [
    "adata.obs"
   ]
  },
  {
   "cell_type": "markdown",
   "metadata": {},
   "source": [
    "### Scale (normalize) data"
   ]
  },
  {
   "cell_type": "code",
   "execution_count": 7,
   "metadata": {},
   "outputs": [],
   "source": [
    "adata = adata.raw.to_adata()"
   ]
  },
  {
   "cell_type": "code",
   "execution_count": 9,
   "metadata": {
    "scrolled": true
   },
   "outputs": [
    {
     "name": "stdout",
     "output_type": "stream",
     "text": [
      "[[ 449.]\n",
      " [ 449.]\n",
      " [1229.]\n",
      " [ 432.]\n",
      " [ 502.]]\n",
      "\n",
      "[[10000.001]\n",
      " [10000.   ]\n",
      " [10000.001]\n",
      " [10000.   ]\n",
      " [10000.   ]]\n"
     ]
    }
   ],
   "source": [
    "# turn into counts per 10k\n",
    "print(adata.X[:5,:].sum(axis=1))\n",
    "print()\n",
    "sc.pp.normalize_per_cell(adata, counts_per_cell_after=1e4)\n",
    "print(adata.X[:5,:].sum(axis=1))"
   ]
  },
  {
   "cell_type": "code",
   "execution_count": 10,
   "metadata": {},
   "outputs": [],
   "source": [
    "import matplotlib as mpl\n",
    "mpl.rc('font',family='Arial')\n",
    "mpl.rcParams['pdf.fonttype'] = 42\n",
    "mpl.rcParams['ps.fonttype'] = 42"
   ]
  },
  {
   "cell_type": "markdown",
   "metadata": {},
   "source": [
    "# Get enriched genes"
   ]
  },
  {
   "cell_type": "code",
   "execution_count": 11,
   "metadata": {},
   "outputs": [
    {
     "data": {
      "text/plain": [
       "array(['TAM 4', 'TAM 3', 'Tumor cells 2', 'Tumor cells 3',\n",
       "       'Tumor vasculature 4', 'TAM 1', 'CD8 T cells', 'TAM 2',\n",
       "       'Resting/memory T cells', 'Cytotoxic T cells',\n",
       "       'Tumor vasculature 2', 'Tumor vasculature 1',\n",
       "       'Non-classical monocytes', 'Mesangial/vSMCs',\n",
       "       'IGHG-high plasma cells', 'Mast cells', 'Tumor vasculature 3',\n",
       "       'Plasma cells', 'Tumor AVR-like vasculature', 'Cycling', 'vSMCs',\n",
       "       'NK cells', 'Classical monocytes', 'B cells', 'Myofibroblasts',\n",
       "       'Regulatory T cells', 'Tumor cells 1', 'Proximal tubule', 'AVR',\n",
       "       'Epithelial progenitor-like cells', 'tAL of LOH',\n",
       "       'Glomerular endothelium', 'Principal cells', 'TAL of LOH', 'DVR',\n",
       "       'Type A-ICs', 'OM Type A-ICs', 'Type B-IC', 'Podocytes', 'DCT/CNT'],\n",
       "      dtype=object)"
      ]
     },
     "execution_count": 11,
     "metadata": {},
     "output_type": "execute_result"
    }
   ],
   "source": [
    "adata.obs['cell_type'].unique()"
   ]
  },
  {
   "cell_type": "code",
   "execution_count": 12,
   "metadata": {},
   "outputs": [
    {
     "name": "stdout",
     "output_type": "stream",
     "text": [
      "3039\n"
     ]
    }
   ],
   "source": [
    "#subset cells using cmask\n",
    "cmask = adata.obs['cell_type'].isin([ 'Tumor cells 1','Tumor cells 2', 'Tumor cells 3']).values\n",
    "print(cmask.sum())"
   ]
  },
  {
   "cell_type": "code",
   "execution_count": 13,
   "metadata": {},
   "outputs": [],
   "source": [
    "# get centroids\n",
    "thelabel = 'cell_type'\n",
    "centroids = rz.centroids(thelabel,adata[cmask])"
   ]
  },
  {
   "cell_type": "code",
   "execution_count": 14,
   "metadata": {},
   "outputs": [],
   "source": [
    "# For each cluster, find genes that are statistically significantly higher or lower in cluster x compared to\n",
    "# all other cells collectively\n",
    "\n",
    "#label-free filter to remove low abundance genes\n",
    "# I am using a more stringent filter here of 50 cells\n",
    "\n",
    "min_counts = 15\n",
    "min_cells = 50"
   ]
  },
  {
   "cell_type": "code",
   "execution_count": 15,
   "metadata": {},
   "outputs": [
    {
     "name": "stdout",
     "output_type": "stream",
     "text": [
      "1267 genes passing abundance filter\n"
     ]
    }
   ],
   "source": [
    "gmask = srz.filter_abund_genes(adata.X[cmask], min_counts, min_cells)"
   ]
  },
  {
   "cell_type": "code",
   "execution_count": 16,
   "metadata": {},
   "outputs": [
    {
     "name": "stdout",
     "output_type": "stream",
     "text": [
      "1000\n",
      "1/3\n",
      "Tumor cells 2 done 3039\n",
      "1000\n",
      "2/3\n",
      "Tumor cells 3 done 3039\n",
      "1000\n",
      "3/3\n",
      "Tumor cells 1 done 3039\n",
      "5.446923017501831\n",
      "backups_JZ_2022/1550_tumor_clusters_vs_rest_MWU_result_dict_230617_12h32cell_type\n"
     ]
    }
   ],
   "source": [
    "mwu_dict = {}\n",
    "start=time.time()\n",
    "counter=0\n",
    "\n",
    "meta = adata[cmask].obs\n",
    "E = adata[cmask].X\n",
    "gene_list = adata.var_names\n",
    "\n",
    "\n",
    "for cluster in meta[thelabel].unique():\n",
    "    counter+=1\n",
    "    mask1 = (meta[thelabel]==cluster).values\n",
    "    mask2 = mask1==False\n",
    "    \n",
    "    cg1 = np.array(E[:,gmask][mask1,:].todense())\n",
    "    cg2 = np.array(E[:,gmask][mask2,:].todense())\n",
    "    mwu_dict[cluster] = rz.mwu(cg1,cg2,genes=gene_list[gmask],print_progression=True)\n",
    "    print(\"%d/%d\"%(counter,len(meta[thelabel].unique())))\n",
    "    print(cluster, 'done',cg1.shape[0]+cg2.shape[0])\n",
    "print(time.time()-start)\n",
    "\n",
    "fname = 'backups_JZ_2022/1550_tumor_clusters_vs_rest_MWU_result_dict_%s%s'%(rz.now(), thelabel)\n",
    "print(fname)\n",
    "rz.save_stuff(mwu_dict,fname)"
   ]
  },
  {
   "cell_type": "code",
   "execution_count": 17,
   "metadata": {},
   "outputs": [],
   "source": [
    "#continuing from backup\n",
    "#mwu_dict = rz.load_stuff('backups_JZ_2022/1515vasculature_clusters_vs_rest_MWU_result_dict_221109_15h58cell_type.pickle')"
   ]
  },
  {
   "cell_type": "code",
   "execution_count": 18,
   "metadata": {},
   "outputs": [],
   "source": [
    "# select pseudovalue to add\n",
    "pseudo = 1 # 1 counts per 10k"
   ]
  },
  {
   "cell_type": "code",
   "execution_count": 19,
   "metadata": {},
   "outputs": [
    {
     "name": "stdout",
     "output_type": "stream",
     "text": [
      "cell_type\n"
     ]
    }
   ],
   "source": [
    "print(thelabel)\n",
    "fcdict = rz.get_fc_to_all_other(\n",
    "        lab = thelabel,\n",
    "        meta = adata[cmask].obs,\n",
    "        E = adata[cmask].X,\n",
    "        pseudo = pseudo,\n",
    "        gene_list = adata.var_names,\n",
    "        )"
   ]
  },
  {
   "cell_type": "code",
   "execution_count": 20,
   "metadata": {},
   "outputs": [
    {
     "name": "stdout",
     "output_type": "stream",
     "text": [
      "1267\n",
      "Tumor cells 2 1180 1180\n",
      "Tumor cells 3 1219 1219\n",
      "Tumor cells 1 1070 1070\n"
     ]
    }
   ],
   "source": [
    "# leave only genes with a significant difference.\n",
    "fcdictsig = {}\n",
    "\n",
    "# before the mwu test, I prefiltered genes on abundance, apply this mask here as well\n",
    "print(gmask.sum())\n",
    "for key,value in fcdict.items():\n",
    "    sigmask = (mwu_dict[key]['fdr']<0.05).values\n",
    "    fcdictsig[key] = value[gmask][sigmask]\n",
    "    print(key,sigmask.sum(),len(fcdictsig[key]))"
   ]
  },
  {
   "cell_type": "code",
   "execution_count": 21,
   "metadata": {},
   "outputs": [
    {
     "data": {
      "text/plain": [
       "Tumor cells 2_FC    1.750194\n",
       "Tumor cells 3_FC    1.424685\n",
       "Tumor cells 1_FC    2.994534\n",
       "dtype: float32"
      ]
     },
     "execution_count": 21,
     "metadata": {},
     "output_type": "execute_result"
    }
   ],
   "source": [
    "# nr genes to consider:\n",
    "\n",
    "upto = 20 #genes to generate heatmap\n",
    "\n",
    "frame = {}\n",
    "for key,value in fcdictsig.items():\n",
    "    s = value.sort_values(ascending=False)[:upto]\n",
    "    key2 = str(key)+'_FC'\n",
    "    frame[str(key)] = s.index\n",
    "    frame[key2] = s.values\n",
    "frame = pd.DataFrame(frame)\n",
    "frame[[i for i in frame.columns if \"FC\" in i]].min() #ok, all above 1."
   ]
  },
  {
   "cell_type": "code",
   "execution_count": 22,
   "metadata": {},
   "outputs": [],
   "source": [
    "outdir = 'outputs_JZ_2022/'"
   ]
  },
  {
   "cell_type": "code",
   "execution_count": 23,
   "metadata": {},
   "outputs": [
    {
     "name": "stdout",
     "output_type": "stream",
     "text": [
      "outputs_JZ_2022/tumor_lists1550_enriched_genes_top_20_cell_type_230617_12h32.xlsx\n"
     ]
    }
   ],
   "source": [
    "fname = outdir+'tumor_lists1550_enriched_genes_top_%d_%s_%s.xlsx'%(upto,thelabel,rz.now())\n",
    "print(fname)\n",
    "frame.to_excel(fname)"
   ]
  },
  {
   "cell_type": "code",
   "execution_count": 24,
   "metadata": {},
   "outputs": [
    {
     "data": {
      "text/html": [
       "<div>\n",
       "<style scoped>\n",
       "    .dataframe tbody tr th:only-of-type {\n",
       "        vertical-align: middle;\n",
       "    }\n",
       "\n",
       "    .dataframe tbody tr th {\n",
       "        vertical-align: top;\n",
       "    }\n",
       "\n",
       "    .dataframe thead th {\n",
       "        text-align: right;\n",
       "    }\n",
       "</style>\n",
       "<table border=\"1\" class=\"dataframe\">\n",
       "  <thead>\n",
       "    <tr style=\"text-align: right;\">\n",
       "      <th></th>\n",
       "      <th>Tumor cells 2</th>\n",
       "      <th>Tumor cells 2_FC</th>\n",
       "      <th>Tumor cells 3</th>\n",
       "      <th>Tumor cells 3_FC</th>\n",
       "      <th>Tumor cells 1</th>\n",
       "      <th>Tumor cells 1_FC</th>\n",
       "    </tr>\n",
       "  </thead>\n",
       "  <tbody>\n",
       "    <tr>\n",
       "      <th>0</th>\n",
       "      <td>PDK4</td>\n",
       "      <td>2.620956</td>\n",
       "      <td>TGFBI</td>\n",
       "      <td>2.013462</td>\n",
       "      <td>GC</td>\n",
       "      <td>10.292252</td>\n",
       "    </tr>\n",
       "    <tr>\n",
       "      <th>1</th>\n",
       "      <td>TNFAIP6</td>\n",
       "      <td>2.564194</td>\n",
       "      <td>APOC1</td>\n",
       "      <td>2.010990</td>\n",
       "      <td>FABP7</td>\n",
       "      <td>6.979539</td>\n",
       "    </tr>\n",
       "    <tr>\n",
       "      <th>2</th>\n",
       "      <td>NAT8</td>\n",
       "      <td>2.432796</td>\n",
       "      <td>APOE</td>\n",
       "      <td>1.966565</td>\n",
       "      <td>IFI27</td>\n",
       "      <td>6.158026</td>\n",
       "    </tr>\n",
       "    <tr>\n",
       "      <th>3</th>\n",
       "      <td>SMIM24</td>\n",
       "      <td>2.114027</td>\n",
       "      <td>EEF1A1</td>\n",
       "      <td>1.663460</td>\n",
       "      <td>HSPA1B</td>\n",
       "      <td>5.408942</td>\n",
       "    </tr>\n",
       "    <tr>\n",
       "      <th>4</th>\n",
       "      <td>NNMT</td>\n",
       "      <td>2.061851</td>\n",
       "      <td>RPLP0</td>\n",
       "      <td>1.652715</td>\n",
       "      <td>UBD</td>\n",
       "      <td>5.120883</td>\n",
       "    </tr>\n",
       "    <tr>\n",
       "      <th>5</th>\n",
       "      <td>CEBPD</td>\n",
       "      <td>2.049349</td>\n",
       "      <td>RPL3</td>\n",
       "      <td>1.612963</td>\n",
       "      <td>MDK</td>\n",
       "      <td>5.070866</td>\n",
       "    </tr>\n",
       "    <tr>\n",
       "      <th>6</th>\n",
       "      <td>VEGFA</td>\n",
       "      <td>2.048639</td>\n",
       "      <td>CCL4</td>\n",
       "      <td>1.587750</td>\n",
       "      <td>HLA-G</td>\n",
       "      <td>4.366031</td>\n",
       "    </tr>\n",
       "    <tr>\n",
       "      <th>7</th>\n",
       "      <td>SLC3A1</td>\n",
       "      <td>1.981532</td>\n",
       "      <td>SLC25A5</td>\n",
       "      <td>1.567456</td>\n",
       "      <td>SLC17A3</td>\n",
       "      <td>3.860393</td>\n",
       "    </tr>\n",
       "    <tr>\n",
       "      <th>8</th>\n",
       "      <td>KLF6</td>\n",
       "      <td>1.973939</td>\n",
       "      <td>RPS17</td>\n",
       "      <td>1.525232</td>\n",
       "      <td>ATP5MC3</td>\n",
       "      <td>3.778892</td>\n",
       "    </tr>\n",
       "    <tr>\n",
       "      <th>9</th>\n",
       "      <td>RETREG1</td>\n",
       "      <td>1.922115</td>\n",
       "      <td>NAP1L1</td>\n",
       "      <td>1.518389</td>\n",
       "      <td>HSPA1A</td>\n",
       "      <td>3.706318</td>\n",
       "    </tr>\n",
       "    <tr>\n",
       "      <th>10</th>\n",
       "      <td>CLTRN</td>\n",
       "      <td>1.906172</td>\n",
       "      <td>TMSB4X</td>\n",
       "      <td>1.509415</td>\n",
       "      <td>SOD2</td>\n",
       "      <td>3.697751</td>\n",
       "    </tr>\n",
       "    <tr>\n",
       "      <th>11</th>\n",
       "      <td>NPR3</td>\n",
       "      <td>1.862344</td>\n",
       "      <td>MALAT1</td>\n",
       "      <td>1.499380</td>\n",
       "      <td>VCAM1</td>\n",
       "      <td>3.636310</td>\n",
       "    </tr>\n",
       "    <tr>\n",
       "      <th>12</th>\n",
       "      <td>EGR1</td>\n",
       "      <td>1.854923</td>\n",
       "      <td>RPL13</td>\n",
       "      <td>1.485119</td>\n",
       "      <td>SPATS2L</td>\n",
       "      <td>3.419623</td>\n",
       "    </tr>\n",
       "    <tr>\n",
       "      <th>13</th>\n",
       "      <td>TMEM176B</td>\n",
       "      <td>1.831759</td>\n",
       "      <td>PPDPF</td>\n",
       "      <td>1.481286</td>\n",
       "      <td>TNFSF10</td>\n",
       "      <td>3.336237</td>\n",
       "    </tr>\n",
       "    <tr>\n",
       "      <th>14</th>\n",
       "      <td>SLC6A13</td>\n",
       "      <td>1.812029</td>\n",
       "      <td>FTL</td>\n",
       "      <td>1.478908</td>\n",
       "      <td>HLA-DRB1</td>\n",
       "      <td>3.296479</td>\n",
       "    </tr>\n",
       "    <tr>\n",
       "      <th>15</th>\n",
       "      <td>GSTP1</td>\n",
       "      <td>1.780929</td>\n",
       "      <td>RPL4</td>\n",
       "      <td>1.441230</td>\n",
       "      <td>FHL1</td>\n",
       "      <td>3.161404</td>\n",
       "    </tr>\n",
       "    <tr>\n",
       "      <th>16</th>\n",
       "      <td>IGFBP3</td>\n",
       "      <td>1.780895</td>\n",
       "      <td>RPS4X</td>\n",
       "      <td>1.433135</td>\n",
       "      <td>CISD1</td>\n",
       "      <td>3.146251</td>\n",
       "    </tr>\n",
       "    <tr>\n",
       "      <th>17</th>\n",
       "      <td>MGST3</td>\n",
       "      <td>1.779250</td>\n",
       "      <td>RPS10</td>\n",
       "      <td>1.425425</td>\n",
       "      <td>HMGN3</td>\n",
       "      <td>3.143208</td>\n",
       "    </tr>\n",
       "    <tr>\n",
       "      <th>18</th>\n",
       "      <td>ADIRF</td>\n",
       "      <td>1.753703</td>\n",
       "      <td>RPL36A</td>\n",
       "      <td>1.424852</td>\n",
       "      <td>HSPB8</td>\n",
       "      <td>3.137707</td>\n",
       "    </tr>\n",
       "    <tr>\n",
       "      <th>19</th>\n",
       "      <td>AQP1</td>\n",
       "      <td>1.750194</td>\n",
       "      <td>HLA-DPB1</td>\n",
       "      <td>1.424685</td>\n",
       "      <td>GSTA1</td>\n",
       "      <td>2.994534</td>\n",
       "    </tr>\n",
       "  </tbody>\n",
       "</table>\n",
       "</div>"
      ],
      "text/plain": [
       "   Tumor cells 2  Tumor cells 2_FC Tumor cells 3  Tumor cells 3_FC  \\\n",
       "0           PDK4          2.620956         TGFBI          2.013462   \n",
       "1        TNFAIP6          2.564194         APOC1          2.010990   \n",
       "2           NAT8          2.432796          APOE          1.966565   \n",
       "3         SMIM24          2.114027        EEF1A1          1.663460   \n",
       "4           NNMT          2.061851         RPLP0          1.652715   \n",
       "5          CEBPD          2.049349          RPL3          1.612963   \n",
       "6          VEGFA          2.048639          CCL4          1.587750   \n",
       "7         SLC3A1          1.981532       SLC25A5          1.567456   \n",
       "8           KLF6          1.973939         RPS17          1.525232   \n",
       "9        RETREG1          1.922115        NAP1L1          1.518389   \n",
       "10         CLTRN          1.906172        TMSB4X          1.509415   \n",
       "11          NPR3          1.862344        MALAT1          1.499380   \n",
       "12          EGR1          1.854923         RPL13          1.485119   \n",
       "13      TMEM176B          1.831759         PPDPF          1.481286   \n",
       "14       SLC6A13          1.812029           FTL          1.478908   \n",
       "15         GSTP1          1.780929          RPL4          1.441230   \n",
       "16        IGFBP3          1.780895         RPS4X          1.433135   \n",
       "17         MGST3          1.779250         RPS10          1.425425   \n",
       "18         ADIRF          1.753703        RPL36A          1.424852   \n",
       "19          AQP1          1.750194      HLA-DPB1          1.424685   \n",
       "\n",
       "   Tumor cells 1  Tumor cells 1_FC  \n",
       "0             GC         10.292252  \n",
       "1          FABP7          6.979539  \n",
       "2          IFI27          6.158026  \n",
       "3         HSPA1B          5.408942  \n",
       "4            UBD          5.120883  \n",
       "5            MDK          5.070866  \n",
       "6          HLA-G          4.366031  \n",
       "7        SLC17A3          3.860393  \n",
       "8        ATP5MC3          3.778892  \n",
       "9         HSPA1A          3.706318  \n",
       "10          SOD2          3.697751  \n",
       "11         VCAM1          3.636310  \n",
       "12       SPATS2L          3.419623  \n",
       "13       TNFSF10          3.336237  \n",
       "14      HLA-DRB1          3.296479  \n",
       "15          FHL1          3.161404  \n",
       "16         CISD1          3.146251  \n",
       "17         HMGN3          3.143208  \n",
       "18         HSPB8          3.137707  \n",
       "19         GSTA1          2.994534  "
      ]
     },
     "execution_count": 24,
     "metadata": {},
     "output_type": "execute_result"
    }
   ],
   "source": [
    "frame"
   ]
  },
  {
   "cell_type": "markdown",
   "metadata": {},
   "source": [
    "### Perform hierarchical clustering and plot heatmap"
   ]
  },
  {
   "cell_type": "code",
   "execution_count": 28,
   "metadata": {},
   "outputs": [],
   "source": [
    "clnames = sorted(mwu_dict.keys())\n"
   ]
  },
  {
   "cell_type": "code",
   "execution_count": 29,
   "metadata": {},
   "outputs": [
    {
     "name": "stdout",
     "output_type": "stream",
     "text": [
      "60\n",
      "60\n",
      "dict_keys(['data', 'row_link', 'col_link'])\n"
     ]
    }
   ],
   "source": [
    "# select only columns with gene names:\n",
    "genes = frame[clnames].values.flatten()\n",
    "print(len(genes))\n",
    "\n",
    "# I anticipate some genes to be repeated\n",
    "genes = rz.oset(genes)\n",
    "print(len(genes))\n",
    "\n",
    "# select centroids expression data\n",
    "heat = centroids[genes].copy()\n",
    "\n",
    "# transform:\n",
    "heat = heat + pseudo\n",
    "heat = heat/heat.median()\n",
    "heat = np.log2(heat)\n",
    "\n",
    "#transpose\n",
    "heat = heat.T\n",
    "\n",
    "#hierarchically cluster\n",
    "import scipy.cluster\n",
    "hierdict = rz.hier_cluster(heat, hier_clust_cols=True, method='ward',metric='sqrt_correlation')\n",
    "\n",
    "print(hierdict.keys())\n",
    "\n",
    "heat = hierdict['data']"
   ]
  },
  {
   "cell_type": "code",
   "execution_count": 50,
   "metadata": {},
   "outputs": [
    {
     "name": "stdout",
     "output_type": "stream",
     "text": [
      "outputs_JZ_2022//dendrogram_NOlabels_tumor_cell_type_230617_12h38.pdf\n"
     ]
    },
    {
     "data": {
      "image/png": "[encoded data removed]",
      "text/plain": [
       "<Figure size 354.331x59.0552 with 1 Axes>"
      ]
     },
     "metadata": {
      "needs_background": "light"
     },
     "output_type": "display_data"
    }
   ],
   "source": [
    "a,fig,gs = rz.startfig(6,1)\n",
    "col_link = hierdict['col_link']\n",
    "dendro = scipy.cluster.hierarchy.dendrogram(\n",
    "                                 col_link, orientation='top', ax=a,\n",
    "                                 above_threshold_color='0.5',\n",
    "                                 color_threshold = 0,\n",
    "                                    )\n",
    "\n",
    "a.set_xticklabels(heat.columns,rotation=270,fontsize=5)\n",
    "a.set_xticks([])\n",
    "a.axis('off')\n",
    "rz.showspines(a)\n",
    "\n",
    "gs.tight_layout(fig)\n",
    "fname = outdir+'/dendrogram_NOlabels_tumor_%s_%s.pdf'%(thelabel,rz.now())\n",
    "print(fname)\n",
    "plt.savefig(fname, transparent=True, dpi=300)"
   ]
  },
  {
   "cell_type": "markdown",
   "metadata": {},
   "source": [
    "## Plot heatmap"
   ]
  },
  {
   "cell_type": "code",
   "execution_count": 37,
   "metadata": {},
   "outputs": [],
   "source": [
    "heat2 = heat"
   ]
  },
  {
   "cell_type": "code",
   "execution_count": 38,
   "metadata": {},
   "outputs": [],
   "source": [
    "import matplotlib as mpl\n",
    "mpl.rc('font',family='Arial')"
   ]
  },
  {
   "cell_type": "code",
   "execution_count": 40,
   "metadata": {},
   "outputs": [],
   "source": [
    "\n",
    "def yticks_fancy(a,totick,labels_all, color_dict,emptychar = '',fontsize=5):\n",
    "    \n",
    "    \"\"\"\n",
    "    utility function originally made for ticking only a subset of selected genes in a genes x observations heatmap.\n",
    "    example of use: yticks_fancy(a,['Csf1r','Ccr2','','','Arg1','S100a9'],genes_by_cells.index)\n",
    "    input:\n",
    "        a - axis with heatmap\n",
    "        totick - list of yticklabels to display. Use the string defined by\n",
    "        emptychar to add spacing between groups of genes.\n",
    "        labels_all - all yticklabels.\n",
    "        emptychar - string that will be treated as white space\n",
    "        \n",
    "    returns: nothing\n",
    "    \n",
    "    \"\"\"\n",
    "\n",
    "\n",
    "    a.set_yticks([])\n",
    "    leftshift = 0\n",
    "    totick = np.array(totick)\n",
    "    nr_slots = len(totick)\n",
    "    tickmask = np.array([i!=emptychar for i in totick])\n",
    "    totick = totick[tickmask]\n",
    "    y_right = np.array([pd.Index(labels_all).get_loc(i) for i in totick])\n",
    "    \n",
    "    #if genes were not typed in in the correct order, account for that to avoid lines crossing\n",
    "    tickorder = np.argsort(y_right)\n",
    "    y_right = y_right[tickorder]\n",
    "    totick = totick[tickorder]\n",
    "    y_left = np.linspace(0,len(labels_all),nr_slots)[tickmask]\n",
    "    for l,r,gene in zip(y_left,y_right,totick):\n",
    "        a.plot((-0.8-leftshift,-0.5-leftshift),(r,r),lw=0.5,color='0.2')\n",
    "        a.plot((-1.2-leftshift,-0.8-leftshift),(l,r),lw=0.5,color='0.2')\n",
    "        a.plot((-1.5-leftshift,-1.2-leftshift),(l,l),lw=0.5,color='0.2')\n",
    "        a.text(-1.6-(leftshift*1.6),l,gene,ha='right',va='center',fontsize=fontsize, color = color_dict[gene])"
   ]
  },
  {
   "cell_type": "code",
   "execution_count": 41,
   "metadata": {},
   "outputs": [],
   "source": [
    "totick = heat.index"
   ]
  },
  {
   "cell_type": "code",
   "execution_count": 45,
   "metadata": {},
   "outputs": [
    {
     "name": "stdout",
     "output_type": "stream",
     "text": [
      "dict_keys(['data', 'row_link', 'col_link'])\n"
     ]
    }
   ],
   "source": [
    "#variant 2 - percentage max expression\n",
    "\n",
    "heat = centroids[genes].copy()\n",
    "heat = heat.loc[:,heat.max() > 0]\n",
    "heat = heat/heat.max()*100.\n",
    "heat = heat.T\n",
    "\n",
    "#choosing the colormap\n",
    "from matplotlib.colors import LinearSegmentedColormap\n",
    "cmap = LinearSegmentedColormap.from_list(\n",
    "    name='cmap', \n",
    "    colors=['#D3D3D3', #grey\n",
    "            #'#ff8080', \n",
    "            '#cc0000' #dark-red\n",
    "           ])\n",
    "#hierarchically cluster\n",
    "import scipy.cluster\n",
    "hierdict = rz.hier_cluster(heat, hier_clust_cols=True, method='ward',metric='sqrt_correlation')\n",
    "\n",
    "print(hierdict.keys())\n",
    "\n",
    "heat = hierdict['data']"
   ]
  },
  {
   "cell_type": "code",
   "execution_count": 46,
   "metadata": {},
   "outputs": [],
   "source": [
    "label = 'tumor_genes'"
   ]
  },
  {
   "cell_type": "code",
   "execution_count": 48,
   "metadata": {},
   "outputs": [
    {
     "name": "stdout",
     "output_type": "stream",
     "text": [
      "0.0 100.0\n",
      "heatmap_pctmax995_tumor_tumor_genes_hq\n"
     ]
    },
    {
     "data": {
      "image/png": "[encoded data removed]",
      "text/plain": [
       "<Figure size 354.331x1358.27 with 2 Axes>"
      ]
     },
     "metadata": {
      "needs_background": "light"
     },
     "output_type": "display_data"
    }
   ],
   "source": [
    "\n",
    "a,fig,gs = rz.startfig(6,23,frameon=False)\n",
    "\n",
    "cmap = cmap\n",
    "cbarlabel = '% max expression'\n",
    "\n",
    "vmin=0\n",
    "vmax=99.5\n",
    "\n",
    "print(heat.min().min(),heat.max().max())\n",
    "\n",
    "# heatmap\n",
    "hmap = a.imshow(heat,aspect='auto',vmin=vmin,vmax=vmax,cmap=cmap)\n",
    "\n",
    "# x ticks\n",
    "a.set_xticks(np.arange(heat.shape[1]))\n",
    "a.set_xticklabels(heat.columns,rotation=270, fontsize=13)\n",
    "a.xaxis.tick_top()\n",
    "\n",
    "# y ticks:\n",
    "a.set_yticks(np.arange(heat.shape[0]))\n",
    "a.set_yticklabels(heat.index, fontsize =7)\n",
    "\n",
    "\n",
    "# colorbar\n",
    "cbar = fig.colorbar(hmap,orientation='horizontal')\n",
    "cbar.outline.set_visible(False)\n",
    "\n",
    "c = [vmin,vmax]\n",
    "cbar.set_ticks(c)\n",
    "cbar.set_ticklabels(c)\n",
    "cbar.set_label(cbarlabel, fontsize=12)\n",
    "\n",
    "\n",
    "gs.tight_layout(fig)\n",
    "fname = 'heatmap_pctmax995_tumor_%s_hq'%(label)\n",
    "print(fname)\n",
    "\n",
    "plt.savefig(outdir+'%s.png'%fname,dpi=600)\n",
    "plt.savefig(outdir+'%s.pdf'%fname,dpi=600)"
   ]
  }
 ],
 "metadata": {
  "kernelspec": {
   "display_name": "Python 3",
   "language": "python",
   "name": "python3"
  },
  "language_info": {
   "codemirror_mode": {
    "name": "ipython",
    "version": 3
   },
   "file_extension": ".py",
   "mimetype": "text/x-python",
   "name": "python",
   "nbconvert_exporter": "python",
   "pygments_lexer": "ipython3",
   "version": "3.8.12"
  }
 },
 "nbformat": 4,
 "nbformat_minor": 4
}
