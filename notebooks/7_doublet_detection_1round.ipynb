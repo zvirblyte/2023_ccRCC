{
 "cells": [
  {
   "cell_type": "markdown",
   "metadata": {},
   "source": [
    "# Decide on cell clusters to exclude"
   ]
  },
  {
   "cell_type": "markdown",
   "metadata": {},
   "source": [
    "## Import statements"
   ]
  },
  {
   "cell_type": "code",
   "execution_count": 68,
   "metadata": {},
   "outputs": [],
   "source": [
    "import scanpy as sc\n",
    "import scanpy.external as sce\n",
    "#sc.logging.print_versions()\n",
    "#sc.logging.print_memory_usage()\n",
    "#sc.settings.verbosity = 2\n",
    "import os,sys\n",
    "import datetime\n",
    "import numpy as np\n",
    "import pandas as pd\n",
    "import matplotlib.pyplot as plt\n",
    "import math\n",
    "import matplotlib.ticker as mticker\n",
    "\n",
    "#not all are used, I am just transfering this cell from notebook to notebook"
   ]
  },
  {
   "cell_type": "code",
   "execution_count": 69,
   "metadata": {},
   "outputs": [],
   "source": [
    "# add the utility function folder to PATH\n",
    "import sys\n",
    "sys.path.append(os.path.abspath(\"utility_functions_190403_12h24/\"))\n",
    "\n",
    "from rz_import_statements import *\n",
    "import rz_functions as rz\n",
    "import rz_fig_params # this adjust mpl.rcParams, almost nothing to import, import after scanpy to overwrite rc.Params\n",
    "import rz_utility_spring as srz"
   ]
  },
  {
   "cell_type": "markdown",
   "metadata": {},
   "source": [
    "## Load per-cell metadata (obs)"
   ]
  },
  {
   "cell_type": "code",
   "execution_count": 70,
   "metadata": {},
   "outputs": [],
   "source": [
    "\n",
    "# overwrite obs with the most recent version\n",
    "filename = 'backups_JZ_2022/scrub_cl_obs_info_51196x27_220125_18h23.npz'\n",
    "encoding = 'latin1'\n",
    "\n",
    "with np.load(filename,encoding=encoding, allow_pickle = True) as f:\n",
    "    obs = pd.DataFrame(**f)\n"
   ]
  },
  {
   "cell_type": "code",
   "execution_count": 71,
   "metadata": {},
   "outputs": [
    {
     "data": {
      "text/plain": [
       "Index(['library', 'total_counts', 'pct_counts_mito', 'library2', 'sample',\n",
       "       'patient', 'pT stage', 'seq_date', 'beads', 'operation', 'sex',\n",
       "       'tumor size, mm', 'age', 'tissue', 'necrosis', 'doublet_score',\n",
       "       'potential_doublet', 'top3pct_dbtl_score', 'top5pct_dbtl_score',\n",
       "       'top10pct_dbtl_score', 'closest_JZ_kidney', 'closest_JZ_kidney_hvg',\n",
       "       'removed_as_RBC', 'louvain_resolution_30.0', 'louvain_resolution_50.0',\n",
       "       'louvain_resolution_60.0', 'louvain_resolution_80.0'],\n",
       "      dtype='object')"
      ]
     },
     "execution_count": 71,
     "metadata": {},
     "output_type": "execute_result"
    }
   ],
   "source": [
    "obs.keys()"
   ]
  },
  {
   "cell_type": "code",
   "execution_count": 74,
   "metadata": {},
   "outputs": [],
   "source": [
    "#for some reason the boolean values True and False are now string, converting\n",
    "removRBC=[]\n",
    "for i in obs['removed_as_RBC']:\n",
    "    if i == 'False':\n",
    "        removRBC.append(False)\n",
    "    if i == 'True':\n",
    "        removRBC.append(True)"
   ]
  },
  {
   "cell_type": "code",
   "execution_count": 75,
   "metadata": {},
   "outputs": [
    {
     "data": {
      "text/plain": [
       "47"
      ]
     },
     "execution_count": 75,
     "metadata": {},
     "output_type": "execute_result"
    }
   ],
   "source": [
    "sum(removRBC)"
   ]
  },
  {
   "cell_type": "code",
   "execution_count": 76,
   "metadata": {},
   "outputs": [],
   "source": [
    "obs['removed_as_RBC'] = removRBC"
   ]
  },
  {
   "cell_type": "markdown",
   "metadata": {},
   "source": [
    "## Load cluster labels directly from spring"
   ]
  },
  {
   "cell_type": "code",
   "execution_count": 77,
   "metadata": {},
   "outputs": [],
   "source": [
    "# load intermediates I saved when preparing the SPRING plot\n",
    "path1 = '/Users/justina/Documents/mokslai/MAGISTRAS/MAGISTRINIS/data_and_spring/SPRING_dev-master/kidney_spring/' \n",
    "project_dir = path1+'kidney_2022/'\n",
    "plot_name =  'kidney_v0_156_v2000'\n",
    "\n",
    "# use only cell in the spring plot\n",
    "cell_ix = np.loadtxt(project_dir+plot_name+'/cell_filter.txt',dtype=int)"
   ]
  },
  {
   "cell_type": "code",
   "execution_count": 78,
   "metadata": {},
   "outputs": [
    {
     "data": {
      "text/plain": [
       "dict_keys(['age', 'beads', 'closest_JZ_kidney', 'closest_JZ_kidney_hvg', 'library', 'library2', 'louvain_resolution_30.0', 'louvain_resolution_50.0', 'louvain_resolution_60.0', 'louvain_resolution_80.0', 'necrosis', 'operation', 'pT stage', 'patient', 'potential_doublet', 'removed_as_RBC', 'sample', 'seq_date', 'sex', 'tissue', 'top10pct_dbtl_score', 'top3pct_dbtl_score', 'top5pct_dbtl_score', 'tumor size, mm'])"
      ]
     },
     "execution_count": 78,
     "metadata": {},
     "output_type": "execute_result"
    }
   ],
   "source": [
    "# load current color dictionary\n",
    "cg0 = srz.read_cell_groupings(project_dir+plot_name+'/categorical_coloring_data.json')\n",
    "\n",
    "# drop the color dictionaries with are part of cell groupings\n",
    "cg0 = {key:value['label_list'] for key,value in cg0.items()}\n",
    "cg0.keys()"
   ]
  },
  {
   "cell_type": "markdown",
   "metadata": {},
   "source": [
    "## Note: \n",
    "*closest_JZ_kidney* and *closest_JZ_kidney_hvg* categories in obs contain labels for cells that were assigned using a Bayesian classifier exactly as in https://github.com/AllonMKlein/Pfirschke_et_al_2021/blob/master/methods_clean_visual_annot/part3_classify_cell_by_published_profiles.ipynb\n",
    "The reference expression profiles (regarded as \"published\" profiles in the notebook) used were constructed by myself in initial analysis when only ~30k cells were sequenced. The labels obtained using this classifier were intended to provide a general, approximate idea about cell types found in the dataset for guidance in the interactive viewer and were not used in any analysis or in actual cell type annotation. "
   ]
  },
  {
   "cell_type": "code",
   "execution_count": 79,
   "metadata": {},
   "outputs": [
    {
     "data": {
      "text/plain": [
       "51196"
      ]
     },
     "execution_count": 79,
     "metadata": {},
     "output_type": "execute_result"
    }
   ],
   "source": [
    "len(cell_ix)"
   ]
  },
  {
   "cell_type": "code",
   "execution_count": 80,
   "metadata": {},
   "outputs": [
    {
     "name": "stdout",
     "output_type": "stream",
     "text": [
      "total_counts\n",
      "pct_counts_mito\n",
      "doublet_score\n"
     ]
    }
   ],
   "source": [
    "for key in obs.keys():\n",
    "    if key not in cg0.keys():\n",
    "        print (key)"
   ]
  },
  {
   "cell_type": "markdown",
   "metadata": {},
   "source": [
    "## Make a dataframe with per-cell metadata with cluster and doublet info"
   ]
  },
  {
   "cell_type": "code",
   "execution_count": 81,
   "metadata": {},
   "outputs": [
    {
     "data": {
      "text/html": [
       "<div>\n",
       "<style scoped>\n",
       "    .dataframe tbody tr th:only-of-type {\n",
       "        vertical-align: middle;\n",
       "    }\n",
       "\n",
       "    .dataframe tbody tr th {\n",
       "        vertical-align: top;\n",
       "    }\n",
       "\n",
       "    .dataframe thead th {\n",
       "        text-align: right;\n",
       "    }\n",
       "</style>\n",
       "<table border=\"1\" class=\"dataframe\">\n",
       "  <thead>\n",
       "    <tr style=\"text-align: right;\">\n",
       "      <th></th>\n",
       "      <th>doublet_score</th>\n",
       "      <th>top10pct_dbtl_score</th>\n",
       "    </tr>\n",
       "  </thead>\n",
       "  <tbody>\n",
       "    <tr>\n",
       "      <th>2</th>\n",
       "      <td>0.026847</td>\n",
       "      <td>False</td>\n",
       "    </tr>\n",
       "    <tr>\n",
       "      <th>19</th>\n",
       "      <td>0.045685</td>\n",
       "      <td>False</td>\n",
       "    </tr>\n",
       "    <tr>\n",
       "      <th>363</th>\n",
       "      <td>0.102625</td>\n",
       "      <td>False</td>\n",
       "    </tr>\n",
       "    <tr>\n",
       "      <th>413</th>\n",
       "      <td>0.241935</td>\n",
       "      <td>True</td>\n",
       "    </tr>\n",
       "    <tr>\n",
       "      <th>433</th>\n",
       "      <td>0.061564</td>\n",
       "      <td>False</td>\n",
       "    </tr>\n",
       "    <tr>\n",
       "      <th>...</th>\n",
       "      <td>...</td>\n",
       "      <td>...</td>\n",
       "    </tr>\n",
       "    <tr>\n",
       "      <th>4865536</th>\n",
       "      <td>0.082664</td>\n",
       "      <td>False</td>\n",
       "    </tr>\n",
       "    <tr>\n",
       "      <th>4865584</th>\n",
       "      <td>0.149321</td>\n",
       "      <td>True</td>\n",
       "    </tr>\n",
       "    <tr>\n",
       "      <th>4865642</th>\n",
       "      <td>0.104152</td>\n",
       "      <td>False</td>\n",
       "    </tr>\n",
       "    <tr>\n",
       "      <th>4865726</th>\n",
       "      <td>0.082664</td>\n",
       "      <td>False</td>\n",
       "    </tr>\n",
       "    <tr>\n",
       "      <th>4866011</th>\n",
       "      <td>0.038109</td>\n",
       "      <td>False</td>\n",
       "    </tr>\n",
       "  </tbody>\n",
       "</table>\n",
       "<p>51196 rows × 2 columns</p>\n",
       "</div>"
      ],
      "text/plain": [
       "        doublet_score top10pct_dbtl_score\n",
       "2            0.026847               False\n",
       "19           0.045685               False\n",
       "363          0.102625               False\n",
       "413          0.241935                True\n",
       "433          0.061564               False\n",
       "...               ...                 ...\n",
       "4865536      0.082664               False\n",
       "4865584      0.149321                True\n",
       "4865642      0.104152               False\n",
       "4865726      0.082664               False\n",
       "4866011      0.038109               False\n",
       "\n",
       "[51196 rows x 2 columns]"
      ]
     },
     "execution_count": 81,
     "metadata": {},
     "output_type": "execute_result"
    }
   ],
   "source": [
    "obs[['doublet_score', 'top10pct_dbtl_score']]"
   ]
  },
  {
   "cell_type": "code",
   "execution_count": 82,
   "metadata": {},
   "outputs": [
    {
     "name": "stdout",
     "output_type": "stream",
     "text": [
      "(51196, 2)\n"
     ]
    }
   ],
   "source": [
    "# take doublet info from obs:\n",
    "o = obs[['top10pct_dbtl_score','doublet_score']].astype(float).copy()\n",
    "print(o.shape)"
   ]
  },
  {
   "cell_type": "code",
   "execution_count": 83,
   "metadata": {},
   "outputs": [
    {
     "data": {
      "text/html": [
       "<div>\n",
       "<style scoped>\n",
       "    .dataframe tbody tr th:only-of-type {\n",
       "        vertical-align: middle;\n",
       "    }\n",
       "\n",
       "    .dataframe tbody tr th {\n",
       "        vertical-align: top;\n",
       "    }\n",
       "\n",
       "    .dataframe thead th {\n",
       "        text-align: right;\n",
       "    }\n",
       "</style>\n",
       "<table border=\"1\" class=\"dataframe\">\n",
       "  <thead>\n",
       "    <tr style=\"text-align: right;\">\n",
       "      <th></th>\n",
       "      <th>top10pct_dbtl_score</th>\n",
       "      <th>doublet_score</th>\n",
       "      <th>louvain_resolution_60.0</th>\n",
       "    </tr>\n",
       "  </thead>\n",
       "  <tbody>\n",
       "    <tr>\n",
       "      <th>2</th>\n",
       "      <td>0.0</td>\n",
       "      <td>0.026847</td>\n",
       "      <td>196</td>\n",
       "    </tr>\n",
       "    <tr>\n",
       "      <th>19</th>\n",
       "      <td>0.0</td>\n",
       "      <td>0.045685</td>\n",
       "      <td>331</td>\n",
       "    </tr>\n",
       "    <tr>\n",
       "      <th>363</th>\n",
       "      <td>0.0</td>\n",
       "      <td>0.102625</td>\n",
       "      <td>610</td>\n",
       "    </tr>\n",
       "  </tbody>\n",
       "</table>\n",
       "</div>"
      ],
      "text/plain": [
       "     top10pct_dbtl_score  doublet_score louvain_resolution_60.0\n",
       "2                    0.0       0.026847                     196\n",
       "19                   0.0       0.045685                     331\n",
       "363                  0.0       0.102625                     610"
      ]
     },
     "execution_count": 83,
     "metadata": {},
     "output_type": "execute_result"
    }
   ],
   "source": [
    "# choose cluster configuration\n",
    "# I chose here a detailed one (overclustered)\n",
    "\n",
    "label = 'louvain_resolution_60.0'\n",
    "\n",
    "o[label] = obs[label]\n",
    "\n",
    "o.head(3)"
   ]
  },
  {
   "cell_type": "code",
   "execution_count": 84,
   "metadata": {},
   "outputs": [
    {
     "data": {
      "text/html": [
       "<div>\n",
       "<style scoped>\n",
       "    .dataframe tbody tr th:only-of-type {\n",
       "        vertical-align: middle;\n",
       "    }\n",
       "\n",
       "    .dataframe tbody tr th {\n",
       "        vertical-align: top;\n",
       "    }\n",
       "\n",
       "    .dataframe thead th {\n",
       "        text-align: right;\n",
       "    }\n",
       "</style>\n",
       "<table border=\"1\" class=\"dataframe\">\n",
       "  <thead>\n",
       "    <tr style=\"text-align: right;\">\n",
       "      <th></th>\n",
       "      <th>count</th>\n",
       "      <th>nr_cell_in_top10_pct_dblt</th>\n",
       "      <th>mean_dbt_score</th>\n",
       "      <th>dblt_fraction</th>\n",
       "    </tr>\n",
       "    <tr>\n",
       "      <th>louvain_resolution_60.0</th>\n",
       "      <th></th>\n",
       "      <th></th>\n",
       "      <th></th>\n",
       "      <th></th>\n",
       "    </tr>\n",
       "  </thead>\n",
       "  <tbody>\n",
       "    <tr>\n",
       "      <th>0</th>\n",
       "      <td>269</td>\n",
       "      <td>14.0</td>\n",
       "      <td>0.081462</td>\n",
       "      <td>0.052045</td>\n",
       "    </tr>\n",
       "    <tr>\n",
       "      <th>1</th>\n",
       "      <td>247</td>\n",
       "      <td>65.0</td>\n",
       "      <td>0.101440</td>\n",
       "      <td>0.263158</td>\n",
       "    </tr>\n",
       "    <tr>\n",
       "      <th>10</th>\n",
       "      <td>179</td>\n",
       "      <td>7.0</td>\n",
       "      <td>0.060220</td>\n",
       "      <td>0.039106</td>\n",
       "    </tr>\n",
       "    <tr>\n",
       "      <th>100</th>\n",
       "      <td>115</td>\n",
       "      <td>13.0</td>\n",
       "      <td>0.087260</td>\n",
       "      <td>0.113043</td>\n",
       "    </tr>\n",
       "    <tr>\n",
       "      <th>101</th>\n",
       "      <td>114</td>\n",
       "      <td>10.0</td>\n",
       "      <td>0.070404</td>\n",
       "      <td>0.087719</td>\n",
       "    </tr>\n",
       "  </tbody>\n",
       "</table>\n",
       "</div>"
      ],
      "text/plain": [
       "                         count  nr_cell_in_top10_pct_dblt  mean_dbt_score  \\\n",
       "louvain_resolution_60.0                                                     \n",
       "0                          269                       14.0        0.081462   \n",
       "1                          247                       65.0        0.101440   \n",
       "10                         179                        7.0        0.060220   \n",
       "100                        115                       13.0        0.087260   \n",
       "101                        114                       10.0        0.070404   \n",
       "\n",
       "                         dblt_fraction  \n",
       "louvain_resolution_60.0                 \n",
       "0                             0.052045  \n",
       "1                             0.263158  \n",
       "10                            0.039106  \n",
       "100                           0.113043  \n",
       "101                           0.087719  "
      ]
     },
     "execution_count": 84,
     "metadata": {},
     "output_type": "execute_result"
    }
   ],
   "source": [
    "gb = o.groupby(label)\n",
    "smr = gb.aggregate({'top10pct_dbtl_score':['count','sum'],\n",
    "             'doublet_score':['mean']})\n",
    "\n",
    "smr.columns = smr.columns.droplevel()\n",
    "smr['dblt_fraction'] = smr['sum']/smr['count']\n",
    "\n",
    "renamer = {'sum':'nr_cell_in_top10_pct_dblt','mean':'mean_dbt_score'}\n",
    "smr.columns = [renamer[i] if i in renamer else i for i in smr.columns]\n",
    "\n",
    "smr.head()"
   ]
  },
  {
   "cell_type": "markdown",
   "metadata": {},
   "source": [
    "## Plot mean dblt score vs fraction potential dblt"
   ]
  },
  {
   "cell_type": "code",
   "execution_count": 85,
   "metadata": {},
   "outputs": [
    {
     "data": {
      "text/plain": [
       "<matplotlib.collections.PathCollection at 0x7fe170650910>"
      ]
     },
     "execution_count": 85,
     "metadata": {},
     "output_type": "execute_result"
    },
    {
     "data": {
      "image/png": "[encoded data removed]",
      "text/plain": [
       "<Figure size 590.552x590.552 with 1 Axes>"
      ]
     },
     "metadata": {
      "needs_background": "light"
     },
     "output_type": "display_data"
    }
   ],
   "source": [
    "a,fig,gs = rz.startfig(10,10)\n",
    "\n",
    "lab1 = 'mean_dbt_score'\n",
    "lab2 = 'dblt_fraction'\n",
    "\n",
    "x = smr[lab1]\n",
    "y = smr[lab2]\n",
    "\n",
    "a.set_xlabel(lab1)\n",
    "a.set_ylabel(lab2)\n",
    "\n",
    "# print labels for the top n clusters with highest average dblt score\n",
    "# and top n with highest fraction\n",
    "upto=20\n",
    "\n",
    "thetop = list(x.sort_values(ascending=False)[:upto].index)+\\\n",
    "         list(y.sort_values(ascending=False)[:upto].index)\n",
    "\n",
    "for i,j,txt in zip(x,y,x.index):\n",
    "    if txt in thetop:\n",
    "        a.text(i,j,txt)\n",
    "\n",
    "a.scatter(x,y,lw=0,c='0.5',alpha=0.5)\n",
    "#plt.savefig('prec_pca_louv_60_doublets.png')"
   ]
  },
  {
   "cell_type": "markdown",
   "metadata": {},
   "source": [
    "## Inspect interactively  \n",
    "In the interactive SPRING explorer (in browser), inspect whether clusters with high scores. convincingly look like doublets\n",
    "\n",
    "This includes taking into consideration:\n",
    "- large clusters are not expected to be doublets\n",
    "- is there unique gene expression in these clusters? Then they are not doublets.\n",
    "- can you tell from which real populations these clusters where made?"
   ]
  },
  {
   "cell_type": "code",
   "execution_count": 88,
   "metadata": {},
   "outputs": [],
   "source": [
    "doubcl = [ '617', #near endothelial cells but don't express endothelial markers\n",
    "           '614', #same situation as with 617\n",
    "           '585', #scattered near proximal tubule\n",
    "           '569', #scattered in proximal tubule and macrophage clusters\n",
    "            '61', #shared expression of T cell, macrophage genes, some cells express proximal tubule markers\n",
    "           '43', #disguised in endothelial cluster\n",
    "           '400' #separate clusters in umap\n",
    "         ]\n"
   ]
  },
  {
   "cell_type": "code",
   "execution_count": 89,
   "metadata": {},
   "outputs": [
    {
     "data": {
      "text/plain": [
       "456"
      ]
     },
     "execution_count": 89,
     "metadata": {},
     "output_type": "execute_result"
    }
   ],
   "source": [
    "obs[label].isin(doubcl).sum()"
   ]
  },
  {
   "cell_type": "code",
   "execution_count": 90,
   "metadata": {},
   "outputs": [],
   "source": [
    "# add the cluster configuration used to obs\n",
    "obs[label] = np.nan\n",
    "obs.loc[obs.index,[label]] = cg0[label]"
   ]
  },
  {
   "cell_type": "code",
   "execution_count": 91,
   "metadata": {
    "scrolled": true
   },
   "outputs": [
    {
     "name": "stdout",
     "output_type": "stream",
     "text": [
      "[False  True]\n"
     ]
    },
    {
     "data": {
      "text/html": [
       "<div>\n",
       "<style scoped>\n",
       "    .dataframe tbody tr th:only-of-type {\n",
       "        vertical-align: middle;\n",
       "    }\n",
       "\n",
       "    .dataframe tbody tr th {\n",
       "        vertical-align: top;\n",
       "    }\n",
       "\n",
       "    .dataframe thead th {\n",
       "        text-align: right;\n",
       "    }\n",
       "</style>\n",
       "<table border=\"1\" class=\"dataframe\">\n",
       "  <thead>\n",
       "    <tr style=\"text-align: right;\">\n",
       "      <th></th>\n",
       "      <th>library</th>\n",
       "      <th>total_counts</th>\n",
       "      <th>pct_counts_mito</th>\n",
       "      <th>library2</th>\n",
       "      <th>sample</th>\n",
       "      <th>patient</th>\n",
       "      <th>pT stage</th>\n",
       "      <th>seq_date</th>\n",
       "      <th>beads</th>\n",
       "      <th>operation</th>\n",
       "      <th>...</th>\n",
       "      <th>top5pct_dbtl_score</th>\n",
       "      <th>top10pct_dbtl_score</th>\n",
       "      <th>closest_JZ_kidney</th>\n",
       "      <th>closest_JZ_kidney_hvg</th>\n",
       "      <th>removed_as_RBC</th>\n",
       "      <th>louvain_resolution_30.0</th>\n",
       "      <th>louvain_resolution_50.0</th>\n",
       "      <th>louvain_resolution_60.0</th>\n",
       "      <th>louvain_resolution_80.0</th>\n",
       "      <th>removed_as_dblt1</th>\n",
       "    </tr>\n",
       "  </thead>\n",
       "  <tbody>\n",
       "    <tr>\n",
       "      <th>2</th>\n",
       "      <td>N14</td>\n",
       "      <td>449.0</td>\n",
       "      <td>0.668151</td>\n",
       "      <td>T2_1</td>\n",
       "      <td>T2</td>\n",
       "      <td>P2</td>\n",
       "      <td>pT3a</td>\n",
       "      <td>20_11_12</td>\n",
       "      <td>old</td>\n",
       "      <td>Open</td>\n",
       "      <td>...</td>\n",
       "      <td>False</td>\n",
       "      <td>False</td>\n",
       "      <td>TAM 2</td>\n",
       "      <td>TAM 2</td>\n",
       "      <td>False</td>\n",
       "      <td>253</td>\n",
       "      <td>238</td>\n",
       "      <td>196</td>\n",
       "      <td>213</td>\n",
       "      <td>False</td>\n",
       "    </tr>\n",
       "    <tr>\n",
       "      <th>19</th>\n",
       "      <td>N14</td>\n",
       "      <td>449.0</td>\n",
       "      <td>4.231626</td>\n",
       "      <td>T2_1</td>\n",
       "      <td>T2</td>\n",
       "      <td>P2</td>\n",
       "      <td>pT3a</td>\n",
       "      <td>20_11_12</td>\n",
       "      <td>old</td>\n",
       "      <td>Open</td>\n",
       "      <td>...</td>\n",
       "      <td>False</td>\n",
       "      <td>False</td>\n",
       "      <td>TAM 2</td>\n",
       "      <td>TAM 2</td>\n",
       "      <td>False</td>\n",
       "      <td>117</td>\n",
       "      <td>239</td>\n",
       "      <td>331</td>\n",
       "      <td>1009</td>\n",
       "      <td>False</td>\n",
       "    </tr>\n",
       "  </tbody>\n",
       "</table>\n",
       "<p>2 rows × 28 columns</p>\n",
       "</div>"
      ],
      "text/plain": [
       "   library total_counts pct_counts_mito library2 sample patient pT stage  \\\n",
       "2      N14        449.0        0.668151     T2_1     T2      P2     pT3a   \n",
       "19     N14        449.0        4.231626     T2_1     T2      P2     pT3a   \n",
       "\n",
       "    seq_date beads operation  ... top5pct_dbtl_score top10pct_dbtl_score  \\\n",
       "2   20_11_12   old      Open  ...              False               False   \n",
       "19  20_11_12   old      Open  ...              False               False   \n",
       "\n",
       "   closest_JZ_kidney closest_JZ_kidney_hvg removed_as_RBC  \\\n",
       "2              TAM 2                 TAM 2          False   \n",
       "19             TAM 2                 TAM 2          False   \n",
       "\n",
       "   louvain_resolution_30.0 louvain_resolution_50.0 louvain_resolution_60.0  \\\n",
       "2                      253                     238                     196   \n",
       "19                     117                     239                     331   \n",
       "\n",
       "   louvain_resolution_80.0 removed_as_dblt1  \n",
       "2                      213            False  \n",
       "19                    1009            False  \n",
       "\n",
       "[2 rows x 28 columns]"
      ]
     },
     "execution_count": 91,
     "metadata": {},
     "output_type": "execute_result"
    }
   ],
   "source": [
    "# append a colotrack saying \"removed_as_doublet\"\n",
    "obs['removed_as_dblt1'] = obs[label].isin(doubcl)\n",
    "print(obs['removed_as_dblt1'].unique())\n",
    "obs.head(2)"
   ]
  },
  {
   "cell_type": "code",
   "execution_count": 92,
   "metadata": {},
   "outputs": [
    {
     "name": "stdout",
     "output_type": "stream",
     "text": [
      "removed_as_RBC 47\n",
      "removed_as_dblt1 456\n"
     ]
    }
   ],
   "source": [
    "# Number of cells that will be removed\n",
    "\n",
    "for i in obs.columns:\n",
    "    if i.startswith('removed_as'):\n",
    "        print(i, sum(obs[i]))"
   ]
  },
  {
   "cell_type": "markdown",
   "metadata": {},
   "source": [
    "## Add colotrack to spring"
   ]
  },
  {
   "cell_type": "code",
   "execution_count": 95,
   "metadata": {},
   "outputs": [
    {
     "data": {
      "text/plain": [
       "'kidney_v0_156_v2000'"
      ]
     },
     "execution_count": 95,
     "metadata": {},
     "output_type": "execute_result"
    }
   ],
   "source": [
    "plot_name"
   ]
  },
  {
   "cell_type": "code",
   "execution_count": 96,
   "metadata": {},
   "outputs": [
    {
     "data": {
      "text/plain": [
       "24"
      ]
     },
     "execution_count": 96,
     "metadata": {},
     "output_type": "execute_result"
    }
   ],
   "source": [
    "len(cg0.keys())"
   ]
  },
  {
   "cell_type": "code",
   "execution_count": 97,
   "metadata": {},
   "outputs": [],
   "source": [
    "# load current color dictionary\n",
    "cg_ = srz.read_cell_groupings(project_dir+plot_name+'/categorical_coloring_data.json')\n",
    "\n",
    "# color dictionary of dictionaries\n",
    "cdd = {key:value['label_colors'] for key,value in cg_.items()}\n",
    "\n",
    "cg = obs[[i for i in obs.columns if i.startswith(('removed_as'))]].astype(str).to_dict(orient='list')\n",
    "\n",
    "# append categorical colortrack\n",
    "srz.append_cell_groupings(project_dir+plot_name,cg,colordd=cdd)"
   ]
  },
  {
   "cell_type": "markdown",
   "metadata": {},
   "source": [
    "## Save obs"
   ]
  },
  {
   "cell_type": "code",
   "execution_count": 99,
   "metadata": {},
   "outputs": [
    {
     "name": "stdout",
     "output_type": "stream",
     "text": [
      "backups_JZ_2022/dblt1_obs_info_51196x28_220126_16h05\n"
     ]
    },
    {
     "name": "stderr",
     "output_type": "stream",
     "text": [
      "/Users/justina/opt/anaconda3/envs/singlecell3/lib/python3.8/site-packages/numpy/lib/format.py:362: UserWarning: metadata on a dtype may be saved or ignored, but will raise if saved when read. Use another form of storage.\n",
      "  d['descr'] = dtype_to_descr(array.dtype)\n"
     ]
    }
   ],
   "source": [
    "# save the update obs dataframe\n",
    "fname = 'backups_JZ_2022/dblt1_obs_info_%dx%d_%s'%(obs.shape[0],obs.shape[1],rz.now())\n",
    "print(fname)\n",
    "rz.save_df(obs,fname)"
   ]
  }
 ],
 "metadata": {
  "kernelspec": {
   "display_name": "Python 3",
   "language": "python",
   "name": "python3"
  },
  "language_info": {
   "codemirror_mode": {
    "name": "ipython",
    "version": 3
   },
   "file_extension": ".py",
   "mimetype": "text/x-python",
   "name": "python",
   "nbconvert_exporter": "python",
   "pygments_lexer": "ipython3",
   "version": "3.8.12"
  },
  "toc": {
   "base_numbering": 1,
   "nav_menu": {},
   "number_sections": true,
   "sideBar": true,
   "skip_h1_title": true,
   "title_cell": "Table of Contents",
   "title_sidebar": "Contents",
   "toc_cell": false,
   "toc_position": {},
   "toc_section_display": true,
   "toc_window_display": true
  }
 },
 "nbformat": 4,
 "nbformat_minor": 4
}
