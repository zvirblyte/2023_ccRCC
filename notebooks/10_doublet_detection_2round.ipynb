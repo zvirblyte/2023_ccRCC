{
 "cells": [
  {
   "cell_type": "markdown",
   "metadata": {},
   "source": [
    "# Decide on cell clusters to exclude - 2nd round of removal"
   ]
  },
  {
   "cell_type": "markdown",
   "metadata": {},
   "source": [
    "## Import statements"
   ]
  },
  {
   "cell_type": "code",
   "execution_count": 1,
   "metadata": {},
   "outputs": [],
   "source": [
    "import scanpy as sc\n",
    "import scanpy.external as sce\n",
    "#sc.logging.print_versions()\n",
    "#sc.logging.print_memory_usage()\n",
    "#sc.settings.verbosity = 2\n",
    "import os,sys\n",
    "import datetime\n",
    "import numpy as np\n",
    "import pandas as pd\n",
    "import matplotlib.pyplot as plt\n",
    "import math\n",
    "import matplotlib.ticker as mticker\n",
    "\n",
    "#not all are used, I am just transfering this cell from notebook to notebook"
   ]
  },
  {
   "cell_type": "code",
   "execution_count": 2,
   "metadata": {},
   "outputs": [
    {
     "name": "stdout",
     "output_type": "stream",
     "text": [
      "python version: 3.8.8\n"
     ]
    }
   ],
   "source": [
    "# add the utility function folder to PATH\n",
    "import sys\n",
    "sys.path.append(os.path.abspath(\"utility_functions_190403_12h24/\"))\n",
    "\n",
    "from rz_import_statements import *\n",
    "import rz_functions as rz\n",
    "import rz_fig_params # this adjust mpl.rcParams, almost nothing to import, import after scanpy to overwrite rc.Params\n",
    "import rz_utility_spring as srz"
   ]
  },
  {
   "cell_type": "markdown",
   "metadata": {},
   "source": [
    "## Load per-cell metadata (obs)"
   ]
  },
  {
   "cell_type": "code",
   "execution_count": 3,
   "metadata": {},
   "outputs": [],
   "source": [
    "\n",
    "# overwrite obs with the most recent version\n",
    "filename = 'backups_JZ_2022/kidney_v1_wo_dblt1_clust_obs_info_50693x27_220127_10h54.npz'\n",
    "encoding = 'latin1'\n",
    "\n",
    "with np.load(filename,encoding=encoding, allow_pickle = True) as f:\n",
    "    obs = pd.DataFrame(**f)\n",
    "#adata.obs = obs"
   ]
  },
  {
   "cell_type": "code",
   "execution_count": 4,
   "metadata": {},
   "outputs": [
    {
     "data": {
      "text/plain": [
       "Index(['library', 'total_counts', 'pct_counts_mito', 'library2', 'sample',\n",
       "       'patient', 'pT stage', 'seq_date', 'beads', 'operation', 'sex',\n",
       "       'tumor size, mm', 'age', 'tissue', 'necrosis', 'doublet_score',\n",
       "       'potential_doublet', 'top3pct_dbtl_score', 'top5pct_dbtl_score',\n",
       "       'top10pct_dbtl_score', 'closest_JZ_kidney', 'closest_JZ_kidney_hvg',\n",
       "       'removed_as_RBC', 'louvain_resolution_50.0', 'louvain_resolution_60.0',\n",
       "       'removed_as_dblt1', 'n_counts'],\n",
       "      dtype='object')"
      ]
     },
     "execution_count": 4,
     "metadata": {},
     "output_type": "execute_result"
    }
   ],
   "source": [
    "obs.keys()"
   ]
  },
  {
   "cell_type": "markdown",
   "metadata": {},
   "source": [
    "## Load cluster labels directly from spring"
   ]
  },
  {
   "cell_type": "code",
   "execution_count": 5,
   "metadata": {},
   "outputs": [],
   "source": [
    "# load intermediates I saved when preparing the SPRING plot\n",
    "path1 = '/Users/justina/Documents/mokslai/MAGISTRAS/MAGISTRINIS/data_and_spring/SPRING_dev-master/kidney_spring/' \n",
    "project_dir = path1+'kidney_2022/'\n",
    "plot_name =  'kidney_v1_wo_dblt1'\n",
    "\n",
    "# use only cell in the spring plot\n",
    "cell_ix = np.loadtxt(project_dir+plot_name+'/cell_filter.txt',dtype=int)"
   ]
  },
  {
   "cell_type": "code",
   "execution_count": 6,
   "metadata": {},
   "outputs": [
    {
     "data": {
      "text/plain": [
       "dict_keys(['age', 'beads', 'closest_JZ_kidney', 'closest_JZ_kidney_hvg', 'library', 'library2', 'louvain_resolution_50.0', 'louvain_resolution_60.0', 'necrosis', 'operation', 'pT stage', 'patient', 'potential_doublet', 'sample', 'seq_date', 'sex', 'tissue', 'top10pct_dbtl_score', 'top3pct_dbtl_score', 'top5pct_dbtl_score', 'tumor size, mm'])"
      ]
     },
     "execution_count": 6,
     "metadata": {},
     "output_type": "execute_result"
    }
   ],
   "source": [
    "# load current color dictionary\n",
    "cg0 = srz.read_cell_groupings(project_dir+plot_name+'/categorical_coloring_data.json')\n",
    "\n",
    "# drop the color dictionaries with are part of cell groupings\n",
    "cg0 = {key:value['label_list'] for key,value in cg0.items()}\n",
    "cg0.keys()"
   ]
  },
  {
   "cell_type": "code",
   "execution_count": 7,
   "metadata": {},
   "outputs": [
    {
     "data": {
      "text/plain": [
       "50693"
      ]
     },
     "execution_count": 7,
     "metadata": {},
     "output_type": "execute_result"
    }
   ],
   "source": [
    "len(cell_ix)"
   ]
  },
  {
   "cell_type": "markdown",
   "metadata": {},
   "source": [
    "## Make a dataframe with per-cell metadata with cluster and doublet info"
   ]
  },
  {
   "cell_type": "code",
   "execution_count": 9,
   "metadata": {},
   "outputs": [
    {
     "data": {
      "text/html": [
       "<div>\n",
       "<style scoped>\n",
       "    .dataframe tbody tr th:only-of-type {\n",
       "        vertical-align: middle;\n",
       "    }\n",
       "\n",
       "    .dataframe tbody tr th {\n",
       "        vertical-align: top;\n",
       "    }\n",
       "\n",
       "    .dataframe thead th {\n",
       "        text-align: right;\n",
       "    }\n",
       "</style>\n",
       "<table border=\"1\" class=\"dataframe\">\n",
       "  <thead>\n",
       "    <tr style=\"text-align: right;\">\n",
       "      <th></th>\n",
       "      <th>doublet_score</th>\n",
       "      <th>top10pct_dbtl_score</th>\n",
       "    </tr>\n",
       "  </thead>\n",
       "  <tbody>\n",
       "    <tr>\n",
       "      <th>2</th>\n",
       "      <td>0.026847</td>\n",
       "      <td>False</td>\n",
       "    </tr>\n",
       "    <tr>\n",
       "      <th>19</th>\n",
       "      <td>0.045685</td>\n",
       "      <td>False</td>\n",
       "    </tr>\n",
       "    <tr>\n",
       "      <th>363</th>\n",
       "      <td>0.102625</td>\n",
       "      <td>False</td>\n",
       "    </tr>\n",
       "    <tr>\n",
       "      <th>433</th>\n",
       "      <td>0.061564</td>\n",
       "      <td>False</td>\n",
       "    </tr>\n",
       "    <tr>\n",
       "      <th>444</th>\n",
       "      <td>0.045685</td>\n",
       "      <td>False</td>\n",
       "    </tr>\n",
       "    <tr>\n",
       "      <th>...</th>\n",
       "      <td>...</td>\n",
       "      <td>...</td>\n",
       "    </tr>\n",
       "    <tr>\n",
       "      <th>4865536</th>\n",
       "      <td>0.082664</td>\n",
       "      <td>False</td>\n",
       "    </tr>\n",
       "    <tr>\n",
       "      <th>4865584</th>\n",
       "      <td>0.149321</td>\n",
       "      <td>True</td>\n",
       "    </tr>\n",
       "    <tr>\n",
       "      <th>4865642</th>\n",
       "      <td>0.104152</td>\n",
       "      <td>False</td>\n",
       "    </tr>\n",
       "    <tr>\n",
       "      <th>4865726</th>\n",
       "      <td>0.082664</td>\n",
       "      <td>False</td>\n",
       "    </tr>\n",
       "    <tr>\n",
       "      <th>4866011</th>\n",
       "      <td>0.038109</td>\n",
       "      <td>False</td>\n",
       "    </tr>\n",
       "  </tbody>\n",
       "</table>\n",
       "<p>50693 rows × 2 columns</p>\n",
       "</div>"
      ],
      "text/plain": [
       "        doublet_score top10pct_dbtl_score\n",
       "2            0.026847               False\n",
       "19           0.045685               False\n",
       "363          0.102625               False\n",
       "433          0.061564               False\n",
       "444          0.045685               False\n",
       "...               ...                 ...\n",
       "4865536      0.082664               False\n",
       "4865584      0.149321                True\n",
       "4865642      0.104152               False\n",
       "4865726      0.082664               False\n",
       "4866011      0.038109               False\n",
       "\n",
       "[50693 rows x 2 columns]"
      ]
     },
     "execution_count": 9,
     "metadata": {},
     "output_type": "execute_result"
    }
   ],
   "source": [
    "obs[['doublet_score', 'top10pct_dbtl_score']]"
   ]
  },
  {
   "cell_type": "code",
   "execution_count": 10,
   "metadata": {},
   "outputs": [],
   "source": [
    "#for some reason the boolean values True and False are now string, converting\n",
    "top10pct=[]\n",
    "for i in obs['top10pct_dbtl_score']:\n",
    "    if i == 'False':\n",
    "        top10pct.append(False)\n",
    "    if i == 'True':\n",
    "        top10pct.append(True)\n",
    "        "
   ]
  },
  {
   "cell_type": "code",
   "execution_count": 11,
   "metadata": {},
   "outputs": [],
   "source": [
    "obs['top10pct_dbtl_score'] = top10pct"
   ]
  },
  {
   "cell_type": "code",
   "execution_count": 12,
   "metadata": {},
   "outputs": [
    {
     "name": "stdout",
     "output_type": "stream",
     "text": [
      "(50693, 2)\n"
     ]
    }
   ],
   "source": [
    "# take doublet info from obs:\n",
    "o = obs[['top10pct_dbtl_score','doublet_score']].astype(float).copy()\n",
    "print(o.shape)"
   ]
  },
  {
   "cell_type": "code",
   "execution_count": 13,
   "metadata": {},
   "outputs": [
    {
     "data": {
      "text/html": [
       "<div>\n",
       "<style scoped>\n",
       "    .dataframe tbody tr th:only-of-type {\n",
       "        vertical-align: middle;\n",
       "    }\n",
       "\n",
       "    .dataframe tbody tr th {\n",
       "        vertical-align: top;\n",
       "    }\n",
       "\n",
       "    .dataframe thead th {\n",
       "        text-align: right;\n",
       "    }\n",
       "</style>\n",
       "<table border=\"1\" class=\"dataframe\">\n",
       "  <thead>\n",
       "    <tr style=\"text-align: right;\">\n",
       "      <th></th>\n",
       "      <th>top10pct_dbtl_score</th>\n",
       "      <th>doublet_score</th>\n",
       "      <th>louvain_resolution_60.0</th>\n",
       "    </tr>\n",
       "  </thead>\n",
       "  <tbody>\n",
       "    <tr>\n",
       "      <th>2</th>\n",
       "      <td>0.0</td>\n",
       "      <td>0.026847</td>\n",
       "      <td>155</td>\n",
       "    </tr>\n",
       "    <tr>\n",
       "      <th>19</th>\n",
       "      <td>0.0</td>\n",
       "      <td>0.045685</td>\n",
       "      <td>369</td>\n",
       "    </tr>\n",
       "    <tr>\n",
       "      <th>363</th>\n",
       "      <td>0.0</td>\n",
       "      <td>0.102625</td>\n",
       "      <td>143</td>\n",
       "    </tr>\n",
       "  </tbody>\n",
       "</table>\n",
       "</div>"
      ],
      "text/plain": [
       "     top10pct_dbtl_score  doublet_score louvain_resolution_60.0\n",
       "2                    0.0       0.026847                     155\n",
       "19                   0.0       0.045685                     369\n",
       "363                  0.0       0.102625                     143"
      ]
     },
     "execution_count": 13,
     "metadata": {},
     "output_type": "execute_result"
    }
   ],
   "source": [
    "# choose cluster configuration\n",
    "# I chose here a detailed one (overclustered)\n",
    "\n",
    "label = 'louvain_resolution_60.0'\n",
    "\n",
    "o[label] = obs[label]\n",
    "\n",
    "o.head(3)"
   ]
  },
  {
   "cell_type": "code",
   "execution_count": 14,
   "metadata": {},
   "outputs": [
    {
     "data": {
      "text/html": [
       "<div>\n",
       "<style scoped>\n",
       "    .dataframe tbody tr th:only-of-type {\n",
       "        vertical-align: middle;\n",
       "    }\n",
       "\n",
       "    .dataframe tbody tr th {\n",
       "        vertical-align: top;\n",
       "    }\n",
       "\n",
       "    .dataframe thead th {\n",
       "        text-align: right;\n",
       "    }\n",
       "</style>\n",
       "<table border=\"1\" class=\"dataframe\">\n",
       "  <thead>\n",
       "    <tr style=\"text-align: right;\">\n",
       "      <th></th>\n",
       "      <th>count</th>\n",
       "      <th>nr_cell_in_top10_pct_dblt</th>\n",
       "      <th>mean_dbt_score</th>\n",
       "      <th>dblt_fraction</th>\n",
       "    </tr>\n",
       "    <tr>\n",
       "      <th>louvain_resolution_60.0</th>\n",
       "      <th></th>\n",
       "      <th></th>\n",
       "      <th></th>\n",
       "      <th></th>\n",
       "    </tr>\n",
       "  </thead>\n",
       "  <tbody>\n",
       "    <tr>\n",
       "      <th>0</th>\n",
       "      <td>262</td>\n",
       "      <td>15.0</td>\n",
       "      <td>0.081602</td>\n",
       "      <td>0.057252</td>\n",
       "    </tr>\n",
       "    <tr>\n",
       "      <th>1</th>\n",
       "      <td>240</td>\n",
       "      <td>0.0</td>\n",
       "      <td>0.039761</td>\n",
       "      <td>0.000000</td>\n",
       "    </tr>\n",
       "    <tr>\n",
       "      <th>10</th>\n",
       "      <td>188</td>\n",
       "      <td>2.0</td>\n",
       "      <td>0.041942</td>\n",
       "      <td>0.010638</td>\n",
       "    </tr>\n",
       "    <tr>\n",
       "      <th>100</th>\n",
       "      <td>118</td>\n",
       "      <td>2.0</td>\n",
       "      <td>0.052674</td>\n",
       "      <td>0.016949</td>\n",
       "    </tr>\n",
       "    <tr>\n",
       "      <th>101</th>\n",
       "      <td>118</td>\n",
       "      <td>11.0</td>\n",
       "      <td>0.079902</td>\n",
       "      <td>0.093220</td>\n",
       "    </tr>\n",
       "  </tbody>\n",
       "</table>\n",
       "</div>"
      ],
      "text/plain": [
       "                         count  nr_cell_in_top10_pct_dblt  mean_dbt_score  \\\n",
       "louvain_resolution_60.0                                                     \n",
       "0                          262                       15.0        0.081602   \n",
       "1                          240                        0.0        0.039761   \n",
       "10                         188                        2.0        0.041942   \n",
       "100                        118                        2.0        0.052674   \n",
       "101                        118                       11.0        0.079902   \n",
       "\n",
       "                         dblt_fraction  \n",
       "louvain_resolution_60.0                 \n",
       "0                             0.057252  \n",
       "1                             0.000000  \n",
       "10                            0.010638  \n",
       "100                           0.016949  \n",
       "101                           0.093220  "
      ]
     },
     "execution_count": 14,
     "metadata": {},
     "output_type": "execute_result"
    }
   ],
   "source": [
    "gb = o.groupby(label)\n",
    "smr = gb.aggregate({'top10pct_dbtl_score':['count','sum'],\n",
    "             'doublet_score':['mean']})\n",
    "\n",
    "smr.columns = smr.columns.droplevel()\n",
    "smr['dblt_fraction'] = smr['sum']/smr['count']\n",
    "\n",
    "renamer = {'sum':'nr_cell_in_top10_pct_dblt','mean':'mean_dbt_score'}\n",
    "smr.columns = [renamer[i] if i in renamer else i for i in smr.columns]\n",
    "\n",
    "smr.head()"
   ]
  },
  {
   "cell_type": "markdown",
   "metadata": {},
   "source": [
    "## Plot mean dblt score vs fraction potential dblt"
   ]
  },
  {
   "cell_type": "code",
   "execution_count": 15,
   "metadata": {},
   "outputs": [
    {
     "data": {
      "text/plain": [
       "<matplotlib.collections.PathCollection at 0x7fd10f6c1c40>"
      ]
     },
     "execution_count": 15,
     "metadata": {},
     "output_type": "execute_result"
    },
    {
     "name": "stderr",
     "output_type": "stream",
     "text": [
      "findfont: Font family ['Myriad Pro'] not found. Falling back to DejaVu Sans.\n"
     ]
    },
    {
     "data": {
      "image/png": "[encoded data removed]",
      "text/plain": [
       "<Figure size 590.552x590.552 with 1 Axes>"
      ]
     },
     "metadata": {
      "needs_background": "light"
     },
     "output_type": "display_data"
    }
   ],
   "source": [
    "a,fig,gs = rz.startfig(10,10)\n",
    "\n",
    "lab1 = 'mean_dbt_score'\n",
    "lab2 = 'dblt_fraction'\n",
    "\n",
    "x = smr[lab1]\n",
    "y = smr[lab2]\n",
    "\n",
    "a.set_xlabel(lab1)\n",
    "a.set_ylabel(lab2)\n",
    "\n",
    "# print labels for the top n clusters with highest average dblt score\n",
    "# and top n with highest fraction\n",
    "upto=20\n",
    "\n",
    "thetop = list(x.sort_values(ascending=False)[:upto].index)+\\\n",
    "         list(y.sort_values(ascending=False)[:upto].index)\n",
    "\n",
    "for i,j,txt in zip(x,y,x.index):\n",
    "    if txt in thetop:\n",
    "        a.text(i,j,txt)\n",
    "\n",
    "a.scatter(x,y,lw=0,c='0.5',alpha=0.5)\n",
    "#plt.savefig('prec_pca_louv_100_doublets.png')"
   ]
  },
  {
   "cell_type": "markdown",
   "metadata": {},
   "source": [
    "## Inspect interactively  \n",
    "In the interactive SPRING explorer (in browser), inspect whether clusters with high scores. convincingly look like doublets\n",
    "\n",
    "This includes taking into consideration:\n",
    "- large clusters are not expected to be doublets\n",
    "- is there unique gene expression in these clusters? Then they are not doublets.\n",
    "- can you tell from which real populations these clusters where made?"
   ]
  },
  {
   "cell_type": "code",
   "execution_count": 29,
   "metadata": {},
   "outputs": [],
   "source": [
    "doubcl = [ '167', #scattered around endothelial cells and macrophages and several cells elsewhere\n",
    "           '644', #scattered between T cells and macrophages in SPRING\n",
    "          '577', #scattered in SPRING, hidden in endothelial cluster in UMAP although no endothelial gene expression\n",
    "         '321', #scattered line in SPRING, separates into two clusters in UMAP, no specific expression\n",
    "          '117', #near proximal tubule, but no specific expression\n",
    "           '647', #no expression of cluster describing genes\n",
    "          '299', #scattered between macrophages, B and T cells\n",
    "          '610' #scattered line in SPRING, separates into two clusters in UMAP, no specific expression\n",
    "         ]\n"
   ]
  },
  {
   "cell_type": "code",
   "execution_count": 30,
   "metadata": {},
   "outputs": [
    {
     "data": {
      "text/plain": [
       "457"
      ]
     },
     "execution_count": 30,
     "metadata": {},
     "output_type": "execute_result"
    }
   ],
   "source": [
    "obs[label].isin(doubcl).sum()"
   ]
  },
  {
   "cell_type": "code",
   "execution_count": 31,
   "metadata": {},
   "outputs": [],
   "source": [
    "# add the cluster configuration used to obs\n",
    "obs[label] = np.nan\n",
    "obs.loc[obs.index,[label]] = cg0[label]"
   ]
  },
  {
   "cell_type": "code",
   "execution_count": 32,
   "metadata": {
    "scrolled": true
   },
   "outputs": [
    {
     "name": "stdout",
     "output_type": "stream",
     "text": [
      "[False  True]\n"
     ]
    },
    {
     "data": {
      "text/html": [
       "<div>\n",
       "<style scoped>\n",
       "    .dataframe tbody tr th:only-of-type {\n",
       "        vertical-align: middle;\n",
       "    }\n",
       "\n",
       "    .dataframe tbody tr th {\n",
       "        vertical-align: top;\n",
       "    }\n",
       "\n",
       "    .dataframe thead th {\n",
       "        text-align: right;\n",
       "    }\n",
       "</style>\n",
       "<table border=\"1\" class=\"dataframe\">\n",
       "  <thead>\n",
       "    <tr style=\"text-align: right;\">\n",
       "      <th></th>\n",
       "      <th>library</th>\n",
       "      <th>total_counts</th>\n",
       "      <th>pct_counts_mito</th>\n",
       "      <th>library2</th>\n",
       "      <th>sample</th>\n",
       "      <th>patient</th>\n",
       "      <th>pT stage</th>\n",
       "      <th>seq_date</th>\n",
       "      <th>beads</th>\n",
       "      <th>operation</th>\n",
       "      <th>...</th>\n",
       "      <th>top5pct_dbtl_score</th>\n",
       "      <th>top10pct_dbtl_score</th>\n",
       "      <th>closest_JZ_kidney</th>\n",
       "      <th>closest_JZ_kidney_hvg</th>\n",
       "      <th>removed_as_RBC</th>\n",
       "      <th>louvain_resolution_50.0</th>\n",
       "      <th>louvain_resolution_60.0</th>\n",
       "      <th>removed_as_dblt1</th>\n",
       "      <th>n_counts</th>\n",
       "      <th>removed_as_dblt2</th>\n",
       "    </tr>\n",
       "  </thead>\n",
       "  <tbody>\n",
       "    <tr>\n",
       "      <th>2</th>\n",
       "      <td>N14</td>\n",
       "      <td>449.0</td>\n",
       "      <td>0.668151</td>\n",
       "      <td>T2_1</td>\n",
       "      <td>T2</td>\n",
       "      <td>P2</td>\n",
       "      <td>pT3a</td>\n",
       "      <td>20_11_12</td>\n",
       "      <td>old</td>\n",
       "      <td>Open</td>\n",
       "      <td>...</td>\n",
       "      <td>False</td>\n",
       "      <td>False</td>\n",
       "      <td>TAM 2</td>\n",
       "      <td>TAM 2</td>\n",
       "      <td>False</td>\n",
       "      <td>197</td>\n",
       "      <td>155</td>\n",
       "      <td>False</td>\n",
       "      <td>449.0</td>\n",
       "      <td>False</td>\n",
       "    </tr>\n",
       "    <tr>\n",
       "      <th>19</th>\n",
       "      <td>N14</td>\n",
       "      <td>449.0</td>\n",
       "      <td>4.231626</td>\n",
       "      <td>T2_1</td>\n",
       "      <td>T2</td>\n",
       "      <td>P2</td>\n",
       "      <td>pT3a</td>\n",
       "      <td>20_11_12</td>\n",
       "      <td>old</td>\n",
       "      <td>Open</td>\n",
       "      <td>...</td>\n",
       "      <td>False</td>\n",
       "      <td>False</td>\n",
       "      <td>TAM 2</td>\n",
       "      <td>TAM 2</td>\n",
       "      <td>False</td>\n",
       "      <td>355</td>\n",
       "      <td>369</td>\n",
       "      <td>False</td>\n",
       "      <td>449.0</td>\n",
       "      <td>False</td>\n",
       "    </tr>\n",
       "  </tbody>\n",
       "</table>\n",
       "<p>2 rows × 28 columns</p>\n",
       "</div>"
      ],
      "text/plain": [
       "   library total_counts pct_counts_mito library2 sample patient pT stage  \\\n",
       "2      N14        449.0        0.668151     T2_1     T2      P2     pT3a   \n",
       "19     N14        449.0        4.231626     T2_1     T2      P2     pT3a   \n",
       "\n",
       "    seq_date beads operation  ... top5pct_dbtl_score top10pct_dbtl_score  \\\n",
       "2   20_11_12   old      Open  ...              False               False   \n",
       "19  20_11_12   old      Open  ...              False               False   \n",
       "\n",
       "   closest_JZ_kidney closest_JZ_kidney_hvg removed_as_RBC  \\\n",
       "2              TAM 2                 TAM 2          False   \n",
       "19             TAM 2                 TAM 2          False   \n",
       "\n",
       "   louvain_resolution_50.0 louvain_resolution_60.0 removed_as_dblt1 n_counts  \\\n",
       "2                      197                     155            False    449.0   \n",
       "19                     355                     369            False    449.0   \n",
       "\n",
       "    removed_as_dblt2  \n",
       "2              False  \n",
       "19             False  \n",
       "\n",
       "[2 rows x 28 columns]"
      ]
     },
     "execution_count": 32,
     "metadata": {},
     "output_type": "execute_result"
    }
   ],
   "source": [
    "# append a colotrack saying \"removed_as_doublet\"\n",
    "obs['removed_as_dblt2'] = obs[label].isin(doubcl)\n",
    "print(obs['removed_as_dblt2'].unique())\n",
    "obs.head(2)"
   ]
  },
  {
   "cell_type": "markdown",
   "metadata": {},
   "source": [
    "## Add colotrack to spring"
   ]
  },
  {
   "cell_type": "code",
   "execution_count": 36,
   "metadata": {},
   "outputs": [],
   "source": [
    "# load current color dictionary\n",
    "cg_ = srz.read_cell_groupings(project_dir+plot_name+'/categorical_coloring_data.json')\n",
    "\n",
    "# color dictionary of dictionaries\n",
    "cdd = {key:value['label_colors'] for key,value in cg_.items()}\n",
    "\n",
    "cg = obs[[i for i in obs.columns if i.startswith(('removed_as'))]].astype(str).to_dict(orient='list')\n",
    "\n",
    "# append categorical colortrack\n",
    "srz.append_cell_groupings(project_dir+plot_name,cg,colordd=cdd)"
   ]
  },
  {
   "cell_type": "markdown",
   "metadata": {},
   "source": [
    "## Save obs"
   ]
  },
  {
   "cell_type": "code",
   "execution_count": 38,
   "metadata": {},
   "outputs": [
    {
     "name": "stdout",
     "output_type": "stream",
     "text": [
      "backups_JZ_2022/wo_dblt2_obs_info_50693x28_220127_15h52\n"
     ]
    },
    {
     "name": "stderr",
     "output_type": "stream",
     "text": [
      "/Users/justina/opt/anaconda3/envs/singlec4/lib/python3.8/site-packages/numpy/lib/format.py:362: UserWarning: metadata on a dtype may be saved or ignored, but will raise if saved when read. Use another form of storage.\n",
      "  d['descr'] = dtype_to_descr(array.dtype)\n"
     ]
    }
   ],
   "source": [
    "# save the update obs dataframe\n",
    "# no need to save the entire adata object\n",
    "\n",
    "fname = 'backups_JZ_2022/wo_dblt2_obs_info_%dx%d_%s'%(obs.shape[0],obs.shape[1],rz.now())\n",
    "print(fname)\n",
    "rz.save_df(obs,fname)"
   ]
  }
 ],
 "metadata": {
  "kernelspec": {
   "display_name": "Python 3",
   "language": "python",
   "name": "python3"
  },
  "language_info": {
   "codemirror_mode": {
    "name": "ipython",
    "version": 3
   },
   "file_extension": ".py",
   "mimetype": "text/x-python",
   "name": "python",
   "nbconvert_exporter": "python",
   "pygments_lexer": "ipython3",
   "version": "3.8.12"
  },
  "toc": {
   "base_numbering": 1,
   "nav_menu": {},
   "number_sections": true,
   "sideBar": true,
   "skip_h1_title": true,
   "title_cell": "Table of Contents",
   "title_sidebar": "Contents",
   "toc_cell": false,
   "toc_position": {},
   "toc_section_display": true,
   "toc_window_display": true
  }
 },
 "nbformat": 4,
 "nbformat_minor": 4
}
