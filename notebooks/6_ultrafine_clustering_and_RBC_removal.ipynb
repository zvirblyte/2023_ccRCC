{
 "cells": [
  {
   "cell_type": "code",
   "execution_count": 1,
   "metadata": {},
   "outputs": [],
   "source": [
    "import scanpy as sc\n",
    "import scanpy.external as sce\n",
    "#sc.logging.print_versions()\n",
    "#sc.logging.print_memory_usage()\n",
    "#sc.settings.verbosity = 2\n",
    "import os,sys\n",
    "import datetime\n",
    "import numpy as np\n",
    "import pandas as pd\n",
    "import matplotlib.pyplot as plt\n",
    "import math\n",
    "import matplotlib.ticker as mticker"
   ]
  },
  {
   "cell_type": "code",
   "execution_count": 2,
   "metadata": {},
   "outputs": [
    {
     "name": "stdout",
     "output_type": "stream",
     "text": [
      "python version: 3.8.8\n"
     ]
    }
   ],
   "source": [
    "# add the utility function folder to PATH\n",
    "import sys\n",
    "sys.path.append(os.path.abspath(\"utility_functions_190403_12h24/\"))\n",
    "\n",
    "from rz_import_statements import *\n",
    "import rz_functions as rz\n",
    "import rz_fig_params # this adjust mpl.rcParams, almost nothing to import, import after scanpy to overwrite rc.Params\n",
    "import rz_utility_spring as srz"
   ]
  },
  {
   "cell_type": "markdown",
   "metadata": {},
   "source": [
    "# Load data"
   ]
  },
  {
   "cell_type": "code",
   "execution_count": 4,
   "metadata": {},
   "outputs": [],
   "source": [
    "adata = sc.read_h5ad('backups_JZ_2022/kidney_v0_156_v2000_batch_corrected_51196x2000_220121_15h23.h5ad') \n",
    "\n",
    "# overwrite obs with the most recent version\n",
    "filename = 'backups_JZ_2022/class_obs_info_51196x22_220125_16h56.npz'\n",
    "encoding = 'latin1'\n",
    "\n",
    "with np.load(filename,encoding=encoding, allow_pickle = True) as f:\n",
    "    obs = pd.DataFrame(**f)\n",
    "adata.obs = obs"
   ]
  },
  {
   "cell_type": "code",
   "execution_count": 5,
   "metadata": {},
   "outputs": [
    {
     "data": {
      "text/plain": [
       "dict_keys(['k', 'cell_mask', 'min_counts', 'min_cells', 'base_ix', 'num_pc', 'plot_name', 'embedding', 'gene_names_excluded', 'abundant_gene_mask', 'v_score_dict', 'nr_var_genes', 'genes_used', 'eigenvectors', 'eigenvalues', 'neighbors', 'min_dist'])"
      ]
     },
     "execution_count": 5,
     "metadata": {},
     "output_type": "execute_result"
    }
   ],
   "source": [
    "# load intermediates I saved when preparing the SPRING plot\n",
    "path1 = '/Users/justina/Documents/mokslai/MAGISTRAS/MAGISTRINIS/data_and_spring/SPRING_dev-master/kidney_spring/' \n",
    "project_dir = path1+'kidney_2022/'\n",
    "plot_name =  'kidney_v0_156_v2000_spring'\n",
    "\n",
    "\n",
    "params = rz.load_stuff(project_dir+plot_name+'/params.pickle')\n",
    "params.keys()"
   ]
  },
  {
   "cell_type": "code",
   "execution_count": 6,
   "metadata": {},
   "outputs": [],
   "source": [
    "cell_mask = params['cell_mask']"
   ]
  },
  {
   "cell_type": "code",
   "execution_count": 7,
   "metadata": {},
   "outputs": [],
   "source": [
    "cdata = adata[cell_mask] #applying the same cell mask as used for the graph, here not necessary as all cells were used"
   ]
  },
  {
   "cell_type": "code",
   "execution_count": 9,
   "metadata": {},
   "outputs": [],
   "source": [
    "G  = cdata.obsp['connectivities'] #the scanpy adjacency matrix is stored here"
   ]
  },
  {
   "cell_type": "markdown",
   "metadata": {},
   "source": [
    "# Removing RBCs"
   ]
  },
  {
   "cell_type": "markdown",
   "metadata": {},
   "source": [
    "We will assume that all cells that have more than 1% of total raw counts coming from hemoglobin genes *HBB, HBA1, HBA2, HBD* are RBCs"
   ]
  },
  {
   "cell_type": "code",
   "execution_count": 11,
   "metadata": {},
   "outputs": [],
   "source": [
    "bdata = cdata.raw.to_adata()"
   ]
  },
  {
   "cell_type": "code",
   "execution_count": 12,
   "metadata": {},
   "outputs": [
    {
     "name": "stdout",
     "output_type": "stream",
     "text": [
      "[[ 449.]\n",
      " [ 449.]\n",
      " [1229.]\n",
      " [ 732.]\n",
      " [ 432.]]\n"
     ]
    }
   ],
   "source": [
    "print(bdata.X[:5,:].sum(axis=1)) #not normalized"
   ]
  },
  {
   "cell_type": "code",
   "execution_count": 13,
   "metadata": {},
   "outputs": [
    {
     "data": {
      "text/plain": [
       "matrix([[0.        ],\n",
       "        [0.        ],\n",
       "        [0.        ],\n",
       "        ...,\n",
       "        [0.20080321],\n",
       "        [0.        ],\n",
       "        [0.1310616 ]])"
      ]
     },
     "execution_count": 13,
     "metadata": {},
     "output_type": "execute_result"
    }
   ],
   "source": [
    "#lets' check hemoglobin gene fraction in each cell\n",
    "genes = ['HBB', 'HBA1', 'HBA2', 'HBD']\n",
    "hem_counts = bdata[:,:][:,np.in1d(bdata.var_names,genes)].X.sum(axis=1)\n",
    "total_counts = bdata.X.sum(axis=1)\n",
    "fraction = (hem_counts/total_counts)*100 #percent\n",
    "\n",
    "fraction"
   ]
  },
  {
   "cell_type": "code",
   "execution_count": 14,
   "metadata": {},
   "outputs": [
    {
     "data": {
      "text/plain": [
       "47"
      ]
     },
     "execution_count": 14,
     "metadata": {},
     "output_type": "execute_result"
    }
   ],
   "source": [
    "fraction = np.array(fraction)\n",
    "\n",
    "#selecting only the cells that have hemoglobin count fraction of over 1%\n",
    "tresh = 1\n",
    "\n",
    "over_tresh = fraction>tresh\n",
    "over_tresh.sum() #that many cells will be removed - not bad"
   ]
  },
  {
   "cell_type": "code",
   "execution_count": 15,
   "metadata": {},
   "outputs": [],
   "source": [
    "#get indexes of RBCs\n",
    "rbc_index = np.where(fraction>tresh)[0]"
   ]
  },
  {
   "cell_type": "code",
   "execution_count": 16,
   "metadata": {},
   "outputs": [
    {
     "data": {
      "text/plain": [
       "array([  371,   863,  3185,  4287,  7092,  7094,  9183,  9682,  9764,\n",
       "       12514, 12789, 12946, 13207, 13414, 18275, 18418, 18870, 19181,\n",
       "       19214, 19517, 19975, 20128, 20951, 21379, 21424, 22309, 22634,\n",
       "       23054, 23416, 24250, 24693, 24975, 25107, 25504, 25524, 27525,\n",
       "       29382, 31323, 31822, 32406, 33967, 43906, 46639, 47054, 48281,\n",
       "       48626, 48631])"
      ]
     },
     "execution_count": 16,
     "metadata": {},
     "output_type": "execute_result"
    }
   ],
   "source": [
    "rbc_index"
   ]
  },
  {
   "cell_type": "code",
   "execution_count": 17,
   "metadata": {},
   "outputs": [
    {
     "data": {
      "text/plain": [
       "51149"
      ]
     },
     "execution_count": 17,
     "metadata": {},
     "output_type": "execute_result"
    }
   ],
   "source": [
    "#creating a boolean mask for RBC removal\n",
    "rbc_mask = np.ones(cdata.shape[0], dtype = bool)\n",
    "rbc_mask[rbc_index] = False\n",
    "rbc_mask.sum()"
   ]
  },
  {
   "cell_type": "code",
   "execution_count": 18,
   "metadata": {},
   "outputs": [],
   "source": [
    "#recording the mask in obs but not applying now\n",
    "bdata.obs['removed_as_RBC'] = ~rbc_mask"
   ]
  },
  {
   "cell_type": "code",
   "execution_count": 19,
   "metadata": {},
   "outputs": [
    {
     "data": {
      "text/plain": [
       "47"
      ]
     },
     "execution_count": 19,
     "metadata": {},
     "output_type": "execute_result"
    }
   ],
   "source": [
    "bdata.obs['removed_as_RBC'].sum()"
   ]
  },
  {
   "cell_type": "code",
   "execution_count": 20,
   "metadata": {},
   "outputs": [],
   "source": [
    "#starting a cell grouping dictionary which will be used to append\n",
    "#to the plot in SPRING application\n",
    "cg = bdata.obs[[i for i in bdata.obs.columns if i.startswith(('removed_as_R'))]].astype(str).to_dict(orient='list')"
   ]
  },
  {
   "cell_type": "code",
   "execution_count": 21,
   "metadata": {},
   "outputs": [],
   "source": [
    "#save obs\n",
    "fname = 'backups_JZ_2022/no_RBC_%dx%d_%s'%(bdata.obs.shape[0],bdata.obs.shape[1],rz.now())\n",
    "rz.save_df(bdata.obs,fname)\n",
    "#print(fname)"
   ]
  },
  {
   "cell_type": "code",
   "execution_count": 22,
   "metadata": {},
   "outputs": [],
   "source": [
    "cdata.obs = bdata.obs"
   ]
  },
  {
   "cell_type": "markdown",
   "metadata": {},
   "source": [
    "# Louvain clustering (choose \"resolution\")"
   ]
  },
  {
   "cell_type": "code",
   "execution_count": 24,
   "metadata": {},
   "outputs": [
    {
     "name": "stdout",
     "output_type": "stream",
     "text": [
      "390\n",
      "669\n",
      "804\n",
      "1081\n"
     ]
    }
   ],
   "source": [
    "# using scanpy's Louvain clustering to get Louvain clusters at various resolution\n",
    "#using ultra-high values to cluster the doublets expecting there will not be a lot of them\n",
    "# and they will cluster together in these small clusters\n",
    "\n",
    "mock = cdata.copy()\n",
    "for i in [30, 50, 60, 80\n",
    "]:\n",
    "    l = list(sc.tl.louvain(mock, resolution = i, adjacency = G, copy = True).obs['louvain'])\n",
    "    cg['louvain_resolution_%.1f'%i] = l\n",
    "    print(len(set(l)))"
   ]
  },
  {
   "cell_type": "markdown",
   "metadata": {},
   "source": [
    "# Append result to the same SPRING plot"
   ]
  },
  {
   "cell_type": "code",
   "execution_count": 25,
   "metadata": {},
   "outputs": [],
   "source": [
    "# load current color dictionary\n",
    "cg0 = srz.read_cell_groupings(project_dir+plot_name+'/categorical_coloring_data.json')\n",
    "\n",
    "\n",
    "# color dictionary of dictionaries\n",
    "cdd = {key:value['label_colors'] for key,value in cg0.items()}\n"
   ]
  },
  {
   "cell_type": "code",
   "execution_count": 26,
   "metadata": {},
   "outputs": [],
   "source": [
    "cg = {key:list(np.array(value).astype(str)) for key,value in cg.items()}"
   ]
  },
  {
   "cell_type": "code",
   "execution_count": 27,
   "metadata": {},
   "outputs": [],
   "source": [
    "# append categorical colortrack\n",
    "srz.append_cell_groupings(project_dir+plot_name,cg,colordd=cdd)"
   ]
  },
  {
   "cell_type": "code",
   "execution_count": 28,
   "metadata": {},
   "outputs": [
    {
     "data": {
      "text/plain": [
       "dict_keys(['removed_as_RBC', 'louvain_resolution_30.0', 'louvain_resolution_50.0', 'louvain_resolution_60.0', 'louvain_resolution_80.0'])"
      ]
     },
     "execution_count": 28,
     "metadata": {},
     "output_type": "execute_result"
    }
   ],
   "source": [
    "cg.keys()"
   ]
  },
  {
   "cell_type": "code",
   "execution_count": 29,
   "metadata": {},
   "outputs": [],
   "source": [
    "#adding for the other (UMAP) plot too\n",
    "plot_name =  'kidney_v0_156_v2000'"
   ]
  },
  {
   "cell_type": "code",
   "execution_count": 30,
   "metadata": {},
   "outputs": [],
   "source": [
    "# append categorical colortrack\n",
    "srz.append_cell_groupings(project_dir+plot_name,cg,colordd=cdd)"
   ]
  },
  {
   "cell_type": "code",
   "execution_count": 32,
   "metadata": {},
   "outputs": [],
   "source": [
    "for key, value in cg.items():\n",
    "    cdata.obs[key] = cg[key]"
   ]
  },
  {
   "cell_type": "code",
   "execution_count": 33,
   "metadata": {},
   "outputs": [],
   "source": [
    "obs = cdata.obs"
   ]
  },
  {
   "cell_type": "code",
   "execution_count": 35,
   "metadata": {},
   "outputs": [
    {
     "name": "stdout",
     "output_type": "stream",
     "text": [
      "backups_JZ_2022/scrub_cl_obs_info_51196x27_220125_18h23\n"
     ]
    },
    {
     "name": "stderr",
     "output_type": "stream",
     "text": [
      "/Users/justina/opt/anaconda3/envs/singlecell3/lib/python3.8/site-packages/numpy/lib/format.py:362: UserWarning: metadata on a dtype may be saved or ignored, but will raise if saved when read. Use another form of storage.\n",
      "  d['descr'] = dtype_to_descr(array.dtype)\n"
     ]
    }
   ],
   "source": [
    "#save obs with clusters\n",
    "\n",
    "fname = 'backups_JZ_2022/scrub_cl_obs_info_%dx%d_%s'%(obs.shape[0],obs.shape[1],rz.now())\n",
    "print(fname)\n",
    "rz.save_df(obs,fname)"
   ]
  },
  {
   "cell_type": "code",
   "execution_count": null,
   "metadata": {},
   "outputs": [],
   "source": []
  }
 ],
 "metadata": {
  "kernelspec": {
   "display_name": "Python 3",
   "language": "python",
   "name": "python3"
  },
  "language_info": {
   "codemirror_mode": {
    "name": "ipython",
    "version": 3
   },
   "file_extension": ".py",
   "mimetype": "text/x-python",
   "name": "python",
   "nbconvert_exporter": "python",
   "pygments_lexer": "ipython3",
   "version": "3.8.12"
  }
 },
 "nbformat": 4,
 "nbformat_minor": 4
}
