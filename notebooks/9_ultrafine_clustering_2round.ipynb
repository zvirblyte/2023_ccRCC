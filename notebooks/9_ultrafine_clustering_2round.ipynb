{
 "cells": [
  {
   "cell_type": "code",
   "execution_count": 1,
   "metadata": {},
   "outputs": [],
   "source": [
    "import scanpy as sc\n",
    "import scanpy.external as sce\n",
    "#sc.logging.print_versions()\n",
    "#sc.logging.print_memory_usage()\n",
    "#sc.settings.verbosity = 2\n",
    "import os,sys\n",
    "import datetime\n",
    "import numpy as np\n",
    "import pandas as pd\n",
    "import matplotlib.pyplot as plt\n",
    "import math\n",
    "import matplotlib.ticker as mticker"
   ]
  },
  {
   "cell_type": "code",
   "execution_count": 2,
   "metadata": {},
   "outputs": [
    {
     "name": "stdout",
     "output_type": "stream",
     "text": [
      "python version: 3.8.8\n"
     ]
    }
   ],
   "source": [
    "# add the utility function folder to PATH\n",
    "import sys\n",
    "sys.path.append(os.path.abspath(\"utility_functions_190403_12h24/\"))\n",
    "\n",
    "from rz_import_statements import *\n",
    "import rz_functions as rz\n",
    "import rz_fig_params # this adjust mpl.rcParams, almost nothing to import, import after scanpy to overwrite rc.Params\n",
    "import rz_utility_spring as srz"
   ]
  },
  {
   "cell_type": "markdown",
   "metadata": {},
   "source": [
    "# Load data"
   ]
  },
  {
   "cell_type": "code",
   "execution_count": 3,
   "metadata": {},
   "outputs": [],
   "source": [
    "adata = sc.read_h5ad('backups_JZ_2022/kidney_v1_wo_dblt1_batch_corrected_50693x2000_220127_09h59.h5ad') "
   ]
  },
  {
   "cell_type": "code",
   "execution_count": 4,
   "metadata": {},
   "outputs": [
    {
     "data": {
      "text/html": [
       "<div>\n",
       "<style scoped>\n",
       "    .dataframe tbody tr th:only-of-type {\n",
       "        vertical-align: middle;\n",
       "    }\n",
       "\n",
       "    .dataframe tbody tr th {\n",
       "        vertical-align: top;\n",
       "    }\n",
       "\n",
       "    .dataframe thead th {\n",
       "        text-align: right;\n",
       "    }\n",
       "</style>\n",
       "<table border=\"1\" class=\"dataframe\">\n",
       "  <thead>\n",
       "    <tr style=\"text-align: right;\">\n",
       "      <th></th>\n",
       "      <th>library</th>\n",
       "      <th>total_counts</th>\n",
       "      <th>pct_counts_mito</th>\n",
       "      <th>library2</th>\n",
       "      <th>sample</th>\n",
       "      <th>patient</th>\n",
       "      <th>pT stage</th>\n",
       "      <th>seq_date</th>\n",
       "      <th>beads</th>\n",
       "      <th>operation</th>\n",
       "      <th>...</th>\n",
       "      <th>top10pct_dbtl_score</th>\n",
       "      <th>closest_JZ_kidney</th>\n",
       "      <th>closest_JZ_kidney_hvg</th>\n",
       "      <th>removed_as_RBC</th>\n",
       "      <th>louvain_resolution_30.0</th>\n",
       "      <th>louvain_resolution_50.0</th>\n",
       "      <th>louvain_resolution_60.0</th>\n",
       "      <th>louvain_resolution_80.0</th>\n",
       "      <th>removed_as_dblt1</th>\n",
       "      <th>n_counts</th>\n",
       "    </tr>\n",
       "  </thead>\n",
       "  <tbody>\n",
       "    <tr>\n",
       "      <th>2</th>\n",
       "      <td>N14</td>\n",
       "      <td>449.0</td>\n",
       "      <td>0.668151</td>\n",
       "      <td>T2_1</td>\n",
       "      <td>T2</td>\n",
       "      <td>P2</td>\n",
       "      <td>pT3a</td>\n",
       "      <td>20_11_12</td>\n",
       "      <td>old</td>\n",
       "      <td>Open</td>\n",
       "      <td>...</td>\n",
       "      <td>False</td>\n",
       "      <td>TAM 2</td>\n",
       "      <td>TAM 2</td>\n",
       "      <td>False</td>\n",
       "      <td>253</td>\n",
       "      <td>238</td>\n",
       "      <td>196</td>\n",
       "      <td>213</td>\n",
       "      <td>False</td>\n",
       "      <td>449.0</td>\n",
       "    </tr>\n",
       "    <tr>\n",
       "      <th>19</th>\n",
       "      <td>N14</td>\n",
       "      <td>449.0</td>\n",
       "      <td>4.231626</td>\n",
       "      <td>T2_1</td>\n",
       "      <td>T2</td>\n",
       "      <td>P2</td>\n",
       "      <td>pT3a</td>\n",
       "      <td>20_11_12</td>\n",
       "      <td>old</td>\n",
       "      <td>Open</td>\n",
       "      <td>...</td>\n",
       "      <td>False</td>\n",
       "      <td>TAM 2</td>\n",
       "      <td>TAM 2</td>\n",
       "      <td>False</td>\n",
       "      <td>117</td>\n",
       "      <td>239</td>\n",
       "      <td>331</td>\n",
       "      <td>1009</td>\n",
       "      <td>False</td>\n",
       "      <td>449.0</td>\n",
       "    </tr>\n",
       "    <tr>\n",
       "      <th>363</th>\n",
       "      <td>N14</td>\n",
       "      <td>1229.0</td>\n",
       "      <td>10.659073</td>\n",
       "      <td>T2_1</td>\n",
       "      <td>T2</td>\n",
       "      <td>P2</td>\n",
       "      <td>pT3a</td>\n",
       "      <td>20_11_12</td>\n",
       "      <td>old</td>\n",
       "      <td>Open</td>\n",
       "      <td>...</td>\n",
       "      <td>False</td>\n",
       "      <td>Tumor cells 2</td>\n",
       "      <td>Tumor cells 2</td>\n",
       "      <td>False</td>\n",
       "      <td>31</td>\n",
       "      <td>68</td>\n",
       "      <td>610</td>\n",
       "      <td>507</td>\n",
       "      <td>False</td>\n",
       "      <td>1229.0</td>\n",
       "    </tr>\n",
       "    <tr>\n",
       "      <th>433</th>\n",
       "      <td>N14</td>\n",
       "      <td>432.0</td>\n",
       "      <td>6.944445</td>\n",
       "      <td>T2_1</td>\n",
       "      <td>T2</td>\n",
       "      <td>P2</td>\n",
       "      <td>pT3a</td>\n",
       "      <td>20_11_12</td>\n",
       "      <td>old</td>\n",
       "      <td>Open</td>\n",
       "      <td>...</td>\n",
       "      <td>False</td>\n",
       "      <td>Tumor cells 1</td>\n",
       "      <td>Tumor cells 2</td>\n",
       "      <td>False</td>\n",
       "      <td>8</td>\n",
       "      <td>120</td>\n",
       "      <td>115</td>\n",
       "      <td>112</td>\n",
       "      <td>False</td>\n",
       "      <td>432.0</td>\n",
       "    </tr>\n",
       "    <tr>\n",
       "      <th>444</th>\n",
       "      <td>N14</td>\n",
       "      <td>502.0</td>\n",
       "      <td>4.980080</td>\n",
       "      <td>T2_1</td>\n",
       "      <td>T2</td>\n",
       "      <td>P2</td>\n",
       "      <td>pT3a</td>\n",
       "      <td>20_11_12</td>\n",
       "      <td>old</td>\n",
       "      <td>Open</td>\n",
       "      <td>...</td>\n",
       "      <td>False</td>\n",
       "      <td>Tumor vasculature 2</td>\n",
       "      <td>Tumor vasculature 2</td>\n",
       "      <td>False</td>\n",
       "      <td>12</td>\n",
       "      <td>153</td>\n",
       "      <td>265</td>\n",
       "      <td>257</td>\n",
       "      <td>False</td>\n",
       "      <td>502.0</td>\n",
       "    </tr>\n",
       "    <tr>\n",
       "      <th>...</th>\n",
       "      <td>...</td>\n",
       "      <td>...</td>\n",
       "      <td>...</td>\n",
       "      <td>...</td>\n",
       "      <td>...</td>\n",
       "      <td>...</td>\n",
       "      <td>...</td>\n",
       "      <td>...</td>\n",
       "      <td>...</td>\n",
       "      <td>...</td>\n",
       "      <td>...</td>\n",
       "      <td>...</td>\n",
       "      <td>...</td>\n",
       "      <td>...</td>\n",
       "      <td>...</td>\n",
       "      <td>...</td>\n",
       "      <td>...</td>\n",
       "      <td>...</td>\n",
       "      <td>...</td>\n",
       "      <td>...</td>\n",
       "      <td>...</td>\n",
       "    </tr>\n",
       "    <tr>\n",
       "      <th>4865536</th>\n",
       "      <td>Tumor0228</td>\n",
       "      <td>683.0</td>\n",
       "      <td>9.370424</td>\n",
       "      <td>T4_old</td>\n",
       "      <td>T4</td>\n",
       "      <td>P4</td>\n",
       "      <td>pT3a</td>\n",
       "      <td>old</td>\n",
       "      <td>old</td>\n",
       "      <td>Open</td>\n",
       "      <td>...</td>\n",
       "      <td>False</td>\n",
       "      <td>TAM 1</td>\n",
       "      <td>TAM 4</td>\n",
       "      <td>False</td>\n",
       "      <td>66</td>\n",
       "      <td>284</td>\n",
       "      <td>333</td>\n",
       "      <td>162</td>\n",
       "      <td>False</td>\n",
       "      <td>683.0</td>\n",
       "    </tr>\n",
       "    <tr>\n",
       "      <th>4865584</th>\n",
       "      <td>Tumor0228</td>\n",
       "      <td>1473.0</td>\n",
       "      <td>6.517312</td>\n",
       "      <td>T4_old</td>\n",
       "      <td>T4</td>\n",
       "      <td>P4</td>\n",
       "      <td>pT3a</td>\n",
       "      <td>old</td>\n",
       "      <td>old</td>\n",
       "      <td>Open</td>\n",
       "      <td>...</td>\n",
       "      <td>True</td>\n",
       "      <td>TAM 1</td>\n",
       "      <td>TAM 4</td>\n",
       "      <td>False</td>\n",
       "      <td>172</td>\n",
       "      <td>266</td>\n",
       "      <td>228</td>\n",
       "      <td>388</td>\n",
       "      <td>False</td>\n",
       "      <td>1473.0</td>\n",
       "    </tr>\n",
       "    <tr>\n",
       "      <th>4865642</th>\n",
       "      <td>Tumor0228</td>\n",
       "      <td>498.0</td>\n",
       "      <td>9.437751</td>\n",
       "      <td>T4_old</td>\n",
       "      <td>T4</td>\n",
       "      <td>P4</td>\n",
       "      <td>pT3a</td>\n",
       "      <td>old</td>\n",
       "      <td>old</td>\n",
       "      <td>Open</td>\n",
       "      <td>...</td>\n",
       "      <td>False</td>\n",
       "      <td>TAM 4</td>\n",
       "      <td>TAM 4</td>\n",
       "      <td>False</td>\n",
       "      <td>20</td>\n",
       "      <td>221</td>\n",
       "      <td>299</td>\n",
       "      <td>203</td>\n",
       "      <td>False</td>\n",
       "      <td>498.0</td>\n",
       "    </tr>\n",
       "    <tr>\n",
       "      <th>4865726</th>\n",
       "      <td>Tumor0228</td>\n",
       "      <td>421.0</td>\n",
       "      <td>19.239906</td>\n",
       "      <td>T4_old</td>\n",
       "      <td>T4</td>\n",
       "      <td>P4</td>\n",
       "      <td>pT3a</td>\n",
       "      <td>old</td>\n",
       "      <td>old</td>\n",
       "      <td>Open</td>\n",
       "      <td>...</td>\n",
       "      <td>False</td>\n",
       "      <td>Mito high TAM/tumor cells</td>\n",
       "      <td>Mito high TAM/tumor cells</td>\n",
       "      <td>False</td>\n",
       "      <td>7</td>\n",
       "      <td>92</td>\n",
       "      <td>64</td>\n",
       "      <td>78</td>\n",
       "      <td>False</td>\n",
       "      <td>421.0</td>\n",
       "    </tr>\n",
       "    <tr>\n",
       "      <th>4866011</th>\n",
       "      <td>Tumor0228</td>\n",
       "      <td>763.0</td>\n",
       "      <td>3.800786</td>\n",
       "      <td>T4_old</td>\n",
       "      <td>T4</td>\n",
       "      <td>P4</td>\n",
       "      <td>pT3a</td>\n",
       "      <td>old</td>\n",
       "      <td>old</td>\n",
       "      <td>Open</td>\n",
       "      <td>...</td>\n",
       "      <td>False</td>\n",
       "      <td>B cells</td>\n",
       "      <td>Mito high TAM/tumor cells</td>\n",
       "      <td>False</td>\n",
       "      <td>70</td>\n",
       "      <td>95</td>\n",
       "      <td>268</td>\n",
       "      <td>114</td>\n",
       "      <td>False</td>\n",
       "      <td>763.0</td>\n",
       "    </tr>\n",
       "  </tbody>\n",
       "</table>\n",
       "<p>50693 rows × 29 columns</p>\n",
       "</div>"
      ],
      "text/plain": [
       "           library  total_counts  pct_counts_mito library2 sample patient  \\\n",
       "2              N14         449.0         0.668151     T2_1     T2      P2   \n",
       "19             N14         449.0         4.231626     T2_1     T2      P2   \n",
       "363            N14        1229.0        10.659073     T2_1     T2      P2   \n",
       "433            N14         432.0         6.944445     T2_1     T2      P2   \n",
       "444            N14         502.0         4.980080     T2_1     T2      P2   \n",
       "...            ...           ...              ...      ...    ...     ...   \n",
       "4865536  Tumor0228         683.0         9.370424   T4_old     T4      P4   \n",
       "4865584  Tumor0228        1473.0         6.517312   T4_old     T4      P4   \n",
       "4865642  Tumor0228         498.0         9.437751   T4_old     T4      P4   \n",
       "4865726  Tumor0228         421.0        19.239906   T4_old     T4      P4   \n",
       "4866011  Tumor0228         763.0         3.800786   T4_old     T4      P4   \n",
       "\n",
       "        pT stage  seq_date beads operation  ... top10pct_dbtl_score  \\\n",
       "2           pT3a  20_11_12   old      Open  ...               False   \n",
       "19          pT3a  20_11_12   old      Open  ...               False   \n",
       "363         pT3a  20_11_12   old      Open  ...               False   \n",
       "433         pT3a  20_11_12   old      Open  ...               False   \n",
       "444         pT3a  20_11_12   old      Open  ...               False   \n",
       "...          ...       ...   ...       ...  ...                 ...   \n",
       "4865536     pT3a       old   old      Open  ...               False   \n",
       "4865584     pT3a       old   old      Open  ...                True   \n",
       "4865642     pT3a       old   old      Open  ...               False   \n",
       "4865726     pT3a       old   old      Open  ...               False   \n",
       "4866011     pT3a       old   old      Open  ...               False   \n",
       "\n",
       "                 closest_JZ_kidney      closest_JZ_kidney_hvg removed_as_RBC  \\\n",
       "2                            TAM 2                      TAM 2          False   \n",
       "19                           TAM 2                      TAM 2          False   \n",
       "363                  Tumor cells 2              Tumor cells 2          False   \n",
       "433                  Tumor cells 1              Tumor cells 2          False   \n",
       "444            Tumor vasculature 2        Tumor vasculature 2          False   \n",
       "...                            ...                        ...            ...   \n",
       "4865536                      TAM 1                      TAM 4          False   \n",
       "4865584                      TAM 1                      TAM 4          False   \n",
       "4865642                      TAM 4                      TAM 4          False   \n",
       "4865726  Mito high TAM/tumor cells  Mito high TAM/tumor cells          False   \n",
       "4866011                    B cells  Mito high TAM/tumor cells          False   \n",
       "\n",
       "        louvain_resolution_30.0  louvain_resolution_50.0  \\\n",
       "2                           253                      238   \n",
       "19                          117                      239   \n",
       "363                          31                       68   \n",
       "433                           8                      120   \n",
       "444                          12                      153   \n",
       "...                         ...                      ...   \n",
       "4865536                      66                      284   \n",
       "4865584                     172                      266   \n",
       "4865642                      20                      221   \n",
       "4865726                       7                       92   \n",
       "4866011                      70                       95   \n",
       "\n",
       "        louvain_resolution_60.0 louvain_resolution_80.0 removed_as_dblt1  \\\n",
       "2                           196                     213            False   \n",
       "19                          331                    1009            False   \n",
       "363                         610                     507            False   \n",
       "433                         115                     112            False   \n",
       "444                         265                     257            False   \n",
       "...                         ...                     ...              ...   \n",
       "4865536                     333                     162            False   \n",
       "4865584                     228                     388            False   \n",
       "4865642                     299                     203            False   \n",
       "4865726                      64                      78            False   \n",
       "4866011                     268                     114            False   \n",
       "\n",
       "        n_counts  \n",
       "2          449.0  \n",
       "19         449.0  \n",
       "363       1229.0  \n",
       "433        432.0  \n",
       "444        502.0  \n",
       "...          ...  \n",
       "4865536    683.0  \n",
       "4865584   1473.0  \n",
       "4865642    498.0  \n",
       "4865726    421.0  \n",
       "4866011    763.0  \n",
       "\n",
       "[50693 rows x 29 columns]"
      ]
     },
     "execution_count": 4,
     "metadata": {},
     "output_type": "execute_result"
    }
   ],
   "source": [
    "adata.obs"
   ]
  },
  {
   "cell_type": "code",
   "execution_count": 5,
   "metadata": {},
   "outputs": [
    {
     "data": {
      "text/plain": [
       "dict_keys(['k', 'cell_mask', 'min_counts', 'min_cells', 'base_ix', 'num_pc', 'plot_name', 'embedding', 'gene_names_excluded', 'abundant_gene_mask', 'v_score_dict', 'nr_var_genes', 'genes_used', 'eigenvectors', 'eigenvalues', 'neighbors', 'min_dist'])"
      ]
     },
     "execution_count": 5,
     "metadata": {},
     "output_type": "execute_result"
    }
   ],
   "source": [
    "# load intermediates I saved when preparing the SPRING plot\n",
    "path1 = '/Users/justina/Documents/mokslai/MAGISTRAS/MAGISTRINIS/data_and_spring/SPRING_dev-master/kidney_spring/' \n",
    "project_dir = path1+'kidney_2022/'\n",
    "plot_name =  'kidney_v1_wo_dblt1'\n",
    "\n",
    "\n",
    "params = rz.load_stuff(project_dir+plot_name+'/params.pickle')\n",
    "params.keys()"
   ]
  },
  {
   "cell_type": "code",
   "execution_count": 6,
   "metadata": {},
   "outputs": [],
   "source": [
    "cell_mask = params['cell_mask']"
   ]
  },
  {
   "cell_type": "code",
   "execution_count": 7,
   "metadata": {},
   "outputs": [
    {
     "data": {
      "text/plain": [
       "51196"
      ]
     },
     "execution_count": 7,
     "metadata": {},
     "output_type": "execute_result"
    }
   ],
   "source": [
    "len(cell_mask)"
   ]
  },
  {
   "cell_type": "code",
   "execution_count": 8,
   "metadata": {},
   "outputs": [
    {
     "data": {
      "text/plain": [
       "<50693x50693 sparse matrix of type '<class 'numpy.float32'>'\n",
       "\twith 1657848 stored elements in Compressed Sparse Row format>"
      ]
     },
     "execution_count": 8,
     "metadata": {},
     "output_type": "execute_result"
    }
   ],
   "source": [
    "adata.obsp['connectivities']"
   ]
  },
  {
   "cell_type": "code",
   "execution_count": 9,
   "metadata": {},
   "outputs": [],
   "source": [
    "G  = adata.obsp['connectivities']"
   ]
  },
  {
   "cell_type": "markdown",
   "metadata": {},
   "source": [
    "# Louvain clustering (choose \"resolution\")"
   ]
  },
  {
   "cell_type": "code",
   "execution_count": 10,
   "metadata": {},
   "outputs": [
    {
     "name": "stdout",
     "output_type": "stream",
     "text": [
      "598\n",
      "733\n"
     ]
    }
   ],
   "source": [
    "# start a cell grouping dictionary:\n",
    "cg = {}\n",
    "\n",
    "# use scanpy's Louvain clustering to get Louvain clusters at various resolution\n",
    "#using ultra-high values to cluster the doublets\n",
    "mock = adata.copy()\n",
    "for i in [ 50, 60\n",
    "]:\n",
    "    l = list(sc.tl.louvain(mock, resolution = i, adjacency = G, copy = True).obs['louvain'])\n",
    "    cg['louvain_resolution_%.1f'%i] = l\n",
    "    print(len(set(l)))"
   ]
  },
  {
   "cell_type": "markdown",
   "metadata": {},
   "source": [
    "# Append result to the same SPRING plot"
   ]
  },
  {
   "cell_type": "code",
   "execution_count": 12,
   "metadata": {},
   "outputs": [],
   "source": [
    "# load current color dictionary\n",
    "cg0 = srz.read_cell_groupings(project_dir+plot_name+'/categorical_coloring_data.json')\n",
    "\n",
    "\n",
    "# color dictionary of dictionaries\n",
    "cdd = {key:value['label_colors'] for key,value in cg0.items()}\n"
   ]
  },
  {
   "cell_type": "code",
   "execution_count": 13,
   "metadata": {},
   "outputs": [
    {
     "data": {
      "text/plain": [
       "dict_keys(['age', 'beads', 'closest_JZ_kidney', 'closest_JZ_kidney_hvg', 'library', 'library2', 'necrosis', 'operation', 'pT stage', 'patient', 'potential_doublet', 'sample', 'seq_date', 'sex', 'tissue', 'top10pct_dbtl_score', 'top3pct_dbtl_score', 'top5pct_dbtl_score', 'tumor size, mm'])"
      ]
     },
     "execution_count": 13,
     "metadata": {},
     "output_type": "execute_result"
    }
   ],
   "source": [
    "cg0.keys()"
   ]
  },
  {
   "cell_type": "code",
   "execution_count": 14,
   "metadata": {},
   "outputs": [],
   "source": [
    "cg = {key:list(np.array(value).astype(str)) for key,value in cg.items()}"
   ]
  },
  {
   "cell_type": "code",
   "execution_count": 15,
   "metadata": {},
   "outputs": [],
   "source": [
    "# append categorical colortrack\n",
    "srz.append_cell_groupings(project_dir+plot_name,cg,colordd=cdd)"
   ]
  },
  {
   "cell_type": "code",
   "execution_count": 17,
   "metadata": {},
   "outputs": [],
   "source": [
    "for key, value in cg.items():\n",
    "    adata.obs[key] = cg[key]"
   ]
  },
  {
   "cell_type": "code",
   "execution_count": 18,
   "metadata": {},
   "outputs": [],
   "source": [
    "obs = adata.obs"
   ]
  },
  {
   "cell_type": "code",
   "execution_count": 23,
   "metadata": {},
   "outputs": [
    {
     "data": {
      "text/plain": [
       "2           213\n",
       "19         1009\n",
       "363         507\n",
       "433         112\n",
       "444         257\n",
       "           ... \n",
       "4865536     162\n",
       "4865584     388\n",
       "4865642     203\n",
       "4865726      78\n",
       "4866011     114\n",
       "Name: louvain_resolution_80.0, Length: 50693, dtype: category\n",
       "Categories (1081, object): ['0', '1', '2', '3', ..., '1077', '1078', '1079', '1080']"
      ]
     },
     "execution_count": 23,
     "metadata": {},
     "output_type": "execute_result"
    }
   ],
   "source": [
    "#removing redundant labels remaining from previous round of clustering \n",
    "obs.pop('louvain_resolution_30.0')\n",
    "obs.pop('louvain_resolution_80.0')"
   ]
  },
  {
   "cell_type": "code",
   "execution_count": 25,
   "metadata": {},
   "outputs": [
    {
     "name": "stdout",
     "output_type": "stream",
     "text": [
      "backups_JZ_2022/kidney_v1_wo_dblt1_clust_obs_info_50693x27_220127_10h54\n"
     ]
    },
    {
     "name": "stderr",
     "output_type": "stream",
     "text": [
      "/Users/justina/opt/anaconda3/envs/singlec4/lib/python3.8/site-packages/numpy/lib/format.py:362: UserWarning: metadata on a dtype may be saved or ignored, but will raise if saved when read. Use another form of storage.\n",
      "  d['descr'] = dtype_to_descr(array.dtype)\n"
     ]
    }
   ],
   "source": [
    "#save obs with clusters\n",
    "\n",
    "fname = 'backups_JZ_2022/%s_clust_obs_info_%dx%d_%s'%(plot_name, obs.shape[0],obs.shape[1],rz.now())\n",
    "print(fname)\n",
    "rz.save_df(obs,fname)"
   ]
  },
  {
   "cell_type": "code",
   "execution_count": 26,
   "metadata": {},
   "outputs": [],
   "source": [
    "# append categorical colortrack for the spring plot as well\n",
    "plot_name= plot_name + '_spring'\n",
    "srz.append_cell_groupings(project_dir+plot_name,cg,colordd=cdd)"
   ]
  },
  {
   "cell_type": "code",
   "execution_count": null,
   "metadata": {},
   "outputs": [],
   "source": []
  }
 ],
 "metadata": {
  "kernelspec": {
   "display_name": "Python 3",
   "language": "python",
   "name": "python3"
  },
  "language_info": {
   "codemirror_mode": {
    "name": "ipython",
    "version": 3
   },
   "file_extension": ".py",
   "mimetype": "text/x-python",
   "name": "python",
   "nbconvert_exporter": "python",
   "pygments_lexer": "ipython3",
   "version": "3.8.12"
  }
 },
 "nbformat": 4,
 "nbformat_minor": 4
}
